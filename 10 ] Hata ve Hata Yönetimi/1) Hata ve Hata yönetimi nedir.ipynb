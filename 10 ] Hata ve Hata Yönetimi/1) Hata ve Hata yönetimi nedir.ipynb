{
 "cells": [
  {
   "attachments": {},
   "cell_type": "markdown",
   "metadata": {},
   "source": [
    "## HATA VE HATA YÖNETİMİ NEDİR?\n",
    "        __Bu derste öğreneceklerimiz__\n",
    "        # hata nedir\n",
    "        # hata türleri\n",
    "        # hatalara nasıl önlem alırız"
   ]
  },
  {
   "attachments": {},
   "cell_type": "markdown",
   "metadata": {},
   "source": [
    "* Value Error"
   ]
  },
  {
   "cell_type": "code",
   "execution_count": null,
   "metadata": {},
   "outputs": [],
   "source": [
    "# kullanıcıdan number istiyorsak ve kullanıcı string ifade yazması.\n",
    "int('1a2')\n",
    "\n",
    "\n",
    "\n",
    "#Terminal şu hatayı verir -  ValueError: invalid literal for int() with base 10: '1a2'"
   ]
  },
  {
   "attachments": {},
   "cell_type": "markdown",
   "metadata": {},
   "source": [
    "* Name Error"
   ]
  },
  {
   "cell_type": "code",
   "execution_count": null,
   "metadata": {},
   "outputs": [],
   "source": [
    "# daha önce tanımlamadığımız bir değişkeni ekrana yazıdrmaya çalışmak.\n",
    "print(a)\n",
    "\n",
    "# Terminal şu hatayı verir - NameError: name 'a' is not defined"
   ]
  },
  {
   "attachments": {},
   "cell_type": "markdown",
   "metadata": {},
   "source": [
    "* Zero Division Error"
   ]
  },
  {
   "cell_type": "code",
   "execution_count": null,
   "metadata": {},
   "outputs": [],
   "source": [
    "# kullanıcı bölme işlemi yaparken ilk girdiği sayı 10 olsa ikincisi de sıfırsa .\n",
    "print(10/0)\n",
    "\n",
    "# Terminal şu hatayı verir - ZeroDivisionError: division by zero"
   ]
  },
  {
   "attachments": {},
   "cell_type": "markdown",
   "metadata": {},
   "source": [
    "* Syntax Error"
   ]
  },
  {
   "cell_type": "code",
   "execution_count": null,
   "metadata": {},
   "outputs": [],
   "source": [
    "print('denem'e)\n",
    "\n",
    "# Terminal şu hatayı verir - SyntaxError: invalid syntax"
   ]
  }
 ],
 "metadata": {
  "language_info": {
   "name": "python"
  },
  "orig_nbformat": 4
 },
 "nbformat": 4,
 "nbformat_minor": 2
}
