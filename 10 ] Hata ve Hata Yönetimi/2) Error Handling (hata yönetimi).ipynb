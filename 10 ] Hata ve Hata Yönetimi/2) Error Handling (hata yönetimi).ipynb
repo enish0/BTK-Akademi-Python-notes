{
 "cells": [
  {
   "attachments": {},
   "cell_type": "markdown",
   "metadata": {},
   "source": [
    "## ERROR HANDLİNG (HATA YÖNETİMİ)"
   ]
  },
  {
   "cell_type": "code",
   "execution_count": null,
   "metadata": {},
   "outputs": [],
   "source": [
    "x = int(input('x: '))\n",
    "y = int(input('y: '))\n",
    "\n",
    "print(x/y)\n",
    "\n",
    "# 10/0 girerse kullanıcı division by zero hatası veriyor"
   ]
  },
  {
   "attachments": {},
   "cell_type": "markdown",
   "metadata": {},
   "source": [
    "* hatayı önlemek için try içine almak"
   ]
  },
  {
   "cell_type": "code",
   "execution_count": null,
   "metadata": {},
   "outputs": [],
   "source": [
    "try:                              #  işlemi try içine alırız\n",
    "    x = int(input('x: ')) \n",
    "    y = int(input('y: '))\n",
    "    print(x/y)\n",
    "except ZeroDivisionError:           # hatayı buraya yazarız\n",
    "    print('y için 0 girilmez')      # hata mesajı buraya"
   ]
  },
  {
   "attachments": {},
   "cell_type": "markdown",
   "metadata": {},
   "source": [
    "* birden fazla hataya önlem için ne yapabiliriz"
   ]
  },
  {
   "cell_type": "code",
   "execution_count": null,
   "metadata": {},
   "outputs": [],
   "source": [
    "try:                             \n",
    "    x = int(input('x: ')) \n",
    "    y = int(input('y: '))\n",
    "    print(x/y)\n",
    "except ZeroDivisionError:           \n",
    "    print('y için 0 girilmez')\n",
    "except ValueError:                  # exceptleri aşağı doğru sınırsız sıralayabiliriz\n",
    "    print('x ve y için sayısal değer girmelisiniz')\n",
    "\n",
    "# kullanıcı sayısal değer yerine string girerse diye value error."
   ]
  },
  {
   "attachments": {},
   "cell_type": "markdown",
   "metadata": {},
   "source": [
    "* exceptleri aşağı doğru sıralamak yerine şunu da yapabiliriz"
   ]
  },
  {
   "cell_type": "code",
   "execution_count": 4,
   "metadata": {},
   "outputs": [
    {
     "name": "stdout",
     "output_type": "stream",
     "text": [
      "yanlış bilgi verdiniz\n"
     ]
    }
   ],
   "source": [
    "try:\n",
    "    x = int(input('x: '))   \n",
    "    y = int(input('y: '))       \n",
    "    print(x/y)\n",
    "except (ZeroDivisionError, ValueError): # except sıralamak yerine bu da yapılabilir\n",
    "    print('yanlış bilgi verdiniz')\n",
    "    "
   ]
  },
  {
   "attachments": {},
   "cell_type": "markdown",
   "metadata": {},
   "source": [
    "* hatayı isimlendirip obje içine almak bu sayede hangi hatayı verdiğini yazıdrabilmek"
   ]
  },
  {
   "cell_type": "code",
   "execution_count": 9,
   "metadata": {},
   "outputs": [
    {
     "name": "stdout",
     "output_type": "stream",
     "text": [
      "yanlış bilgi verdiniz\n",
      "hata ismi division by zero\n"
     ]
    }
   ],
   "source": [
    "try:\n",
    "    x = int(input('x: '))   \n",
    "    y = int(input('y: '))       \n",
    "    print(x/y)\n",
    "except (ZeroDivisionError, ValueError) as e: \n",
    "    print('yanlış bilgi verdiniz')\n",
    "    print(f\"hata ismi: {e}\")"
   ]
  },
  {
   "attachments": {},
   "cell_type": "markdown",
   "metadata": {},
   "source": [
    "* devam"
   ]
  },
  {
   "cell_type": "code",
   "execution_count": 10,
   "metadata": {},
   "outputs": [
    {
     "name": "stdout",
     "output_type": "stream",
     "text": [
      "2.0\n",
      "Her şey yolunda\n"
     ]
    }
   ],
   "source": [
    "try:\n",
    "    x = int(input('x: '))   \n",
    "    y = int(input('y: '))       \n",
    "    print(x/y)\n",
    "except:\n",
    "    print('yanlış bilgi verdiniz')\n",
    "else:\n",
    "    print(\"Her şey yolunda\")        # hata yapmayınca da bu mesaj gelir"
   ]
  },
  {
   "attachments": {},
   "cell_type": "markdown",
   "metadata": {},
   "source": [
    "* yukarıdaki else eklememiz ne işimize yarar? while ile yapacağımız aşağıdaki sistem için işe yarayabilir."
   ]
  },
  {
   "cell_type": "code",
   "execution_count": null,
   "metadata": {},
   "outputs": [],
   "source": [
    "while True:\n",
    "    try:\n",
    "        x = int(input('x: '))\n",
    "        y = int(input('y: '))\n",
    "        print(x/y)\n",
    "    except:\n",
    "        print('yanlış bilgi girdiniz')\n",
    "    else:\n",
    "        break       # her şey yolunda ise while bloğundan çık demek. kullanıcıdan\n",
    "                # tekrar bilgi istemez."
   ]
  },
  {
   "attachments": {},
   "cell_type": "markdown",
   "metadata": {},
   "source": [
    "* except kısmına exception yazabiliriz ve tüm hataların birleşimidir"
   ]
  },
  {
   "cell_type": "code",
   "execution_count": 11,
   "metadata": {},
   "outputs": [
    {
     "name": "stdout",
     "output_type": "stream",
     "text": [
      "2.0\n"
     ]
    }
   ],
   "source": [
    "while True:\n",
    "    try:\n",
    "        x = int(input('x: '))\n",
    "        y = int(input('y: '))\n",
    "        print(x/y)\n",
    "    except Exception:       # exception eklendi\n",
    "        print('yanlış bilgi girdiniz')\n",
    "    else:\n",
    "        break "
   ]
  },
  {
   "attachments": {},
   "cell_type": "markdown",
   "metadata": {},
   "source": [
    "* hatanın ne olduğunu da söyleme şeysini yapalım as ile"
   ]
  },
  {
   "cell_type": "code",
   "execution_count": null,
   "metadata": {},
   "outputs": [],
   "source": [
    "while True:\n",
    "    try:\n",
    "        x = int(input('x: '))\n",
    "        y = int(input('y: '))\n",
    "        print(x/y)\n",
    "    except Exception as ex:      # as ex eklendi\n",
    "        print('yanlış bilgi girdiniz', ex)          # ex eklendi\n",
    "    else:\n",
    "        break "
   ]
  },
  {
   "attachments": {},
   "cell_type": "markdown",
   "metadata": {},
   "source": [
    "* sona finally bloğu ekleyelim"
   ]
  },
  {
   "cell_type": "code",
   "execution_count": 12,
   "metadata": {},
   "outputs": [
    {
     "name": "stdout",
     "output_type": "stream",
     "text": [
      "2.0\n",
      "try except sonlandı\n"
     ]
    }
   ],
   "source": [
    "while True:\n",
    "    try:\n",
    "        x = int(input('x: '))\n",
    "        y = int(input('y: '))\n",
    "        print(x/y)\n",
    "    except Exception as ex:      \n",
    "        print('yanlış bilgi girdiniz', ex)       \n",
    "    else:\n",
    "        break \n",
    "    finally:\n",
    "        print('try except sonlandı')      # try except bloğundan çıktığında finally bloğu çalıştırılıyor"
   ]
  }
 ],
 "metadata": {
  "kernelspec": {
   "display_name": "Python 3",
   "language": "python",
   "name": "python3"
  },
  "language_info": {
   "codemirror_mode": {
    "name": "ipython",
    "version": 3
   },
   "file_extension": ".py",
   "mimetype": "text/x-python",
   "name": "python",
   "nbconvert_exporter": "python",
   "pygments_lexer": "ipython3",
   "version": "3.11.1"
  },
  "orig_nbformat": 4
 },
 "nbformat": 4,
 "nbformat_minor": 2
}
