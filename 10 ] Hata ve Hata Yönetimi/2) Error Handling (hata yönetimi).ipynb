{
 "cells": [
  {
   "attachments": {},
   "cell_type": "markdown",
   "metadata": {},
   "source": [
    "## ERROR HANDLİNG (HATA YÖNETİMİ)"
   ]
  },
  {
   "cell_type": "code",
   "execution_count": null,
   "metadata": {},
   "outputs": [],
   "source": [
    "x = int(input('x: '))\n",
    "y = int(input('y: '))\n",
    "\n",
    "print(x/y)\n",
    "\n",
    "# 10/0 girerse kullanıcı division by zero hatası veriyor"
   ]
  },
  {
   "cell_type": "code",
   "execution_count": null,
   "metadata": {},
   "outputs": [],
   "source": [
    "try:                              #  işlemi try içine alırız\n",
    "    x = int(input('x: ')) \n",
    "    y = int(input('y: '))\n",
    "    print(x/y)\n",
    "except ZeroDivisionError:           # hatayı buraya yazarız\n",
    "    print('y için 0 girilmez')      # hata mesajı buraya"
   ]
  },
  {
   "attachments": {},
   "cell_type": "markdown",
   "metadata": {},
   "source": [
    "* birden fazla hataya önlem için ne yapabiliriz"
   ]
  },
  {
   "cell_type": "code",
   "execution_count": null,
   "metadata": {},
   "outputs": [],
   "source": [
    "try:                             \n",
    "    x = int(input('x: ')) \n",
    "    y = int(input('y: '))\n",
    "    print(x/y)\n",
    "except ZeroDivisionError:           \n",
    "    print('y için 0 girilmez')\n",
    "except ValueError:\n",
    "    print('x ve y için sayısal değer girmelisiniz')\n",
    "\n",
    "# kullanıcı sayısal değer yerine string girerse diye value error."
   ]
  }
 ],
 "metadata": {
  "kernelspec": {
   "display_name": "Python 3",
   "language": "python",
   "name": "python3"
  },
  "language_info": {
   "codemirror_mode": {
    "name": "ipython",
    "version": 3
   },
   "file_extension": ".py",
   "mimetype": "text/x-python",
   "name": "python",
   "nbconvert_exporter": "python",
   "pygments_lexer": "ipython3",
   "version": "3.11.1"
  },
  "orig_nbformat": 4
 },
 "nbformat": 4,
 "nbformat_minor": 2
}
