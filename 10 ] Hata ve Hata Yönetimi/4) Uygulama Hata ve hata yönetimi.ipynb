{
 "cells": [
  {
   "attachments": {},
   "cell_type": "markdown",
   "metadata": {},
   "source": [
    "## UYGULAMA: HATA VE HATA YÖNETİMİ"
   ]
  },
  {
   "attachments": {},
   "cell_type": "markdown",
   "metadata": {},
   "source": [
    "### 1) Liste elemanları içindeki sayısal değerleri bulunuz.\n"
   ]
  },
  {
   "cell_type": "code",
   "execution_count": 1,
   "metadata": {},
   "outputs": [
    {
     "name": "stdout",
     "output_type": "stream",
     "text": [
      "1\n",
      "2\n",
      "10\n",
      "50\n"
     ]
    }
   ],
   "source": [
    "liste = [\"1\", \"2\", \"5a\", \"10b\", \"abc\", \"10\", \"50\"]\n",
    "\n",
    "# önce listedeki her elemanı dönmemiz gerek onun için for döngüsü kullanıcaz\n",
    "for x in liste:     # gelen elemanları biz int 'e çevirmeye çalışacağız\n",
    "    try:\n",
    "        result = int(x)\n",
    "        print(result)\n",
    "    except ValueError:\n",
    "        continue   # int olmayanlarda hata vermek yerine burada continue dediğimiz için atlıyor"
   ]
  },
  {
   "attachments": {},
   "cell_type": "markdown",
   "metadata": {},
   "source": [
    "### 2) Kullanıcı 'g' değerini girmedikçe aldığınız her inputun sayı olduğundan emin ounuz aksi halde hata mesajı yazın."
   ]
  },
  {
   "cell_type": "code",
   "execution_count": 5,
   "metadata": {},
   "outputs": [
    {
     "name": "stdout",
     "output_type": "stream",
     "text": [
      "geçersiz sayı\n",
      "girdiğiniz sayı:  6.0\n"
     ]
    }
   ],
   "source": [
    "while True:\n",
    "    sayi = input('sayı: ')\n",
    "    if sayi == 'q':\n",
    "        break\n",
    "\n",
    "    try:\n",
    "        result = float(sayi)    # floata çevrilemiyosa zaten sayı değilmiş deriz\n",
    "        print('girdiğiniz sayı: ', result)\n",
    "        break   # doğru bir şekilde bitti ise dursun kod\n",
    "    except:\n",
    "        print('geçersiz sayı başka girmeni bekliyor uygulama')\n",
    "        continue\n",
    "\n"
   ]
  },
  {
   "attachments": {},
   "cell_type": "markdown",
   "metadata": {},
   "source": [
    "### 3) Girilen parola içinde türkçe karakter hatası veriniz."
   ]
  },
  {
   "cell_type": "code",
   "execution_count": null,
   "metadata": {},
   "outputs": [],
   "source": [
    "turkce_karakterler = 'sçğöıİ'\n",
    "parola = input('parola: ')\n",
    "\n",
    "for i in parola:    parola # paroladaki tüm karakterleri i nin içine at\n",
    "    if i in turkce_karakterler: # eğer i'nin içinde türkçe karakterlerden  karakter var ise aşağıdan hata fırlatma yapalım\n",
    "        raise TypeError('Parola türkçe karakter içeremez.')\n",
    "    else:\n",
    "        pass    # eğer yukarıdaki gibi bir problem yok ise bu aşağısı çalışır.\n",
    "\n",
    "print('geçerli parola')"
   ]
  },
  {
   "attachments": {},
   "cell_type": "markdown",
   "metadata": {},
   "source": [
    "* fonksiyon kullanarak bir cevap verelim"
   ]
  },
  {
   "cell_type": "code",
   "execution_count": 8,
   "metadata": {},
   "outputs": [
    {
     "name": "stdout",
     "output_type": "stream",
     "text": [
      "Parola türkçe karakter içeremez.\n"
     ]
    }
   ],
   "source": [
    "def checkPassword(parola):\n",
    "    turkce_karakterler = 'sçğüöıİ'\n",
    "\n",
    "    for i in parola:\n",
    "        if i in turkce_karakterler:\n",
    "            raise TypeError('Parola türkçe karakter içeremez.')\n",
    "        else:\n",
    "            pass\n",
    "    print('geçerli parola')\n",
    "\n",
    "parola = input('parola')\n",
    "\n",
    "try:\n",
    "    checkPassword(parola)\n",
    "except TypeError as err:\n",
    "    print(err)\n",
    "\n",
    "\n"
   ]
  },
  {
   "attachments": {},
   "cell_type": "markdown",
   "metadata": {},
   "source": [
    "### 4) Faktoriyel fonksiyonu oluşturup fonksiyona gelen değer için hata mesajları verin"
   ]
  },
  {
   "cell_type": "code",
   "execution_count": 13,
   "metadata": {},
   "outputs": [
    {
     "name": "stdout",
     "output_type": "stream",
     "text": [
      "120\n",
      "3628800\n",
      "2432902008176640000\n",
      "Hata: Negatif Değer verdin\n",
      "invalid literal for int() with base 10: '10a'\n"
     ]
    }
   ],
   "source": [
    "def faktoriyel(x):\n",
    "    x = int(x)\n",
    "\n",
    "    if x < 0:\n",
    "        raise ValueError('Hata: Negatif Değer verdin')\n",
    "    \n",
    "    result = 1\n",
    "\n",
    "    for i in range(1, x+1):  # range de son x parametresini isin içine katmaz normalde . katsın diye + 1 ekledik\n",
    "        result *= i # gelen her bir değeri birbiri ile çarp demek\n",
    "    return result\n",
    "\n",
    "\n",
    "\n",
    "\n",
    "for x in [5, 10, 20, -3, '10a']:\n",
    "    try:\n",
    "        y = faktoriyel(x)\n",
    "    except ValueError as err:       # ahta bilgisini yazıdrmak için as err dedik\n",
    "        print(err)\n",
    "        continue    # bir hata olsa bile bir sonraki eleman için devam etsin döngü.\n",
    "\n",
    "    print(y)    #faktoriyeli alınan sayıyı da ekrana yazdıralım"
   ]
  }
 ],
 "metadata": {
  "kernelspec": {
   "display_name": "Python 3",
   "language": "python",
   "name": "python3"
  },
  "language_info": {
   "codemirror_mode": {
    "name": "ipython",
    "version": 3
   },
   "file_extension": ".py",
   "mimetype": "text/x-python",
   "name": "python",
   "nbconvert_exporter": "python",
   "pygments_lexer": "ipython3",
   "version": "3.11.1"
  },
  "orig_nbformat": 4
 },
 "nbformat": 4,
 "nbformat_minor": 2
}
