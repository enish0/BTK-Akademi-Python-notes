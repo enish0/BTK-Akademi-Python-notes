{
 "cells": [
  {
   "attachments": {},
   "cell_type": "markdown",
   "metadata": {},
   "source": [
    "## Raising an Exception : Hata Nesnesi Oluşturma"
   ]
  },
  {
   "attachments": {},
   "cell_type": "markdown",
   "metadata": {},
   "source": [
    "* hata fırlatalım \n",
    "\n",
    "        raise komutu ile yapılır.\n",
    "        \n",
    "        eğer yeni bir fonks v.b tanımlıyorsan ve kullanıcının karşılaşabileceği hataları tanımlamak için yaptığın şeye hata fırlatma denir"
   ]
  },
  {
   "cell_type": "code",
   "execution_count": null,
   "metadata": {},
   "outputs": [],
   "source": [
    "x = 10\n",
    "\n",
    "if x > 5:\n",
    "    raise Exception(\"x, 5 ten büyük değer alamaz.\")\n",
    "\n",
    "# terminal : x, 5 ten büyük değer alamaz."
   ]
  },
  {
   "attachments": {},
   "cell_type": "markdown",
   "metadata": {},
   "source": [
    "* daha gerçekçi bir örnek üzerinden bu işlemi yapalım"
   ]
  },
  {
   "cell_type": "code",
   "execution_count": 12,
   "metadata": {},
   "outputs": [],
   "source": [
    "def check_password(psw):\n",
    "    if len(psw) < 8:\n",
    "        raise Exception(\"parola en az 7 karakter olmalıdır\")\n",
    "\n",
    "check_password(input('şifre girin'))\n",
    "\n",
    "# şifreyi doğru girersek hiç bir şey olmadı ama yanlış girersek hata verir"
   ]
  },
  {
   "attachments": {},
   "cell_type": "markdown",
   "metadata": {},
   "source": [
    "* re modülü ile bişeler yapcaz"
   ]
  },
  {
   "cell_type": "code",
   "execution_count": null,
   "metadata": {},
   "outputs": [],
   "source": [
    "# re modülünün özelliklerini kullanıcaz\n",
    "def check_password(psw):\n",
    "    import re\n",
    "    if len(psw) < 8:\n",
    "        raise Exception(\"parola en az 7 karakter olmalıdır\")\n",
    "    elif not re.search[\"[a-z]\", psw]        # burdan true değeri gönderiyosa exception fırlatcam\n",
    "        raise Exception(\"parola küçük harf içermelidir\")"
   ]
  },
  {
   "attachments": {},
   "cell_type": "markdown",
   "metadata": {},
   "source": [
    "* çoğaltabiliriz isteklerimizi"
   ]
  },
  {
   "attachments": {},
   "cell_type": "markdown",
   "metadata": {},
   "source": [
    "            video: 3:30"
   ]
  }
 ],
 "metadata": {
  "kernelspec": {
   "display_name": "Python 3",
   "language": "python",
   "name": "python3"
  },
  "language_info": {
   "codemirror_mode": {
    "name": "ipython",
    "version": 3
   },
   "file_extension": ".py",
   "mimetype": "text/x-python",
   "name": "python",
   "nbconvert_exporter": "python",
   "pygments_lexer": "ipython3",
   "version": "3.11.1"
  },
  "orig_nbformat": 4
 },
 "nbformat": 4,
 "nbformat_minor": 2
}
