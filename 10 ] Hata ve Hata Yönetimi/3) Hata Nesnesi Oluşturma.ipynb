{
 "cells": [
  {
   "attachments": {},
   "cell_type": "markdown",
   "metadata": {},
   "source": [
    "## Raising an Exception : Hata Nesnesi Oluşturma"
   ]
  },
  {
   "attachments": {},
   "cell_type": "markdown",
   "metadata": {},
   "source": [
    "* hata fırlatalım \n",
    "\n",
    "        raise komutu ile yapılır.\n",
    "        \n",
    "        eğer yeni bir fonks v.b tanımlıyorsan ve kullanıcının karşılaşabileceği hataları tanımlamak için yaptığın şeye hata fırlatma denir"
   ]
  },
  {
   "cell_type": "code",
   "execution_count": null,
   "metadata": {},
   "outputs": [],
   "source": [
    "x = 10\n",
    "\n",
    "if x > 5:\n",
    "    raise Exception(\"x, 5 ten büyük değer alamaz.\")\n",
    "\n",
    "# terminal : x, 5 ten büyük değer alamaz."
   ]
  },
  {
   "attachments": {},
   "cell_type": "markdown",
   "metadata": {},
   "source": [
    "* daha gerçekçi bir örnek üzerinden bu işlemi yapalım"
   ]
  },
  {
   "cell_type": "code",
   "execution_count": 12,
   "metadata": {},
   "outputs": [],
   "source": [
    "def check_password(psw):\n",
    "    if len(psw) < 8:\n",
    "        raise Exception(\"parola en az 7 karakter olmalıdır\")\n",
    "\n",
    "check_password(input('şifre girin'))\n",
    "\n",
    "# şifreyi doğru girersek hiç bir şey olmadı ama yanlış girersek hata verir"
   ]
  },
  {
   "attachments": {},
   "cell_type": "markdown",
   "metadata": {},
   "source": [
    "* re modülü ile bişeler yapcaz"
   ]
  },
  {
   "cell_type": "code",
   "execution_count": null,
   "metadata": {},
   "outputs": [],
   "source": [
    "# re modülünün özelliklerini kullanıcaz\n",
    "def check_password(psw):\n",
    "    import re\n",
    "    if len(psw) < 8:\n",
    "        raise Exception(\"parola en az 7 karakter olmalıdır\")\n",
    "    elif not re.search[\"[a-z]\", psw]        # burdan true değeri gönderiyosa exception fırlatcam\n",
    "        raise Exception(\"parola küçük harf içermelidir\")"
   ]
  },
  {
   "attachments": {},
   "cell_type": "markdown",
   "metadata": {},
   "source": [
    "* çoğaltabiliriz isteklerimizi"
   ]
  },
  {
   "cell_type": "code",
   "execution_count": 26,
   "metadata": {},
   "outputs": [],
   "source": [
    "# re modülünün özelliklerini kullanıcaz\n",
    "def check_password(psw):\n",
    "    import re\n",
    "    if len(psw) < 8:\n",
    "        raise Exception(\"parola en az 7 karakter olmalıdır\")\n",
    "    elif not re.search(\"[a-z]\", psw):       \n",
    "        raise Exception(\"parola küçük harf içermelidir\")\n",
    "    elif not re.search(\"[A-Z]\", psw):       \n",
    "        raise Exception(\"parola büyük harf içermelidir\")\n",
    "    elif not re.search(\"[0-9]\", psw):       \n",
    "        raise Exception(\"parola rakam içermelidir\")\n",
    "    elif not re.search(\"[_@$]\", psw):       \n",
    "        raise Exception(\"parola alpha numeric karakter içermelidir\")\n",
    "    elif re.search(\"\\s\", psw):   # boşluk karakterini regular expressionda \\s ile belirtiyoruz\n",
    "        raise Exception(\"parola boşluk içermemelidir\")\n",
    "    else:\n",
    "        print(\"geçerli parola\")\n",
    "\n",
    "password = '12345678aB@'        # kullanıcının girdiği parola burada\n",
    "\n",
    "\n",
    "\n",
    "# kontrolunu aşağıda yapıyoruz. yukarıda sadece bu olmazsa hangi hata verilecek kararlaştırıldı\n",
    "# aşağıda ise hatanın verilmesi\n",
    "try:\n",
    "    check_password(password)\n",
    "except Exception as ex:\n",
    "    print(ex)\n",
    "else:\n",
    "    print(\"geçerli parola: else \")"
   ]
  }
 ],
 "metadata": {
  "kernelspec": {
   "display_name": "Python 3",
   "language": "python",
   "name": "python3"
  },
  "language_info": {
   "codemirror_mode": {
    "name": "ipython",
    "version": 3
   },
   "file_extension": ".py",
   "mimetype": "text/x-python",
   "name": "python",
   "nbconvert_exporter": "python",
   "pygments_lexer": "ipython3",
   "version": "3.11.1"
  },
  "orig_nbformat": 4
 },
 "nbformat": 4,
 "nbformat_minor": 2
}
