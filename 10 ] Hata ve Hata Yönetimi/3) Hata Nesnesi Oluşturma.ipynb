{
 "cells": [
  {
   "attachments": {},
   "cell_type": "markdown",
   "metadata": {},
   "source": [
    "## Raising an Exception : Hata Nesnesi Oluşturma"
   ]
  },
  {
   "attachments": {},
   "cell_type": "markdown",
   "metadata": {},
   "source": [
    "* hata fırlatalım \n",
    "\n",
    "        raise komutu ile yapılır.\n",
    "        \n",
    "        eğer yeni bir fonks v.b tanımlıyorsan ve kullanıcının karşılaşabileceği hataları tanımlamak için yaptığın şeye hata fırlatma denir"
   ]
  },
  {
   "cell_type": "code",
   "execution_count": null,
   "metadata": {},
   "outputs": [],
   "source": [
    "x = 10\n",
    "\n",
    "if x > 5:\n",
    "    raise Exception(\"x, 5 ten büyük değer alamaz.\")\n",
    "\n",
    "# terminal : x, 5 ten büyük değer alamaz."
   ]
  },
  {
   "attachments": {},
   "cell_type": "markdown",
   "metadata": {},
   "source": [
    "* daha gerçekçi bir örnek üzerinden bu işlemi yapalım"
   ]
  },
  {
   "cell_type": "code",
   "execution_count": 12,
   "metadata": {},
   "outputs": [],
   "source": [
    "def check_password(psw):\n",
    "    if len(psw) < 8:\n",
    "        raise Exception(\"parola en az 7 karakter olmalıdır\")\n",
    "\n",
    "check_password(input('şifre girin'))\n",
    "\n",
    "# şifreyi doğru girersek hiç bir şey olmadı ama yanlış girersek hata verir"
   ]
  },
  {
   "attachments": {},
   "cell_type": "markdown",
   "metadata": {},
   "source": [
    "* re modülü ile bişeler yapcaz"
   ]
  },
  {
   "cell_type": "code",
   "execution_count": null,
   "metadata": {},
   "outputs": [],
   "source": [
    "# re modülünün özelliklerini kullanıcaz\n",
    "def check_password(psw):\n",
    "    import re\n",
    "    if len(psw) < 8:\n",
    "        raise Exception(\"parola en az 7 karakter olmalıdır\")\n",
    "    elif not re.search[\"[a-z]\", psw]        # burdan true değeri gönderiyosa exception fırlatcam\n",
    "        raise Exception(\"parola küçük harf içermelidir\")"
   ]
  },
  {
   "attachments": {},
   "cell_type": "markdown",
   "metadata": {},
   "source": [
    "* çoğaltabiliriz isteklerimizi"
   ]
  },
  {
   "cell_type": "code",
   "execution_count": 2,
   "metadata": {},
   "outputs": [
    {
     "name": "stdout",
     "output_type": "stream",
     "text": [
      "geçerli parola\n",
      "geçerli parola: else \n",
      "validation tamamlandı\n"
     ]
    }
   ],
   "source": [
    "# re modülünün özelliklerini kullanıcaz\n",
    "def check_password(psw):\n",
    "    import re\n",
    "    if len(psw) < 8:\n",
    "        raise Exception(\"parola en az 7 karakter olmalıdır\")\n",
    "    elif not re.search(\"[a-z]\", psw):       \n",
    "        raise Exception(\"parola küçük harf içermelidir\")\n",
    "    elif not re.search(\"[A-Z]\", psw):       \n",
    "        raise Exception(\"parola büyük harf içermelidir\")\n",
    "    elif not re.search(\"[0-9]\", psw):       \n",
    "        raise Exception(\"parola rakam içermelidir\")\n",
    "    elif not re.search(\"[_@$]\", psw):       \n",
    "        raise Exception(\"parola alpha numeric karakter içermelidir\")\n",
    "    elif re.search(\"\\s\", psw):   # boşluk karakterini regular expressionda \\s ile belirtiyoruz\n",
    "        raise Exception(\"parola boşluk içermemelidir\")\n",
    "    else:\n",
    "        print(\"geçerli parola\")\n",
    "\n",
    "password = '12345678aB@'        # kullanıcının girdiği parola burada\n",
    "\n",
    "\n",
    "\n",
    "# kontrolunu aşağıda yapıyoruz. yukarıda sadece bu olmazsa hangi hata verilecek kararlaştırıldı\n",
    "# aşağıda ise hatanın verilmesi\n",
    "try:\n",
    "    check_password(password)\n",
    "except Exception as ex:\n",
    "    print(ex)\n",
    "else:\n",
    "    print(\"geçerli parola: else \")\n",
    "finally:\n",
    "    print(\"validation tamamlandı\")"
   ]
  },
  {
   "attachments": {},
   "cell_type": "markdown",
   "metadata": {},
   "source": [
    "* peki başka nerelerde kullanabiliriz"
   ]
  },
  {
   "cell_type": "code",
   "execution_count": 4,
   "metadata": {},
   "outputs": [
    {
     "ename": "Exception",
     "evalue": "name alanı fazla karakter içeriyor.",
     "output_type": "error",
     "traceback": [
      "\u001b[1;31m---------------------------------------------------------------------------\u001b[0m",
      "\u001b[1;31mException\u001b[0m                                 Traceback (most recent call last)",
      "Cell \u001b[1;32mIn[4], line 8\u001b[0m\n\u001b[0;32m      5\u001b[0m         \u001b[39melse\u001b[39;00m:       \u001b[39m# eğer geçerli bir bilgi ise aşağıda set et (tanımla) demek\u001b[39;00m\n\u001b[0;32m      6\u001b[0m             \u001b[39mself\u001b[39m\u001b[39m.\u001b[39mname \u001b[39m=\u001b[39m name\n\u001b[1;32m----> 8\u001b[0m p \u001b[39m=\u001b[39m Person(\u001b[39m\"\u001b[39;49m\u001b[39mAliiiiiiiiiiiiii\u001b[39;49m\u001b[39m\"\u001b[39;49m, \u001b[39m1899\u001b[39;49m)  \u001b[39m# 10 karakterden büyük\u001b[39;00m\n",
      "Cell \u001b[1;32mIn[4], line 4\u001b[0m, in \u001b[0;36mPerson.__init__\u001b[1;34m(self, name, year)\u001b[0m\n\u001b[0;32m      2\u001b[0m \u001b[39mdef\u001b[39;00m \u001b[39m__init__\u001b[39m(\u001b[39mself\u001b[39m, name, year):\n\u001b[0;32m      3\u001b[0m     \u001b[39mif\u001b[39;00m \u001b[39mlen\u001b[39m(name) \u001b[39m>\u001b[39m \u001b[39m10\u001b[39m:\n\u001b[1;32m----> 4\u001b[0m         \u001b[39mraise\u001b[39;00m \u001b[39mException\u001b[39;00m(\u001b[39m\"\u001b[39m\u001b[39mname alanı fazla karakter içeriyor.\u001b[39m\u001b[39m\"\u001b[39m)\n\u001b[0;32m      5\u001b[0m     \u001b[39melse\u001b[39;00m:       \u001b[39m# eğer geçerli bir bilgi ise aşağıda set et (tanımla) demek\u001b[39;00m\n\u001b[0;32m      6\u001b[0m         \u001b[39mself\u001b[39m\u001b[39m.\u001b[39mname \u001b[39m=\u001b[39m name\n",
      "\u001b[1;31mException\u001b[0m: name alanı fazla karakter içeriyor."
     ]
    }
   ],
   "source": [
    "class Person:\n",
    "    def __init__(self, name, year):\n",
    "        if len(name) > 10:\n",
    "            raise Exception(\"name alanı fazla karakter içeriyor.\")\n",
    "        else:       # eğer geçerli bir bilgi ise aşağıda set et (tanımla) demek\n",
    "            self.name = name\n",
    "\n",
    "p = Person(\"Aliiiiiiiiiiiiii\", 1899)  # 10 karakterden büyük"
   ]
  }
 ],
 "metadata": {
  "kernelspec": {
   "display_name": "Python 3",
   "language": "python",
   "name": "python3"
  },
  "language_info": {
   "codemirror_mode": {
    "name": "ipython",
    "version": 3
   },
   "file_extension": ".py",
   "mimetype": "text/x-python",
   "name": "python",
   "nbconvert_exporter": "python",
   "pygments_lexer": "ipython3",
   "version": "3.11.1"
  },
  "orig_nbformat": 4
 },
 "nbformat": 4,
 "nbformat_minor": 2
}
