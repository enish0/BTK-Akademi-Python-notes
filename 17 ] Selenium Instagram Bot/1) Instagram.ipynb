{
 "cells": [
  {
   "cell_type": "markdown",
   "metadata": {},
   "source": [
    "# Instagram: Oturum Açma"
   ]
  },
  {
   "cell_type": "code",
   "execution_count": 2,
   "metadata": {},
   "outputs": [],
   "source": [
    "from instaUserinfo import email, password\n",
    "from selenium.webdriver.common.by import By\n",
    "from selenium.webdriver.common.keys import Keys\n",
    "from selenium import webdriver\n",
    "import time\n",
    "\n",
    "class Instagram:\n",
    "    def __init__(self, email, password):\n",
    "        self.browser = webdriver.Chrome()   # driver oluşturduk\n",
    "        self.email = email\n",
    "        self.password = password\n",
    "\n",
    "    def signIn(self):\n",
    "        self.browser.get(\"https://www.instagram.com/accounts/login/\")\n",
    "        time.sleep(3)\n",
    "        emailInput = self.browser.find_element(By.XPATH, \"//*[@id='loginForm']/div/div[1]/div/label/input\")\n",
    "        passwordInput = self.browser.find_element(By.XPATH, \"//*[@id='loginForm']/div/div[2]/div/label/input\")\n",
    "\n",
    "        # sifre ve email girilsin\n",
    "        emailInput.send_keys(self.email)\n",
    "        passwordInput.send_keys(self.password)\n",
    "        # imlec password kısmındayken enter tusuna basalım\n",
    "        passwordInput.send_keys(Keys.ENTER)\n",
    "        time.sleep(4)\n",
    "\n",
    "        self.browser.close()\n",
    "insta = Instagram(email, password)\n",
    "\n",
    "insta.signIn()"
   ]
  }
 ],
 "metadata": {
  "kernelspec": {
   "display_name": "Python 3",
   "language": "python",
   "name": "python3"
  },
  "language_info": {
   "codemirror_mode": {
    "name": "ipython",
    "version": 3
   },
   "file_extension": ".py",
   "mimetype": "text/x-python",
   "name": "python",
   "nbconvert_exporter": "python",
   "pygments_lexer": "ipython3",
   "version": "3.11.1"
  },
  "orig_nbformat": 4
 },
 "nbformat": 4,
 "nbformat_minor": 2
}
