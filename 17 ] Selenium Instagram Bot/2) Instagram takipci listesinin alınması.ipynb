{
 "cells": [
  {
   "cell_type": "markdown",
   "metadata": {},
   "source": [
    "# Instagram: Takipci listesini almak"
   ]
  },
  {
   "cell_type": "markdown",
   "metadata": {},
   "source": [
    "giriş yapma kısmını yapacağız sadece burada"
   ]
  },
  {
   "cell_type": "code",
   "execution_count": null,
   "metadata": {},
   "outputs": [],
   "source": [
    "from instaUserinfo import email, password\n",
    "from selenium.webdriver.common.by import By\n",
    "from selenium.webdriver.common.keys import Keys\n",
    "from selenium import webdriver\n",
    "import time\n",
    "\n",
    "class Instagram:\n",
    "    def __init__(self, email, password):\n",
    "        self.browser = webdriver.Chrome()   # driver oluşturduk\n",
    "        self.email = email\n",
    "        self.password = password\n",
    "\n",
    "    def signIn(self):\n",
    "        self.browser.get(\"https://www.instagram.com/accounts/login/\")\n",
    "        time.sleep(3)\n",
    "        emailInput = self.browser.find_element(By.XPATH, \"//*[@id='loginForm']/div/div[1]/div/label/input\")\n",
    "        passwordInput = self.browser.find_element(By.XPATH, \"//*[@id='loginForm']/div/div[2]/div/label/input\")\n",
    "\n",
    "        # sifre ve email girilsin\n",
    "        emailInput.send_keys(self.email)\n",
    "        passwordInput.send_keys(self.password)\n",
    "        # imlec password kısmındayken enter tusuna basalım\n",
    "        passwordInput.send_keys(Keys.ENTER)\n",
    "        time.sleep(4)\n",
    "\n",
    "        self.browser.close()\n",
    "insta = Instagram(email, password)\n",
    "\n",
    "insta.signIn()"
   ]
  },
  {
   "cell_type": "markdown",
   "metadata": {},
   "source": [
    "burada takipci listesini ekleme kısmını da ekleyeceğiz"
   ]
  },
  {
   "cell_type": "code",
   "execution_count": 6,
   "metadata": {},
   "outputs": [
    {
     "name": "stdout",
     "output_type": "stream",
     "text": [
      "bahattinenis\n",
      "yldz.emrhn.57\n",
      "thr_turker\n",
      "unal.omer_03\n",
      "mine_duran08_34\n",
      "shmz1907\n",
      "batuinn_\n",
      "selcuk.eni\n",
      "mertenis00\n",
      "yusufdrn___\n",
      "gunasitohumcu\n"
     ]
    }
   ],
   "source": [
    "from instaUserinfo import email, password\n",
    "from selenium.webdriver.common.by import By\n",
    "from selenium.webdriver.common.keys import Keys\n",
    "from selenium import webdriver\n",
    "import time\n",
    "\n",
    "class Instagram:\n",
    "    def __init__(self, email, password):\n",
    "        self.browser = webdriver.Chrome()   # driver oluşturduk\n",
    "        self.email = email\n",
    "        self.password = password\n",
    "\n",
    "    def signIn(self):\n",
    "        self.browser.get(\"https://www.instagram.com/accounts/login/\")\n",
    "        time.sleep(3)\n",
    "        emailInput = self.browser.find_element(By.XPATH, \"//*[@id='loginForm']/div/div[1]/div/label/input\")\n",
    "        passwordInput = self.browser.find_element(By.XPATH, \"//*[@id='loginForm']/div/div[2]/div/label/input\")\n",
    "\n",
    "        # sifre ve email girilsin\n",
    "        emailInput.send_keys(self.email)\n",
    "        passwordInput.send_keys(self.password)\n",
    "        # imlec password kısmındayken enter tusuna basalım\n",
    "        passwordInput.send_keys(Keys.ENTER)\n",
    "        time.sleep(3)\n",
    "\n",
    "\n",
    "    def getFollowers(self, limit=15):\n",
    "        self.browser.get(\"https://www.instagram.com\")\n",
    "\n",
    "        time.sleep(2)\n",
    "        \n",
    "        tikla = self.browser.find_element(By.CSS_SELECTOR, \".x1i10hfl.xjbqb8w.x6umtig.x1b1mbwd.xaqea5y.xav7gou.x9f619.x1ypdohk.xt0psk2.xe8uvvx.xdj266r.x11i5rnm.xat24cr.x1mh8g0r.xexx8yu.x4uap5.x18d9i69.xkhd6sd.x16tdsg8.x1hl2dhg.xggy1nq.x1a2a7pz._alvs._a6hd\").click()\n",
    "       \n",
    "        time.sleep(2)\n",
    "\n",
    "        al = self.browser.find_elements(By.CSS_SELECTOR, \".x1dm5mii.x16mil14.xiojian.x1yutycm.x1lliihq.x193iq5w.xh8yej3\")[:limit]\n",
    "        for follower in al:\n",
    "           \n",
    "            all_followers = follower.find_element(By.CSS_SELECTOR, \".x9f619.xjbqb8w.x1rg5ohu.x168nmei.x13lgxp2.x5pf9jr.xo71vjh.x1n2onr6.x1plvlek.xryxfnj.x1c4vz4f.x2lah0s.x1q0g3np.xqjyukv.x6s0dn4.x1oa3qoh.x1nhvcw1\")\n",
    "         \n",
    "            print(all_followers.text)\n",
    "           \n",
    "\n",
    "        \n",
    "\n",
    "insta = Instagram(email, password)\n",
    "\n",
    "insta.signIn()\n",
    "insta.getFollowers()"
   ]
  }
 ],
 "metadata": {
  "kernelspec": {
   "display_name": "Python 3",
   "language": "python",
   "name": "python3"
  },
  "language_info": {
   "codemirror_mode": {
    "name": "ipython",
    "version": 3
   },
   "file_extension": ".py",
   "mimetype": "text/x-python",
   "name": "python",
   "nbconvert_exporter": "python",
   "pygments_lexer": "ipython3",
   "version": "3.11.1"
  },
  "orig_nbformat": 4
 },
 "nbformat": 4,
 "nbformat_minor": 2
}
