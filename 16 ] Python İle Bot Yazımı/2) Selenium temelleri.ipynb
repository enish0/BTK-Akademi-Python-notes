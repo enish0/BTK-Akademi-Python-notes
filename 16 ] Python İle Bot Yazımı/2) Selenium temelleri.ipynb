{
 "cells": [
  {
   "cell_type": "markdown",
   "metadata": {},
   "source": [
    "# Selenium Temelleri"
   ]
  },
  {
   "cell_type": "code",
   "execution_count": 1,
   "metadata": {},
   "outputs": [],
   "source": [
    "from selenium import webdriver\n",
    "\n",
    "driver = webdriver.Chrome()\n",
    "\n",
    "url = \"http://github.com\"\n",
    "\n",
    "driver.get(url)"
   ]
  },
  {
   "cell_type": "markdown",
   "metadata": {},
   "source": [
    "siteyi açtığında 2 saniye bekletelim (bu sefer github ile)"
   ]
  },
  {
   "cell_type": "code",
   "execution_count": 3,
   "metadata": {},
   "outputs": [
    {
     "name": "stdout",
     "output_type": "stream",
     "text": [
      "GitHub: Let’s build from here · GitHub\n"
     ]
    }
   ],
   "source": [
    "from selenium import webdriver\n",
    "import time                         # eklendi\n",
    "\n",
    "driver = webdriver.Chrome()\n",
    "\n",
    "url = \"http://github.com\"\n",
    "\n",
    "driver.get(url)\n",
    "time.sleep(2)       # siteyi açınca iki saniye bekle anlamına gelir\n",
    "\n",
    "print(driver.title) # ziyaret ettiğimiz sayfanın title ını yazdırır\n",
    "\n",
    "time.sleep(2)   # iki saniye yine bekle\n",
    "\n",
    "driver.close()  # siteyi kapat"
   ]
  },
  {
   "cell_type": "markdown",
   "metadata": {},
   "source": [
    "ekran büyütme ekleyelim\n",
    "\n",
    "        maximize_window()"
   ]
  },
  {
   "cell_type": "code",
   "execution_count": 5,
   "metadata": {},
   "outputs": [
    {
     "name": "stdout",
     "output_type": "stream",
     "text": [
      "GitHub: Let’s build from here · GitHub\n"
     ]
    }
   ],
   "source": [
    "from selenium import webdriver\n",
    "import time                         \n",
    "\n",
    "driver = webdriver.Chrome()\n",
    "\n",
    "url = \"http://github.com\"\n",
    "\n",
    "driver.get(url)\n",
    "time.sleep(2)       \n",
    "driver.maximize_window()    # ekran büyütülür\n",
    "\n",
    "print(driver.title) \n",
    "\n",
    "time.sleep(2)   \n",
    "\n",
    "driver.close()  "
   ]
  },
  {
   "cell_type": "markdown",
   "metadata": {},
   "source": [
    "ekran görüntüsü alsın birde\n",
    "\n",
    "        save_screenshot()   "
   ]
  },
  {
   "cell_type": "code",
   "execution_count": 6,
   "metadata": {},
   "outputs": [
    {
     "name": "stdout",
     "output_type": "stream",
     "text": [
      "GitHub: Let’s build from here · GitHub\n"
     ]
    }
   ],
   "source": [
    "from selenium import webdriver\n",
    "import time                         \n",
    "\n",
    "driver = webdriver.Chrome()\n",
    "\n",
    "url = \"http://github.com\"\n",
    "\n",
    "driver.get(url)\n",
    "time.sleep(2)       \n",
    "driver.maximize_window() \n",
    "driver.save_screenshot(\"github.com-homepage.png\")   # ekran görüntüsünün ismi ne olacaksa () içine yazılır\n",
    "\n",
    "print(driver.title) \n",
    "\n",
    "time.sleep(2)   \n",
    "\n",
    "driver.close()  "
   ]
  },
  {
   "cell_type": "markdown",
   "metadata": {},
   "source": [
    "Farklı bir sayfaya yönlendirmek istersek?"
   ]
  },
  {
   "cell_type": "code",
   "execution_count": 8,
   "metadata": {},
   "outputs": [
    {
     "name": "stdout",
     "output_type": "stream",
     "text": [
      "enish0 (Yasin ) · GitHub\n"
     ]
    }
   ],
   "source": [
    "from selenium import webdriver\n",
    "import time                         \n",
    "\n",
    "driver = webdriver.Chrome()\n",
    "\n",
    "url = \"http://github.com\"\n",
    "\n",
    "driver.get(url)\n",
    "time.sleep(2)       \n",
    "driver.maximize_window() \n",
    "driver.save_screenshot(\"github.com-homepage.png\")  \n",
    "\n",
    "url = \"http://github.com/enish0\"    #eklendi\n",
    "driver.get(url)                     # eklendi\n",
    "\n",
    "print(driver.title) \n",
    "\n",
    "time.sleep(2)   \n",
    "\n",
    "driver.back()               # bir önceki sayfaya geri gider (ileri için .forward)\n",
    "\n",
    "time.sleep(2)                       # eklendi\n",
    "\n",
    "driver.close()  "
   ]
  },
  {
   "cell_type": "markdown",
   "metadata": {},
   "source": [
    "farklı bir sayfaya yönlendikten sonra soru sorabiliriz\n",
    "\n",
    "mesela: eğer ikinci açtığın sayfanın başlığı sadikturan ise ekran görüntüsü al"
   ]
  },
  {
   "cell_type": "code",
   "execution_count": 9,
   "metadata": {},
   "outputs": [
    {
     "name": "stdout",
     "output_type": "stream",
     "text": [
      "sadikturan (Sadık Turan) · GitHub\n"
     ]
    }
   ],
   "source": [
    "from selenium import webdriver\n",
    "import time                         \n",
    "\n",
    "driver = webdriver.Chrome()\n",
    "\n",
    "url = \"http://github.com\"\n",
    "\n",
    "driver.get(url)\n",
    "time.sleep(2)       \n",
    "driver.maximize_window() \n",
    "driver.save_screenshot(\"github.com-homepage.png\")  \n",
    "\n",
    "url = \"http://github.com/sadikturan\"    # sadece urldeki kullanıcı değişti\n",
    "driver.get(url)                    \n",
    "\n",
    "print(driver.title) \n",
    "\n",
    "if \"sadikturan\" in driver.title:       # açılan sayfada başlık sadikturan ise ekran görüntüsü alacak\n",
    "    driver.save_screenshot(\"github-sadikturan.png\")\n",
    "\n",
    "\n",
    "time.sleep(2)   \n",
    "\n",
    "driver.back()               \n",
    "\n",
    "time.sleep(2)                      \n",
    "\n",
    "driver.close()  "
   ]
  }
 ],
 "metadata": {
  "kernelspec": {
   "display_name": "Python 3",
   "language": "python",
   "name": "python3"
  },
  "language_info": {
   "codemirror_mode": {
    "name": "ipython",
    "version": 3
   },
   "file_extension": ".py",
   "mimetype": "text/x-python",
   "name": "python",
   "nbconvert_exporter": "python",
   "pygments_lexer": "ipython3",
   "version": "3.11.1"
  },
  "orig_nbformat": 4
 },
 "nbformat": 4,
 "nbformat_minor": 2
}
