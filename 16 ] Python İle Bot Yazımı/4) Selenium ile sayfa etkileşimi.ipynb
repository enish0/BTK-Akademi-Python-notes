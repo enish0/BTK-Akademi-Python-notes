{
 "cells": [
  {
   "cell_type": "markdown",
   "metadata": {},
   "source": [
    "# Selenium Sayfa Etkileşimi\n",
    "\n",
    "kullanabileceğimiz metodlar için:\n",
    "\n",
    "selenium python sayfası > locating elements"
   ]
  },
  {
   "cell_type": "markdown",
   "metadata": {},
   "source": [
    "Bir elemana Id bilgisi ile nasıl ulaşılır?\n",
    "\n",
    "        .find_element(By.CSS_SELECTOR, '[Id=\"id bilgisi\"]')\n",
    "\n",
    "..name bilgisi ile nasıl ulaşılır?\n",
    "\n",
    "       .find_element(By.CSS_SELECTOR, '[name=\"name bilgisi\"]')\n",
    "\n",
    "Sayfada bulunan link yani a etiketlerinin text bilgisine göre nasıl ulaşılır?\n",
    "\n",
    "      .find_element(By.CSS_SELECTOR, '[link =\"link bilgisi\"]')\n",
    "                                        (bundan emin deilim)\n",
    "Herhangi bir etiket ismine göre ulaşmak\n",
    "\n",
    "     .find_element(By.CSS_SELECTOR, '[name=\"name bilgisi\"]')\n",
    "\n",
    "Class ismine göre nasıl ulaşırız?\n",
    "\n",
    "       .find_element(By.CSS_SELECTOR, '[class=\"class bilgisi\"]')\n",
    " \n",
    "\n",
    "xpath ile ulaşma yöntemi de var (xpath için sitede koda sağtıkla copy de copy xpath de o bilgiyi koy tırnak işaretleri arasına).\n",
    " Bu direk ulaşmak istediğimiz elemanın tüm yolunu takip ederek ulaşıyor.\n",
    "\n",
    "        .find_element(By.XPATH, '')   bunun gibi bir şey .\n",
    "\n",
    "NOT : YUKARIDAKİLER TEK BİR ELEMENT VERİYOR BİZE (find() gibi) AMA find_element yerine find_elements kullanır isek YUKARIDAKİLERİN AYNISI AMA NE KADAR VARSA HEPSİNİ LİSTE HALİNDE VERİR. (find_all() gibi) içinden de seçebiliriz veya for döngüsü ile liste halinde yazdırabiliriz\n",
    "\n",
    "        "
   ]
  },
  {
   "cell_type": "markdown",
   "metadata": {},
   "source": [
    "Githuba girip python diye arama yaptırıp repo isimlerini alıcaz"
   ]
  },
  {
   "cell_type": "code",
   "execution_count": 31,
   "metadata": {},
   "outputs": [
    {
     "name": "stdout",
     "output_type": "stream",
     "text": [
      "[<selenium.webdriver.remote.webelement.WebElement (session=\"c435f25ef7092e74b2b1341154b6695b\", element=\"574DA0B6AE96EEF3524F8AB4F7FB8925_element_70\")>, <selenium.webdriver.remote.webelement.WebElement (session=\"c435f25ef7092e74b2b1341154b6695b\", element=\"574DA0B6AE96EEF3524F8AB4F7FB8925_element_71\")>, <selenium.webdriver.remote.webelement.WebElement (session=\"c435f25ef7092e74b2b1341154b6695b\", element=\"574DA0B6AE96EEF3524F8AB4F7FB8925_element_72\")>, <selenium.webdriver.remote.webelement.WebElement (session=\"c435f25ef7092e74b2b1341154b6695b\", element=\"574DA0B6AE96EEF3524F8AB4F7FB8925_element_73\")>, <selenium.webdriver.remote.webelement.WebElement (session=\"c435f25ef7092e74b2b1341154b6695b\", element=\"574DA0B6AE96EEF3524F8AB4F7FB8925_element_74\")>, <selenium.webdriver.remote.webelement.WebElement (session=\"c435f25ef7092e74b2b1341154b6695b\", element=\"574DA0B6AE96EEF3524F8AB4F7FB8925_element_75\")>, <selenium.webdriver.remote.webelement.WebElement (session=\"c435f25ef7092e74b2b1341154b6695b\", element=\"574DA0B6AE96EEF3524F8AB4F7FB8925_element_76\")>, <selenium.webdriver.remote.webelement.WebElement (session=\"c435f25ef7092e74b2b1341154b6695b\", element=\"574DA0B6AE96EEF3524F8AB4F7FB8925_element_77\")>, <selenium.webdriver.remote.webelement.WebElement (session=\"c435f25ef7092e74b2b1341154b6695b\", element=\"574DA0B6AE96EEF3524F8AB4F7FB8925_element_78\")>, <selenium.webdriver.remote.webelement.WebElement (session=\"c435f25ef7092e74b2b1341154b6695b\", element=\"574DA0B6AE96EEF3524F8AB4F7FB8925_element_79\")>]\n",
      "All Algorithms implemented in Python\n",
      "My Python Examples\n",
      "最良心的 Python 教程：\n",
      "Python脚本。模拟登录知乎， 爬虫，操作excel，微信公众号，远程开机\n",
      "Show Me the Code Python version.\n",
      "Python Books && Courses\n",
      "Python code for YouTube videos.\n",
      "Python Data Science Handbook: full text in Jupyter Notebooks\n",
      "Docker Official Image packaging for Python\n",
      "Exercism exercises in Python.\n"
     ]
    }
   ],
   "source": [
    "from selenium import webdriver\n",
    "import time\n",
    "from selenium.webdriver.common.keys import Keys\n",
    "from selenium.webdriver.common.by import By\n",
    "\n",
    "driver = webdriver.Chrome()\n",
    "\n",
    "url = \"https://github.com\"\n",
    "driver.get(url)\n",
    "\n",
    "time.sleep(1)\n",
    "\n",
    "# pencere boyutu tam ekran gibi\n",
    "driver.maximize_window()\n",
    "\n",
    "# ilk tıklama\n",
    "tikla = driver.find_element(By.CSS_SELECTOR, '[class=\"header-search-button placeholder input-button form-control d-flex flex-1 flex-self-stretch flex-items-center no-wrap width-full py-0 pl-2 pr-0 text-left border-0 box-shadow-none\"]').click()\n",
    "\n",
    "time.sleep(1)\n",
    "\n",
    "# tıklanmış yere yazı yazsın\n",
    "yaz = driver.find_element(By.ID, 'query-builder-test').send_keys(\"python\")\n",
    "\n",
    "time.sleep(1)\n",
    "\n",
    "# enter tuşuna bassın\n",
    "enter = driver.find_element(By.ID, 'query-builder-test').send_keys(Keys.ENTER)\n",
    "\n",
    "time.sleep(3)\n",
    "\n",
    "# bilgileri okuma işlemi\n",
    "\n",
    "bilgi_al = driver.find_elements(By.CSS_SELECTOR, '[class= \"Text-sc-17v1xeu-0 kWPXhV search-match\"]')\n",
    "print(bilgi_al)\n",
    "\n",
    "for bilgi in bilgi_al:\n",
    "    print(bilgi.text)\n",
    "\n",
    "driver.close()"
   ]
  },
  {
   "cell_type": "markdown",
   "metadata": {},
   "source": [
    "alternatif olarak sitenin kaynak kodlarını da getirmesini isteyelim ardından eğer istersek beautiful source ile bu getirdiğimiz kaynak kodlar üzerinde işlem yapabiliriz.\n",
    "\n",
    "        driver.page_source\n",
    "\n"
   ]
  },
  {
   "cell_type": "markdown",
   "metadata": {},
   "source": [
    "bu konuyu daha detaylı öğrenmek için en iyi kaynak:\n",
    "\n",
    "        https://www.youtube.com/watch?v=ZxOOje9GCNw"
   ]
  }
 ],
 "metadata": {
  "kernelspec": {
   "display_name": "Python 3",
   "language": "python",
   "name": "python3"
  },
  "language_info": {
   "codemirror_mode": {
    "name": "ipython",
    "version": 3
   },
   "file_extension": ".py",
   "mimetype": "text/x-python",
   "name": "python",
   "nbconvert_exporter": "python",
   "pygments_lexer": "ipython3",
   "version": "3.11.1"
  },
  "orig_nbformat": 4
 },
 "nbformat": 4,
 "nbformat_minor": 2
}
