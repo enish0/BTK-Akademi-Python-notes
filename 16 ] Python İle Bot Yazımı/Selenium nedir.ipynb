{
 "cells": [
  {
   "cell_type": "markdown",
   "metadata": {},
   "source": [
    "# Selenium Nedir?\n",
    "\n",
    "bir web otomasyon kütüphanesidir.\n",
    "\n",
    "Selenium ile bir web sitesini ziyaret edip etkileşimde bulunabiliriz.\n",
    "\n",
    "        pip install selenium\n",
    "\n",
    "selenium google chorome driver indirmek de gerekiyor ve kütüphaneymiş gibi bu dosyanın yanına atıyoruz"
   ]
  }
 ],
 "metadata": {
  "language_info": {
   "name": "python"
  },
  "orig_nbformat": 4
 },
 "nbformat": 4,
 "nbformat_minor": 2
}
