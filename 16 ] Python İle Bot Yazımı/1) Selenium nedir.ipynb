{
 "cells": [
  {
   "cell_type": "markdown",
   "metadata": {},
   "source": [
    "# Selenium Nedir?\n",
    "\n",
    "bir web otomasyon kütüphanesidir.\n",
    "\n",
    "Selenium ile bir web sitesini ziyaret edip etkileşimde bulunabiliriz.\n",
    "\n",
    "        pip install selenium\n",
    "\n",
    "selenium google chorome driver indirmek de gerekiyor ve kütüphaneymiş gibi bu dosyanın yanına atıyoruz"
   ]
  },
  {
   "cell_type": "code",
   "execution_count": 2,
   "metadata": {},
   "outputs": [],
   "source": [
    "from selenium import webdriver\n",
    "\n",
    "driver = webdriver.Chrome()\n",
    "\n",
    "url = \"http://sadikturan.com\"\n",
    "\n",
    "driver.get(url) # verdiğimiz url deki sayfanın açılmasını sağlar"
   ]
  }
 ],
 "metadata": {
  "kernelspec": {
   "display_name": "Python 3",
   "language": "python",
   "name": "python3"
  },
  "language_info": {
   "codemirror_mode": {
    "name": "ipython",
    "version": 3
   },
   "file_extension": ".py",
   "mimetype": "text/x-python",
   "name": "python",
   "nbconvert_exporter": "python",
   "pygments_lexer": "ipython3",
   "version": "3.11.1"
  },
  "orig_nbformat": 4
 },
 "nbformat": 4,
 "nbformat_minor": 2
}
