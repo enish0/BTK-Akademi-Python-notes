{
 "cells": [
  {
   "attachments": {},
   "cell_type": "markdown",
   "metadata": {},
   "source": [
    "# FONKSİYONLARI PARAMETRE OLARAK GÖNDERME"
   ]
  },
  {
   "cell_type": "code",
   "execution_count": 2,
   "metadata": {},
   "outputs": [
    {
     "name": "stdout",
     "output_type": "stream",
     "text": [
      "5\n"
     ]
    }
   ],
   "source": [
    "def toplama(a, b):\n",
    "    return a + b\n",
    "\n",
    "def cikarma(a, b):\n",
    "    return a - b\n",
    "\n",
    "def carpma(a, b):\n",
    "    return a * b\n",
    "\n",
    "def bolme(a, b):\n",
    "    return a / b\n",
    "\n",
    "def islem(f1, f2, f3, f4, islem_adi):\n",
    "    if islem_adi == \"toplama\":\n",
    "        print(f1(2,3))\n",
    "    elif islem_adi == \"cikarma\":\n",
    "        print(f2(5,3))\n",
    "    elif islem_adi == \"carpma\":\n",
    "        print(f3(3,4))\n",
    "    elif islem_adi == \"bolme\":\n",
    "        print(f4(10,2))\n",
    "    else:\n",
    "        print(\"geçersiz işlem...\")\n",
    "\n",
    "islem(toplama, cikarma, carpma, bolme, \"toplama\")\n",
    "\n",
    "\n",
    "\n"
   ]
  }
 ],
 "metadata": {
  "kernelspec": {
   "display_name": "Python 3",
   "language": "python",
   "name": "python3"
  },
  "language_info": {
   "codemirror_mode": {
    "name": "ipython",
    "version": 3
   },
   "file_extension": ".py",
   "mimetype": "text/x-python",
   "name": "python",
   "nbconvert_exporter": "python",
   "pygments_lexer": "ipython3",
   "version": "3.11.1"
  },
  "orig_nbformat": 4
 },
 "nbformat": 4,
 "nbformat_minor": 2
}
