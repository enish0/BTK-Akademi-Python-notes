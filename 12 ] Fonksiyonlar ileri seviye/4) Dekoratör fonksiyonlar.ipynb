{
 "cells": [
  {
   "attachments": {},
   "cell_type": "markdown",
   "metadata": {},
   "source": [
    "# DEKORATÖR FONKSİYONLAR"
   ]
  },
  {
   "attachments": {},
   "cell_type": "markdown",
   "metadata": {},
   "source": [
    "       Bir fonksiyona bir özellik eklemek istediğimizde kullanırız\n",
    "       Oluşturacağımız dekorator fonksiyonları birçok fonksiyonda kullanabiliyoruz"
   ]
  },
  {
   "cell_type": "code",
   "execution_count": 11,
   "metadata": {},
   "outputs": [
    {
     "name": "stdout",
     "output_type": "stream",
     "text": [
      "fonksiyondan önceki işlemler\n",
      "hello\n",
      "fonksiyondan sonraki işlemler\n"
     ]
    }
   ],
   "source": [
    "def my_decorator(func): # dışardan bir fonksiyon parametresi alsın\n",
    "    def wrapper():\n",
    "        print(\"fonksiyondan önceki işlemler\")\n",
    "        func()\n",
    "        print(\"fonksiyondan sonraki işlemler\")\n",
    "    return wrapper\n",
    "\n",
    "def sayHello():        # özellik eklemek istediğim fonskiyonları burada tanıtıcam\n",
    "    print(\"hello\")\n",
    "\n",
    "def sayGreeting():\n",
    "    print(\"greeting\")\n",
    "\n",
    "    # say helloyu çağırınca decorator içindeki işlemleri de tetikliyor olmam gerekiyor\n",
    "\n",
    "    # bunu nasıl yapıcaz?\n",
    "sayHello = my_decorator(sayHello)\n",
    "sayHello()\n",
    "\n",
    "    # önceki işlemler çalıştı ardından func() yerine say hello çalıştı sonrada sonraki işlemler."
   ]
  },
  {
   "attachments": {},
   "cell_type": "markdown",
   "metadata": {},
   "source": [
    "* sayGreeting() fonksiyonun ekleyelim şimdi bu özellikleri"
   ]
  },
  {
   "cell_type": "code",
   "execution_count": 13,
   "metadata": {},
   "outputs": [
    {
     "name": "stdout",
     "output_type": "stream",
     "text": [
      "fonksiyondan önceki işlemler\n",
      "greeting\n",
      "fonksiyondan sonraki işlemler\n"
     ]
    }
   ],
   "source": [
    "def my_decorator(func): \n",
    "    def wrapper():\n",
    "        print(\"fonksiyondan önceki işlemler\")\n",
    "        func()\n",
    "        print(\"fonksiyondan sonraki işlemler\")\n",
    "    return wrapper\n",
    "\n",
    "def sayHello():        \n",
    "    print(\"hello\")\n",
    "\n",
    "def sayGreeting():\n",
    "    print(\"greeting\")\n",
    "\n",
    "'''    \n",
    "sayHello = my_decorator(sayHello)\n",
    "sayHello()                                  # yorum satırı yaptık\n",
    "'''\n",
    "\n",
    "    # sayGreeting() fonsk'a da bu özellikleri ekleyelim.\n",
    "sayGreeting = my_decorator(sayGreeting)\n",
    "sayGreeting()\n"
   ]
  },
  {
   "attachments": {},
   "cell_type": "markdown",
   "metadata": {},
   "source": [
    "@ işareti kullanarak yapılan diğer yol"
   ]
  },
  {
   "cell_type": "code",
   "execution_count": 14,
   "metadata": {},
   "outputs": [
    {
     "name": "stdout",
     "output_type": "stream",
     "text": [
      "foksiyondan önceki işlemler\n",
      "hello\n",
      "fonksiyondan sonraki işlemler\n"
     ]
    }
   ],
   "source": [
    "def my_decorator(func):\n",
    "    def wrapper():\n",
    "        print(\"foksiyondan önceki işlemler\")     \n",
    "        func()\n",
    "        print(\"fonksiyondan sonraki işlemler\")\n",
    "    return wrapper\n",
    "\n",
    "@my_decorator   # @ işareti ile decorator u çağırınca buradaki söz dizimi altındaki sayHelloyu my_decorator() a gönderiyor\n",
    "def sayHello():\n",
    "    print(\"hello\")\n",
    "\n",
    "sayHello()"
   ]
  },
  {
   "attachments": {},
   "cell_type": "markdown",
   "metadata": {},
   "source": [
    "* ya eğer sayHello dışarıdan name parametresi alırsa?"
   ]
  },
  {
   "cell_type": "code",
   "execution_count": null,
   "metadata": {},
   "outputs": [],
   "source": [
    "def my_decorator(func):\n",
    "    def wrapper():\n",
    "        print(\"foksiyondan önceki işlemler\")     \n",
    "        func()\n",
    "        print(\"fonksiyondan sonraki işlemler\")\n",
    "    return wrapper\n",
    "\n",
    "@my_decorator   # @ işareti ile decorator u çağırınca buradaki söz dizimi altındaki sayHelloyu my_decorator() a gönderiyor\n",
    "def sayHello(name):     # name eklendi\n",
    "    print(\"hello\", name)    # name eklendi\n",
    "\n",
    "sayHello(\"ali\")\n",
    "\n",
    "# hata verdi çünkü sayHello bizden parametre beklemiyor.\n",
    "# çözüm: name parametresini de çağırıyor olmalıyız. func(name) ve wrapper(name) yaparak."
   ]
  },
  {
   "attachments": {},
   "cell_type": "markdown",
   "metadata": {},
   "source": [
    "* doğrusu aşağıda"
   ]
  },
  {
   "cell_type": "code",
   "execution_count": 16,
   "metadata": {},
   "outputs": [
    {
     "name": "stdout",
     "output_type": "stream",
     "text": [
      "foksiyondan önceki işlemler\n",
      "hello ali\n",
      "fonksiyondan sonraki işlemler\n"
     ]
    }
   ],
   "source": [
    "def my_decorator(func):\n",
    "    def wrapper(name):  # name eklendi\n",
    "        print(\"foksiyondan önceki işlemler\")     \n",
    "        func(name)  # name eklendi\n",
    "        print(\"fonksiyondan sonraki işlemler\")\n",
    "    return wrapper\n",
    "\n",
    "@my_decorator   \n",
    "def sayHello(name):     \n",
    "    print(\"hello\", name)    \n",
    "\n",
    "sayHello(\"ali\")\n",
    "\n"
   ]
  },
  {
   "attachments": {},
   "cell_type": "markdown",
   "metadata": {},
   "source": [
    "#### başka örneklerle devam"
   ]
  },
  {
   "cell_type": "code",
   "execution_count": 20,
   "metadata": {},
   "outputs": [
    {
     "name": "stdout",
     "output_type": "stream",
     "text": [
      "8.0\n",
      "fonksiyon 1.000657558441162saniye sürdü.\n",
      "24\n",
      "fonksiyon 1.001070499420166saniye sürdü.\n"
     ]
    }
   ],
   "source": [
    "import math\n",
    "import time         # iki fonskiyonund a ne kadar sürede hesaplandığını bulmak için kullanıcaz\n",
    "def usalma(a, b):\n",
    "    start = time.time()     # şimdiki saniye bilgisini verir\n",
    "    time.sleep(1)               # bir saniye beklesin\n",
    "    print(math.pow(a, b))\n",
    "\n",
    "    finish = time.time()        # bittiği zamanki bilgisini verir\n",
    "    print(\"fonksiyon \"+ str(finish-start) + \"saniye sürdü.\")\n",
    "\n",
    "def faktoriyel(num):\n",
    "    start = time.time()    \n",
    "    time.sleep(1)\n",
    "    print(math.factorial(num))\n",
    "\n",
    "    finish = time.time()        # bittiği zamanki bilgisini verir\n",
    "    print(\"fonksiyon \"+ str(finish-start) + \"saniye sürdü.\")\n",
    "\n",
    "# fonksiyonları kullanmaya kalkalım\n",
    "usalma(2,3)\n",
    "faktoriyel(4)"
   ]
  },
  {
   "attachments": {},
   "cell_type": "markdown",
   "metadata": {},
   "source": [
    "* yukardakini düzenleyeceğiz: üs alma üs alsın faktoriyel alma faktoriyel alsın ama zaman hesaplama ikisinde de ortak . şimdi zaman hesaplamayı ayrı bir fonksiyon yapıcaz "
   ]
  },
  {
   "cell_type": "code",
   "execution_count": 29,
   "metadata": {},
   "outputs": [
    {
     "name": "stdout",
     "output_type": "stream",
     "text": [
      "8.0\n",
      "fonskiyon usalma 1.0007259845733643 saniye sürdü.\n",
      "24\n"
     ]
    }
   ],
   "source": [
    "def calculate_time(func):  # bu bizim dekorative fonksiyonumuz olacak.\n",
    "    def inner(*args, **kwargs):         # wrapper fonksiyonu önceki gibi sadece adı farklı.\n",
    "        start = time.time()\n",
    "        time.sleep(1)\n",
    "        func(*args, **kwargs)\n",
    "        finish = time.time()\n",
    "        print(\"fonskiyon \" + func.__name__ + ' ' + str(finish-start)+ \" saniye sürdü.\")\n",
    "    return inner\n",
    "\n",
    "@calculate_time     # calculate_time özelliğini usalma() ya eklemiş gibi olduk\n",
    "def usalma(a, b):\n",
    "    print(math.pow(a, b))\n",
    "\n",
    "@calculate_time     # calculate_time özelliğini faktoriyel() e eklemiş gibi olduk\n",
    "def faktoriyel(num):\n",
    "    print(math.factorial(num))\n",
    "\n",
    "usalma(2, 3)\n",
    "faktoriyel(4)\n",
    "    "
   ]
  }
 ],
 "metadata": {
  "kernelspec": {
   "display_name": "Python 3",
   "language": "python",
   "name": "python3"
  },
  "language_info": {
   "codemirror_mode": {
    "name": "ipython",
    "version": 3
   },
   "file_extension": ".py",
   "mimetype": "text/x-python",
   "name": "python",
   "nbconvert_exporter": "python",
   "pygments_lexer": "ipython3",
   "version": "3.11.1"
  },
  "orig_nbformat": 4
 },
 "nbformat": 4,
 "nbformat_minor": 2
}
