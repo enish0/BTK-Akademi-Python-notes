{
 "cells": [
  {
   "attachments": {},
   "cell_type": "markdown",
   "metadata": {},
   "source": [
    "## İÇ İÇE FONSKİYONLAR"
   ]
  },
  {
   "cell_type": "code",
   "execution_count": 7,
   "metadata": {},
   "outputs": [
    {
     "name": "stdout",
     "output_type": "stream",
     "text": [
      "hello  ali\n",
      "None\n",
      "<function greeting at 0x0000020F0E0EF920>\n"
     ]
    }
   ],
   "source": [
    "def greeting(name):\n",
    "    print('hello ', name)\n",
    "\n",
    "print(greeting('ali'))\n",
    "print(greeting)\n",
    "\n",
    "# terminal:\n",
    "\n",
    "# ekrana hello ali yazar\n",
    "# greeting için bir obje tanımlaması yapıldığını burda söyler. bellek üstünde bir\n",
    "# ...adrese sahip olduğunu görüyoruz "
   ]
  },
  {
   "attachments": {},
   "cell_type": "markdown",
   "metadata": {},
   "source": [
    "* bu adrese sahip olmamız demek..."
   ]
  },
  {
   "cell_type": "code",
   "execution_count": 11,
   "metadata": {},
   "outputs": [
    {
     "name": "stdout",
     "output_type": "stream",
     "text": [
      "<function greeting at 0x0000020F0E0EEF20>\n",
      "<function greeting at 0x0000020F0E0EEF20>\n",
      "hello  ali\n",
      "None\n",
      "hello  ali\n",
      "None\n"
     ]
    }
   ],
   "source": [
    "def greeting(name):\n",
    "    print('hello ', name)\n",
    "\n",
    "sayHello = greeting\n",
    "\n",
    "print(sayHello)\n",
    "print(sayHello)\n",
    "\n",
    "# terminalde iki adresin de aynı olduğunu gördük\n",
    "# bu ne anlama gelir?\n",
    "    # bir objeyi birbirine atama işlemi yaptığımızda işlemi aynı adreste yapıyor\n",
    "\n",
    "# yani demek istiyor ki aşağıdaki ikisi de aynı anlama geliyor ve aynı adreste işlem yapıyor\n",
    "print(greeting('ali'))\n",
    "print(sayHello('ali'))"
   ]
  },
  {
   "attachments": {},
   "cell_type": "markdown",
   "metadata": {},
   "source": [
    "* sayHello yu silelim bakalım"
   ]
  },
  {
   "cell_type": "code",
   "execution_count": 12,
   "metadata": {},
   "outputs": [
    {
     "name": "stdout",
     "output_type": "stream",
     "text": [
      "<function greeting at 0x0000020F0E0EE200>\n",
      "<function greeting at 0x0000020F0E0EE200>\n",
      "hello  ali\n",
      "None\n",
      "hello  ali\n",
      "None\n",
      "<function greeting at 0x0000020F0E0EE200>\n"
     ]
    }
   ],
   "source": [
    "def greeting(name):\n",
    "    print('hello ', name)\n",
    "\n",
    "sayHello = greeting\n",
    "\n",
    "print(sayHello)\n",
    "print(sayHello)\n",
    "\n",
    "\n",
    "print(greeting('ali'))\n",
    "print(sayHello('ali'))\n",
    "\n",
    "# del ile sayHello yu silersek?\n",
    "\n",
    "del sayHello\n",
    "print(greeting) # hala bellek üzerinde bir yer tahsis edilmiş ve bunu hala gösterebiliyor\n",
    "\n",
    "# sayHello yu silerek adresi değil sayHello tanımlamasını silmiş oluyoruz\n",
    "# dolayısı ile ram üzerinde bir adres var ve adres üzerindeki bilgiyi temsil edecek olan iki tane farklı alan tanımladık\n",
    "# bunlardan biri sayHello() ikincisi greeting() . bunlar adres tutan alanlar. bunlardan birini silmek demek ilgili adresi siliyor olmak demek değil."
   ]
  },
  {
   "attachments": {},
   "cell_type": "markdown",
   "metadata": {},
   "source": [
    "* peki silinen sayHelloyu yazdırmaya kalkalım"
   ]
  },
  {
   "cell_type": "code",
   "execution_count": null,
   "metadata": {},
   "outputs": [],
   "source": [
    "def greeting(name):\n",
    "    print('hello ', name)\n",
    "\n",
    "sayHello = greeting\n",
    "\n",
    "print(sayHello)\n",
    "print(sayHello)\n",
    "\n",
    "\n",
    "print(greeting('ali'))\n",
    "print(sayHello('ali'))\n",
    "\n",
    "\n",
    "\n",
    "del sayHello\n",
    "print(greeting) \n",
    "\n",
    "print(sayHello)     # eklendi\n",
    "\n",
    "# hata alırız çünkü sayHello() nun tanımlaması şu anda yok"
   ]
  },
  {
   "attachments": {},
   "cell_type": "markdown",
   "metadata": {},
   "source": [
    "* yeni bir fonskiyon tanımlaması yapalım"
   ]
  },
  {
   "cell_type": "code",
   "execution_count": 17,
   "metadata": {},
   "outputs": [
    {
     "name": "stdout",
     "output_type": "stream",
     "text": [
      "outer\n"
     ]
    }
   ],
   "source": [
    "def outer(num1):\n",
    "    print('outer')\n",
    "    def inner_increment(num1):\n",
    "        print('inner')\n",
    "        return num1 + 1\n",
    "    \n",
    "outer(10)\n",
    "\n",
    "# sadece dıştaki fonksiyon çalıştı içteki çalışmadı"
   ]
  },
  {
   "attachments": {},
   "cell_type": "markdown",
   "metadata": {},
   "source": [
    "* inner (iç) fonksiyonu  outer(dış) fonksiyonda çağıralım\n",
    "\n",
    "        encapsulation (kapsülleme)"
   ]
  },
  {
   "cell_type": "code",
   "execution_count": 18,
   "metadata": {},
   "outputs": [
    {
     "name": "stdout",
     "output_type": "stream",
     "text": [
      "outer\n",
      "inner\n",
      "10 11\n"
     ]
    }
   ],
   "source": [
    "def outer(num1):\n",
    "    print('outer')\n",
    "    def inner_increment(num1):\n",
    "        print('inner')\n",
    "        return num1 + 1\n",
    "    num2 = inner_increment(num1)\n",
    "    print(num1, num2)\n",
    "\n",
    "outer(10)"
   ]
  },
  {
   "attachments": {},
   "cell_type": "markdown",
   "metadata": {},
   "source": [
    "* içteki fonskiyona dışdaki fonskiyon ile ulaşıyoruz peki içteki fonskiyonu çağırırsak direk?\n",
    "\n",
    " cevap:             hata verir. tanımlanmamış fonks der"
   ]
  },
  {
   "cell_type": "code",
   "execution_count": 24,
   "metadata": {},
   "outputs": [
    {
     "data": {
      "text/plain": [
       "120"
      ]
     },
     "execution_count": 24,
     "metadata": {},
     "output_type": "execute_result"
    }
   ],
   "source": [
    "# faktoriel alma yapalım ve iç içe fonksiyon kullanarak.\n",
    "def factorial(number):\n",
    "    \n",
    "    def inner_factorial(number):\n",
    "        if number <= 1:\n",
    "            return 1\n",
    "        \n",
    "        return number * inner_factorial(number - 1)\n",
    "    \n",
    "    return inner_factorial(number)\n",
    "\n",
    "factorial(5)\n"
   ]
  },
  {
   "attachments": {},
   "cell_type": "markdown",
   "metadata": {},
   "source": [
    "* gerçekten kullanıcının girdiği bir sayı mı sorgulayabiliriz."
   ]
  },
  {
   "cell_type": "code",
   "execution_count": null,
   "metadata": {},
   "outputs": [],
   "source": [
    "def factorial(number):\n",
    "    if not isinstance(number, int):  # ilk şeyin ikinci deki class ın bir objesi olup olmadığını soylüyor\n",
    "        raise TypeError(\"number must be integer :)\")     # hata fırlatalım\n",
    "\n",
    "    if not number >= 0:\n",
    "        raise ValueError(\"number must be positive :]\")     # hata fırlatalım\n",
    "\n",
    "    def inner_factorial(number):\n",
    "        if number <= 1:\n",
    "            return 1\n",
    "        \n",
    "        return number * inner_factorial(number - 1)\n",
    "    \n",
    "    return inner_factorial(number)\n",
    "\n",
    "factorial(-2)"
   ]
  },
  {
   "cell_type": "code",
   "execution_count": null,
   "metadata": {},
   "outputs": [],
   "source": [
    "def factorial(number):\n",
    "    if not isinstance(number, int):  # ilk şeyin ikinci deki class ın bir objesi olup olmadığını soylüyor\n",
    "        raise TypeError(\"number must be integer :)\")     # hata fırlatalım\n",
    "\n",
    "    if not number >= 0:\n",
    "        raise ValueError(\"number must be positive :]\")     # hata fırlatalım\n",
    "\n",
    "    def inner_factorial(number):\n",
    "        if number <= 1:\n",
    "            return 1\n",
    "        \n",
    "        return number * inner_factorial(number - 1)\n",
    "    \n",
    "    return inner_factorial(number)\n",
    "\n",
    "factorial(-2)"
   ]
  },
  {
   "attachments": {},
   "cell_type": "markdown",
   "metadata": {},
   "source": [
    "* yukarıda **try** bloğu kullanalım"
   ]
  },
  {
   "cell_type": "code",
   "execution_count": 31,
   "metadata": {},
   "outputs": [
    {
     "name": "stdout",
     "output_type": "stream",
     "text": [
      "number must be positive :]\n"
     ]
    }
   ],
   "source": [
    "def factorial(number):\n",
    "    if not isinstance(number, int):  # ilk şeyin ikinci deki class ın bir objesi olup olmadığını soylüyor\n",
    "        raise TypeError(\"number must be integer :)\")     # hata fırlatalım\n",
    "\n",
    "    if not number >= 0:\n",
    "        raise ValueError(\"number must be positive :]\")     # hata fırlatalım\n",
    "\n",
    "    def inner_factorial(number):\n",
    "        if number <= 1:\n",
    "            return 1\n",
    "        \n",
    "        return number * inner_factorial(number - 1)\n",
    "    \n",
    "    return inner_factorial(number)\n",
    "try:\n",
    "    factorial(-2)\n",
    "except Exception as ex:\n",
    "    print(ex)"
   ]
  }
 ],
 "metadata": {
  "kernelspec": {
   "display_name": "Python 3",
   "language": "python",
   "name": "python3"
  },
  "language_info": {
   "codemirror_mode": {
    "name": "ipython",
    "version": 3
   },
   "file_extension": ".py",
   "mimetype": "text/x-python",
   "name": "python",
   "nbconvert_exporter": "python",
   "pygments_lexer": "ipython3",
   "version": "3.11.1"
  },
  "orig_nbformat": 4
 },
 "nbformat": 4,
 "nbformat_minor": 2
}
