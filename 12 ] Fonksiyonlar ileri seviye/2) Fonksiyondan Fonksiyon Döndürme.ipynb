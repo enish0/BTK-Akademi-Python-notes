{
 "cells": [
  {
   "attachments": {},
   "cell_type": "markdown",
   "metadata": {},
   "source": [
    "# FONKSİYONDAN FONKSİYON DÖNDÜRME"
   ]
  },
  {
   "cell_type": "code",
   "execution_count": 8,
   "metadata": {},
   "outputs": [
    {
     "name": "stdout",
     "output_type": "stream",
     "text": [
      "8\n",
      "81\n"
     ]
    }
   ],
   "source": [
    "def usalma(number):\n",
    "\n",
    "    def inner(power):\n",
    "        return number ** power\n",
    "    \n",
    "    return inner\n",
    "\n",
    "    # 2 üssü 3 oldu\n",
    "two = usalma(2)\n",
    "print(two(3))\n",
    "\n",
    "    # 3 üssü 4 yapalım\n",
    "three = usalma(3)\n",
    "print(three(4))"
   ]
  },
  {
   "attachments": {},
   "cell_type": "markdown",
   "metadata": {},
   "source": [
    "* başka bir örnek yapalım"
   ]
  },
  {
   "cell_type": "code",
   "execution_count": 9,
   "metadata": {},
   "outputs": [
    {
     "name": "stdout",
     "output_type": "stream",
     "text": [
      "Admin rolü Product Edit sayfasına ulaşabilir.\n"
     ]
    }
   ],
   "source": [
    "# kullanıcı bir sayfaya gitmek istiyor. eğer rol bilgisi admin ise gidebilecek.\n",
    "def yetki_sorgula(page):\n",
    "    def inner(role):\n",
    "        if role == 'Admin':\n",
    "            return \"{0} rolü {1} sayfasına ulaşabilir.\".format(role, page)\n",
    "        else:\n",
    "            return \"{0} rolü {1} sayfasına ulaşamaz.\".format(role, page)\n",
    "    return inner\n",
    "\n",
    "user1 = yetki_sorgula(\"Product Edit\")\n",
    "print(user1(\"Admin\"))"
   ]
  },
  {
   "attachments": {},
   "cell_type": "markdown",
   "metadata": {},
   "source": [
    "* başka bir örnek yapalım"
   ]
  },
  {
   "cell_type": "code",
   "execution_count": 7,
   "metadata": {},
   "outputs": [
    {
     "name": "stdout",
     "output_type": "stream",
     "text": [
      "22\n",
      "144\n"
     ]
    }
   ],
   "source": [
    "def islem(islem_adi):\n",
    "    def toplam(*args):\n",
    "        toplam = 0\n",
    "        for i in args:\n",
    "            toplam += i # her bir gelen toplam bilgisini += ile toplayalım\n",
    "        return toplam\n",
    "\n",
    "    def carpma(*args):\n",
    "        carpim = 1\n",
    "        for i in args:\n",
    "            carpim*=i\n",
    "        return carpim\n",
    "    \n",
    "    if islem_adi == \"toplama\":\n",
    "        return toplam\n",
    "    else:\n",
    "        return carpma\n",
    "    \n",
    "toplama = islem(\"toplama\")\n",
    "print(toplama(1, 3, 5, 6, 7))\n",
    "\n",
    "carpma = islem(\"carpma\")\n",
    "print(carpma(1, 2, 3, 6, 4))"
   ]
  }
 ],
 "metadata": {
  "kernelspec": {
   "display_name": "Python 3",
   "language": "python",
   "name": "python3"
  },
  "language_info": {
   "codemirror_mode": {
    "name": "ipython",
    "version": 3
   },
   "file_extension": ".py",
   "mimetype": "text/x-python",
   "name": "python",
   "nbconvert_exporter": "python",
   "pygments_lexer": "ipython3",
   "version": "3.11.1"
  },
  "orig_nbformat": 4
 },
 "nbformat": 4,
 "nbformat_minor": 2
}
