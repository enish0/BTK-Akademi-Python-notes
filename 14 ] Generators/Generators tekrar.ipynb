{
 "cells": [
  {
   "attachments": {},
   "cell_type": "markdown",
   "metadata": {},
   "source": [
    "# GENERATORS : bir Iterator objesini oluşturmak için kullanacak olduğumuz generation kavramını görücez"
   ]
  },
  {
   "attachments": {},
   "cell_type": "markdown",
   "metadata": {},
   "source": [
    "        Generator : \n",
    "        \n",
    "        bizim için bellekte yer işgal etmeyen bir iterator üretiyor"
   ]
  },
  {
   "cell_type": "code",
   "execution_count": 1,
   "metadata": {},
   "outputs": [
    {
     "name": "stdout",
     "output_type": "stream",
     "text": [
      "[0, 1, 8, 27, 64]\n"
     ]
    }
   ],
   "source": [
    "def cube():\n",
    "    result = []     # result isimli bir liste tanımladık\n",
    "\n",
    "    for i in range(5):      # 5 e kadar bir liste oluşturdu\n",
    "        result.append(i**3)     # range deki listenin elemanları result listesine attık (küplerini alıp attık)\n",
    "    return result       # resultun son halini döndürdü\n",
    "\n",
    "print(cube())\n",
    "\n",
    "# bir liste şu an bellek üstünde yer tutuyor dikkat."
   ]
  },
  {
   "attachments": {},
   "cell_type": "markdown",
   "metadata": {},
   "source": [
    "* bellek üzerinde yer tutmayan bir yapı kullanabiliriz **( bir generator üretebiliriz)**\n",
    "\n",
    "        yield "
   ]
  },
  {
   "cell_type": "code",
   "execution_count": 8,
   "metadata": {},
   "outputs": [
    {
     "name": "stdout",
     "output_type": "stream",
     "text": [
      "0\n",
      "1\n",
      "8\n",
      "27\n",
      "64\n"
     ]
    }
   ],
   "source": [
    "def cube():\n",
    "    for i in range(5):\n",
    "        yield i ** 3\n",
    "\n",
    "# yield ile döndür müş olduk return gibi bişey :)\n",
    "\n",
    "\n",
    "generator = cube()      # generator dedik cube fonskiyonuna akılda kalıcı olsun\n",
    "                            # zaten içinde yield var generator sayılır\n",
    "\n",
    "# generator den de bir iterator oluşturalım\n",
    "iterator = iter(generator)  # aslında bu gereksiz zaten generator kısmında for döngüsü falan var o yapıyor o işi (iterable objeyi iteratore çeviriyor)\n",
    "\n",
    "print(next(iterator))   # hatırla: next metodu ile iteratore ulaştık. 1. sefer ilk değeri alırız\n",
    "print(next(iterator))\n",
    "print(next(iterator))\n",
    "print(next(iterator))\n",
    "print(next(iterator))\n",
    "\n",
    "# bir liste yok üretilen her bir değeri o anda alıyoruz o anda ekrana yazıyoruz\n",
    "\n",
    "# range(5) değil de range(500000000) olsa bile bellekte yer tutmayacak"
   ]
  },
  {
   "attachments": {},
   "cell_type": "markdown",
   "metadata": {},
   "source": [
    "* iteratore dönüştürmemize gerek yoktu aslında generator kısmındaki for döngüsü bunu bizim için yapıyor dolayısı ile.."
   ]
  },
  {
   "cell_type": "code",
   "execution_count": 10,
   "metadata": {},
   "outputs": [
    {
     "name": "stdout",
     "output_type": "stream",
     "text": [
      "0\n",
      "1\n",
      "8\n",
      "27\n",
      "64\n"
     ]
    }
   ],
   "source": [
    "def cube():\n",
    "    for i in range(5):\n",
    "        yield i ** 3\n",
    "\n",
    "# yield ile döndür müş olduk return gibi bişey :)\n",
    "\n",
    "\n",
    "iterator = cube()   # generator --> iterator        # düzenlendi\n",
    "                            \n",
    "''' iterator = iter(generator)'''                   # silindi\n",
    "\n",
    "\n",
    "print(next(iterator))   \n",
    "print(next(iterator))\n",
    "print(next(iterator))\n",
    "print(next(iterator))\n",
    "print(next(iterator))"
   ]
  },
  {
   "attachments": {},
   "cell_type": "markdown",
   "metadata": {},
   "source": [
    "* son kısımdaki print(next(iterator)) kısmını daha estetik farklı yazalım"
   ]
  },
  {
   "cell_type": "code",
   "execution_count": 11,
   "metadata": {},
   "outputs": [
    {
     "name": "stdout",
     "output_type": "stream",
     "text": [
      "0\n",
      "1\n",
      "8\n",
      "27\n",
      "64\n"
     ]
    }
   ],
   "source": [
    "def cube():\n",
    "    for i in range(5):\n",
    "        yield i ** 3\n",
    "\n",
    "iterator = cube()   \n",
    "                            \n",
    "        # AŞAĞISI DÜZENLENDİ\n",
    "\n",
    "for i in iterator:\n",
    "    print(i)"
   ]
  },
  {
   "attachments": {},
   "cell_type": "markdown",
   "metadata": {},
   "source": [
    "* daha kısası"
   ]
  },
  {
   "cell_type": "code",
   "execution_count": null,
   "metadata": {},
   "outputs": [],
   "source": [
    "def cube():\n",
    "    for i in range(5):\n",
    "        yield i ** 3                   \n",
    "        \n",
    "for i in cube():    # cube() eklendi\n",
    "    print(i)\n",
    "\n",
    "    # bir liste yok biz ne zaman istersek o an yield çalıştırılır for ile beraber.bilgi kaydedilmez"
   ]
  },
  {
   "attachments": {},
   "cell_type": "markdown",
   "metadata": {},
   "source": [
    "* peki generatorleri sadece fonksiyonlarla beraber mi oluşturucaz ?\n",
    "        \n",
    "        hayır"
   ]
  },
  {
   "cell_type": "code",
   "execution_count": 1,
   "metadata": {},
   "outputs": [
    {
     "name": "stdout",
     "output_type": "stream",
     "text": [
      "[0, 1, 8, 27, 64]\n",
      "                ---------- a y r a ç ---------------\n",
      "<generator object <genexpr> at 0x0000020EEE2E71D0>\n",
      "0\n",
      "1\n",
      "8\n"
     ]
    }
   ],
   "source": [
    "# daha önce gördüğümüz bir konuyu içeren bir örnek...\n",
    "\n",
    "liste = [i**3 for i in range(5)]   # ikinci 'i' range tarafından üretileni atacağımız yer & şey\n",
    "        # ilk 'i' nin anlamı onu istediğimiz gibi şekillendirmek ( küpünü almak). liste içinde de i var demek.\n",
    "\n",
    "print(liste)\n",
    "\n",
    "\n",
    "print('                ---------- a y r a ç ---------------')\n",
    "\n",
    "            # YUKARIDAKİNİ GENERATOR YAPMAK İÇİN  ']' --> ')'  dönüştürmeliyiz\n",
    "listeGen = (i**3 for i in range(5))       \n",
    "\n",
    "print(listeGen)    # bu sefer liste deil generator objesi geldi. \n",
    "\n",
    "# generator objesini yine gelip next metodu ile çalıştırıcaz\n",
    "\n",
    "print(next(listeGen))\n",
    "print(next(listeGen))\n",
    "print(next(listeGen))"
   ]
  },
  {
   "attachments": {},
   "cell_type": "markdown",
   "metadata": {},
   "source": [
    "* next(listeGen) kısımlarını kısaltalım for ile"
   ]
  },
  {
   "cell_type": "code",
   "execution_count": 8,
   "metadata": {},
   "outputs": [
    {
     "name": "stdout",
     "output_type": "stream",
     "text": [
      "[0, 1, 8, 27, 64]\n",
      "                ---------- a y r a ç ---------------\n",
      "<generator object <genexpr> at 0x0000020EEE2E6A80>\n",
      "0\n",
      "1\n",
      "8\n",
      "27\n",
      "64\n"
     ]
    }
   ],
   "source": [
    "liste = [i**3 for i in range(5)]  \n",
    "      \n",
    "\n",
    "print(liste)\n",
    "\n",
    "\n",
    "print('                ---------- a y r a ç ---------------')\n",
    "\n",
    "           \n",
    "listeGen = (i**3 for i in range(5))       \n",
    "\n",
    "print(listeGen)    \n",
    "\n",
    "    # aşağıyı düzenledik    \n",
    "\n",
    "for i in listeGen:\n",
    "    print(i)"
   ]
  }
 ],
 "metadata": {
  "kernelspec": {
   "display_name": "Python 3",
   "language": "python",
   "name": "python3"
  },
  "language_info": {
   "codemirror_mode": {
    "name": "ipython",
    "version": 3
   },
   "file_extension": ".py",
   "mimetype": "text/x-python",
   "name": "python",
   "nbconvert_exporter": "python",
   "pygments_lexer": "ipython3",
   "version": "3.11.1"
  },
  "orig_nbformat": 4
 },
 "nbformat": 4,
 "nbformat_minor": 2
}
