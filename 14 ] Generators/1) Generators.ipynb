{
 "cells": [
  {
   "attachments": {},
   "cell_type": "markdown",
   "metadata": {},
   "source": [
    "# GENERATORS"
   ]
  },
  {
   "attachments": {},
   "cell_type": "markdown",
   "metadata": {},
   "source": [
    "        bellekte yer işgal etmeyen bir iterator üretiyor"
   ]
  },
  {
   "cell_type": "code",
   "execution_count": 1,
   "metadata": {},
   "outputs": [
    {
     "name": "stdout",
     "output_type": "stream",
     "text": [
      "[0, 1, 8, 27, 64]\n"
     ]
    }
   ],
   "source": [
    "def cube():\n",
    "    result = []\n",
    "\n",
    "    for i in range(5):\n",
    "        result.append(i**3)\n",
    "    return result\n",
    "\n",
    "print(cube())\n",
    "\n",
    "# şu an bir liste bellek üzerinde yer tutuyor."
   ]
  },
  {
   "attachments": {},
   "cell_type": "markdown",
   "metadata": {},
   "source": [
    "* bellek üzerinde yer tutmayan bir yapı kullanabiliriz, bir generator üretebiliriz."
   ]
  },
  {
   "cell_type": "code",
   "execution_count": 2,
   "metadata": {},
   "outputs": [
    {
     "name": "stdout",
     "output_type": "stream",
     "text": [
      "<generator object cube at 0x000001E130B75490>\n"
     ]
    }
   ],
   "source": [
    "def cube():\n",
    "    for i in range(5):\n",
    "        yield i ** 3     # yield anahtar sözcüğü ile bir değer üreticez\n",
    "                # yield bu değeri üretip bana gönderiyor ama bu bilgi saklanmıyor ikinci kez gönderilemez.\n",
    "print(cube())\n",
    "\n",
    "# bize burda for bloğundan bir generator geliyor görmek için terminale bak orda yazıyor."
   ]
  },
  {
   "attachments": {},
   "cell_type": "markdown",
   "metadata": {},
   "source": [
    "* devam..."
   ]
  },
  {
   "cell_type": "code",
   "execution_count": 4,
   "metadata": {},
   "outputs": [
    {
     "name": "stdout",
     "output_type": "stream",
     "text": [
      "0\n",
      "1\n",
      "8\n",
      "27\n",
      "64\n"
     ]
    }
   ],
   "source": [
    "def cube():\n",
    "    for i in range(5):\n",
    "        yield i ** 3\n",
    "\n",
    "generator = cube()\n",
    "\n",
    "iterator = iter(generator)\n",
    "\n",
    "print(next(iterator))\n",
    "print(next(iterator))\n",
    "print(next(iterator))\n",
    "print(next(iterator))\n",
    "print(next(iterator))"
   ]
  }
 ],
 "metadata": {
  "kernelspec": {
   "display_name": "Python 3",
   "language": "python",
   "name": "python3"
  },
  "language_info": {
   "codemirror_mode": {
    "name": "ipython",
    "version": 3
   },
   "file_extension": ".py",
   "mimetype": "text/x-python",
   "name": "python",
   "nbconvert_exporter": "python",
   "pygments_lexer": "ipython3",
   "version": "3.11.1"
  },
  "orig_nbformat": 4
 },
 "nbformat": 4,
 "nbformat_minor": 2
}
