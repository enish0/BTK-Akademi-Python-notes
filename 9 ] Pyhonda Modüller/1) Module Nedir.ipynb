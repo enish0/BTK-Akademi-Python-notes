{
 "cells": [
  {
   "attachments": {},
   "cell_type": "markdown",
   "metadata": {},
   "source": [
    "## MODULE NEDİR?\n",
    "* Yazdığımız programlar büyüdükçe müdahale etme açısından sıkıntı yaşamamak için belli parçalara ayırmamız gerekiyor ve her bir parçaya bir görev vermemiz gerekiyor. \n",
    "\n",
    "* Parçaları topladığımızda programımızın kendisini temsil ediyor olması gerekiyor. -ki uygulamaya müdahale etme açısından, örneğin bir güncelleme yapma aşamasında sorun yaşamamak için.\n",
    "\n",
    "* **NOT**: örneğin modül A (moduleA.py) daki bir yardımcı fonksiyonu/sınıfı modül B (moduleB.py) de de kullanabiliriz."
   ]
  },
  {
   "attachments": {},
   "cell_type": "markdown",
   "metadata": {},
   "source": [
    "* main.py ( main modülü ) içinde gidip bir fonksiyon / class tanımlaması yapmayacağız burda onları kullanacağız . örnek veriyorum moduleB.py de tanımlayacağız. bu tanımladığımız modulB bizim kütüphanemiz olmuş oluyor aynı zamanda. bunun gibi çeşitli kütüphanelerimiz olabilir. mesela modulC.py gibi bir kütüphane de yapabiliriz."
   ]
  },
  {
   "attachments": {},
   "cell_type": "markdown",
   "metadata": {},
   "source": [
    "* modul A daki tanımladığımız fonksiyonun sadece objelerini mainde tanımlayabiliriz ve kullanırız"
   ]
  },
  {
   "attachments": {},
   "cell_type": "markdown",
   "metadata": {},
   "source": [
    "#### MODÜL TÜRLERİ\n",
    "1- Kendi hazırladığımız modüller\n",
    "\n",
    "2- Hazır modüller\n",
    "\n",
    "        A - Standart Kütüphane modülleri:       (python geliştiricileri yazmış)\n",
    "        B - Üçüncü Şahıs modülleri              (PyPi.org da havuzda barınıyorlar)\n",
    "                                                >pip install package-name"
   ]
  }
 ],
 "metadata": {
  "language_info": {
   "name": "python"
  },
  "orig_nbformat": 4
 },
 "nbformat": 4,
 "nbformat_minor": 2
}
