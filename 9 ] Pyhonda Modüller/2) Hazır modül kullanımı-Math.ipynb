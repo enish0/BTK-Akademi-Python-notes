{
 "cells": [
  {
   "attachments": {},
   "cell_type": "markdown",
   "metadata": {},
   "source": [
    "## HAZIR MODÜL (KÜTÜPHANE) KULLANIMI : MATH"
   ]
  },
  {
   "attachments": {},
   "cell_type": "markdown",
   "metadata": {},
   "source": [
    "#### KÜTÜPHANE 'YE ULAŞMANIN YÖNTEMLERİ VARDIR\n",
    "\n",
    "    YÖNTEM - 1\n",
    "\n",
    "* import(math)"
   ]
  },
  {
   "cell_type": "code",
   "execution_count": null,
   "metadata": {},
   "outputs": [],
   "source": [
    "import math\n",
    "\n",
    "value = dir(math)   # math modülündeki tüm fonksiyonları value ya aktardık\n",
    "print(value)    # tüm fonksiyonların isimlerini ekrana yazdırdık"
   ]
  },
  {
   "cell_type": "code",
   "execution_count": null,
   "metadata": {},
   "outputs": [],
   "source": [
    "import math\n",
    "# peki bunlar hakkında bilgi sahibi olmak istiyorum sadece isimler bana yetmez dersek\n",
    "\n",
    "value = help(math)  # modülün yardım dokümanını karşımıza çıkartır\n",
    "print(value)"
   ]
  },
  {
   "cell_type": "code",
   "execution_count": null,
   "metadata": {},
   "outputs": [],
   "source": [
    "import math\n",
    "# sadece tek bir fonksiyonun kullanımını görelim\n",
    "value = help(math.factorial)\n",
    "print(value)\n"
   ]
  },
  {
   "cell_type": "code",
   "execution_count": 9,
   "metadata": {},
   "outputs": [
    {
     "name": "stdout",
     "output_type": "stream",
     "text": [
      "7.0\n"
     ]
    }
   ],
   "source": [
    "import math\n",
    "# örnek bir tane kullanım yapalım\n",
    "value = math.sqrt(49)   # sqrt() fonksiyonu karekökünü buldu\n",
    "print(value)"
   ]
  },
  {
   "cell_type": "code",
   "execution_count": 1,
   "metadata": {},
   "outputs": [
    {
     "name": "stdout",
     "output_type": "stream",
     "text": [
      "120\n",
      "5\n",
      "6\n"
     ]
    }
   ],
   "source": [
    "import math\n",
    "# factorial() deneyelim\n",
    "value = math.factorial(5)   # faktöriyeli hesapladı\n",
    "print(value)\n",
    "\n",
    "# floor() deneyelim\n",
    "value = math.floor(5.9)     # aşağıya doğru sayıyı yuvarlar\n",
    "print(value)\n",
    "\n",
    "# ceil() deneyelim\n",
    "value = math.ceil(5.9)\n",
    "print(value)                # yukarı yuvarlama yaptı\n"
   ]
  },
  {
   "attachments": {},
   "cell_type": "markdown",
   "metadata": {},
   "source": [
    "* math 'e takma isim takıp onunla math kütüphanesine ulaşmayı deneyelim birde"
   ]
  },
  {
   "cell_type": "code",
   "execution_count": 2,
   "metadata": {},
   "outputs": [
    {
     "name": "stdout",
     "output_type": "stream",
     "text": [
      "120\n"
     ]
    }
   ],
   "source": [
    "import math as islem    # islem takma adını verme anlamına gelir\n",
    "\n",
    "value = islem.factorial(5)\n",
    "print(value)"
   ]
  },
  {
   "attachments": {},
   "cell_type": "markdown",
   "metadata": {},
   "source": [
    "    YÖNTEM - 2\n",
    "\n",
    "    from math import    : bu şekilde ilgili modülden neleri import edeceğimi tek tek ya da hepsini şeklinde söyleyebiliyoruz."
   ]
  },
  {
   "cell_type": "code",
   "execution_count": 5,
   "metadata": {},
   "outputs": [
    {
     "name": "stdout",
     "output_type": "stream",
     "text": [
      "120\n",
      "3.0\n"
     ]
    }
   ],
   "source": [
    "from math import *  # sondaki (*) işaretinin anlamı modüldeki her şeyi import et anlamı verir.\n",
    "\n",
    "# yukarıdaki durumdan sonra artık modül ismi kullanmak gerekmiyor.\n",
    "value = factorial(5)\n",
    "print(value)\n",
    "\n",
    "# başka bir metodda da gösterelim\n",
    "value = sqrt(9)\n",
    "print(value)"
   ]
  },
  {
   "cell_type": "code",
   "execution_count": null,
   "metadata": {},
   "outputs": [],
   "source": [
    "from math import factorial, sqrt    # istediğimiz özelliği sadece import eder"
   ]
  },
  {
   "attachments": {},
   "cell_type": "markdown",
   "metadata": {},
   "source": [
    "* ya eğer mesela biz import ettiğimiz hazır modül içindeki bir fonksiyonla aynı isismli bir kendi yazdığımız fonksiyon aynı isimli ise python hangisini kullanır?"
   ]
  },
  {
   "cell_type": "code",
   "execution_count": 3,
   "metadata": {},
   "outputs": [
    {
     "name": "stdout",
     "output_type": "stream",
     "text": [
      "x :9\n",
      "None\n"
     ]
    }
   ],
   "source": [
    "from math import sqrt\n",
    "\n",
    "def sqrt(x):\n",
    "    print('x :'+ str(x))\n",
    "\n",
    "value = sqrt(9)\n",
    "print(value)\n",
    "# sonuç: hazır alınmış ve kendi yazdığımız aynı isimli fonksiyonlardan hangisi en son tanımlanırsa onu kullanır"
   ]
  }
 ],
 "metadata": {
  "kernelspec": {
   "display_name": "Python 3",
   "language": "python",
   "name": "python3"
  },
  "language_info": {
   "codemirror_mode": {
    "name": "ipython",
    "version": 3
   },
   "file_extension": ".py",
   "mimetype": "text/x-python",
   "name": "python",
   "nbconvert_exporter": "python",
   "pygments_lexer": "ipython3",
   "version": "3.11.1"
  },
  "orig_nbformat": 4
 },
 "nbformat": 4,
 "nbformat_minor": 2
}
