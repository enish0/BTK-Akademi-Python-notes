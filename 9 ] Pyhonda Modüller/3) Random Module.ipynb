{
 "cells": [
  {
   "cell_type": "code",
   "execution_count": null,
   "metadata": {},
   "outputs": [],
   "source": [
    "import random\n",
    "\n",
    "result = dir(random)    # dir() modül içindeki tüm fonksiyonların tanımlı isimlerine ulaş\n",
    "result = help(random)   # help() modüldeki tüm fonks hakkında açıklama kullanım bilgisi\n",
    "print(result)"
   ]
  },
  {
   "attachments": {},
   "cell_type": "markdown",
   "metadata": {},
   "source": [
    "* random()\n",
    "\n",
    "        ⇲ 0.0 ile 1.0 arası rastgele bir sayı üretir"
   ]
  },
  {
   "cell_type": "code",
   "execution_count": 20,
   "metadata": {},
   "outputs": [
    {
     "name": "stdout",
     "output_type": "stream",
     "text": [
      "0.42456030215293095\n"
     ]
    }
   ],
   "source": [
    "import random\n",
    "result = random.random()    # 0.0 ile 1.0 arası rastgele bir sayı üretir\n",
    "print(result)"
   ]
  },
  {
   "cell_type": "code",
   "execution_count": 21,
   "metadata": {},
   "outputs": [
    {
     "name": "stdout",
     "output_type": "stream",
     "text": [
      "7.771083835262626\n"
     ]
    }
   ],
   "source": [
    "import random\n",
    "result = random.random() * 100      # üretilen rastgele sayıyı da yüz ile çarp demekk\n",
    "print(result)"
   ]
  },
  {
   "attachments": {},
   "cell_type": "markdown",
   "metadata": {},
   "source": [
    "* uniform(1,10)\n",
    "                \n",
    "        ⇲ iki sayı arası bir sayı üretir"
   ]
  },
  {
   "cell_type": "code",
   "execution_count": 60,
   "metadata": {},
   "outputs": [
    {
     "name": "stdout",
     "output_type": "stream",
     "text": [
      "3.3626237718762266\n",
      "99\n"
     ]
    }
   ],
   "source": [
    "from random import uniform\n",
    "result = random.uniform(1,10)       # girdiğimiz iki sayı arası bir sayı üretir\n",
    "print(result)\n",
    "\n",
    "\n",
    "# başka örnekler\n",
    "result = int(random.uniform(10,100))        # int() ile tam kısmı versin talimatı\n",
    "print(result)"
   ]
  },
  {
   "attachments": {},
   "cell_type": "markdown",
   "metadata": {},
   "source": [
    "* randint(a,b)      # iki sayı arasında int olarak rastgele sayı gelir"
   ]
  },
  {
   "cell_type": "code",
   "execution_count": 67,
   "metadata": {},
   "outputs": [
    {
     "name": "stdout",
     "output_type": "stream",
     "text": [
      "40\n"
     ]
    }
   ],
   "source": [
    "from random import randint\n",
    "result = random.randint(1,100)  # direk int olarak sonuc verir \n",
    "print(result)"
   ]
  },
  {
   "attachments": {},
   "cell_type": "markdown",
   "metadata": {},
   "source": [
    "* listeden rastgele bir eleman almak ⇲"
   ]
  },
  {
   "cell_type": "code",
   "execution_count": 17,
   "metadata": {},
   "outputs": [
    {
     "name": "stdout",
     "output_type": "stream",
     "text": [
      "yağmur\n",
      "cenk\n"
     ]
    }
   ],
   "source": [
    "from random import randint, choice\n",
    "\n",
    "# names diye bir listemiz var normalde bu listenin bir elemanına ulaşmak için\n",
    "# names[indexNumber] şeklinde ulaşırdık bunun üzerinden rastgele bir index no için random kullanıyoruz\n",
    "\n",
    "names = ['ali','yağmur','deniz','cenk']\n",
    "result = names[random.randint(0,len(names)-1)]  # random modülü burda sıfırdan 3 ekadar bir sayı üretir rastgele. bu ürettikleri sayı index nosu yerine geçer\n",
    "print(result)\n",
    "\n",
    "\n",
    "# random modülünde yukarıdaki iş için bir metod eklenmiş\n",
    "result = random.choice(names)   # direk listeyi veriyosun o rasgele seçiyor\n",
    "print(result)"
   ]
  },
  {
   "attachments": {},
   "cell_type": "markdown",
   "metadata": {},
   "source": [
    "* uzun bir string ifade ile yapalım aynısını"
   ]
  },
  {
   "cell_type": "code",
   "execution_count": 14,
   "metadata": {},
   "outputs": [
    {
     "name": "stdout",
     "output_type": "stream",
     "text": [
      "r\n"
     ]
    }
   ],
   "source": [
    "from random import choice\n",
    "greeting = 'hello there'    \n",
    "\n",
    "result = random.choice(greeting)\n",
    "print(result)"
   ]
  },
  {
   "cell_type": "code",
   "execution_count": 32,
   "metadata": {},
   "outputs": [
    {
     "name": "stdout",
     "output_type": "stream",
     "text": [
      "[0, 1, 2, 3, 4, 5, 6, 7, 8, 9]\n",
      "[8, 0, 2, 3, 7, 9, 6, 1, 5, 4]\n"
     ]
    }
   ],
   "source": [
    "from random import shuffle      # sadece shuffle fonks unu import etmek istedim\n",
    "liste = list(range(10))     # 0 dan 9 a kadar 10 elemanlı bir liste oluşturur range(10 komutu)\n",
    "                            # list komutu da listeye çevirir bu 10 elemanı\n",
    "\n",
    "print(liste)\n",
    "\n",
    "# şimdi yukarıda gelen sayıların karışık bir şekilde glemesini istiyorum\n",
    "\n",
    "random.shuffle(liste)   # listenin elemanlarının yerini değiştirir\n",
    "\n",
    "print(liste)"
   ]
  },
  {
   "attachments": {},
   "cell_type": "markdown",
   "metadata": {},
   "source": [
    "* bir liste tanımlayıp rastgele 3 sayı almaya çalışalım"
   ]
  },
  {
   "cell_type": "code",
   "execution_count": 51,
   "metadata": {},
   "outputs": [
    {
     "name": "stdout",
     "output_type": "stream",
     "text": [
      "[8, 49, 69]\n"
     ]
    }
   ],
   "source": [
    "from random import sample\n",
    "\n",
    "liste = range(100)          # 0 dan 100'e kadar sayıları sırala demek\n",
    "result = random.sample(liste, 3)\n",
    "print(result)"
   ]
  }
 ],
 "metadata": {
  "kernelspec": {
   "display_name": "Python 3",
   "language": "python",
   "name": "python3"
  },
  "language_info": {
   "codemirror_mode": {
    "name": "ipython",
    "version": 3
   },
   "file_extension": ".py",
   "mimetype": "text/x-python",
   "name": "python",
   "nbconvert_exporter": "python",
   "pygments_lexer": "ipython3",
   "version": "3.11.1"
  },
  "orig_nbformat": 4
 },
 "nbformat": 4,
 "nbformat_minor": 2
}
