{
 "cells": [
  {
   "attachments": {},
   "cell_type": "markdown",
   "metadata": {},
   "source": [
    "## NESNE TABANLI PROGRAMLAMA : CLASS"
   ]
  },
  {
   "cell_type": "code",
   "execution_count": 5,
   "metadata": {},
   "outputs": [
    {
     "name": "stdout",
     "output_type": "stream",
     "text": [
      "<__main__.Person object at 0x0000026B29A12CD0>\n",
      "<__main__.Person object at 0x0000026B29A13050>\n",
      "<class '__main__.Person'>\n",
      "<class '__main__.Person'>\n"
     ]
    }
   ],
   "source": [
    "# class\n",
    "\n",
    "class Person:\n",
    "    pass                        # kod tamamlanmadığı için hata vermesin diye pass keyword'ünü kullandık\n",
    "    \n",
    "    # class attribute\n",
    "\n",
    "    # constructor (yapıcı metod)\n",
    "   \n",
    "        # object attributes\n",
    "        \n",
    "    # attribute'lar\n",
    "\n",
    "    # metod 'lar\n",
    "\n",
    "\n",
    "\n",
    "# object, instance\n",
    "p1 = Person()\n",
    "p2 = Person()\n",
    "\n",
    "print(p1)   # class 'ın içi boş olduğu için terminalde:objenin person tipi olduğunu ve  objenin bellekte bulunduğu adresi gösterdi.\n",
    "print(p2)   # bu sefer de farklı bir adreste tanımlanan yine bir person tipi obje der\n",
    "\n",
    "print(type(p1)) # terminal ikisinin de tipinin person olduğunu ve bir class olduğunu söyler\n",
    "print(type(p1))\n",
    "\n",
    "print(p1 == p2) # terminal: false.  terminal bunların farklı bir obje olduğunu söylemiş oluyor."
   ]
  },
  {
   "cell_type": "code",
   "execution_count": 8,
   "metadata": {},
   "outputs": [
    {
     "name": "stdout",
     "output_type": "stream",
     "text": [
      "init metodu çalıştı.\n",
      "init metodu çalıştı.\n",
      "p1 :name: Ali year: 1990 adress: no information\n",
      "p2 :name: yağmur year: 1995 adress: no information\n",
      "<__main__.Person object at 0x0000026B29FAA890>\n",
      "<__main__.Person object at 0x0000026B29FAED90>\n",
      "<class '__main__.Person'>\n",
      "<class '__main__.Person'>\n",
      "False\n"
     ]
    }
   ],
   "source": [
    "# class\n",
    "class Person:\n",
    "    # class attributes\n",
    "    address = 'no information'  # her zaman kullanmayacağımız özellikleri class attribute u olarak buraya koyabiliriz. classın hemen altına\n",
    "    # contructor (yapıcı metod)\n",
    "    def __init__(self, name, year):\n",
    "        # object attributes\n",
    "        self.name = name\n",
    "        self.year = year\n",
    "        print('init metodu çalıştı.')\n",
    "\n",
    "        # methods\n",
    "    \n",
    "# object (instance)\n",
    "p1 = Person(name='Ali', year= 1990)\n",
    "p2 = Person(name='yağmur', year= 1995)\n",
    "\n",
    "# accessing object attributes\n",
    "print(f'p1 :name: {p1.name} year: {p1.year} adress: {p1.address}')\n",
    "print(f'p2 :name: {p2.name} year: {p2.year} adress: {p2.address}')\n",
    "\n",
    "print(p1)\n",
    "print(p2)\n",
    "\n",
    "print(type(p1))\n",
    "print(type(p1))\n",
    "\n",
    "print(p1 == p2) \n"
   ]
  }
 ],
 "metadata": {
  "kernelspec": {
   "display_name": "Python 3",
   "language": "python",
   "name": "python3"
  },
  "language_info": {
   "codemirror_mode": {
    "name": "ipython",
    "version": 3
   },
   "file_extension": ".py",
   "mimetype": "text/x-python",
   "name": "python",
   "nbconvert_exporter": "python",
   "pygments_lexer": "ipython3",
   "version": "3.11.1"
  },
  "orig_nbformat": 4
 },
 "nbformat": 4,
 "nbformat_minor": 2
}
