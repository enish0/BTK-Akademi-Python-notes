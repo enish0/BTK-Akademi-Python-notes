{
 "cells": [
  {
   "attachments": {},
   "cell_type": "markdown",
   "metadata": {},
   "source": [
    "## NESNE TABANLI PROGRAMLAMA: CLASS"
   ]
  },
  {
   "attachments": {},
   "cell_type": "markdown",
   "metadata": {},
   "source": [
    "##### bilmemiz gereken kavramlar: **class** ve **object(instance)**"
   ]
  },
  {
   "attachments": {},
   "cell_type": "markdown",
   "metadata": {},
   "source": [
    "* **bir class tanımlayalım...** class tanımlamak için gerekli olan **class keyword** ünü kullanmak.Class yazdıktan sonra class'a bir **isim vericez** ve tanımlamış olucaz. Clasa verilecek **isim büyük harfle başlamalı** (genelde bu şekilde yapılır, uymakta fayda var) daha sonra **iki nokta ekliyoruz** ve class kapsamı içinde tanımlayacak olduğumuz ifadeler, # atttribute lar ve methodlar."
   ]
  },
  {
   "cell_type": "code",
   "execution_count": null,
   "metadata": {},
   "outputs": [],
   "source": [
    "class Person:\n",
    "    # attributes\n",
    "\n",
    "    # methods\n",
    "\n",
    "# eğer uygulamayı bu hali ile çalıştırırsak hata alırırız.\n",
    "# sebep: class keyword'ünden sonra ya attributes veya method belirtilmeli.\n",
    "\n",
    "# TERMİNAL : hata"
   ]
  },
  {
   "cell_type": "code",
   "execution_count": 2,
   "metadata": {},
   "outputs": [],
   "source": [
    "# eğer illa boş bırakmak istyorsak, pass keyword 'ünü yer tutucu olarak kullanabiliriz\n",
    "# böylece hem boş bırakmış oluruz hem de hata almayız yukarıdaki gibi.\n",
    "\n",
    "class Person:\n",
    "    pass\n",
    "    # attributes\n",
    "    # methods\n",
    "\n",
    "# mesela pass keywordünü şurda kullanalım\n",
    "\n",
    "if a > 10:\n",
    "    pass     # normalde iki noktadan sonra if bloğumda bişey olmazsa hata verir ama\n",
    "             # pass keywordü yer tutucu olarak çalışır ve hata mesajı verilmesini engeller\n"
   ]
  },
  {
   "attachments": {},
   "cell_type": "markdown",
   "metadata": {},
   "source": [
    "* class tanımlamamız tamam. şimdi classtan da bir obje tanımlaması yapıyoruz. Object (insance)"
   ]
  },
  {
   "cell_type": "code",
   "execution_count": 8,
   "metadata": {},
   "outputs": [
    {
     "name": "stdout",
     "output_type": "stream",
     "text": [
      "<__main__.Person object at 0x0000018DB4AFCF10>\n",
      "<__main__.Person object at 0x0000018DB64E1E10>\n",
      "<class '__main__.Person'>\n",
      "<class '__main__.Person'>\n",
      "False\n"
     ]
    }
   ],
   "source": [
    "# class\n",
    "class Person:\n",
    "    pass\n",
    "    # attributes\n",
    "    # methods\n",
    "\n",
    "# object (instance)\n",
    "\n",
    "p1 = Person() # p1 isimli obje tanımladık.\n",
    "              # objeleri küçük harfle başlatıyoruz\n",
    "              # değişken tanımlar gibi\n",
    "              # person objesinden bir classs tanımladık (= in karşısına Person yazarak)\n",
    "              # bu durumda p1 objesi tanımlamış olduk\n",
    "# p1 objesi üzerinden person class'ı üzerinden tanımladığımız attributes, methodlara ulaşabileceğiz.\n",
    "              # şuan bir tanımlamamız yok class ımızın içi boş. bknz: parantez içi boş\n",
    "\n",
    "print(p1)     # TERMİNAL: p1 adlı tanımlı objenin bellek üzerindeki adresi verir\n",
    "              # bir de bu objenin person tipi olduğunu verir\n",
    "\n",
    "p2 = Person() # bir obje daha tanımladık. adı p2 objesi. tipi yine person\n",
    "print(p2)     # TERMİNAL: bu sefer farklı adress verir.\n",
    "# yani p1 ve p2 farklı adreslerde tanımlanmış iki tane objedir ve ikisinin de tipi person.\n",
    "# terminaldeki __main__ ifadesine daha sonra bakıcaz.\n",
    "\n",
    "# peki şimdi bunların tiplerini yazdırırsak?\n",
    "print(type(p1))\n",
    "print(type(p2)) # ikisinin tipi de person tipinde. class ıda söyledi.\n",
    "\n",
    "# eğer şöyle yaparsak\n",
    "print(p1 == p2) # TERMİNAL: false der. çünkü bunlar farklı birer obje\n"
   ]
  },
  {
   "attachments": {},
   "cell_type": "markdown",
   "metadata": {},
   "source": [
    "*   Class içinde tanımlayacağımız attribute 'lar ve method lar var. methodlar bir sonraki derste göreceğiz. attribute tanımlaması burda yapıcaz.\n",
    "\n",
    "* Attribute tanımlamasını hem class seviyesinde yapabiliyoruz **class attributes**, bir de object seviyesinde attribute 'lar tanımlayabiliyoruz, **object attributes**. "
   ]
  },
  {
   "cell_type": "code",
   "execution_count": null,
   "metadata": {},
   "outputs": [],
   "source": [
    "# class\n",
    "class Person:\n",
    "    pass\n",
    "\n",
    "    # class attributes\n",
    "\n",
    "    # object attributes\n",
    "                # object attributes 'ları nasıl tanımlayacağız?\n",
    "                # cevap: bunları constructor içinde tanımlayacağız\n"
   ]
  },
  {
   "attachments": {},
   "cell_type": "markdown",
   "metadata": {},
   "source": [
    "* object attribute 'ları nasıl tanımlayacağız"
   ]
  },
  {
   "cell_type": "code",
   "execution_count": 10,
   "metadata": {},
   "outputs": [
    {
     "ename": "SyntaxError",
     "evalue": "expected ':' (1262644764.py, line 10)",
     "output_type": "error",
     "traceback": [
      "\u001b[1;36m  Cell \u001b[1;32mIn[10], line 10\u001b[1;36m\u001b[0m\n\u001b[1;33m    def __init__()      # init metodu bu:\u001b[0m\n\u001b[1;37m                        ^\u001b[0m\n\u001b[1;31mSyntaxError\u001b[0m\u001b[1;31m:\u001b[0m expected ':'\n"
     ]
    }
   ],
   "source": [
    "# class\n",
    "class Person:\n",
    "    pass\n",
    "\n",
    "    # class attributes\n",
    "\n",
    "    # constructor (yapıcı metod)\n",
    "        # bir constructor tanımlaması yapmak için yapmamız gereken bir metod tanımlaması yapmak.\n",
    "        # bunu def keyword ile yapıyoruz.\n",
    "def __init__()      # init metodu bu:\n",
    "                    # init metodunun parametreleri var\n",
    "def __init__(self)  # self parametre oluyor. self'in anlamı...\n",
    "                    # ...class tan türetmiş olduğumuz p1 veya p2 objesi yani\n",
    "                    # class tan türetilen herhangi bir objeyi temsil ediyor olması\n",
    "            # yani ben obje üzerine herhangi bir değer aktarmak istediğimde self 'i kullanıcam\n",
    "            # ve selfin üzerine hangi attributeleri (özellikleri) eklemek istiyorsam...\n",
    "            #...self ten sonraki parametre olarak belirticez. virgülle ayırıp\n",
    "def __init__(self, name, year): # mesela böyle\n",
    "\n",
    "\n",
    "    # object attributes\n",
    "                # object attributes 'ları nasıl tanımlayacağız?\n",
    "                # cevap: bunları constructor içinde tanımlayacağız\n",
    "\n",
    "                # self parametresi içine yani tanımlanacak olan objeler (bknz: p1,p2) \n",
    "                # ...üzerine ekliycek olduğum object attribute (özellik) ları üzerine kullanıcının \n",
    "                # ...gönderdiği name ve year bilgilerini aktarıcam\n",
    "\n",
    "# peki bunu nasıl yapıcaz?\n",
    "def __init__(self, name, year):\n",
    "    self.name = name    # ikinci name, kullanıcının gönderdiği name bilgisi\n",
    "    self.year = year\n",
    "    print('init metodu çalıştı')"
   ]
  }
 ],
 "metadata": {
  "kernelspec": {
   "display_name": "Python 3",
   "language": "python",
   "name": "python3"
  },
  "language_info": {
   "codemirror_mode": {
    "name": "ipython",
    "version": 3
   },
   "file_extension": ".py",
   "mimetype": "text/x-python",
   "name": "python",
   "nbconvert_exporter": "python",
   "pygments_lexer": "ipython3",
   "version": "3.11.1"
  },
  "orig_nbformat": 4
 },
 "nbformat": 4,
 "nbformat_minor": 2
}
