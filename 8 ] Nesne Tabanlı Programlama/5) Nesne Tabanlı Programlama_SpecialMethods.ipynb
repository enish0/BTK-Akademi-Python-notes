{
 "cells": [
  {
   "attachments": {},
   "cell_type": "markdown",
   "metadata": {},
   "source": [
    "## NESNE TABANLI PROGRAMLAMA: ÖZEL METHODLAR"
   ]
  },
  {
   "cell_type": "code",
   "execution_count": 2,
   "metadata": {},
   "outputs": [
    {
     "name": "stdout",
     "output_type": "stream",
     "text": [
      "3\n",
      "9\n"
     ]
    }
   ],
   "source": [
    "mylist = [1,2,3]\n",
    "myString = 'my string'      \n",
    "\n",
    "print(len(mylist))      # len: listenin uzunluğunu ölçtü\n",
    "print(len(myString))\n",
    "\n",
    "# len metodu her bir obje için farklı çalışıyor sonucunu çıkardık"
   ]
  },
  {
   "cell_type": "code",
   "execution_count": null,
   "metadata": {},
   "outputs": [],
   "source": [
    "class Movie():\n",
    "    pass\n",
    "\n",
    "m = Movie()\n",
    "\n",
    "print(len(m))\n",
    "# terminal hata: movie objesi için len metodunun olmadığını söylüyor "
   ]
  },
  {
   "cell_type": "code",
   "execution_count": 9,
   "metadata": {},
   "outputs": [
    {
     "name": "stdout",
     "output_type": "stream",
     "text": [
      "<class 'list'>\n",
      "<class 'str'>\n",
      "<class '__main__.Movie'>\n"
     ]
    }
   ],
   "source": [
    "# tiplerini öğrenelim yukarıdaki 3 ünün de\n",
    "print(type(mylist))\n",
    "print(type(myString))\n",
    "print(type(m))"
   ]
  },
  {
   "attachments": {},
   "cell_type": "markdown",
   "metadata": {},
   "source": [
    "* üçünün de class olmasına rağmen neden sadece \n",
    "    * print(len(m)) işleminde len metodu nun olmadığı hatasını verdi?\n",
    "\n",
    "        * cevap: \n",
    "            * liste ya da str clası bir built-in classlarıdır. Bunlar python kütüphanesi içinde \n",
    "            * önceden tanımlanmış ve örneğin biz len veya type metodunu bu gibi metodları obje üzerinden\n",
    "            * çağırdığımızda daha önceden tanımlanmış olan bir metodun aslında çalıştırılmasına neden oluyoruz\n",
    "            *  dolayısı ile gelip liste üzerinden len metodunu çağırdığımızda listedeki eleman sayısını, string üzerinden\n",
    "            * çağırdığımızda ise listedeki karakter sayısını ekrana yazdırılıyor. yani ikisinde arakada çalışan bir metodumuz\n",
    "            * var."
   ]
  },
  {
   "attachments": {},
   "cell_type": "markdown",
   "metadata": {},
   "source": [
    "* bu metodları kendi oluşturduğumuz class lara da tanımlayabiliriz"
   ]
  },
  {
   "cell_type": "code",
   "execution_count": 10,
   "metadata": {},
   "outputs": [
    {
     "name": "stdout",
     "output_type": "stream",
     "text": [
      "movie objesi oluşturuldu\n"
     ]
    }
   ],
   "source": [
    "class Movie():\n",
    "    def __init__(self, title, director, duration):   # __ ile başlayan özel metodlardır. ( init te bunlardan biridir)\n",
    "        self.title = title\n",
    "        self.director = director\n",
    "        self.duration = duration\n",
    "        print('movie objesi oluşturuldu')\n",
    "\n",
    "m = Movie('film adı', 'yönetmen adı', 'filmin süresi')\n",
    "\n",
    "\n",
    "\n"
   ]
  },
  {
   "attachments": {},
   "cell_type": "markdown",
   "metadata": {},
   "source": [
    "* başka bir şey yapalım"
   ]
  },
  {
   "cell_type": "code",
   "execution_count": 12,
   "metadata": {},
   "outputs": [
    {
     "name": "stdout",
     "output_type": "stream",
     "text": [
      "movie objesi oluşturuldu\n",
      "[1, 2, 3]\n",
      "<__main__.Movie object at 0x0000014F143A3D90>\n",
      "[1, 2, 3]\n",
      "<__main__.Movie object at 0x0000014F143A3D90>\n"
     ]
    }
   ],
   "source": [
    "mylist = [1, 2, 3]          # eklendi\n",
    "\n",
    "class Movie():\n",
    "    def __init__(self, title, director, duration):  \n",
    "        self.title = title\n",
    "        self.director = director\n",
    "        self.duration = duration\n",
    "        print('movie objesi oluşturuldu')\n",
    "\n",
    "m = Movie('film adı', 'yönetmen adı', 'filmin süresi')\n",
    "\n",
    "print(mylist)   # listenin kendisini yazdı          # eklendi\n",
    "print(m)    # movie objesinin (bence movie 'a ait obje) ram üzerindeki yerini verdi                # eklendi\n",
    "\n",
    "# str ile çevreleyip deneyelim\n",
    "print(str(mylist))\n",
    "print(str(m))\n",
    "        # yine bize aynı sonucu verdi\n",
    "\n",
    "# yani biz bir objeyi print ile veya str ile yazdırdığımıda aslında arka\n",
    "# tarafta çalışan metodumuz     def __str__"
   ]
  },
  {
   "attachments": {},
   "cell_type": "markdown",
   "metadata": {},
   "source": [
    "* def --str-- ekleyelim devam"
   ]
  },
  {
   "cell_type": "code",
   "execution_count": 13,
   "metadata": {},
   "outputs": [
    {
     "name": "stdout",
     "output_type": "stream",
     "text": [
      "movie objesi oluşturuldu\n",
      "[1, 2, 3]\n",
      "film adı by yönetmen adı\n",
      "[1, 2, 3]\n",
      "film adı by yönetmen adı\n"
     ]
    }
   ],
   "source": [
    "mylist = [1, 2, 3]          \n",
    "\n",
    "class Movie():\n",
    "    def __init__(self, title, director, duration):  \n",
    "        self.title = title\n",
    "        self.director = director\n",
    "        self.duration = duration\n",
    "        print('movie objesi oluşturuldu')\n",
    "\n",
    "    def __str__(self):                              # eklendi str metod\n",
    "        return f\"{self.title} by {self.director}\"\n",
    "\n",
    "m = Movie('film adı', 'yönetmen adı', 'filmin süresi')\n",
    "\n",
    "print(mylist)        \n",
    "print(m)   \n",
    "\n",
    "print(str(mylist))\n",
    "print(str(m))           # str methodumuzu eklediğimiz için artık çalışıyor\n",
    "    "
   ]
  },
  {
   "attachments": {},
   "cell_type": "markdown",
   "metadata": {},
   "source": [
    "* bir de len metodu için yapalım"
   ]
  },
  {
   "cell_type": "code",
   "execution_count": 15,
   "metadata": {},
   "outputs": [
    {
     "name": "stdout",
     "output_type": "stream",
     "text": [
      "movie objesi oluşturuldu\n",
      "[1, 2, 3]\n",
      "film adı by yönetmen adı\n",
      "[1, 2, 3]\n",
      "film adı by yönetmen adı\n",
      "3\n",
      "120\n"
     ]
    }
   ],
   "source": [
    "mylist = [1, 2, 3]          \n",
    "\n",
    "class Movie():\n",
    "    def __init__(self, title, director, duration):  \n",
    "        self.title = title\n",
    "        self.director = director\n",
    "        self.duration = duration\n",
    "        print('movie objesi oluşturuldu')\n",
    "\n",
    "    def __str__(self):\n",
    "        return f\"{self.title} by {self.director}\"\n",
    "\n",
    "    def __len__(self):                  # eklendi len metodu\n",
    "        return self.duration\n",
    "\n",
    "m = Movie('film adı', 'yönetmen adı', 120)      # değiştik 120\n",
    "\n",
    "print(mylist)        \n",
    "print(m)   \n",
    "\n",
    "print(str(mylist))\n",
    "print(str(m))           \n",
    "    \n",
    "print(len(mylist))          # eklendi\n",
    "print(len(m))               # eklendi \n",
    "    "
   ]
  },
  {
   "attachments": {},
   "cell_type": "markdown",
   "metadata": {},
   "source": [
    "* yukarıdakinden devam"
   ]
  },
  {
   "cell_type": "code",
   "execution_count": null,
   "metadata": {},
   "outputs": [],
   "source": [
    "mylist = [1, 2, 3]          \n",
    "\n",
    "class Movie():\n",
    "    def __init__(self, title, director, duration):  \n",
    "        self.title = title\n",
    "        self.director = director\n",
    "        self.duration = duration\n",
    "        print('movie objesi oluşturuldu')\n",
    "\n",
    "    def __str__(self):\n",
    "        return f\"{self.title} by {self.director}\"\n",
    "\n",
    "    def __len__(self):                 \n",
    "        return self.duration\n",
    "\n",
    "m = Movie('film adı', 'yönetmen adı', 120)      \n",
    "\n",
    "'''\n",
    "print(mylist)        \n",
    "print(m)   \n",
    "\n",
    "print(str(mylist))\n",
    "print(str(m))           \n",
    "    \n",
    "print(len(mylist))          \n",
    "print(len(m))     \n",
    "'''        \n",
    "\n",
    "del m       # obje silme şeysi\n",
    "\n",
    "print(m)    # terminal : name 'm' is not defined mesajını verir"
   ]
  },
  {
   "attachments": {},
   "cell_type": "markdown",
   "metadata": {},
   "source": [
    "* del metodunun sildiği objenin silindiği mesajını vermek/şekillendirmek için..."
   ]
  },
  {
   "cell_type": "code",
   "execution_count": 18,
   "metadata": {},
   "outputs": [
    {
     "name": "stdout",
     "output_type": "stream",
     "text": [
      "movie objesi oluşturuldu\n",
      "movie silindi\n"
     ]
    },
    {
     "ename": "NameError",
     "evalue": "name 'm' is not defined",
     "output_type": "error",
     "traceback": [
      "\u001b[1;31m---------------------------------------------------------------------------\u001b[0m",
      "\u001b[1;31mNameError\u001b[0m                                 Traceback (most recent call last)",
      "Cell \u001b[1;32mIn[18], line 24\u001b[0m\n\u001b[0;32m     19\u001b[0m m \u001b[39m=\u001b[39m Movie(\u001b[39m'\u001b[39m\u001b[39mfilm adı\u001b[39m\u001b[39m'\u001b[39m, \u001b[39m'\u001b[39m\u001b[39myönetmen adı\u001b[39m\u001b[39m'\u001b[39m, \u001b[39m120\u001b[39m)      \n\u001b[0;32m     22\u001b[0m \u001b[39mdel\u001b[39;00m m       \n\u001b[1;32m---> 24\u001b[0m \u001b[39mprint\u001b[39m(m)    \n",
      "\u001b[1;31mNameError\u001b[0m: name 'm' is not defined"
     ]
    }
   ],
   "source": [
    "mylist = [1, 2, 3]          \n",
    "\n",
    "class Movie():\n",
    "    def __init__(self, title, director, duration):  \n",
    "        self.title = title\n",
    "        self.director = director\n",
    "        self.duration = duration\n",
    "        print('movie objesi oluşturuldu')\n",
    "\n",
    "    def __str__(self):\n",
    "        return f\"{self.title} by {self.director}\"\n",
    "\n",
    "    def __len__(self):                 \n",
    "        return self.duration\n",
    "\n",
    "    def __del__(self):\n",
    "        print('film objesi silindi')              # eklendi\n",
    "\n",
    "m = Movie('film adı', 'yönetmen adı', 120)      \n",
    "\n",
    "\n",
    "del m       \n",
    "\n",
    "print(m)    \n",
    "\n",
    "# movie objesi silindi dedi ama hata mesajını da gösteri"
   ]
  },
  {
   "cell_type": "code",
   "execution_count": 20,
   "metadata": {},
   "outputs": [
    {
     "name": "stdout",
     "output_type": "stream",
     "text": [
      "movie objesi oluşturuldu\n",
      "film objesi silindi\n",
      "film adı by yönetmen adı\n"
     ]
    }
   ],
   "source": [
    "mylist = [1, 2, 3]          \n",
    "\n",
    "class Movie():\n",
    "    def __init__(self, title, director, duration):  \n",
    "        self.title = title\n",
    "        self.director = director\n",
    "        self.duration = duration\n",
    "        print('movie objesi oluşturuldu')\n",
    "\n",
    "    def __str__(self):\n",
    "        return f\"{self.title} by {self.director}\"\n",
    "\n",
    "    def __len__(self):                 \n",
    "        return self.duration\n",
    "\n",
    "    def __del__(self):\n",
    "        print('film objesi silindi')              \n",
    "\n",
    "m = Movie('film adı', 'yönetmen adı', 120)      \n",
    "\n",
    "'''\n",
    "del m       \n",
    "\n",
    "print(m)     bunları yorum satırı yaptık\n",
    "'''\n",
    "print(str(m))\n",
    "\n",
    "\n",
    "# obje sil demesek bile obje kullanılmadığından belli bir süre sonra bellekten siliniyor. o nedenle terminal obje silindi dedi\n"
   ]
  }
 ],
 "metadata": {
  "kernelspec": {
   "display_name": "Python 3",
   "language": "python",
   "name": "python3"
  },
  "language_info": {
   "codemirror_mode": {
    "name": "ipython",
    "version": 3
   },
   "file_extension": ".py",
   "mimetype": "text/x-python",
   "name": "python",
   "nbconvert_exporter": "python",
   "pygments_lexer": "ipython3",
   "version": "3.11.1"
  },
  "orig_nbformat": 4
 },
 "nbformat": 4,
 "nbformat_minor": 2
}
