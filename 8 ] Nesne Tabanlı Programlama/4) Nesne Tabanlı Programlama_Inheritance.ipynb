{
 "cells": [
  {
   "attachments": {},
   "cell_type": "markdown",
   "metadata": {},
   "source": [
    "## NESNE TABANLI PROGRAMLAMA: INHERİTANCE (KALITIM)"
   ]
  },
  {
   "cell_type": "code",
   "execution_count": 4,
   "metadata": {},
   "outputs": [
    {
     "name": "stdout",
     "output_type": "stream",
     "text": [
      "Person created\n",
      "Person created\n"
     ]
    }
   ],
   "source": [
    "# Inheritance (Kalıtım) : Miras alma\n",
    "'''\n",
    " person diye bir classım var ve bunda name , last name gibi bilgiler veya eat(), run() gibi metodlara sahip olsunn\n",
    " ilerleyen aşamada Student isimli bir class tanımlayacak olsam veya teacher isimli,\n",
    " o zaman üstteki person' classının olan görevlerin hepsinin student ve teacher da da olmasını da isterim\n",
    " ve bu persondaki görevleri studentta tekrarlamaktansa, Student ve Teacher ın person dan miras almasını sağlayabilirim\n",
    " \n",
    " Student(Person), Teacher(Person)\n",
    "'''\n",
    "class Person:\n",
    "    def __init__(self):\n",
    "        print('Person created')\n",
    "\n",
    "class Student(Person):\n",
    "    pass\n",
    "\n",
    "p1 = Person()\n",
    "s1 = Student() # student objesini çağırıyor olmamız person' ın init metodunu tekrar çağırmasına neden oldu\n",
    "# çünkü student 'ın bir init metodu yok ve persondan aldı."
   ]
  },
  {
   "cell_type": "code",
   "execution_count": 16,
   "metadata": {},
   "outputs": [
    {
     "name": "stdout",
     "output_type": "stream",
     "text": [
      "Person created\n",
      "Person created\n",
      "Student created\n"
     ]
    }
   ],
   "source": [
    "# peki student'ın bir init metodu olsa?\n",
    "\n",
    "class Person:\n",
    "    def __init__(self):\n",
    "        print('Person created')\n",
    "\n",
    "    class Student(Person):\n",
    "        def __init__(self):\n",
    "            Person.__init__(self)     # Eklendi  bu olmasa student kendi initini çalıştırırdı sadece.\n",
    "            print('Student created')    # Eklendi\n",
    "\n",
    "p1 = Person()\n",
    "s1 = Student()"
   ]
  },
  {
   "cell_type": "code",
   "execution_count": 18,
   "metadata": {},
   "outputs": [
    {
     "name": "stdout",
     "output_type": "stream",
     "text": [
      "Person Created\n",
      "Person Created\n",
      "Student Created\n",
      "Ali Yılmaz\n",
      "Çınar Turan\n"
     ]
    }
   ],
   "source": [
    "class Person():\n",
    "    def __init__(self,fname, lname):\n",
    "        self.firstName = fname\n",
    "        self.lastName = lname\n",
    "        print('Person Created')\n",
    "\n",
    "class Student(Person):\n",
    "    def __init__(self, fname, lname):\n",
    "        Person.__init__(self, fname, lname)\n",
    "        print('Student Created')\n",
    "\n",
    "p1 = Person('Ali','Yılmaz')\n",
    "s1 = Student('Çınar','Turan')\n",
    "\n",
    "print(p1.firstName + ' ' + p1.lastName)\n",
    "print(s1.firstName + ' ' + s1.lastName)"
   ]
  },
  {
   "attachments": {},
   "cell_type": "markdown",
   "metadata": {},
   "source": [
    "* kendi örneğim"
   ]
  },
  {
   "cell_type": "code",
   "execution_count": 33,
   "metadata": {},
   "outputs": [
    {
     "name": "stdout",
     "output_type": "stream",
     "text": [
      "Planet Created\n",
      "Planet Created\n",
      "Moon Created\n",
      "mars yerçekimi : 3\n",
      "mars çapı : 3389\n"
     ]
    }
   ],
   "source": [
    "class Planet():\n",
    "    pi = 3.14\n",
    "    def __init__(self, gravity, yaricap):\n",
    "        self.gravity = gravity\n",
    "        self.yaricap = yaricap\n",
    "        print('Planet Created')\n",
    "\n",
    "    def cap_hesapla(self):\n",
    "        return self.yaricap * self.yaricap\n",
    "\n",
    "class Moon(Planet):\n",
    "    def __init__(self, gravity, yaricap):\n",
    "        Planet.__init__(self, gravity, yaricap)\n",
    "        print('Moon Created')\n",
    "\n",
    "mars = Planet(3, 3389)\n",
    "enceladus = Moon(1, 1737)\n",
    "\n",
    "print(f'mars yerçekimi : {mars.gravity}')\n",
    "print(f'mars çapı : {mars.yaricap}')"
   ]
  },
  {
   "attachments": {},
   "cell_type": "markdown",
   "metadata": {},
   "source": [
    "* başka bir kendi örneğim"
   ]
  },
  {
   "cell_type": "code",
   "execution_count": 8,
   "metadata": {},
   "outputs": [
    {
     "name": "stdout",
     "output_type": "stream",
     "text": [
      "Vehicle class created\n",
      "Vehicle class created\n",
      "Plane class created\n",
      "ihaleler        fiyat       renk        ağırlık\n",
      "Lamborghini:    $ 200       orange      1625 kg\n",
      "PassengerPlane: $ 100.000   white       152.9 tons\n"
     ]
    }
   ],
   "source": [
    "class Vehicle():\n",
    "    wheel_air = 38.5\n",
    "    def __init__(self, price, color, weight):\n",
    "        self.price = price\n",
    "        self.color = color\n",
    "        self.weight = weight\n",
    "        print('Vehicle class created')\n",
    "\n",
    "class Plane(Vehicle):\n",
    "    def __init__(self, price, color, weight):\n",
    "        Vehicle.__init__(self, price, color, weight)\n",
    "        print('Plane class created')\n",
    "\n",
    "Lamborghini = Vehicle('$ 200', 'orange', '1625 kg')\n",
    "Passenger_Plane = Plane('$ 100.000', 'white', '152.9 tons')\n",
    "\n",
    "print(f'ihaleler        fiyat       renk        ağırlık\\nLamborghini:    {Lamborghini.price}       {Lamborghini.color}      {Lamborghini.weight}\\nPassengerPlane: {Passenger_Plane.price}   {Passenger_Plane.color}       {Passenger_Plane.weight}')\n"
   ]
  },
  {
   "cell_type": "code",
   "execution_count": 9,
   "metadata": {},
   "outputs": [
    {
     "name": "stdout",
     "output_type": "stream",
     "text": [
      "Vehicle class created\n",
      "Vehicle class created\n",
      "Plane class created\n",
      "ihaleler        fiyat       renk        ağırlık\n",
      "Lamborghini:    $ 200       orange      1625 kg\n",
      "PassengerPlane: $ 100.000   white       152.9 tons\n",
      "I am a Person\n",
      "I am a Person\n"
     ]
    }
   ],
   "source": [
    "# who am I fonksiyonu ekleyelim bakalım ne olacak\n",
    "class Vehicle():\n",
    "    wheel_air = 38.5\n",
    "    def __init__(self, price, color, weight):\n",
    "        self.price = price\n",
    "        self.color = color\n",
    "        self.weight = weight\n",
    "        print('Vehicle class created')\n",
    "    def who_am_i(self):                     # fonks eklendi\n",
    "        print('I am a Personnnnn')\n",
    "\n",
    "class Plane(Vehicle):\n",
    "    def __init__(self, price, color, weight):\n",
    "        Vehicle.__init__(self, price, color, weight)\n",
    "        print('Plane class created')\n",
    "\n",
    "Lamborghini = Vehicle('$ 200', 'orange', '1625 kg')\n",
    "Passenger_Plane = Plane('$ 100.000', 'white', '152.9 tons')\n",
    "\n",
    "print(f'ihaleler        fiyat       renk        ağırlık\\nLamborghini:    {Lamborghini.price}       {Lamborghini.color}      {Lamborghini.weight}\\nPassengerPlane: {Passenger_Plane.price}   {Passenger_Plane.color}       {Passenger_Plane.weight}')\n",
    "\n",
    "# eklendi ⇲\n",
    "Lamborghini.who_am_i()\n",
    "Passenger_Plane.who_am_i()\n",
    "\n",
    "# Plane class who am I fonksiyonuna sahip olmamasına rağmen who am I a geçiş yapabildi."
   ]
  },
  {
   "cell_type": "code",
   "execution_count": 10,
   "metadata": {},
   "outputs": [
    {
     "name": "stdout",
     "output_type": "stream",
     "text": [
      "Vehicle class created\n",
      "Vehicle class created\n",
      "Plane class created\n",
      "ihaleler        fiyat       renk        ağırlık\n",
      "Lamborghini:    $ 200       orange      1625 kg\n",
      "PassengerPlane: $ 100.000   white       152.9 tons\n",
      "I am a Person\n",
      "I am a Person\n",
      "I am eating\n",
      "I am eating\n"
     ]
    }
   ],
   "source": [
    "# eat() fonks ekleyelim bakalımne olacak\n",
    "class Vehicle():\n",
    "    wheel_air = 38.5\n",
    "    def __init__(self, price, color, weight):\n",
    "        self.price = price\n",
    "        self.color = color\n",
    "        self.weight = weight\n",
    "        print('Vehicle class created')\n",
    "\n",
    "    def who_am_i(self):                     \n",
    "        print('I am a Personnnn')\n",
    "\n",
    "    def eat(self):                    # eat fonks eklendi\n",
    "        print('I am eating')\n",
    "    \n",
    "\n",
    "class Plane(Vehicle):\n",
    "    def __init__(self, price, color, weight):\n",
    "        Vehicle.__init__(self, price, color, weight)\n",
    "        print('Plane class created')\n",
    "\n",
    "Lamborghini = Vehicle('$ 200', 'orange', '1625 kg')\n",
    "Passenger_Plane = Plane('$ 100.000', 'white', '152.9 tons')\n",
    "\n",
    "print(f'ihaleler        fiyat       renk        ağırlık\\nLamborghini:    {Lamborghini.price}       {Lamborghini.color}      {Lamborghini.weight}\\nPassengerPlane: {Passenger_Plane.price}   {Passenger_Plane.color}       {Passenger_Plane.weight}')\n",
    "\n",
    "\n",
    "Lamborghini.who_am_i()\n",
    "Passenger_Plane.who_am_i()\n",
    "'''Plane class who am I fonksiyonuna sahip olmamasına rağmen who am I a geçiş yapabildi. Çünkü Vehicle classına bağlı Plane classı'''\n",
    "\n",
    "# eklendi ⇲\n",
    "Lamborghini.eat()\n",
    "Passenger_Plane.eat()\n",
    "\n"
   ]
  },
  {
   "attachments": {},
   "cell_type": "markdown",
   "metadata": {},
   "source": [
    "* **override olayı** : aşağıdaki örnekteki gibi eğer who am I fonksiyonunu Plane clasının altında bir fonksiyon olarak yazarsak, çalıştırınca vehicle sınıfındaki aynı( who am I) fonks unu çalıştırır çünkü aynı fonksiyondan plane clasının bağlı olduğu vehicle classında zaten var ve o classın sözü geçer gibi birşey . buna override olayı denir."
   ]
  },
  {
   "cell_type": "code",
   "execution_count": 2,
   "metadata": {},
   "outputs": [
    {
     "name": "stdout",
     "output_type": "stream",
     "text": [
      "Vehicle class created\n",
      "Vehicle class created\n",
      "Plane class created\n",
      "ihaleler        fiyat       renk        ağırlık\n",
      "Lamborghini:    $ 200       orange      1625 kg\n",
      "PassengerPlane: $ 100.000   white       152.9 tons\n",
      "I am a Vehicle\n",
      "I am a plane\n",
      "I am eating\n"
     ]
    }
   ],
   "source": [
    "# eat() fonks ekleyelim bakalımne olacak\n",
    "class Vehicle():\n",
    "    wheel_air = 38.5\n",
    "    def __init__(self, price, color, weight):\n",
    "        self.price = price\n",
    "        self.color = color\n",
    "        self.weight = weight\n",
    "        print('Vehicle class created')\n",
    "\n",
    "    def who_am_i(self):                     \n",
    "        print('I am a Vehicle')\n",
    "\n",
    "    def eat(self):                    # eat fonks eklendi\n",
    "        print('I am eating')\n",
    "    \n",
    "\n",
    "class Plane(Vehicle):\n",
    "    def __init__(self, price, color, weight):\n",
    "        Vehicle.__init__(self, price, color, weight)\n",
    "        print('Plane class created')\n",
    "    \n",
    "    def who_am_i(self):\n",
    "        print(\"I am a plane\")\n",
    "\n",
    "Lamborghini = Vehicle('$ 200', 'orange', '1625 kg')   \n",
    "Passenger_Plane = Plane('$ 100.000', 'white', '152.9 tons')\n",
    "\n",
    "print(f'ihaleler        fiyat       renk        ağırlık\\nLamborghini:    {Lamborghini.price}       {Lamborghini.color}      {Lamborghini.weight}\\nPassengerPlane: {Passenger_Plane.price}   {Passenger_Plane.color}       {Passenger_Plane.weight}')\n",
    "\n",
    "\n",
    "Lamborghini.who_am_i()\n",
    "Passenger_Plane.who_am_i()\n",
    "'''Plane class who am I fonksiyonuna sahip olmamasına rağmen who am I a geçiş yapabildi. Çünkü Vehicle classına bağlı Plane classı'''\n",
    "\n",
    "# eklendi ⇲\n",
    "'''Lamborghini.eat()'''\n",
    "Passenger_Plane.eat()\n",
    "\n"
   ]
  },
  {
   "attachments": {},
   "cell_type": "markdown",
   "metadata": {},
   "source": [
    "* VİDEO NOTLARINA DEVAM"
   ]
  },
  {
   "cell_type": "code",
   "execution_count": 28,
   "metadata": {},
   "outputs": [
    {
     "name": "stdout",
     "output_type": "stream",
     "text": [
      "Person Created\n",
      "Person Created\n",
      "Student Created\n",
      "Ali Yılmaz\n",
      "Çınar Turan\n",
      "p1  who_am_i()\n",
      "I am a Person\n",
      "s1 who_am_i()\n",
      "I am a Student\n",
      "p1 eat()\n",
      "I am eating(person)\n",
      "s1 eat()\n",
      "I am eating(person)\n"
     ]
    }
   ],
   "source": [
    "# override olayı\n",
    "class Person():\n",
    "    def __init__(self, fname, lname):\n",
    "        self.firstname = fname\n",
    "        self.lastname = lname\n",
    "        print('Person Created')\n",
    "\n",
    "    def who_am_i(self):\n",
    "        print('I am a Person')\n",
    "\n",
    "    def eat(self):\n",
    "        print('I am eating(person)')\n",
    "\n",
    "\n",
    "class Student(Person):\n",
    "    def __init__(self, fname, lname):\n",
    "        Person.__init__(self, fname, lname)\n",
    "        print('Student Created')\n",
    "\n",
    "    def who_am_i(self):\n",
    "        print('I am a Student')\n",
    "\n",
    "p1 = Person('Ali', 'Yılmaz')\n",
    "s1 = Student('Çınar', 'Turan')\n",
    "\n",
    "print(p1.firstname + ' ' + p1.lastname)\n",
    "print(s1.firstname + ' ' + s1.lastname)\n",
    "\n",
    "print('p1  who_am_i()')\n",
    "p1.who_am_i()\n",
    "print('s1 who_am_i()')\n",
    "s1.who_am_i()\n",
    "print('p1 eat()')\n",
    "p1.eat()\n",
    "print('s1 eat()')\n",
    "s1.eat()\n"
   ]
  },
  {
   "cell_type": "code",
   "execution_count": 10,
   "metadata": {},
   "outputs": [
    {
     "name": "stdout",
     "output_type": "stream",
     "text": [
      "Person Created\n",
      "Person Created\n",
      "Student Created\n",
      "Ali Yılmaz\n",
      "Çınar Turan 1256\n",
      "p1  who_am_i()\n",
      "I am a Person\n",
      "s1 who_am_i()\n",
      "I am a Student\n",
      "p1 eat()\n",
      "I am eating(person)\n",
      "s1 eat()\n",
      "I am eating(person)\n"
     ]
    }
   ],
   "source": [
    "# person sınıfında olmayıp, student sınıfına özel özellik nasıl ekliycez\n",
    "# override olayı\n",
    "class Person():\n",
    "    def __init__(self, fname, lname):\n",
    "        self.firstname = fname\n",
    "        self.lastname = lname\n",
    "        print('Person Created')\n",
    "\n",
    "    def who_am_i(self):\n",
    "        print('I am a Person')\n",
    "\n",
    "    def eat(self):\n",
    "        print('I am eating(person)')\n",
    "\n",
    "\n",
    "class Student(Person):\n",
    "    def __init__(self, fname, lname, number):   # eklendi: number\n",
    "        Person.__init__(self, fname, lname)\n",
    "        self.studentnumber = number             # eklendi\n",
    "        print('Student Created')\n",
    "    # override\n",
    "    def who_am_i(self):\n",
    "        print('I am a Student')\n",
    "\n",
    "p1 = Person('Ali', 'Yılmaz')\n",
    "s1 = Student('Çınar', 'Turan', 1256)            # eklendi: 1256\n",
    "\n",
    "print(p1.firstname + ' ' + p1.lastname)\n",
    "print(s1.firstname + ' ' + s1.lastname + ' ' + str(s1.studentnumber))\n",
    "\n",
    "print('p1  who_am_i()')\n",
    "p1.who_am_i()\n",
    "print('s1 who_am_i()')\n",
    "s1.who_am_i()\n",
    "print('p1 eat()')\n",
    "p1.eat()\n",
    "print('s1 eat()')\n",
    "s1.eat()\n"
   ]
  },
  {
   "cell_type": "code",
   "execution_count": 9,
   "metadata": {},
   "outputs": [
    {
     "name": "stdout",
     "output_type": "stream",
     "text": [
      "Person Created\n",
      "Person Created\n",
      "Student Created\n",
      "Ali Yılmaz\n",
      "Çınar Turan 1256\n",
      "p1  who_am_i()\n",
      "I am a Person\n",
      "s1 who_am_i()\n",
      "I am a Student\n",
      "p1 eat()\n",
      "I am eating(person)\n",
      "s1 eat()\n",
      "I am eating(person)\n",
      "Hello I am a student\n"
     ]
    }
   ],
   "source": [
    "# başka bir fonksiyon ekliyoruz\n",
    "# override olayı\n",
    "class Person():\n",
    "    def __init__(self, fname, lname):\n",
    "        self.firstname = fname\n",
    "        self.lastname = lname\n",
    "        print('Person Created')\n",
    "\n",
    "    def who_am_i(self):\n",
    "        print('I am a Person')\n",
    "\n",
    "    def eat(self):\n",
    "        print('I am eating(person)')\n",
    "\n",
    "\n",
    "class Student(Person):\n",
    "    def __init__(self, fname, lname, number):   \n",
    "        Person.__init__(self, fname, lname)\n",
    "        self.studentnumber = number             \n",
    "        print('Student Created')\n",
    "    # override\n",
    "    def who_am_i(self):\n",
    "        print('I am a Student')\n",
    "    \n",
    "    def sayHello(self):                             # eklendi: sayhello()\n",
    "        print('Hello I am a student')\n",
    "\n",
    "p1 = Person('Ali', 'Yılmaz')\n",
    "s1 = Student('Çınar', 'Turan', 1256)            \n",
    "\n",
    "print(p1.firstname + ' ' + p1.lastname)\n",
    "print(s1.firstname + ' ' + s1.lastname + ' ' + str(s1.studentnumber))\n",
    "\n",
    "print('p1  who_am_i()')\n",
    "p1.who_am_i()\n",
    "print('s1 who_am_i()')\n",
    "s1.who_am_i()\n",
    "print('p1 eat()')\n",
    "p1.eat()\n",
    "print('s1 eat()')\n",
    "s1.eat()\n",
    "s1.sayHello()                                       # eklendi\n"
   ]
  },
  {
   "cell_type": "code",
   "execution_count": 12,
   "metadata": {},
   "outputs": [
    {
     "name": "stdout",
     "output_type": "stream",
     "text": [
      "Person Created\n",
      "Person Created\n",
      "Student Created\n",
      "Person Created\n",
      "Person Created\n",
      "I am a Math teacher\n",
      "Ali Yılmaz\n",
      "Çınar Turan 1256\n",
      "p1  who_am_i()\n",
      "I am a Person\n",
      "s1 who_am_i()\n",
      "I am a Student\n",
      "p1 eat()\n",
      "I am eating(person)\n",
      "s1 eat()\n",
      "I am eating(person)\n",
      "Hello I am a student\n"
     ]
    }
   ],
   "source": [
    "# teacherisimli bir yine persona bağlı bir sınıf oluşturuyoruz\n",
    "\n",
    "class Person():\n",
    "    def __init__(self, fname, lname):\n",
    "        self.firstname = fname\n",
    "        self.lastname = lname\n",
    "        print('Person Created')\n",
    "\n",
    "    def who_am_i(self):\n",
    "        print('I am a Person')\n",
    "\n",
    "    def eat(self):\n",
    "        print('I am eating(person)')\n",
    "\n",
    "\n",
    "class Student(Person):\n",
    "    def __init__(self, fname, lname, number):   \n",
    "        Person.__init__(self, fname, lname)\n",
    "        self.studentnumber = number             \n",
    "        print('Student Created')\n",
    "    # override\n",
    "    def who_am_i(self):\n",
    "        print('I am a Student')\n",
    "    \n",
    "    def sayHello(self):                            \n",
    "        print('Hello I am a student')\n",
    "\n",
    "class Teacher(Person):\n",
    "    def __init__(self, fname, lname, branch):   # bir de branş bilgisi ekleyelim dedik\n",
    "        Person.__init__(self, fname, lname)\n",
    "        # bir üst satırın alternatifi ⇲\n",
    "        super().__init__(fname, lname)   # person yerine super() koyunca self koymaya da gerek kalmıyor\n",
    "        self.branch = branch\n",
    "\n",
    "    def who_am_i(self):             # elimiz değmişken buna da bir whoami() metodunu tanımladık\n",
    "        print(f'I am a {self.branch} teacher')\n",
    "\n",
    "p1 = Person('Ali', 'Yılmaz')\n",
    "s1 = Student('Çınar', 'Turan', 1256)            \n",
    "t1 = Teacher('Serhat', 'Semer', 'Math')                # teacher nesnemizi de eklemeyi unutmadık\n",
    "\n",
    "\n",
    "t1.who_am_i()                               # who_am_i() metodunu çağırdık\n",
    "\n",
    "print(p1.firstname + ' ' + p1.lastname)\n",
    "print(s1.firstname + ' ' + s1.lastname + ' ' + str(s1.studentnumber))\n",
    "\n",
    "print('p1  who_am_i()')\n",
    "p1.who_am_i()\n",
    "print('s1 who_am_i()')\n",
    "s1.who_am_i()\n",
    "print('p1 eat()')\n",
    "p1.eat()\n",
    "print('s1 eat()')\n",
    "s1.eat()\n",
    "s1.sayHello()                                       \n"
   ]
  }
 ],
 "metadata": {
  "kernelspec": {
   "display_name": "Python 3",
   "language": "python",
   "name": "python3"
  },
  "language_info": {
   "codemirror_mode": {
    "name": "ipython",
    "version": 3
   },
   "file_extension": ".py",
   "mimetype": "text/x-python",
   "name": "python",
   "nbconvert_exporter": "python",
   "pygments_lexer": "ipython3",
   "version": "3.11.1"
  },
  "orig_nbformat": 4
 },
 "nbformat": 4,
 "nbformat_minor": 2
}
