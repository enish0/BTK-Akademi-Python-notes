{
 "cells": [
  {
   "attachments": {},
   "cell_type": "markdown",
   "metadata": {},
   "source": [
    "## NESNE TABANLI PROGRAMLAMA NEDİR"
   ]
  },
  {
   "attachments": {},
   "cell_type": "markdown",
   "metadata": {},
   "source": [
    "#### Object Oriented Programming (OOP): nesne tabanlı programlama\n"
   ]
  },
  {
   "cell_type": "code",
   "execution_count": 1,
   "metadata": {},
   "outputs": [],
   "source": [
    "# class     biz kendi class larımızı oluşturabiliriz\n",
    "#      örnek:     person (name, surname, birthday, calculateAge())\n",
    "\n",
    "\n",
    "# instance (object)\n",
    "#        örnek: yukarıdaki class ın veri eklenmiş kopyalı hali oluyor\n",
    "#               Mehmet (mehmet, durmuş, 2002, 20)\n",
    "#           bir nevi class ın kopyası olmuş deniliyor bunlara"
   ]
  }
 ],
 "metadata": {
  "kernelspec": {
   "display_name": "Python 3",
   "language": "python",
   "name": "python3"
  },
  "language_info": {
   "codemirror_mode": {
    "name": "ipython",
    "version": 3
   },
   "file_extension": ".py",
   "mimetype": "text/x-python",
   "name": "python",
   "nbconvert_exporter": "python",
   "pygments_lexer": "ipython3",
   "version": "3.11.1"
  },
  "orig_nbformat": 4
 },
 "nbformat": 4,
 "nbformat_minor": 2
}
