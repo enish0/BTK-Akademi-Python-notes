{
 "cells": [
  {
   "attachments": {},
   "cell_type": "markdown",
   "metadata": {},
   "source": [
    "## NESNE TABANLI PROGRAMLAMA: **METHOD**"
   ]
  },
  {
   "cell_type": "code",
   "execution_count": 4,
   "metadata": {},
   "outputs": [
    {
     "name": "stdout",
     "output_type": "stream",
     "text": [
      "Helo There\n",
      "yaşım: 33\n",
      "adım: ali ve yaşım: 33\n",
      "adım: yağmur ve yaşım: 28\n"
     ]
    }
   ],
   "source": [
    "# class\n",
    "class Person:\n",
    "    # class attributes\n",
    "    address = 'no information'\n",
    "\n",
    "    # constructor (yapıcı metod)\n",
    "    def __init__(self, name, year):\n",
    "\n",
    "        # object attributes\n",
    "        self.name = name\n",
    "        self.year = year\n",
    "\n",
    "    # methods\n",
    "    def intro(self):\n",
    "        print('Helo There')\n",
    "    \n",
    "    def calculateAge(self):\n",
    "        return 2023 - self.year\n",
    "    \n",
    "\n",
    "\n",
    "# object (instance)\n",
    "p1 = Person(name='ali', year= 1990)\n",
    "p2 = Person(name='yağmur', year = 1995)\n",
    "\n",
    "p1.intro() # p1 nesnesi üzerinden intro metodunu çağırırsak ve bunu çalıştırmaya kalkarsak hata allırız.\n",
    "# def intro() içine self koyduk ve öyle çalıştı\n",
    "\n",
    "print(f'yaşım: {p1.calculateAge()}')\n",
    "print(f'adım: {p1.name} ve yaşım: {p1.calculateAge()}')\n",
    "print(f'adım: {p2.name} ve yaşım: {p2.calculateAge()}')"
   ]
  },
  {
   "attachments": {},
   "cell_type": "markdown",
   "metadata": {},
   "source": [
    "* Mevzuyu kavramaya başladığım kısım"
   ]
  },
  {
   "cell_type": "code",
   "execution_count": 6,
   "metadata": {},
   "outputs": [
    {
     "name": "stdout",
     "output_type": "stream",
     "text": [
      "c1 : alan = 3.14 çevre = 7.28\n",
      "c2 : alan = 78.5 çevre = 11.280000000000001\n"
     ]
    }
   ],
   "source": [
    "class Circle:\n",
    "    #Class object attribute\n",
    "    pi = 3.14\n",
    "\n",
    "    def __init__(self, yaricap=1):\n",
    "        self.yaricap = yaricap\n",
    "\n",
    "    # Methods\n",
    "    def cevre_hesapla(self):\n",
    "        return 2 * self.pi + self.yaricap\n",
    "    \n",
    "    def alan_hesapla(self):\n",
    "        return self.pi * (self.yaricap**2)\n",
    "\n",
    "c1 = Circle() # yarıçap yazmazsak r = 1 olsun dedik yukarda\n",
    "c2 = Circle(5)\n",
    "\n",
    "print(f'c1 : alan = {c1.alan_hesapla()} çevre = {c1.cevre_hesapla()}')\n",
    "print(f'c2 : alan = {c2.alan_hesapla()} çevre = {c2.cevre_hesapla()}')"
   ]
  },
  {
   "attachments": {},
   "cell_type": "markdown",
   "metadata": {},
   "source": [
    "* kendi örneğim"
   ]
  },
  {
   "cell_type": "code",
   "execution_count": 16,
   "metadata": {},
   "outputs": [
    {
     "name": "stdout",
     "output_type": "stream",
     "text": [
      "karenin çevresi : 4 , karenin alanı = 1\n",
      "karenin çevresi : 20 , karenin alanı = 25\n"
     ]
    }
   ],
   "source": [
    "class Square:\n",
    "    def __init__(self, kenar=1):\n",
    "        self.kenar = kenar\n",
    "\n",
    "    def alan_hesapla(self):\n",
    "        return self.kenar * self.kenar\n",
    "    \n",
    "    def cevre_hesapla(self):\n",
    "        return 4 * self.kenar\n",
    "        \n",
    "s1 = Square()\n",
    "s2 = Square(5)\n",
    "\n",
    "print(f'karenin çevresi : {s1.cevre_hesapla()} , karenin alanı = {s1.alan_hesapla()}')\n",
    "print(f'karenin çevresi : {s2.cevre_hesapla()} , karenin alanı = {s2.alan_hesapla()}')"
   ]
  }
 ],
 "metadata": {
  "kernelspec": {
   "display_name": "Python 3",
   "language": "python",
   "name": "python3"
  },
  "language_info": {
   "codemirror_mode": {
    "name": "ipython",
    "version": 3
   },
   "file_extension": ".py",
   "mimetype": "text/x-python",
   "name": "python",
   "nbconvert_exporter": "python",
   "pygments_lexer": "ipython3",
   "version": "3.11.1"
  },
  "orig_nbformat": 4
 },
 "nbformat": 4,
 "nbformat_minor": 2
}
