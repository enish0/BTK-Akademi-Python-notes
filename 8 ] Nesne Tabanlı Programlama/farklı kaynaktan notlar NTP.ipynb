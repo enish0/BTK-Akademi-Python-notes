{
 "cells": [
  {
   "attachments": {},
   "cell_type": "markdown",
   "metadata": {},
   "source": [
    "## farklı kaynaktan NESNE TABANLI PROGRAMLAMA"
   ]
  },
  {
   "cell_type": "code",
   "execution_count": 3,
   "metadata": {},
   "outputs": [
    {
     "name": "stdout",
     "output_type": "stream",
     "text": [
      "Ali Duran 20\n",
      "Ahmet Durmaz 25\n"
     ]
    }
   ],
   "source": [
    "# Sınıf ve örnek kavramları (class and instance)\n",
    "# Class oluşturma\n",
    "# özellik ve metotlar ( attributes and methods)\n",
    "\n",
    "class calisan:\n",
    "    def __init__(self,name,surname,age):\n",
    "\n",
    "        self.name = name\n",
    "        self.surname = surname\n",
    "        self.age = age\n",
    "\n",
    "calisan1 = calisan(\"Ali\",\"Duran\",\"20\")\n",
    "print(calisan1.name,calisan1.surname,calisan1.age)\n",
    "\n",
    "calisan2 = calisan(\"Ahmet\",\"Durmaz\",\"25\")\n",
    "print(calisan2.name,calisan2.surname,calisan2.age)\n"
   ]
  },
  {
   "attachments": {},
   "cell_type": "markdown",
   "metadata": {},
   "source": [
    "* bir de bu class'ımıza method eklemek istersek. not: class'a bağlı fonksiyonlara metod denir."
   ]
  },
  {
   "cell_type": "code",
   "execution_count": 6,
   "metadata": {},
   "outputs": [
    {
     "name": "stdout",
     "output_type": "stream",
     "text": [
      "Ali Duran 20\n",
      "Ahmet Durmaz 25\n",
      "Ad:Ali Soyad: Duran Yaş: 20\n",
      "Ad:Ahmet Soyad: Durmaz Yaş: 25\n",
      "Ad:Ali Soyad: Duran Yaş: 20\n"
     ]
    }
   ],
   "source": [
    "class calisan:\n",
    "    def __init__(self,name,surname,age):\n",
    "        self.name = name\n",
    "        self.surname = surname\n",
    "        self.age = age\n",
    "    def show_info(self):    # Eklendi\n",
    "        print(f\"Ad:{self.name} Soyad: {self.surname} Yaş: {self.age}\")  # Eklendi\n",
    "\n",
    "calisan1 = calisan(\"Ali\",\"Duran\",\"20\")\n",
    "print(calisan1.name,calisan1.surname,calisan1.age)\n",
    "\n",
    "calisan2 = calisan(\"Ahmet\",\"Durmaz\",\"25\")\n",
    "print(calisan2.name,calisan2.surname,calisan2.age)\n",
    "\n",
    "\n",
    "calisan1.show_info()    # Eklendi\n",
    "calisan2.show_info()    # Eklendi\n",
    "\n",
    "# genel kullanım bu şekilde olmamakla beraber aşağıdaki bibi de çağırma yöntemi de var.\n",
    "calisan.show_info(calisan1)"
   ]
  }
 ],
 "metadata": {
  "kernelspec": {
   "display_name": "Python 3",
   "language": "python",
   "name": "python3"
  },
  "language_info": {
   "codemirror_mode": {
    "name": "ipython",
    "version": 3
   },
   "file_extension": ".py",
   "mimetype": "text/x-python",
   "name": "python",
   "nbconvert_exporter": "python",
   "pygments_lexer": "ipython3",
   "version": "3.11.1"
  },
  "orig_nbformat": 4
 },
 "nbformat": 4,
 "nbformat_minor": 2
}
