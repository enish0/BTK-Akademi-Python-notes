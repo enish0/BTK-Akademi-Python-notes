{
 "cells": [
  {
   "attachments": {},
   "cell_type": "markdown",
   "metadata": {},
   "source": [
    "## PYTHON 'DA DOSYA AÇMA VE YAZMA"
   ]
  },
  {
   "attachments": {},
   "cell_type": "markdown",
   "metadata": {},
   "source": [
    "* Dosya açmak ve oluşturmak için open() fonksiyonu kullanılır.\n",
    "\n",
    "Kullanımı: open(dosya_adi, dosya_erişme_modu)\n",
    "\n",
    "ikinci parametredeki dosya erişme modu --> dosyayı hangi amaçla açtığımızı belirler\n",
    "\n",
    "       ''w'' : (Write) yazma modu. Dosyayı konumda oluşturur.\n",
    "              not: w daha önce içinde olan bilgiyi silip öyle bir şey yazar\n",
    "       ''a'' : (Append) ekleme. Dosya konumda yoksa oluşturur.\n",
    "              not: a daha önce içinde olan bilgiyi silmez üstüne ekler\n",
    "       ''x'' : (Create) oluşturma. Dosya zaten var ise hata verir.\n",
    "       ''r'' : (Read) okuma. varsayılan. Dosya konumda yoksa hata verir. "
   ]
  },
  {
   "cell_type": "code",
   "execution_count": null,
   "metadata": {},
   "outputs": [],
   "source": [
    "result = open(\"newfile.text\", \"w\")\n",
    "print(result)       # neden result falan yaptık. çünkü bu şimdi bir obje gibi düşün . resutl üzerinden yapıcam dosya ile alakalı işlemleri"
   ]
  },
  {
   "attachments": {},
   "cell_type": "markdown",
   "metadata": {},
   "source": [
    "* result yerine file yazıp devam"
   ]
  },
  {
   "cell_type": "code",
   "execution_count": 11,
   "metadata": {},
   "outputs": [
    {
     "name": "stdout",
     "output_type": "stream",
     "text": [
      "<_io.TextIOWrapper name='newfile2.text' mode='w' encoding='cp1254'>\n"
     ]
    }
   ],
   "source": [
    "file = open(\"newfile2.text\", \"w\")\n",
    "print(file)\n",
    "\n",
    "file.close()        # dosyayı kapattık"
   ]
  },
  {
   "attachments": {},
   "cell_type": "markdown",
   "metadata": {},
   "source": [
    "* farklı bir konumda dosya nasıl oluşturulur"
   ]
  },
  {
   "cell_type": "code",
   "execution_count": 13,
   "metadata": {},
   "outputs": [
    {
     "name": "stdout",
     "output_type": "stream",
     "text": [
      "<_io.TextIOWrapper name='C:/users/Yasin/Desktop/newfile3.text' mode='w' encoding='cp1254'>\n"
     ]
    },
    {
     "data": {
      "text/plain": [
       "<function TextIOWrapper.close()>"
      ]
     },
     "execution_count": 13,
     "metadata": {},
     "output_type": "execute_result"
    }
   ],
   "source": [
    "file = open(\"C:/users/Yasin/Desktop/newfile3.text\", \"w\")\n",
    "print(file)\n",
    "\n",
    "# masaüstünde oluşturduk dosyayı bu sefer\n",
    "file.close"
   ]
  },
  {
   "attachments": {},
   "cell_type": "markdown",
   "metadata": {},
   "source": [
    "* dosya içine bir bilgi nasıl yazıcaz?"
   ]
  },
  {
   "cell_type": "code",
   "execution_count": 7,
   "metadata": {},
   "outputs": [],
   "source": [
    "file = open(\"newfile.txt\", \"w\")\n",
    "file.write(\"Sadık Turan\")\n",
    "file.close()\n",
    "# daha önce ne varsa silip sadık turan bilgisini dosyaya yazdı"
   ]
  },
  {
   "attachments": {},
   "cell_type": "markdown",
   "metadata": {},
   "source": [
    "* açtığımız dosyanın karakter kodlamasını türkçe karakterleri tanıyacak şekilde kodlayalım"
   ]
  },
  {
   "cell_type": "code",
   "execution_count": 8,
   "metadata": {},
   "outputs": [],
   "source": [
    "file = open(\"newfile.txt\", \"w\", encoding='utf-8')   # endoding='utf-8' eklendi\n",
    "file.write(\"Sadık Turan\")\n",
    "file.close()\n"
   ]
  },
  {
   "cell_type": "code",
   "execution_count": 9,
   "metadata": {},
   "outputs": [],
   "source": [
    "file = open(\"newfile.txt\", \"w\", encoding='utf-8')\n",
    "'''\n",
    "file.write(\"Sadık Turan\")           yorum satırı yaparsak ne olur?\n",
    "'''\n",
    "file.close()        \n",
    "# içindeki tüm bilgiler silinir"
   ]
  },
  {
   "attachments": {},
   "cell_type": "markdown",
   "metadata": {},
   "source": [
    "            \"a\" modu"
   ]
  },
  {
   "cell_type": "code",
   "execution_count": 16,
   "metadata": {},
   "outputs": [],
   "source": [
    "file = open(\"newfile.txt\", \"a\", encoding=\"utf-8\")\n",
    "file.write(\"Sadık Turan\")\n",
    "file.close()\n",
    "\n",
    "# kodu her çalıştırdığında yeni bir Sadık Turan yazısı ekler"
   ]
  },
  {
   "attachments": {},
   "cell_type": "markdown",
   "metadata": {},
   "source": [
    "* \\n işareti koyarsak bir alt satırdan başlar yazmaya her seferinde"
   ]
  },
  {
   "cell_type": "code",
   "execution_count": 20,
   "metadata": {},
   "outputs": [],
   "source": [
    "file = open(\"newfile.txt\", \"a\", encoding=\"utf-8\")\n",
    "file.write(\"\\nSadık Turan\")\n",
    "file.close()\n",
    "\n",
    "# kodu her çalıştırdığında bir alt satıra yeni bir Sadık Turan yazısını ekler"
   ]
  },
  {
   "attachments": {},
   "cell_type": "markdown",
   "metadata": {},
   "source": [
    "        \"x\" modu\n",
    "sadece dosya oluşturacaksak içine dokunmayacaksak"
   ]
  },
  {
   "cell_type": "code",
   "execution_count": 25,
   "metadata": {},
   "outputs": [],
   "source": [
    "file = open(\"newfileYeni.txt\", \"a\", encoding=\"utf-8\")\n",
    "\n",
    "# tekrar çalıştırmaya çalışırsak hata verir çünkü dosya zaten oluşturulmuştur"
   ]
  }
 ],
 "metadata": {
  "kernelspec": {
   "display_name": "Python 3",
   "language": "python",
   "name": "python3"
  },
  "language_info": {
   "codemirror_mode": {
    "name": "ipython",
    "version": 3
   },
   "file_extension": ".py",
   "mimetype": "text/x-python",
   "name": "python",
   "nbconvert_exporter": "python",
   "pygments_lexer": "ipython3",
   "version": "3.11.1"
  },
  "orig_nbformat": 4
 },
 "nbformat": 4,
 "nbformat_minor": 2
}
