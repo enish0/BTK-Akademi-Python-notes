{
 "cells": [
  {
   "attachments": {},
   "cell_type": "markdown",
   "metadata": {},
   "source": [
    "### Dosya okuma fonksiyonları"
   ]
  },
  {
   "attachments": {},
   "cell_type": "markdown",
   "metadata": {},
   "source": [
    "#### Rutin işlemimiz nasıldı"
   ]
  },
  {
   "cell_type": "code",
   "execution_count": 5,
   "metadata": {},
   "outputs": [],
   "source": [
    "file = open(\"newfile33.txt\", \"r\", encoding=\"utf-8\")\n",
    "content = file.read()\n",
    "print(content)\n",
    "\n",
    "file.close()"
   ]
  },
  {
   "attachments": {},
   "cell_type": "markdown",
   "metadata": {},
   "source": [
    "* dosyayı kapamak için daha güzel yöntemlerimiz var"
   ]
  },
  {
   "cell_type": "code",
   "execution_count": 12,
   "metadata": {},
   "outputs": [
    {
     "name": "stdout",
     "output_type": "stream",
     "text": [
      "0123456789abcçdefgğhıijklmnoöprsştuüvyz\n"
     ]
    }
   ],
   "source": [
    "with open(\"newfile33.txt\", \"r\", encoding=\"utf-8\") as file:   # as ile file objesine sol taraftaki referansı atmış oluyoruz\n",
    "    content = file.read()\n",
    "    print(content)  # buradaki kod bloklarına gelince yaşam süresi doluyor with in yanında tanımlanan şeyler\n",
    "\n",
    "    # artık file.close a ihtiyacımız yok.\n",
    "\n",
    "# with ile oluşturulan kod bloğunun sonuna gelindiği zaman açmış olduğumuz\n",
    "#  dosya direk kapanacak"
   ]
  },
  {
   "attachments": {},
   "cell_type": "markdown",
   "metadata": {},
   "source": [
    "* cursor (imleç) ün okuma yaptıktan sonraki yerini bulalım"
   ]
  },
  {
   "cell_type": "code",
   "execution_count": 13,
   "metadata": {},
   "outputs": [
    {
     "name": "stdout",
     "output_type": "stream",
     "text": [
      "0123456789abcçdefgğhıijklmnoöprsştuüvyz\n",
      "45\n"
     ]
    }
   ],
   "source": [
    "with open(\"newfile33.txt\", \"r\", encoding=\"utf-8\") as file:\n",
    "    content = file.read()\n",
    "    print(content)\n",
    "\n",
    "    print(file.tell())  # cursor un konumunu söyler\n",
    "\n",
    "# Terminal : 45 \n",
    "# cursor ün konumu 45 inci karakterde yani 45 inci byte da bulunuyor"
   ]
  },
  {
   "attachments": {},
   "cell_type": "markdown",
   "metadata": {},
   "source": [
    "* okuma ve yazma işleminden sonra cursor ü istediğimiz yere göndermek"
   ]
  },
  {
   "cell_type": "code",
   "execution_count": 17,
   "metadata": {},
   "outputs": [
    {
     "name": "stdout",
     "output_type": "stream",
     "text": [
      "0123456789abcçdefgğhıijklmnoöprsştuüvyz\n",
      "45\n",
      "0\n"
     ]
    }
   ],
   "source": [
    "with open(\"newfile33.txt\", \"r\", encoding=\"utf-8\") as file:\n",
    "    content = file.read()\n",
    "    print(content)\n",
    "\n",
    "    print(file.tell())\n",
    "\n",
    "    file.seek(0)        # eklendi       sıfırıncı indexe göndersin dedik\n",
    "    print(file.tell())        # eklendi"
   ]
  }
 ],
 "metadata": {
  "kernelspec": {
   "display_name": "Python 3",
   "language": "python",
   "name": "python3"
  },
  "language_info": {
   "codemirror_mode": {
    "name": "ipython",
    "version": 3
   },
   "file_extension": ".py",
   "mimetype": "text/x-python",
   "name": "python",
   "nbconvert_exporter": "python",
   "pygments_lexer": "ipython3",
   "version": "3.11.1"
  },
  "orig_nbformat": 4
 },
 "nbformat": 4,
 "nbformat_minor": 2
}
