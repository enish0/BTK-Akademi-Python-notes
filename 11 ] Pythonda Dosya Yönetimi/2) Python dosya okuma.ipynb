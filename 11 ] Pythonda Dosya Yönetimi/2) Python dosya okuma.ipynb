{
 "cells": [
  {
   "attachments": {},
   "cell_type": "markdown",
   "metadata": {},
   "source": [
    "### DOSYA OKUMA "
   ]
  },
  {
   "cell_type": "code",
   "execution_count": 3,
   "metadata": {},
   "outputs": [
    {
     "name": "stdout",
     "output_type": "stream",
     "text": [
      "<_io.TextIOWrapper name='newfile.txt' mode='r' encoding='cp1254'>\n"
     ]
    }
   ],
   "source": [
    "file = open(\"newfile.txt\", \"r\")  # mod bilgisi vermesek te varsayılan olarak \"r\" ayarlı\n",
    "print(file)         # dosya belirlenen konumda yoksa hata verir(exception fırlatır)\n"
   ]
  },
  {
   "attachments": {},
   "cell_type": "markdown",
   "metadata": {},
   "source": [
    "* olmayan bir dosyayı okuyamayınca hangi hatayı vereceğini yazalım"
   ]
  },
  {
   "cell_type": "code",
   "execution_count": 5,
   "metadata": {},
   "outputs": [
    {
     "name": "stdout",
     "output_type": "stream",
     "text": [
      "dosya okuma hatası\n"
     ]
    }
   ],
   "source": [
    "try:\n",
    "    file = open(\"newfile2.txt\",\"r\")\n",
    "    print(file)\n",
    "except FileNotFoundError:\n",
    "    print(\"dosya okuma hatası\")      "
   ]
  },
  {
   "attachments": {},
   "cell_type": "markdown",
   "metadata": {},
   "source": [
    "* yukardaki koda dosya kapama işlemini de ekleyelim"
   ]
  },
  {
   "cell_type": "code",
   "execution_count": 6,
   "metadata": {},
   "outputs": [
    {
     "name": "stdout",
     "output_type": "stream",
     "text": [
      "dosya okuma hatası\n",
      "dosya kapandı.\n"
     ]
    }
   ],
   "source": [
    "try:\n",
    "    file = open(\"newfile2.txt\",\"r\")\n",
    "    print(file)\n",
    "except FileNotFoundError:\n",
    "    print(\"dosya okuma hatası\")   \n",
    "finally:\n",
    "    print(\"dosya kapandı.\")\n",
    "    file.close()"
   ]
  },
  {
   "attachments": {},
   "cell_type": "markdown",
   "metadata": {},
   "source": [
    "#### Başka bir dosya okuma işlemi ile devam"
   ]
  },
  {
   "attachments": {},
   "cell_type": "markdown",
   "metadata": {},
   "source": [
    "### Okuma işlemini birkaç farklı yöntemle yapabiliriz\n",
    "\n",
    "        1) for döngüsü ile okuma"
   ]
  },
  {
   "cell_type": "code",
   "execution_count": 7,
   "metadata": {},
   "outputs": [
    {
     "name": "stdout",
     "output_type": "stream",
     "text": [
      "Sadık Turan Sadık Turan Sadık Turan\n",
      "\n",
      "Sadık Turan\n",
      "\n",
      "Sadık Turan\n"
     ]
    }
   ],
   "source": [
    "file = open(\"newfile.txt\",\"r\", encoding = \"utf-8\")  # encoding turkçe karakterler okunabilmesi için \n",
    "\n",
    "# for döngüsü ile\n",
    "\n",
    "for i in file:\n",
    "    print(i)"
   ]
  },
  {
   "attachments": {},
   "cell_type": "markdown",
   "metadata": {},
   "source": [
    "Yukarıda terminalde neden satırlar arası boşluk var ??\n",
    "\n",
    "* çünkü print fonksiyonu işlemini bitirince bir boşluk bırakıyor"
   ]
  },
  {
   "cell_type": "code",
   "execution_count": 9,
   "metadata": {},
   "outputs": [
    {
     "name": "stdout",
     "output_type": "stream",
     "text": [
      "Sadık Turan Sadık Turan Sadık Turan\n",
      "Sadık Turan\n",
      "Sadık Turan"
     ]
    }
   ],
   "source": [
    "file = open(\"newfile.txt\",\"r\", encoding = \"utf-8\")  # encoding turkçe karakterler okunabilmesi için \n",
    "\n",
    "# for döngüsü ile\n",
    "\n",
    "for i in file:\n",
    "    print(i, end= \"\")   # işlem bitince \\n (boş satıra sebep olan karakter) ekleme demek\n",
    "file.close()"
   ]
  },
  {
   "attachments": {},
   "cell_type": "markdown",
   "metadata": {},
   "source": [
    "        2) read() fonskiyonu ile okuma"
   ]
  },
  {
   "cell_type": "code",
   "execution_count": 10,
   "metadata": {},
   "outputs": [
    {
     "name": "stdout",
     "output_type": "stream",
     "text": [
      "Sadık Turan Sadık Turan Sadık Turan\n",
      "Sadık Turan\n",
      "Sadık Turan\n"
     ]
    }
   ],
   "source": [
    "file = open(\"newfile.txt\",\"r\", encoding = \"utf-8\")\n",
    "\n",
    "# read() fonksiyonu ile\n",
    "\n",
    "content = file.read()\n",
    "print(content)\n",
    "file.close()"
   ]
  },
  {
   "attachments": {},
   "cell_type": "markdown",
   "metadata": {},
   "source": [
    "* read() metodu ile dosya okurken imleç kavramı var"
   ]
  },
  {
   "cell_type": "code",
   "execution_count": 11,
   "metadata": {},
   "outputs": [
    {
     "name": "stdout",
     "output_type": "stream",
     "text": [
      "içerik 1\n",
      "Sadık Turan Sadık Turan Sadık Turan\n",
      "Sadık Turan\n",
      "Sadık Turan\n",
      "içerik 2\n",
      "\n"
     ]
    }
   ],
   "source": [
    "file = open(\"newfile.txt\",\"r\", encoding = \"utf-8\")\n",
    "\n",
    "content1 = file.read()\n",
    "\n",
    "print(\"içerik 1\")      \n",
    "print(content1)\n",
    "\n",
    "content2 = file.read()\n",
    "\n",
    "print(\"içerik 2\")          \n",
    "print(content2)\n",
    "\n",
    "file.close()\n",
    "# ilk okuma dosyanın tamamını aldı imleç sona gelmiş oldu geriye bişey kalmadı"
   ]
  },
  {
   "attachments": {},
   "cell_type": "markdown",
   "metadata": {},
   "source": [
    "* eğer şu satırı bir daha eklersek imleç tekrar başa gelir ve dosyayı bir daha yazar ikinci içerik olarak varsayarız"
   ]
  },
  {
   "cell_type": "code",
   "execution_count": 13,
   "metadata": {},
   "outputs": [
    {
     "name": "stdout",
     "output_type": "stream",
     "text": [
      "içerik 1\n",
      "Sadık Turan Sadık Turan Sadık Turan\n",
      "Sadık Turan\n",
      "Sadık Turan\n",
      "içerik 2\n",
      "Sadık Turan Sadık Turan Sadık Turan\n",
      "Sadık Turan\n",
      "Sadık Turan\n"
     ]
    }
   ],
   "source": [
    "file = open(\"newfile.txt\",\"r\", encoding = \"utf-8\")\n",
    "\n",
    "content1 = file.read()\n",
    "\n",
    "print(\"içerik 1\")      \n",
    "print(content1)\n",
    "\n",
    "file = open(\"newfile.txt\",\"r\", encoding = \"utf-8\")  # eklendi   \n",
    "# bir üst satırda imlec tekrar dosyanın başına dönmüş oldu\n",
    "content2 = file.read()\n",
    "\n",
    "print(\"içerik 2\")          \n",
    "print(content2)\n",
    "\n",
    "file.close()"
   ]
  },
  {
   "attachments": {},
   "cell_type": "markdown",
   "metadata": {},
   "source": [
    "#### Read fonksiyonuna daha yakından bakalım"
   ]
  },
  {
   "cell_type": "code",
   "execution_count": 17,
   "metadata": {},
   "outputs": [
    {
     "name": "stdout",
     "output_type": "stream",
     "text": [
      "Sadık\n"
     ]
    }
   ],
   "source": [
    "file = open(\"newfile.txt\",\"r\", encoding = \"utf-8\")\n",
    "\n",
    "\n",
    "content = file.read(5)  # içeriğin ilk beş karakterini alır\n",
    "print(content)\n",
    "\n",
    "file.close()"
   ]
  },
  {
   "cell_type": "code",
   "execution_count": 24,
   "metadata": {},
   "outputs": [
    {
     "name": "stdout",
     "output_type": "stream",
     "text": [
      " Tu\n"
     ]
    }
   ],
   "source": [
    "file = open(\"newfile.txt\",\"r\", encoding = \"utf-8\")\n",
    "\n",
    "\n",
    "content = file.read(5) \n",
    "content = file.read(3)\n",
    "print(content)\n",
    "\n",
    "file.close()"
   ]
  },
  {
   "attachments": {},
   "cell_type": "markdown",
   "metadata": {},
   "source": [
    "#### readline() fonskiyonu"
   ]
  },
  {
   "cell_type": "code",
   "execution_count": 28,
   "metadata": {},
   "outputs": [
    {
     "name": "stdout",
     "output_type": "stream",
     "text": [
      "Sadık Turan Sadık Turan Sadık Turan\n",
      "\n"
     ]
    }
   ],
   "source": [
    "# readline() fonksiyonu her seferinde bir satır okur\n",
    "file = open(\"newfile.txt\",\"r\", encoding = \"utf-8\")\n",
    "\n",
    "content = file.readline()\n",
    "print(content)\n",
    "\n",
    "file.close()"
   ]
  },
  {
   "attachments": {},
   "cell_type": "markdown",
   "metadata": {},
   "source": [
    "* bir önceki kodu daha kısa yolla yazalım"
   ]
  },
  {
   "cell_type": "code",
   "execution_count": 31,
   "metadata": {},
   "outputs": [
    {
     "name": "stdout",
     "output_type": "stream",
     "text": [
      "Sadık Turan Sadık Turan Sadık Turan\n",
      "\n"
     ]
    }
   ],
   "source": [
    "file = open(\"newfile.txt\",\"r\", encoding = \"utf-8\")\n",
    "print(file.readline())\n",
    "file.close()"
   ]
  },
  {
   "attachments": {},
   "cell_type": "markdown",
   "metadata": {},
   "source": [
    "* tekrar tekrar yazarsak bu fonksiyonu?"
   ]
  },
  {
   "cell_type": "code",
   "execution_count": 32,
   "metadata": {},
   "outputs": [
    {
     "name": "stdout",
     "output_type": "stream",
     "text": [
      "Sadık Turan Sadık Turan Sadık Turan\n",
      "\n",
      "Sadık Turan\n",
      "\n",
      "Sadık Turan\n"
     ]
    }
   ],
   "source": [
    "# cevap : kaldığı yerden okumaya devam eder dosya kapanmadı ise.\n",
    "file = open(\"newfile.txt\",\"r\", encoding = \"utf-8\")\n",
    "print(file.readline())\n",
    "print(file.readline())   # eklendi\n",
    "print(file.readline())   # eklendi\n",
    "file.close()"
   ]
  },
  {
   "attachments": {},
   "cell_type": "markdown",
   "metadata": {},
   "source": [
    "* şu printten dolayı gelen satır arası boşlukları tekrar kapayalım"
   ]
  },
  {
   "cell_type": "code",
   "execution_count": 34,
   "metadata": {},
   "outputs": [
    {
     "name": "stdout",
     "output_type": "stream",
     "text": [
      "Sadık Turan Sadık Turan Sadık Turan\n",
      "Sadık Turan\n",
      "Sadık Turan"
     ]
    }
   ],
   "source": [
    "file = open(\"newfile.txt\",\"r\", encoding = \"utf-8\")\n",
    "print(file.readline(),end=\"\")   # düzenlendi   \n",
    "print(file.readline(),end=\"\")   # düzenlendi \n",
    "print(file.readline(),end=\"\")   # düzenlendi \n",
    "file.close()"
   ]
  },
  {
   "attachments": {},
   "cell_type": "markdown",
   "metadata": {},
   "source": [
    "* readline() eklemeye devam etseydik ?"
   ]
  },
  {
   "cell_type": "code",
   "execution_count": 36,
   "metadata": {},
   "outputs": [
    {
     "name": "stdout",
     "output_type": "stream",
     "text": [
      "Sadık Turan Sadık Turan Sadık Turan\n",
      "Sadık Turan\n",
      "Sadık Turan\n",
      "\n",
      "\n"
     ]
    }
   ],
   "source": [
    "file = open(\"newfile.txt\",\"r\", encoding = \"utf-8\")\n",
    "print(file.readline(),end=\"\")     \n",
    "print(file.readline(),end=\"\")   \n",
    "print(file.readline(),end=\"\")\n",
    "print(file.readline())   # eklendi      \n",
    "print(file.readline())   # eklendi \n",
    "print(file.readline())   # eklendi   \n",
    "file.close()\n",
    "\n",
    "# içerik tükenince kalan boşluklarıda bize terminal yazarak devam ediyor."
   ]
  },
  {
   "attachments": {},
   "cell_type": "markdown",
   "metadata": {},
   "source": [
    "#### readlines() fonksiyonu"
   ]
  },
  {
   "cell_type": "code",
   "execution_count": 37,
   "metadata": {},
   "outputs": [
    {
     "name": "stdout",
     "output_type": "stream",
     "text": [
      "['Sadık Turan Sadık Turan Sadık Turan\\n', 'Sadık Turan\\n', 'Sadık Turan']\n"
     ]
    },
    {
     "data": {
      "text/plain": [
       "<function TextIOWrapper.close()>"
      ]
     },
     "execution_count": 37,
     "metadata": {},
     "output_type": "execute_result"
    }
   ],
   "source": [
    "file = open(\"newfile.txt\",\"r\", encoding = \"utf-8\")\n",
    "\n",
    "liste = file.readlines()    # readline değil readlines !\n",
    "print(liste)\n",
    "\n",
    "file.close\n",
    "\n",
    "# her bir satır bilgiyi bir liste/dizi elemanı olarak karşımıza çıkarır\n",
    "# her bir bilgi bir satırda yer aldığı için \\n yi ekler"
   ]
  },
  {
   "attachments": {},
   "cell_type": "markdown",
   "metadata": {},
   "source": [
    "* bu durumda bilgilere tek tek ulaşabiliriz"
   ]
  },
  {
   "cell_type": "code",
   "execution_count": 38,
   "metadata": {},
   "outputs": [
    {
     "name": "stdout",
     "output_type": "stream",
     "text": [
      "Sadık Turan Sadık Turan Sadık Turan\n",
      "\n",
      "Sadık Turan\n",
      "\n",
      "Sadık Turan\n"
     ]
    },
    {
     "data": {
      "text/plain": [
       "<function TextIOWrapper.close()>"
      ]
     },
     "execution_count": 38,
     "metadata": {},
     "output_type": "execute_result"
    }
   ],
   "source": [
    "file = open(\"newfile.txt\",\"r\", encoding = \"utf-8\")\n",
    "\n",
    "liste = file.readlines()\n",
    "print(liste[0]) # listenin 0. indexindeki elemana ulaş\n",
    "print(liste[1])  # listenin 1. indexindeki elemana ulaş\n",
    "print(liste[2])   # listenin 2. indexindeki elemana ulaş \n",
    "\n",
    "file.close"
   ]
  }
 ],
 "metadata": {
  "kernelspec": {
   "display_name": "Python 3",
   "language": "python",
   "name": "python3"
  },
  "language_info": {
   "codemirror_mode": {
    "name": "ipython",
    "version": 3
   },
   "file_extension": ".py",
   "mimetype": "text/x-python",
   "name": "python",
   "nbconvert_exporter": "python",
   "pygments_lexer": "ipython3",
   "version": "3.11.1"
  },
  "orig_nbformat": 4
 },
 "nbformat": 4,
 "nbformat_minor": 2
}
