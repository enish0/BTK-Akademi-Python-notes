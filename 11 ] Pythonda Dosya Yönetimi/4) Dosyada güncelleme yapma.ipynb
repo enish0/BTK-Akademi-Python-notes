{
 "cells": [
  {
   "attachments": {},
   "cell_type": "markdown",
   "metadata": {},
   "source": [
    "## Dosyada Güncelleme Yapma"
   ]
  },
  {
   "attachments": {},
   "cell_type": "markdown",
   "metadata": {},
   "source": [
    "        \"r+\" : hem okuma hem yazma modunu temsil ediyor (güncelleme)"
   ]
  },
  {
   "cell_type": "code",
   "execution_count": 5,
   "metadata": {},
   "outputs": [
    {
     "name": "stdout",
     "output_type": "stream",
     "text": [
      "deneme Turan Sadık Turan Sadık Turan\n",
      "Sadık Turan\n",
      "Sadık Turan\n"
     ]
    }
   ],
   "source": [
    "# dosya üzerinde bir güncelleme yapalım\n",
    "with open(\"newfile.txt\", \"r+\", encoding=\"utf-8\") as file:\n",
    "    file.write(\"deneme\")\n",
    "\n",
    "with open(\"newfile.txt\", \"r+\", encoding=\"utf-8\") as file:\n",
    "    print(file.read())"
   ]
  },
  {
   "cell_type": "code",
   "execution_count": 9,
   "metadata": {},
   "outputs": [
    {
     "name": "stdout",
     "output_type": "stream",
     "text": [
      "deneme Turan Sadık 2.denemedık Turan\n",
      "Sadık Turan\n",
      "Sadık Turan\n"
     ]
    }
   ],
   "source": [
    "with open(\"newfile.txt\", \"r+\", encoding=\"utf-8\") as file:\n",
    "    file.seek(20)   # eklendi       20. konumdan(byte) itibaren yazar\n",
    "    file.write(\"2.deneme\")\n",
    "\n",
    "with open(\"newfile.txt\", \"r+\", encoding=\"utf-8\") as file:\n",
    "    print(file.read())"
   ]
  },
  {
   "attachments": {},
   "cell_type": "markdown",
   "metadata": {},
   "source": [
    "* örneğin sayfanın sonunda bir güncelleme işlemi nasıl yaparız"
   ]
  },
  {
   "cell_type": "code",
   "execution_count": null,
   "metadata": {},
   "outputs": [],
   "source": [
    "with open(\"newfile.txt\", \"a\")   # \"a\" cursor sayfanın en sonuna gider çünkü append bir ekleme işlemi yapıyordu."
   ]
  }
 ],
 "metadata": {
  "kernelspec": {
   "display_name": "Python 3",
   "language": "python",
   "name": "python3"
  },
  "language_info": {
   "codemirror_mode": {
    "name": "ipython",
    "version": 3
   },
   "file_extension": ".py",
   "mimetype": "text/x-python",
   "name": "python",
   "nbconvert_exporter": "python",
   "pygments_lexer": "ipython3",
   "version": "3.11.1"
  },
  "orig_nbformat": 4
 },
 "nbformat": 4,
 "nbformat_minor": 2
}
