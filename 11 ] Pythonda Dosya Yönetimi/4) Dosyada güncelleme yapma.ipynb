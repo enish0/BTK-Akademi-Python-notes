{
 "cells": [
  {
   "attachments": {},
   "cell_type": "markdown",
   "metadata": {},
   "source": [
    "## Dosyada Güncelleme Yapma"
   ]
  },
  {
   "attachments": {},
   "cell_type": "markdown",
   "metadata": {},
   "source": [
    "        \"r+\" : hem okuma hem yazma modunu temsil ediyor (güncelleme)"
   ]
  },
  {
   "cell_type": "code",
   "execution_count": 5,
   "metadata": {},
   "outputs": [
    {
     "name": "stdout",
     "output_type": "stream",
     "text": [
      "deneme Turan Sadık Turan Sadık Turan\n",
      "Sadık Turan\n",
      "Sadık Turan\n"
     ]
    }
   ],
   "source": [
    "# dosya üzerinde bir güncelleme yapalım\n",
    "with open(\"newfile.txt\", \"r+\", encoding=\"utf-8\") as file:\n",
    "    file.write(\"deneme\")\n",
    "\n",
    "with open(\"newfile.txt\", \"r+\", encoding=\"utf-8\") as file:\n",
    "    print(file.read())"
   ]
  },
  {
   "cell_type": "code",
   "execution_count": 9,
   "metadata": {},
   "outputs": [
    {
     "name": "stdout",
     "output_type": "stream",
     "text": [
      "deneme Turan Sadık 2.denemedık Turan\n",
      "Sadık Turan\n",
      "Sadık Turan\n"
     ]
    }
   ],
   "source": [
    "with open(\"newfile.txt\", \"r+\", encoding=\"utf-8\") as file:\n",
    "    file.seek(20)   # eklendi       20. konumdan(byte) itibaren yazar\n",
    "    file.write(\"2.deneme\")\n",
    "\n",
    "with open(\"newfile.txt\", \"r+\", encoding=\"utf-8\") as file:\n",
    "    print(file.read())"
   ]
  },
  {
   "attachments": {},
   "cell_type": "markdown",
   "metadata": {},
   "source": [
    "        Sayfa sonunda güncelleme"
   ]
  },
  {
   "cell_type": "code",
   "execution_count": 1,
   "metadata": {},
   "outputs": [
    {
     "name": "stdout",
     "output_type": "stream",
     "text": [
      "deneme Turan Sadık 2.denemedık Turan\n",
      "Sadık Turan\n",
      "Sadık Turan\n",
      "Emel Turan\n"
     ]
    }
   ],
   "source": [
    "with open(\"newfile.txt\", \"a\", encoding=\"utf-8\") as file:   # \"a\" cursor sayfanın en sonuna gider çünkü append bir ekleme işlemi yapıyordu.\n",
    "    file.write(\"\\nEmel Turan\")\n",
    "\n",
    "    # yukarıdaki yazdığımızı görmek için okuma işlemi yapalım\n",
    "with open(\"newfile.txt\", \"r\", encoding=\"utf-8\") as file:\n",
    "    print(file.read())"
   ]
  },
  {
   "attachments": {},
   "cell_type": "markdown",
   "metadata": {},
   "source": [
    "        Sayfa başında güncelleme"
   ]
  },
  {
   "cell_type": "code",
   "execution_count": 2,
   "metadata": {},
   "outputs": [
    {
     "name": "stdout",
     "output_type": "stream",
     "text": [
      "Efe Turan\n",
      "deneme Turan Sadık 2.denemedık Turan\n",
      "Sadık Turan\n",
      "Sadık Turan\n",
      "Emel Turan\n"
     ]
    }
   ],
   "source": [
    "with open(\"newfile.txt\", \"r+\", encoding=\"utf-8\") as file:\n",
    "    content = file.read()\n",
    "    content =  \"Efe Turan\\n\" + content\n",
    "    file.seek(0)\n",
    "    file.write(content)\n",
    "\n",
    "\n",
    "    # yukarıdaki yazdığımızı görmek için okuma işlemi yapalım\n",
    "with open(\"newfile.txt\", \"r\", encoding=\"utf-8\") as file:\n",
    "    print(file.read())"
   ]
  },
  {
   "attachments": {},
   "cell_type": "markdown",
   "metadata": {},
   "source": [
    "        Sayfa ortasında güncelleme"
   ]
  },
  {
   "cell_type": "code",
   "execution_count": 3,
   "metadata": {},
   "outputs": [
    {
     "name": "stdout",
     "output_type": "stream",
     "text": [
      "['Efe Turan\\n', 'deneme Turan Sadık 2.denemedık Turan\\n', 'Sadık Turan\\n', 'Sadık Turan\\n', 'Emel Turan']\n"
     ]
    }
   ],
   "source": [
    "with open(\"newfile.txt\", \"r+\", encoding=\"utf-8\") as file:\n",
    "    list = file.readlines()\n",
    "    print(list)"
   ]
  },
  {
   "attachments": {},
   "cell_type": "markdown",
   "metadata": {},
   "source": [
    "* yukarıda readlines() fonksiyonu nu yazdırdığımızda bize liste halinde verdi dosyanın içindekileri. liste içindeki herhangi bir konuma içerik ekleyebiliriz( index kavramı) . Kaçıncı indexten önceye ekleyeceksin? örnek 1. indexten önceye"
   ]
  },
  {
   "cell_type": "code",
   "execution_count": 6,
   "metadata": {},
   "outputs": [
    {
     "name": "stdout",
     "output_type": "stream",
     "text": [
      "['Efe Turan\\n', 'Ali Korkmaz\\n', 'Ali Korkmazdeneme Turan Sadık 2.denemedık Turan\\n', 'Sadık Turan\\n', 'Sadık Turan\\n', 'Emel Turan']\n",
      "Efe Turan\n",
      "Ali Korkmaz\n",
      "Ali Korkmazdeneme Turan Sadık 2.denemedık Turan\n",
      "Sadık Turan\n",
      "Sadık Turan\n",
      "Emel Turan\n"
     ]
    }
   ],
   "source": [
    "with open(\"newfile.txt\", \"r+\", encoding=\"utf-8\") as file:\n",
    "    list = file.readlines()\n",
    "    list.insert(1, \"Ali Korkmaz\\n\")   # 1. indexten önce \"Ali Korkmaz\" ekler.\n",
    "    print(list)\n",
    "\n",
    "    # şimdi sayfa içine ekleyelim\n",
    "    file.seek(0)\n",
    "    for i in list:\n",
    "        file.write(i)   # tüm indexteki elemanları ekler\n",
    "\n",
    "    #şimid dosyayı okutalım\n",
    "with open(\"newfile.txt\", \"r\", encoding=\"utf-8\") as file:\n",
    "    print(file.read())"
   ]
  },
  {
   "attachments": {},
   "cell_type": "markdown",
   "metadata": {},
   "source": [
    "* liste elemanlarını yukarıdaki gibi tek tek dolaşıp yazmak yerine bir formülümüz var\n",
    "\n",
    "        writelines() : bizden liste bekler"
   ]
  },
  {
   "cell_type": "code",
   "execution_count": 7,
   "metadata": {},
   "outputs": [
    {
     "name": "stdout",
     "output_type": "stream",
     "text": [
      "['Efe Turan\\n', 'Ali Korkmaz\\n', 'Ali Korkmaz\\n', 'Ali Korkmazdeneme Turan Sadık 2.denemedık Turan\\n', 'Sadık Turan\\n', 'Sadık Turan\\n', 'Emel Turan']\n",
      "Efe Turan\n",
      "Ali Korkmaz\n",
      "Ali Korkmaz\n",
      "Ali Korkmazdeneme Turan Sadık 2.denemedık Turan\n",
      "Sadık Turan\n",
      "Sadık Turan\n",
      "Emel Turan\n"
     ]
    }
   ],
   "source": [
    "with open(\"newfile.txt\", \"r+\", encoding=\"utf-8\") as file:\n",
    "    list = file.readlines()\n",
    "    list.insert(1, \"Ali Korkmaz\\n\")   # 1. indexten önce \"Ali Korkmaz\" ekler.\n",
    "    print(list)\n",
    "\n",
    "    # şimdi sayfa içine ekleyelim\n",
    "    file.seek(0)\n",
    "    file.writelines(list)\n",
    "\n",
    "    #şimid dosyayı okutalım\n",
    "with open(\"newfile.txt\", \"r\", encoding=\"utf-8\") as file:\n",
    "    print(file.read())"
   ]
  }
 ],
 "metadata": {
  "kernelspec": {
   "display_name": "Python 3",
   "language": "python",
   "name": "python3"
  },
  "language_info": {
   "codemirror_mode": {
    "name": "ipython",
    "version": 3
   },
   "file_extension": ".py",
   "mimetype": "text/x-python",
   "name": "python",
   "nbconvert_exporter": "python",
   "pygments_lexer": "ipython3",
   "version": "3.11.1"
  },
  "orig_nbformat": 4
 },
 "nbformat": 4,
 "nbformat_minor": 2
}
