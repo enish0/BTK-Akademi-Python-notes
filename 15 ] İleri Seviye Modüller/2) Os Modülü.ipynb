{
 "cells": [
  {
   "attachments": {},
   "cell_type": "markdown",
   "metadata": {},
   "source": [
    "# Os Modülü : \n",
    "işletim sistemi ve dosyalar ile alakalı metod ve class lar var"
   ]
  },
  {
   "cell_type": "code",
   "execution_count": 3,
   "metadata": {},
   "outputs": [
    {
     "name": "stdout",
     "output_type": "stream",
     "text": [
      "['DirEntry', 'EX_OK', 'F_OK', 'GenericAlias', 'Mapping', 'MutableMapping', 'O_APPEND', 'O_BINARY', 'O_CREAT', 'O_EXCL', 'O_NOINHERIT', 'O_RANDOM', 'O_RDONLY', 'O_RDWR', 'O_SEQUENTIAL', 'O_SHORT_LIVED', 'O_TEMPORARY', 'O_TEXT', 'O_TRUNC', 'O_WRONLY', 'P_DETACH', 'P_NOWAIT', 'P_NOWAITO', 'P_OVERLAY', 'P_WAIT', 'PathLike', 'R_OK', 'SEEK_CUR', 'SEEK_END', 'SEEK_SET', 'TMP_MAX', 'W_OK', 'X_OK', '_AddedDllDirectory', '_Environ', '__all__', '__builtins__', '__doc__', '__file__', '__loader__', '__name__', '__package__', '__spec__', '_check_methods', '_execvpe', '_exists', '_exit', '_fspath', '_get_exports_list', '_walk', '_wrap_close', 'abc', 'abort', 'access', 'add_dll_directory', 'altsep', 'chdir', 'chmod', 'close', 'closerange', 'cpu_count', 'curdir', 'defpath', 'device_encoding', 'devnull', 'dup', 'dup2', 'environ', 'error', 'execl', 'execle', 'execlp', 'execlpe', 'execv', 'execve', 'execvp', 'execvpe', 'extsep', 'fdopen', 'fsdecode', 'fsencode', 'fspath', 'fstat', 'fsync', 'ftruncate', 'get_exec_path', 'get_handle_inheritable', 'get_inheritable', 'get_terminal_size', 'getcwd', 'getcwdb', 'getenv', 'getlogin', 'getpid', 'getppid', 'isatty', 'kill', 'linesep', 'link', 'listdir', 'lseek', 'lstat', 'makedirs', 'mkdir', 'name', 'open', 'pardir', 'path', 'pathsep', 'pipe', 'popen', 'putenv', 'read', 'readlink', 'remove', 'removedirs', 'rename', 'renames', 'replace', 'rmdir', 'scandir', 'sep', 'set_handle_inheritable', 'set_inheritable', 'spawnl', 'spawnle', 'spawnv', 'spawnve', 'st', 'startfile', 'stat', 'stat_result', 'statvfs_result', 'strerror', 'supports_bytes_environ', 'supports_dir_fd', 'supports_effective_ids', 'supports_fd', 'supports_follow_symlinks', 'symlink', 'sys', 'system', 'terminal_size', 'times', 'times_result', 'truncate', 'umask', 'uname_result', 'unlink', 'unsetenv', 'urandom', 'utime', 'waitpid', 'waitstatus_to_exitcode', 'walk', 'write']\n"
     ]
    }
   ],
   "source": [
    "import os\n",
    "\n",
    "result = dir(os)    # içinde bir sürü class ve metod var\n",
    "print(result)"
   ]
  },
  {
   "cell_type": "code",
   "execution_count": 4,
   "metadata": {},
   "outputs": [
    {
     "name": "stdout",
     "output_type": "stream",
     "text": [
      "nt\n"
     ]
    }
   ],
   "source": [
    "import os\n",
    "result = os.name    # işletim sistemimizin ismini söyler\n",
    "                    # nt nin anlamı windows işletim sistemi ni kullanıyor anlamında\n",
    "print(result)"
   ]
  },
  {
   "cell_type": "code",
   "execution_count": 3,
   "metadata": {},
   "outputs": [
    {
     "name": "stdout",
     "output_type": "stream",
     "text": [
      "d:\\Yasin\\VS Code\\BTK Akademi\\17 ] İleri Seviye Modüller\n"
     ]
    }
   ],
   "source": [
    "import os\n",
    "\n",
    "result = os.getcwd()    # bu şu an kullanılan dosyanın konumunu söyler\n",
    "print(result)"
   ]
  },
  {
   "attachments": {},
   "cell_type": "markdown",
   "metadata": {},
   "source": [
    "* os modülü ile klasör oluşturalım\n",
    "\n",
    "        mkdir()     : klasör oluşturur"
   ]
  },
  {
   "cell_type": "code",
   "execution_count": null,
   "metadata": {},
   "outputs": [],
   "source": [
    "import os\n",
    "\n",
    "os.mkdir(\"newdirectory\")    # bulunduğumuz dizinle aynı dizinde yaptı klasörü\n",
    "print(result)"
   ]
  },
  {
   "attachments": {},
   "cell_type": "markdown",
   "metadata": {},
   "source": [
    "                chdir('')   : içine yazdığımız dizine götürür\n",
    "                getcwd()    : şu an bulunulan dosya konumunu söyler"
   ]
  },
  {
   "cell_type": "code",
   "execution_count": 11,
   "metadata": {},
   "outputs": [
    {
     "name": "stdout",
     "output_type": "stream",
     "text": [
      "C:\\\n"
     ]
    }
   ],
   "source": [
    "import os\n",
    "\n",
    "# dizin değiştirme\n",
    "\n",
    "os.chdir('C:\\\\')    # bizi içine yazdığımız yere götürür\n",
    "\n",
    "result = os.getcwd()    # şu an bulunulan dosya konumu söyler\n",
    "print(result)\n",
    "\n",
    "# terminal: C dizininin içinde olduğumuzu söyler."
   ]
  },
  {
   "attachments": {},
   "cell_type": "markdown",
   "metadata": {},
   "source": [
    "* üsttekine ekleme yapalım"
   ]
  },
  {
   "cell_type": "code",
   "execution_count": 12,
   "metadata": {},
   "outputs": [
    {
     "name": "stdout",
     "output_type": "stream",
     "text": [
      "C:\\\n"
     ]
    }
   ],
   "source": [
    "import os\n",
    "os.chdir('C:\\\\')\n",
    "\n",
    "# etkin dizini söyleme (hangi dizinde olduğumuz)\n",
    "result = os.getcwd() \n",
    "\n",
    "# klasör oluşturma\n",
    "os.mkdir(\"newdirectory\")    # şu an etkin olan yukarıda ayarladığımz dizin altına oluşturdu\n",
    "\n",
    "print(result)"
   ]
  },
  {
   "cell_type": "code",
   "execution_count": 20,
   "metadata": {},
   "outputs": [
    {
     "name": "stdout",
     "output_type": "stream",
     "text": [
      "C:\\\n"
     ]
    },
    {
     "data": {
      "text/plain": [
       "'C:\\\\'"
      ]
     },
     "execution_count": 20,
     "metadata": {},
     "output_type": "execute_result"
    }
   ],
   "source": [
    "result = os.getcwd()\n",
    "print(result)\n",
    "\n",
    "\n",
    "# dizin değiştirme devamı\n",
    "\n",
    "os.chdir('..')      # bir üst klasöre çıktı\n",
    "os.chdir('..')  # bir üst klasöre daha çıktı\n",
    "\n",
    "# iki kere yazmak yerine şunu yapabiliriz.\n",
    "os.chdir('..\\..')   # iki üst klasöre çıktı\n",
    "\n",
    "\n",
    "result"
   ]
  },
  {
   "attachments": {},
   "cell_type": "markdown",
   "metadata": {},
   "source": [
    "* başka bir klasör oluşturma metodu\n",
    "            \n",
    "            makedirs()      : iç içe klasörler oluşturmaya yarar"
   ]
  },
  {
   "cell_type": "code",
   "execution_count": 2,
   "metadata": {},
   "outputs": [],
   "source": [
    "import os\n",
    "os.makedirs(\"newdirectory/yeniklasör\")  # iç içe klasör oluşturmaya yarar"
   ]
  },
  {
   "attachments": {},
   "cell_type": "markdown",
   "metadata": {},
   "source": [
    "* listeleme işlemlerine bakalım\n",
    "\n",
    "        listdir()       : şuan etkin olan dizinde bulunan klasörleri gösterir"
   ]
  },
  {
   "cell_type": "code",
   "execution_count": 6,
   "metadata": {},
   "outputs": [
    {
     "name": "stdout",
     "output_type": "stream",
     "text": [
      "['1) Datetime.ipynb', '2) Os Modülü.ipynb']\n"
     ]
    }
   ],
   "source": [
    "result = os.listdir()\n",
    "print(result)       # şu an etkin olan dizinde bulunan klasörleri gösterir"
   ]
  },
  {
   "attachments": {},
   "cell_type": "markdown",
   "metadata": {},
   "source": [
    "* peki listeleme işlemi yaparken filtreleme işlemi nasıl yapıcaz\n",
    "\n",
    "        endswith('')        \n",
    "           içine yazdığımız dosya uzantısı ile bitip bitmediğine bakar"
   ]
  },
  {
   "cell_type": "code",
   "execution_count": 10,
   "metadata": {},
   "outputs": [
    {
     "name": "stdout",
     "output_type": "stream",
     "text": [
      "1) Datetime.ipynb\n",
      "2) Os Modülü.ipynb\n"
     ]
    }
   ],
   "source": [
    "for dosya in os.listdir():\n",
    "    if dosya.endswith('.ipynb'): # dosyanın uzantısının ipynb ile bitip bitmediğine bakabilriz\n",
    "        print(dosya)    # sadece ipynb uzantılı dosyaları yazar."
   ]
  },
  {
   "attachments": {},
   "cell_type": "markdown",
   "metadata": {},
   "source": [
    "* bir dosya hakkında bilgi sahibi olmak için\n",
    "        \n",
    "        stat()          : dosya hakkında bilgi sahibi olmak için"
   ]
  },
  {
   "cell_type": "code",
   "execution_count": 15,
   "metadata": {},
   "outputs": [
    {
     "name": "stdout",
     "output_type": "stream",
     "text": [
      "os.stat_result(st_mode=33206, st_ino=1688849860307238, st_dev=854097525, st_nlink=1, st_uid=0, st_gid=0, st_size=13502, st_atime=1688560232, st_mtime=1688557649, st_ctime=1688546250)\n"
     ]
    }
   ],
   "source": [
    "result = os.stat(\"1) Datetime.ipynb\")\n",
    "print(result)\n",
    "\n",
    "# st_atime= dosyay son erişilme zamanının bilgisi (saniye türünden)\n",
    "# st_mtime= son değiştirilme tarihi\n",
    "# st_ctime= dosyanın oluşturulma zamanı"
   ]
  },
  {
   "attachments": {},
   "cell_type": "markdown",
   "metadata": {},
   "source": [
    "dosya hakkında öğrendiğimiz bir üstteki bilgilere tek tek bakalım"
   ]
  },
  {
   "cell_type": "code",
   "execution_count": 22,
   "metadata": {},
   "outputs": [
    {
     "name": "stdout",
     "output_type": "stream",
     "text": [
      "os.stat_result(st_mode=33206, st_ino=1688849860307238, st_dev=854097525, st_nlink=1, st_uid=0, st_gid=0, st_size=13502, st_atime=1688562636, st_mtime=1688557649, st_ctime=1688546250)\n",
      "13.185546875\n"
     ]
    }
   ],
   "source": [
    "import os\n",
    "import datetime\n",
    "\n",
    "result = os.stat(\"1) Datetime.ipynb\")\n",
    "print(result)\n",
    "\n",
    "result = result.st_size / 1024     # dosya boyutu  # bir de bölüp kilobayt türüne de çevirdik\n",
    "print(result)"
   ]
  },
  {
   "attachments": {},
   "cell_type": "markdown",
   "metadata": {},
   "source": [
    "devamı burda.."
   ]
  },
  {
   "cell_type": "code",
   "execution_count": 3,
   "metadata": {},
   "outputs": [
    {
     "name": "stdout",
     "output_type": "stream",
     "text": [
      "os.stat_result(st_mode=33206, st_ino=1688849860307238, st_dev=854097525, st_nlink=1, st_uid=0, st_gid=0, st_size=13400, st_atime=1688563184, st_mtime=1688563184, st_ctime=1688546250)\n",
      "2023-07-05 11:37:30.715456\n"
     ]
    }
   ],
   "source": [
    "import os\n",
    "import datetime\n",
    "\n",
    "result = os.stat(\"1) Datetime.ipynb\")\n",
    "print(result)\n",
    "\n",
    "# ----önceki bilgiler yukarısı----\n",
    "\n",
    "result = datetime.datetime.fromtimestamp(result.st_ctime)   # st_ctime : dosya oluşturulma zamanı\n",
    "print(result)   # fromtimestamp saniyeyi tarih saat yapar (öğrenmiştik)\n"
   ]
  },
  {
   "attachments": {},
   "cell_type": "markdown",
   "metadata": {},
   "source": [
    "devamı burda.."
   ]
  },
  {
   "cell_type": "code",
   "execution_count": 5,
   "metadata": {},
   "outputs": [
    {
     "name": "stdout",
     "output_type": "stream",
     "text": [
      "os.stat_result(st_mode=33206, st_ino=1688849860307238, st_dev=854097525, st_nlink=1, st_uid=0, st_gid=0, st_size=13400, st_atime=1688563184, st_mtime=1688563184, st_ctime=1688546250)\n",
      "2023-07-05 16:19:44.779996\n"
     ]
    }
   ],
   "source": [
    "import os\n",
    "import datetime\n",
    "\n",
    "result = os.stat(\"1) Datetime.ipynb\")\n",
    "print(result)\n",
    "\n",
    "# ----önceki bilgiler yukarısı----\n",
    "\n",
    "result = datetime.datetime.fromtimestamp(result.st_mtime)   # st_ctime : dosya değiştirilme zamanı\n",
    "print(result)"
   ]
  },
  {
   "attachments": {},
   "cell_type": "markdown",
   "metadata": {},
   "source": [
    "devamı burda.. (son değiştirilme tarihi)"
   ]
  },
  {
   "cell_type": "code",
   "execution_count": 6,
   "metadata": {},
   "outputs": [
    {
     "name": "stdout",
     "output_type": "stream",
     "text": [
      "os.stat_result(st_mode=33206, st_ino=1688849860307238, st_dev=854097525, st_nlink=1, st_uid=0, st_gid=0, st_size=13400, st_atime=1688563184, st_mtime=1688563184, st_ctime=1688546250)\n",
      "2023-07-05 16:19:44.779996\n"
     ]
    }
   ],
   "source": [
    "import os\n",
    "import datetime\n",
    "\n",
    "result = os.stat(\"1) Datetime.ipynb\")\n",
    "print(result)\n",
    "\n",
    "# ----önceki bilgiler yukarısı----\n",
    "\n",
    "result = datetime.datetime.fromtimestamp(result.st_atime)   # st_ctime : dosya son erişilme zamanı\n",
    "print(result)"
   ]
  },
  {
   "attachments": {},
   "cell_type": "markdown",
   "metadata": {},
   "source": [
    "* istediğimiz bir programı çalıştırma\n",
    "\n",
    "        system(\"\")"
   ]
  },
  {
   "cell_type": "code",
   "execution_count": 10,
   "metadata": {},
   "outputs": [
    {
     "data": {
      "text/plain": [
       "0"
      ]
     },
     "execution_count": 10,
     "metadata": {},
     "output_type": "execute_result"
    }
   ],
   "source": [
    "os.system(\"notepad.exe\")    # notepad programını açar"
   ]
  }
 ],
 "metadata": {
  "kernelspec": {
   "display_name": "Python 3",
   "language": "python",
   "name": "python3"
  },
  "language_info": {
   "codemirror_mode": {
    "name": "ipython",
    "version": 3
   },
   "file_extension": ".py",
   "mimetype": "text/x-python",
   "name": "python",
   "nbconvert_exporter": "python",
   "pygments_lexer": "ipython3",
   "version": "3.11.1"
  },
  "orig_nbformat": 4
 },
 "nbformat": 4,
 "nbformat_minor": 2
}
