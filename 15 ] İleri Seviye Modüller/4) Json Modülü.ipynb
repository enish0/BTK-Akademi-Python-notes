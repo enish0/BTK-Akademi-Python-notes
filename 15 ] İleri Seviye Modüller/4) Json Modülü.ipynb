{
 "cells": [
  {
   "attachments": {},
   "cell_type": "markdown",
   "metadata": {},
   "source": [
    "# JSON MODÜLÜ\n",
    "\n",
    "* json yapısı her platformdan birbirine veri taşımak için kullanabilir\n",
    "* daha önce dictionari kullanarak json benzeri bir yapı oluşturmuştuk\n",
    "\n",
    "\n",
    "\n",
    "daha önce ne yapıyorduk.."
   ]
  },
  {
   "cell_type": "code",
   "execution_count": 2,
   "metadata": {},
   "outputs": [
    {
     "name": "stdout",
     "output_type": "stream",
     "text": [
      "Ali\n",
      "python\n"
     ]
    }
   ],
   "source": [
    "person = {\"name\": \"Ali\", \"languages\":[\"python\",\"C#\"]}\n",
    "\n",
    "result = person[\"name\"]\n",
    "print(result)\n",
    "\n",
    "result = person[\"languages\"][0]\n",
    "print(result)\n"
   ]
  },
  {
   "cell_type": "markdown",
   "metadata": {},
   "source": [
    "person' u json olarak tanımlamak için string ifade içine almamız gerek"
   ]
  },
  {
   "cell_type": "code",
   "execution_count": null,
   "metadata": {},
   "outputs": [],
   "source": [
    "person = '{\"name\": \"Ali\", \"languages\":[\"python\",\"C#\"]}' # json stringi bu\n",
    "\n",
    "# stringe dönüştürdüğümüz için bunu bir önceki cell 'deki gibi kullanamıyoruz\n"
   ]
  },
  {
   "cell_type": "markdown",
   "metadata": {},
   "source": [
    "dönüştürüp kullanmamız gerekiyor\n",
    "\n",
    "işte json bu dönüşümleri yapmamızı sağlıyor\n",
    "\n",
    "        loads()         : json string ----> dict"
   ]
  },
  {
   "cell_type": "code",
   "execution_count": 10,
   "metadata": {},
   "outputs": [
    {
     "name": "stdout",
     "output_type": "stream",
     "text": [
      "<class 'dict'>\n",
      "{'name': 'Ali', 'languages': ['python', 'C#']}\n",
      "Ali\n",
      "['python', 'C#']\n"
     ]
    }
   ],
   "source": [
    "import json\n",
    "\n",
    "# JSON string to Dict ⇲\n",
    "person_string = '{\"name\": \"Ali\", \"languages\":[\"python\",\"C#\"]}'\n",
    "\n",
    "result = json.loads(person_string)  # json stringi dictionariye dönüştürmemizi sağlıyor\n",
    "\n",
    "print(type(result))     # tipini sorduk \n",
    "print(result)   \n",
    "\n",
    "# yani artık içindeki bilgilere ulaşabiliriz ⇲\n",
    "result_2 = result[\"name\"] \n",
    "print(result_2)   # name bilgisine ulaştık\n",
    "\n",
    "# busefer languages bilgisine ulaşalım\n",
    "result_3 = result[\"languages\"]\n",
    "print(result_3)\n"
   ]
  },
  {
   "cell_type": "markdown",
   "metadata": {},
   "source": [
    "manuel olarak json dosyası oluşturduk dosyalar arasına\n",
    "\n",
    "içindeki bilgileri okutup ekrana yazdıralım"
   ]
  },
  {
   "cell_type": "markdown",
   "metadata": {},
   "source": [
    "Dosyadan Json bir bilgiyi okumak"
   ]
  },
  {
   "cell_type": "code",
   "execution_count": 19,
   "metadata": {},
   "outputs": [
    {
     "name": "stdout",
     "output_type": "stream",
     "text": [
      "{'name': 'Ali', 'languages': ['python', 'C#']}\n",
      "Ali\n",
      "['python', 'C#']\n"
     ]
    }
   ],
   "source": [
    "import json\n",
    "\n",
    "with open(\"person.json\") as f:\n",
    "    data = json.load(f) # \"yükleyeceğimiz bir f objesi olucak\"\n",
    "    print(data)\n",
    "\n",
    "    # hatta sadece \"name\"i alalım\n",
    "    print(data[\"name\"])     # sadece name i aldık\n",
    "\n",
    "    # devam ettirelim\n",
    "    print(data[\"languages\"])\n"
   ]
  },
  {
   "cell_type": "markdown",
   "metadata": {},
   "source": [
    "tam tersi bu sefer elimizde bir dictionari bilgilerimiz olsun"
   ]
  },
  {
   "cell_type": "markdown",
   "metadata": {},
   "source": [
    "        dumps()     :   dict ----> json string"
   ]
  },
  {
   "cell_type": "code",
   "execution_count": 21,
   "metadata": {},
   "outputs": [
    {
     "name": "stdout",
     "output_type": "stream",
     "text": [
      "{\"name\": \"Ali\", \"languages\": [\"Python\", \"C#\"]}\n",
      "<class 'str'>\n"
     ]
    }
   ],
   "source": [
    "person_dict = {\n",
    "    \"name\": \"Ali\",\n",
    "    \"languages\": [\"Python\",\"C#\"]\n",
    "    }\n",
    "\n",
    "# bu objeyi json bilgi kaydeden bir servis üzerinden veya sadece bir dosyaya bir kayıt işlemi yapmak istiyoruz\n",
    "\n",
    "# bu bilgiyi göndermeden önce bunu bir json stringine çeviriyor olmamız gerek.\n",
    "\n",
    "# Dict to JSON string ⇲ 🐛\n",
    "result = json.dumps(person_dict)    # dict'den json stringine çevirir\n",
    "print(result)\n",
    "print(type(result)) # dict deil string olduğunu söyledi json stringine dönmüş."
   ]
  },
  {
   "cell_type": "markdown",
   "metadata": {},
   "source": [
    "dict ten json stringe çevirdik şimdi dosyaya kayıt yapıcaz\n",
    "\n",
    "        dump()         : \n",
    "        ilk parametrede atılacak olan json stringi ikinci parametrede ise onu atacağımız json dosyayı temsil eden obje\n",
    "        \n",
    "        # dikkat önceki dumps() metod ile karıştırma"
   ]
  },
  {
   "cell_type": "code",
   "execution_count": 22,
   "metadata": {},
   "outputs": [],
   "source": [
    "person_dict = {\n",
    "    \"name\": \"Ali\",\n",
    "    \"languages\": [\"Python\",\"C#\"]\n",
    "    }\n",
    "\n",
    "with open (\"person2.json\", \"w\") as f:   # bilgi ekleyeceğimiz için \"w\" (write) modda açtık\n",
    "    json.dump(person_dict, f) # ilk: atmak istediğimiz bilgi \n",
    "                              # ikinci: atılacak yer (burda f objesi zaten \"person2.json\"u temsil ediyor)"
   ]
  },
  {
   "cell_type": "markdown",
   "metadata": {},
   "source": [
    "person stringi dictionariye çevirelim (öğrendik) bu sefer daha düzgün yazmasını öğrenelim\n",
    "\n",
    "        indent=      : düzenli yazılsın ama kaç boşluk lu bir girinti oluşsun\n",
    "        sort_keys=      # "
   ]
  },
  {
   "cell_type": "code",
   "execution_count": 4,
   "metadata": {},
   "outputs": [
    {
     "name": "stdout",
     "output_type": "stream",
     "text": [
      "{'name': 'Ali', 'languages': ['python', 'C#']}\n",
      "{\n",
      "    \"languages\": [\n",
      "        \"python\",\n",
      "        \"C#\"\n",
      "    ],\n",
      "    \"name\": \"Ali\"\n",
      "}\n"
     ]
    }
   ],
   "source": [
    "import json\n",
    "\n",
    "person_string = '{\"name\": \"Ali\", \"languages\":[\"python\",\"C#\"]}'\n",
    "person_dict = {\"name\": \"Ali\",\"languages\": [\"Python\",\"C#\"]}\n",
    "\n",
    "person_dict = json.loads(person_string) # (gördük daha önce) dict e dönüştü\n",
    "print(person_dict)\n",
    "\n",
    "# ekrana yazdık daha düzgün yazalım\n",
    "result = json.dumps(person_dict, indent= 4, sort_keys= True)\n",
    "# dict den json stringine dönüştürüp yazmış olduk düzgün yazcaz diye\n",
    "print(result)"
   ]
  }
 ],
 "metadata": {
  "kernelspec": {
   "display_name": "Python 3",
   "language": "python",
   "name": "python3"
  },
  "language_info": {
   "codemirror_mode": {
    "name": "ipython",
    "version": 3
   },
   "file_extension": ".py",
   "mimetype": "text/x-python",
   "name": "python",
   "nbconvert_exporter": "python",
   "pygments_lexer": "ipython3",
   "version": "3.11.1"
  },
  "orig_nbformat": 4
 },
 "nbformat": 4,
 "nbformat_minor": 2
}
