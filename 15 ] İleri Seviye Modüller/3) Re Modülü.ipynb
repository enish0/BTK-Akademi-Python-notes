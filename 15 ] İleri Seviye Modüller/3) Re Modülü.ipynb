{
 "cells": [
  {
   "attachments": {},
   "cell_type": "markdown",
   "metadata": {},
   "source": [
    "# RE MODULE : Regular Expression\n",
    "\n",
    "genel olarak bir arama sonucunda bir sonuç döndürür.\n",
    "\n",
    "örneğin kullanıcıdan bir input alıyoruz, input bir mail adresi formatına uyuyor mu uymuyor mu. bunun regular expression ifadesini oluşturuyoruz belli ozel karakterler aracılığı ile. Ve kullanıcı maile uyan formatta bir bilgi giriyorsa maili kayıt ediyoruz. Bu gibi kontrolleri yaparken mesela sadece sayı inputu isterken kullanıcı karakter girerse falan.\n",
    "\n",
    "regular expression ifadelerini kullanarak bir arama işlemini re modülü aracılığı ile yapabiliyoruz.\n",
    "\n",
    "**öğreneceklerimiz:**\n",
    "\n",
    "1- regular expression ifadeleri nasıl yazılıyor\n",
    "\n",
    "2- bu ifadeler kullanılarak bir arama işlemini re modülü metodları ile nasıl yapıcaz."
   ]
  },
  {
   "cell_type": "code",
   "execution_count": 1,
   "metadata": {},
   "outputs": [
    {
     "name": "stdout",
     "output_type": "stream",
     "text": [
      "['A', 'ASCII', 'DEBUG', 'DOTALL', 'I', 'IGNORECASE', 'L', 'LOCALE', 'M', 'MULTILINE', 'Match', 'NOFLAG', 'Pattern', 'RegexFlag', 'S', 'Scanner', 'T', 'TEMPLATE', 'U', 'UNICODE', 'VERBOSE', 'X', '_MAXCACHE', '__all__', '__builtins__', '__cached__', '__doc__', '__file__', '__loader__', '__name__', '__package__', '__path__', '__spec__', '__version__', '_cache', '_casefix', '_compile', '_compile_repl', '_compiler', '_constants', '_expand', '_parser', '_pickle', '_special_chars_map', '_subx', 'compile', 'copyreg', 'enum', 'error', 'escape', 'findall', 'finditer', 'fullmatch', 'functools', 'match', 'purge', 'search', 'split', 'sub', 'subn', 'template']\n"
     ]
    }
   ],
   "source": [
    "import re\n",
    "\n",
    "result = dir(re)    # içindekilere baktık ne var diye\n",
    "print(result)"
   ]
  },
  {
   "attachments": {},
   "cell_type": "markdown",
   "metadata": {},
   "source": [
    "        findall()       \n",
    "\n",
    "        len()"
   ]
  },
  {
   "cell_type": "code",
   "execution_count": 4,
   "metadata": {},
   "outputs": [
    {
     "name": "stdout",
     "output_type": "stream",
     "text": [
      "['Python', 'Python']\n",
      "2\n"
     ]
    }
   ],
   "source": [
    "str = \"Python Kursu: Python Programlama Rehberiniz | 40 saat\" \n",
    "# aramalarımızı bu string ifade üzerinden yapıcaz\n",
    "\n",
    "result = re.findall(\"Python\", str)   # bizden bir \"pattern\" bekliyor (string ifade veya regular expressionla oluşturulmuş bir ifade)\n",
    "                # ilk : arayacağımız şey \n",
    "                 # ikinci : nerde arayacağımız\n",
    "\n",
    "print(result)   #python ifadeleri bulur ve lise şeklinde geriye gönderir\n",
    "\n",
    "print(len(result))  # liste halinde olduğu için sonuc len metodu uzunluk hesaplayınca biz kac tane olduğunu öğreniriz .\n",
    "\n",
    "# iki tane python buldu."
   ]
  },
  {
   "attachments": {},
   "cell_type": "markdown",
   "metadata": {},
   "source": [
    "        split()"
   ]
  },
  {
   "cell_type": "code",
   "execution_count": 11,
   "metadata": {},
   "outputs": [
    {
     "name": "stdout",
     "output_type": "stream",
     "text": [
      "['Python', 'Kursu:', 'Python', 'Programlama', 'Rehberiniz', '|', '40', 'saat']\n",
      "['Python Kursu: Python Programlama ', 'ehberiniz | 40 saat']\n"
     ]
    }
   ],
   "source": [
    "str = \"Python Kursu: Python Programlama Rehberiniz | 40 saat\" \n",
    "result = re.split(\" \", str) # her bir boşluk karakterden string ifadeyi böl demek\n",
    "        # ikinci parametre : hangi objeye uygulanacağı\n",
    "\n",
    "print(result)   # sonucu da liste içinde verir.\n",
    "\n",
    "\n",
    "# bu metodla başka şekilde bölmeler de yapılabilir\n",
    "result = re.split(\"R\", str) # R harfinden böler\n",
    "print(result)"
   ]
  },
  {
   "attachments": {},
   "cell_type": "markdown",
   "metadata": {},
   "source": [
    "        sub()           : değiştirme işlemi"
   ]
  },
  {
   "cell_type": "code",
   "execution_count": 6,
   "metadata": {},
   "outputs": [
    {
     "name": "stdout",
     "output_type": "stream",
     "text": [
      "Python-Kursu:-Python-Programlama-Rehberiniz-|-40-saat\n"
     ]
    }
   ],
   "source": [
    "str = \"Python Kursu: Python Programlama Rehberiniz | 40 saat\" \n",
    "\n",
    "result = re.sub(\" \", \"-\", str)  # str ifadesinde boşluğu -  ile değiştir demek\n",
    "print(result)\n",
    "\n",
    "# ' ' = '\\s' (boşluk karakterini \\s ile de belirtebiliriz)"
   ]
  },
  {
   "attachments": {},
   "cell_type": "markdown",
   "metadata": {},
   "source": [
    "        search()\n",
    "\n",
    "                span()"
   ]
  },
  {
   "cell_type": "code",
   "execution_count": 8,
   "metadata": {},
   "outputs": [
    {
     "name": "stdout",
     "output_type": "stream",
     "text": [
      "<re.Match object; span=(0, 6), match='Python'>\n",
      "(0, 6)\n"
     ]
    }
   ],
   "source": [
    "import re\n",
    "str = \"Python Kursu: Python Programlama Rehberiniz | 40 saat\" \n",
    "\n",
    "result = re.search(\"Python\", str)   # python ifadesini str de arar\n",
    "print(result)\n",
    "    # bize bir match objesi olarak döndürdü\n",
    "    # match objesinin belli özellikleri var. \n",
    "        # mesela span özelliği 0 ile 6 karakter diyor. bunun \n",
    "        # anlamı, python karakterini 0 ile 6. karaktere kadar olan kısımda buldu (not: ilk pythondan bahsediyor. ikinci kelimeyle ilgilenmiyor)\n",
    "    # mesela match olarak döndürdüğü için \n",
    "#şunu yapabilriz\n",
    "\n",
    "# result şuan bizim için match objesini temsil ediyor dolayısı ile şunları yapabiliriz\n",
    "result = result.span()  # bu sefer sadece kaçıncı indexte olduğunu söyler\n",
    "print(result)\n"
   ]
  },
  {
   "attachments": {},
   "cell_type": "markdown",
   "metadata": {},
   "source": [
    "devam.."
   ]
  },
  {
   "attachments": {},
   "cell_type": "markdown",
   "metadata": {},
   "source": [
    "            start()"
   ]
  },
  {
   "cell_type": "code",
   "execution_count": 11,
   "metadata": {},
   "outputs": [
    {
     "name": "stdout",
     "output_type": "stream",
     "text": [
      "<re.Match object; span=(0, 6), match='Python'>\n",
      "0\n"
     ]
    }
   ],
   "source": [
    "import re\n",
    "str = \"Python Kursu: Python Programlama Rehberiniz | 40 saat\" \n",
    "result = re.search(\"Python\", str)\n",
    "print(result)\n",
    "\n",
    "#---aşağısı eklendi & değişti---\n",
    "\n",
    "result = result.start()     # hangi karakterden başladığını bize index olarak söyler (örn sıfırıncı karakter)\n",
    "print(result)"
   ]
  },
  {
   "attachments": {},
   "cell_type": "markdown",
   "metadata": {},
   "source": [
    "            end()"
   ]
  },
  {
   "cell_type": "code",
   "execution_count": 13,
   "metadata": {},
   "outputs": [
    {
     "name": "stdout",
     "output_type": "stream",
     "text": [
      "<re.Match object; span=(0, 6), match='Python'>\n",
      "6\n"
     ]
    }
   ],
   "source": [
    "import re\n",
    "str = \"Python Kursu: Python Programlama Rehberiniz | 40 saat\" \n",
    "result = re.search(\"Python\", str)\n",
    "print(result)\n",
    "\n",
    "#---aşağısı eklendi & değişti---\n",
    "\n",
    "result = result.end()       # hangi karakterle biter onu index olarak söylüyor\n",
    "print(result)\n"
   ]
  },
  {
   "attachments": {},
   "cell_type": "markdown",
   "metadata": {},
   "source": [
    "            group()"
   ]
  },
  {
   "cell_type": "code",
   "execution_count": 14,
   "metadata": {},
   "outputs": [
    {
     "name": "stdout",
     "output_type": "stream",
     "text": [
      "<re.Match object; span=(0, 6), match='Python'>\n",
      "Python\n"
     ]
    }
   ],
   "source": [
    "import re\n",
    "str = \"Python Kursu: Python Programlama Rehberiniz | 40 saat\" \n",
    "result = re.search(\"Python\", str)\n",
    "print(result)\n",
    "\n",
    "#---aşağısı eklendi & değişti---\n",
    "\n",
    "result = result.group()     # bulduğu ifadeyi bize geri gönderir\n",
    "print(result)"
   ]
  },
  {
   "attachments": {},
   "cell_type": "markdown",
   "metadata": {},
   "source": [
    "            string      <parantezsiz>"
   ]
  },
  {
   "cell_type": "code",
   "execution_count": 17,
   "metadata": {},
   "outputs": [
    {
     "name": "stdout",
     "output_type": "stream",
     "text": [
      "<re.Match object; span=(0, 6), match='Python'>\n",
      "Python Kursu: Python Programlama Rehberiniz | 40 saat\n"
     ]
    }
   ],
   "source": [
    "import re\n",
    "str = \"Python Kursu: Python Programlama Rehberiniz | 40 saat\" \n",
    "result = re.search(\"Python\", str)\n",
    "print(result)\n",
    "\n",
    "#---aşağısı eklendi & değişti---\n",
    "\n",
    "result = result.string\n",
    "print(result)"
   ]
  },
  {
   "attachments": {},
   "cell_type": "markdown",
   "metadata": {},
   "source": [
    "Regular expression ifadelerini yazabiliyor olmamız gerekiyor        \n",
    "        \n",
    "        [] - köşeli parantezler arasına yazılan bütün karakterler aranır.\n",
    "\n",
    "                [abc] => a      : 1 match\n",
    "                         ac     : 2 match\n",
    "                         Python : No matches\n",
    "\n",
    "                [a-e] => [abcde]\n",
    "                [1-5] => [12345]\n",
    "                [0-39] => [0- 3 arasını ve 9 u arar] dikkat!\n",
    "\n",
    "                [^abc] => abc dışındaki karakterler\n",
    "                [^0-9] => rakam olmayan karakterler\n",
    "\n",
    "buna aşağıda ornekler verelim"
   ]
  },
  {
   "cell_type": "code",
   "execution_count": 31,
   "metadata": {},
   "outputs": [
    {
     "name": "stdout",
     "output_type": "stream",
     "text": [
      "['a', 'a', 'a', 'b', 'a', 'a']\n",
      "['t', 's', 't', 'a', 'a', 'a', 's', 'a', 'a', 't']\n",
      "['a', 'a', 'a', 'e', 'b', 'e', 'a', 'a']\n",
      "['4']\n",
      "['0']\n",
      "['P', 'y', 't', 'h', 'o', 'n', ' ', 'K', 'u', 'r', 's', 'u', ':', ' ', 'P', 'y', 't', 'h', 'o', 'n', ' ', 'P', 'r', 'o', 'g', 'r', 'm', 'l', 'm', ' ', 'R', 'e', 'h', 'e', 'r', 'i', 'n', 'i', 'z', ' ', '|', ' ', '4', '0', ' ', 's', 't']\n",
      "['P', 'y', 't', 'h', 'o', 'n', ' ', 'K', 'u', 'r', 's', 'u', ':', ' ', 'P', 'y', 't', 'h', 'o', 'n', ' ', 'P', 'r', 'o', 'g', 'r', 'a', 'm', 'l', 'a', 'm', 'a', ' ', 'R', 'e', 'h', 'b', 'e', 'r', 'i', 'n', 'i', 'z', ' ', '|', ' ', ' ', 's', 'a', 'a', 't']\n"
     ]
    }
   ],
   "source": [
    "str = \"Python Kursu: Python Programlama Rehberiniz | 40 saat\" \n",
    "\n",
    "result = re.findall(\"[abc]\", str)\n",
    "print(result)       # bulduğu tüm abc karakterlerini yazdı. c bulamadı\n",
    "\n",
    "result = re.findall(\"[sat]\", str)\n",
    "print(result)       # sat karakterlerini arar\n",
    "\n",
    "result = re.findall(\"[a-e]\", str)\n",
    "print(result)       # a dan e ye kadar olan karakterleri arar\n",
    "\n",
    "result = re.findall(\"[1-5]\", str)\n",
    "print(result)       # 1 den 5 e kadar olan karakterleri arar\n",
    "\n",
    "result = re.findall(\"[0-395]\", str)\n",
    "print(result)       # 0 dan 3 ekadar olanı ve 9 bir de 5 i arar\n",
    "\n",
    "result = re.findall(\"[^abc]\", str)\n",
    "print(result)       # abc dışındaki tüm karakterleri arar\n",
    "\n",
    "result = re.findall(\"[^0-9]\", str)\n",
    "print(result)       # rakam haricindeki tüm karakterleri bulur"
   ]
  },
  {
   "attachments": {},
   "cell_type": "markdown",
   "metadata": {},
   "source": [
    "devam ediyoruz regular expression ifadelerine\n",
    "\n",
    "        .(nokta) - Herhangi bir karakteri belirtir.\n",
    "        ..( iki nokta) - iki basamaklı herhangi bir ifade arar\n",
    "\n",
    "                .. => a         : No match       \n",
    "                   => ab        : 1 match\n",
    "                   => abc       : 1 match\n",
    "                   => abcd      : 2 match\n",
    "bunun aşağıda örneklerini yapalım"
   ]
  },
  {
   "cell_type": "code",
   "execution_count": 36,
   "metadata": {},
   "outputs": [
    {
     "name": "stdout",
     "output_type": "stream",
     "text": [
      "['Pyt', 'hon', ' Ku', 'rsu', ': P', 'yth', 'on ', 'Pro', 'gra', 'mla', 'ma ', 'Reh', 'ber', 'ini', 'z |', ' 40', ' sa']\n",
      "['Python', 'Python']\n"
     ]
    }
   ],
   "source": [
    "str = \"Python Kursu: Python Programlama Rehberiniz | 40 saat\" \n",
    "\n",
    "result = re.findall(\"...\", str)  # bana tüm 3 basamaklıları geri gönder anlamında\n",
    "print(result)\n",
    "\n",
    "result = re.findall(\"Py..on\", str)  # boşluğu iki karakterle doldurdu işte\n",
    "print(result)"
   ]
  },
  {
   "attachments": {},
   "cell_type": "markdown",
   "metadata": {},
   "source": [
    "devam ediyoruz regular expression ifadelerine\n",
    "\n",
    "        ^ - Belirtilen karakterlerle başlıyor mu?\n",
    "\n",
    "        ^a =>   a :        1 match\n",
    "                abc:       2 match\n",
    "                bac:       No match\n",
    "\n",
    "örneklerini yapalım.."
   ]
  },
  {
   "cell_type": "code",
   "execution_count": 3,
   "metadata": {},
   "outputs": [
    {
     "name": "stdout",
     "output_type": "stream",
     "text": [
      "[]\n",
      "['P']\n"
     ]
    }
   ],
   "source": [
    "str = \"Python Kursu: Python Programlama Rehberiniz | 40 saat\" \n",
    "\n",
    "result = re.findall(\"^a\", str)  # a ile başlıyor mu? (verdiğimiz stringin en başındaki karakteri temsil ediyor)\n",
    "print(result)   # a ile başlayan ifade yok o nedenle [] döndürdü\n",
    "\n",
    "result = re.findall(\"^P\", str)  # p ile başlıyor mu? (kelimelerin başı değil stringin başı dikkat et)\n",
    "print(result)   # var diyor\n"
   ]
  },
  {
   "attachments": {},
   "cell_type": "markdown",
   "metadata": {},
   "source": [
    "devam ediyoruz regular expression ifadelerine\n",
    "        \n",
    "        $ - belirtilen karakterle bitiyor mu?\n",
    "\n",
    "        a$ => a     :   1 match\n",
    "              lamba :   1 match\n",
    "              Python:   No match\n",
    "\n",
    "şimdi örneklerini yapalım"
   ]
  },
  {
   "cell_type": "code",
   "execution_count": 47,
   "metadata": {},
   "outputs": [
    {
     "name": "stdout",
     "output_type": "stream",
     "text": [
      "['t']\n",
      "['saat']\n"
     ]
    }
   ],
   "source": [
    "str = \"Python Kursu: Python Programlama Rehberiniz | 40 saat\" \n",
    "\n",
    "result = re.findall(\"t$\", str)  # string ifade t ile bitiyor mu o karakteri arıyoruz.\n",
    "print(result)\n",
    "\n",
    "result = re.findall(\"saat$\", str)  # string ifade saat karakterleri ile bitiyor mu o karakteri arıyoruz.\n",
    "print(result)"
   ]
  },
  {
   "attachments": {},
   "cell_type": "markdown",
   "metadata": {},
   "source": [
    "devam ifadelere\n",
    "        \n",
    "        * - Bir karakterin sıfır ya da daha fazla sayıda olmasını kontrol eder\n",
    "\n",
    "        ma*n => mn      :   1 match\n",
    "                man     :   1 match\n",
    "                maaan   :   1 match\n",
    "                main    :   No match (a'nın arkasına n gelmiyor.)\n",
    "\n",
    "örneklere bakalım"
   ]
  },
  {
   "cell_type": "code",
   "execution_count": 49,
   "metadata": {},
   "outputs": [
    {
     "name": "stdout",
     "output_type": "stream",
     "text": [
      "['saat']\n"
     ]
    }
   ],
   "source": [
    "str = \"Python Kursu: Python Programlama Rehberiniz | 40 saat\" \n",
    "\n",
    "result = re.findall(\"sa*t\", str)\n",
    "print(result)"
   ]
  },
  {
   "attachments": {},
   "cell_type": "markdown",
   "metadata": {},
   "source": [
    "devam\n",
    "\n",
    "        + - bir karakterin bir ya da daha fazla sayıda olmasını kontrol eder.\n",
    "\n",
    "        ma+n => mn      :   No match\n",
    "                man     :   1 match\n",
    "                maaan   :   1 match\n",
    "                main    :   No match (a' nın arkasına n gelmiyor)\n",
    "\n",
    "örneklere bakalım"
   ]
  },
  {
   "cell_type": "code",
   "execution_count": 50,
   "metadata": {},
   "outputs": [
    {
     "name": "stdout",
     "output_type": "stream",
     "text": [
      "['saat']\n"
     ]
    }
   ],
   "source": [
    "str = \"Python Kursu: Python Programlama Rehberiniz | 40 saat\" \n",
    "\n",
    "result = re.findall(\"sa+t\", str)\n",
    "print(result)"
   ]
  },
  {
   "attachments": {},
   "cell_type": "markdown",
   "metadata": {},
   "source": [
    "        ?  - bir karakterin sıfır ya da bir kez olmasını kontrol eder.\n",
    "\n",
    "        ma+n => mn      :   No match\n",
    "                man     :   1 match\n",
    "                maaan   :   1 match\n",
    "                main    :   No match (a' nın arkasına n gelmiyor.)"
   ]
  },
  {
   "cell_type": "code",
   "execution_count": 4,
   "metadata": {},
   "outputs": [
    {
     "name": "stdout",
     "output_type": "stream",
     "text": [
      "[]\n"
     ]
    }
   ],
   "source": [
    "import re\n",
    "str = \"Python Kursu: Python Programlama Rehberiniz | 40 saat\" \n",
    "\n",
    "result = re.findall(\"sa?t\", str)\n",
    "print(result)"
   ]
  },
  {
   "attachments": {},
   "cell_type": "markdown",
   "metadata": {},
   "source": [
    "        {} - Karakter sayısını kontrol eder.\n",
    "\n",
    "            al{2} => a karakterinin arkasına 1 karakteri 2 kez tekrarlamalı.\n",
    "            al{2,3} => a karakterinin arkadsına 1 karakteri en az 2 en fazla 3 kez tekrarlamalı\n",
    "            [0-9]{2,4} => rakamlar arasında işlem ya ve en az 2 en çok 4 basamaklı sayıları döndür."
   ]
  },
  {
   "cell_type": "code",
   "execution_count": 7,
   "metadata": {},
   "outputs": [
    {
     "name": "stdout",
     "output_type": "stream",
     "text": [
      "['aa']\n",
      "['40']\n"
     ]
    }
   ],
   "source": [
    "result = re.findall(\"a{2}\", str) # a dan iki tane olanları bana getir demek\n",
    "print(result)\n",
    "\n",
    "result = re.findall(\"[0-9]{2}\", str) # rakamlar arasında ara ve iki basamaklı bul\n",
    "print(result)"
   ]
  },
  {
   "attachments": {},
   "cell_type": "markdown",
   "metadata": {},
   "source": [
    "        | - (or işareti) alternatif seçeneklerden birinin gerçekleşmesi gerkeir.\n",
    "\n",
    "            a|b => a ya da b\n",
    "\n",
    "                cde =>      no match\n",
    "                ade =>      1 match\n",
    "                acdbea =>   3 match\n",
    "\n",
    "        () - gruplamak için kullanılır.\n",
    "\n",
    "            (a|b|c)xz => a,b,c karakterlerinin arkasına xz gelmelidir."
   ]
  },
  {
   "attachments": {},
   "cell_type": "markdown",
   "metadata": {},
   "source": [
    "Buraya kadar hep <u>alphanumeric karakterlerle</u> olan arama işlemleriydi.\n",
    "\n",
    "Şimdi <u>özel karakterlerle</u> olan aramayı göreceğiz..\n",
    "\n"
   ]
  },
  {
   "attachments": {},
   "cell_type": "markdown",
   "metadata": {},
   "source": [
    "        \\ - özel karakterleri aramamızı sağlar.\n",
    "            \\$a => $ karakterinin arkasına a karakterini arar. Yani\n",
    "                   $ regular exp. engine tarafından yorumlanmaz\n",
    "\n",
    "        \\A - Belirtilen karakter string in başında mı ?\n",
    "             \\Athe => 'the' kelimesi string in başındamı\n",
    "\n",
    "        \\Z - Belirtilen karakter string in sonunda mı ?\n",
    "             the\\Z => 'the' string in sonunda mı\n",
    "\n",
    "        \\b - Belirtilen karakter kelimenin başında ya da sonunda mı? (string içindeki her bir kelimede bakar herhangi bir kelimenin başında ya da sonunda mı?)\n",
    "             \\bthe => 'the' kelimenin başında mı?\n",
    "             the/b => 'the' kelimenin sonunda mı?\n",
    "\n",
    "örnekler yapalım"
   ]
  },
  {
   "cell_type": "code",
   "execution_count": 12,
   "metadata": {},
   "outputs": [
    {
     "name": "stdout",
     "output_type": "stream",
     "text": [
      "['Python']\n",
      "['saat']\n"
     ]
    }
   ],
   "source": [
    "str = \"Python Kursu: Python Programlama Rehberiniz | 40 saat\" \n",
    "\n",
    "result = re.findall(\"\\APython\", str)    # string in en başında Python aradık.\n",
    "print(result)\n",
    "\n",
    "result = re.findall(\"saat\\Z\", str)  # stringin en sonunda saat bilgisi aradı.\n",
    "print(result)"
   ]
  },
  {
   "attachments": {},
   "cell_type": "markdown",
   "metadata": {},
   "source": [
    "        \\B - Belirtilen karakter kelimenin (cümledeki her bir kelimede arar) başında ya da sonunda değil mi?\n",
    "             \\Bthe => 'the' kelimenin başında değil mi? (olmayanları gönderir)\n",
    "             the\\B => 'the' kelimenin sonunda değil mi? (olmayanları gönderir)\n",
    "\n",
    "        \\d - [0-9] ile aynı anlama gelir yani rakamları arar.\n",
    "             \\d => 12abc34\n",
    "\n",
    "        \\D - [^0-9] ile aynı anlama gelir yani rakam olmayanları arar\n",
    "             \\D => 1ab44_50\n",
    "\n",
    "        \\s - Boşluk karakterlerini arar.\n",
    "        \\S - Boşluk karakteri dışındakiler.\n",
    "        \\w - Alfabetik karakterler, rakamlar ve alt çizgi karakteri.\n",
    "        \\W - \\w nin tam tersi"
   ]
  }
 ],
 "metadata": {
  "kernelspec": {
   "display_name": "Python 3",
   "language": "python",
   "name": "python3"
  },
  "language_info": {
   "codemirror_mode": {
    "name": "ipython",
    "version": 3
   },
   "file_extension": ".py",
   "mimetype": "text/x-python",
   "name": "python",
   "nbconvert_exporter": "python",
   "pygments_lexer": "ipython3",
   "version": "3.11.1"
  },
  "orig_nbformat": 4
 },
 "nbformat": 4,
 "nbformat_minor": 2
}
