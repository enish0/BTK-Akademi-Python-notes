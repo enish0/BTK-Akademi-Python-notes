{
 "cells": [
  {
   "cell_type": "markdown",
   "metadata": {},
   "source": [
    "# DataFrames"
   ]
  },
  {
   "cell_type": "code",
   "execution_count": 5,
   "metadata": {},
   "outputs": [
    {
     "name": "stdout",
     "output_type": "stream",
     "text": [
      "   apples  oranges\n",
      "0       3        0\n",
      "1       2        3\n",
      "2       0        7\n",
      "3       1        2\n"
     ]
    }
   ],
   "source": [
    "import pandas as pd\n",
    "\n",
    "s1 = pd.Series([3,2,0,1])\n",
    "s2 = pd.Series([0,3,7,2])\n",
    "\n",
    "data = dict(apples = s1, oranges = s2)\n",
    "\n",
    "df = pd.DataFrame(data)\n",
    "print(df)   # index no belirtmediğimiz için kendi 0 dan başlayarak numaralandırdı\n"
   ]
  },
  {
   "cell_type": "code",
   "execution_count": 7,
   "metadata": {},
   "outputs": [
    {
     "name": "stdout",
     "output_type": "stream",
     "text": [
      "Empty DataFrame\n",
      "Columns: []\n",
      "Index: []\n"
     ]
    }
   ],
   "source": [
    "import pandas as pd\n",
    "\n",
    "# boş bir dataFrame oluşturalım\n",
    "df = pd.DataFrame()\n",
    "print(df)   # boş bir dataframe objesi geldi ve kolon & indexlerin boş olduğunu gösterdi\n",
    "            # kolon ve indexlerin [] içinde yani liste içinde geldiğini ima ediyor [] işareti ile\n"
   ]
  },
  {
   "cell_type": "markdown",
   "metadata": {},
   "source": [
    "* bu boş dataFrame 'e bir liste vermek istersek\n"
   ]
  },
  {
   "cell_type": "code",
   "execution_count": 8,
   "metadata": {},
   "outputs": [
    {
     "name": "stdout",
     "output_type": "stream",
     "text": [
      "   0\n",
      "0  1\n",
      "1  2\n",
      "2  3\n",
      "3  4\n"
     ]
    }
   ],
   "source": [
    "import pandas as pd\n",
    "\n",
    "df = pd.DataFrame([1,2,3,4])\n",
    "print(df)   # kolon ismi vermediğimiz için boş bırakmış kolon ismini"
   ]
  },
  {
   "cell_type": "markdown",
   "metadata": {},
   "source": [
    "* kolon bilgisi verelim birçok liste tanımlayalım"
   ]
  },
  {
   "cell_type": "code",
   "execution_count": 17,
   "metadata": {},
   "outputs": [
    {
     "name": "stdout",
     "output_type": "stream",
     "text": [
      "     Name  Grade\n",
      "0   Ahmet     50\n",
      "1     Ali     60\n",
      "2  Yağmur     70\n",
      "3   Çınar     80\n",
      "                 --\n",
      "     Name  Grade\n",
      "1   Ahmet     50\n",
      "2     Ali     60\n",
      "3  Yağmur     70\n",
      "4   Çınar     80\n",
      "                 --\n",
      "     Name  Grade\n",
      "1   Ahmet   50.0\n",
      "2     Ali   60.0\n",
      "3  Yağmur   70.0\n",
      "4   Çınar   80.0\n"
     ]
    },
    {
     "name": "stderr",
     "output_type": "stream",
     "text": [
      "C:\\Users\\Yasin\\AppData\\Local\\Temp\\ipykernel_14376\\241203986.py:16: FutureWarning: Could not cast to float64, falling back to object. This behavior is deprecated. In a future version, when a dtype is passed to 'DataFrame', either all columns will be cast to that dtype, or a TypeError will be raised.\n",
      "  df = pd.DataFrame(data, columns= [\"Name\",\"Grade\"], index= [1,2,3,4], dtype= float)\n"
     ]
    }
   ],
   "source": [
    "import pandas as pd\n",
    "\n",
    "data = [[\"Ahmet\",50], [\"Ali\", 60], [\"Yağmur\", 70],[\"Çınar\",80]]\n",
    "\n",
    "df = pd.DataFrame(data, columns= [\"Name\",\"Grade\"])\n",
    "print(df)\n",
    "print(\"                 --\")\n",
    "\n",
    "# index numaralarını da biz belirleyelim\n",
    "df = pd.DataFrame(data, columns= [\"Name\",\"Grade\"], index= [1,2,3,4])    # columns= , index= şeklinde parametre isimlerini yazdığımızda hangisinin önce geldiğinin bir öndemi kalmıyor.\n",
    "print(df)\n",
    "print(\"                 --\")\n",
    "\n",
    "\n",
    "# verilerin tipini de değişebiliriz (int --> float)\n",
    "df = pd.DataFrame(data, columns= [\"Name\",\"Grade\"], index= [1,2,3,4], dtype= float)   \n",
    "print(df)\n"
   ]
  },
  {
   "cell_type": "markdown",
   "metadata": {},
   "source": [
    "* data kısmını dict türünde bir liste yaparsak işimiz daha kolay olur kolon bilgisi tanımlamamız gerekmez"
   ]
  },
  {
   "cell_type": "code",
   "execution_count": 18,
   "metadata": {},
   "outputs": [
    {
     "name": "stdout",
     "output_type": "stream",
     "text": [
      "     Name  Grade\n",
      "0   Ahmet     50\n",
      "1     Ali     60\n",
      "2  Yağmur     70\n",
      "3   Çınar     80\n"
     ]
    }
   ],
   "source": [
    "import pandas as pd\n",
    "\n",
    "dict = {\"Name\": [\"Ahmet\", \"Ali\", \"Yağmur\", \"Çınar\"], \"Grade\": [50,60,70,80]}\n",
    "df = pd.DataFrame(dict)\n",
    "print(df)"
   ]
  },
  {
   "cell_type": "markdown",
   "metadata": {},
   "source": [
    "* sözlük bilgisiyle beraber index bilgisi de gönderelim "
   ]
  },
  {
   "cell_type": "code",
   "execution_count": 21,
   "metadata": {},
   "outputs": [
    {
     "name": "stdout",
     "output_type": "stream",
     "text": [
      "       Name  Grade\n",
      "212   Ahmet     50\n",
      "232     Ali     60\n",
      "236  Yağmur     70\n",
      "456   Çınar     80\n"
     ]
    }
   ],
   "source": [
    "import pandas as pd\n",
    "\n",
    "dict = {\"Name\": [\"Ahmet\", \"Ali\", \"Yağmur\", \"Çınar\"], \"Grade\": [50,60,70,80]}\n",
    "df = pd.DataFrame(dict, index= [212,232,236,456])   # öğrenci nolarını verdik\n",
    "print(df)"
   ]
  },
  {
   "cell_type": "markdown",
   "metadata": {},
   "source": [
    "* iki farklı data bilgisini bir liste içinde nasıl saklarız"
   ]
  },
  {
   "cell_type": "code",
   "execution_count": 27,
   "metadata": {},
   "outputs": [
    {
     "name": "stdout",
     "output_type": "stream",
     "text": [
      "       Name  Grade\n",
      "211   Ahmet     50\n",
      "212     Ali     60\n",
      "213  Yağmur     70\n",
      "214   Çınar     80\n"
     ]
    }
   ],
   "source": [
    "import pandas as pd\n",
    "\n",
    "# liste içindeki her bir eleman bir satıra karşılık gelecek şekilde ayarlayacağız\n",
    "dict_list = [\n",
    "                {\"Name\":\"Ahmet\",\"Grade\":50},\n",
    "                {\"Name\":\"Ali\",\"Grade\":60},\n",
    "                {\"Name\":\"Yağmur\",\"Grade\":70},\n",
    "                {\"Name\":\"Çınar\",\"Grade\":80}\n",
    "    ]\n",
    "\n",
    "df = pd.DataFrame(dict_list, index= [\"211\",\"212\",\"213\",\"214\"])\n",
    "print(df)"
   ]
  }
 ],
 "metadata": {
  "kernelspec": {
   "display_name": "Python 3",
   "language": "python",
   "name": "python3"
  },
  "language_info": {
   "codemirror_mode": {
    "name": "ipython",
    "version": 3
   },
   "file_extension": ".py",
   "mimetype": "text/x-python",
   "name": "python",
   "nbconvert_exporter": "python",
   "pygments_lexer": "ipython3",
   "version": "3.11.1"
  },
  "orig_nbformat": 4
 },
 "nbformat": 4,
 "nbformat_minor": 2
}
