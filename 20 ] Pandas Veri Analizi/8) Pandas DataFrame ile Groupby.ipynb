{
 "cells": [
  {
   "cell_type": "markdown",
   "metadata": {},
   "source": [
    "# Pandas DataFrame ile Groupby"
   ]
  },
  {
   "cell_type": "code",
   "execution_count": 1,
   "metadata": {},
   "outputs": [
    {
     "name": "stdout",
     "output_type": "stream",
     "text": [
      "         Çalışan         Departman  Yaş     Semt  Maaş\n",
      "0   Ahmet Yılmaz  İnsan Kaynakları   30  Kadıköy  5000\n",
      "1     Can Ertürk       Bilgi İşlem   25    Tuzla  3000\n",
      "2  Hasan Korkmaz          Muhasebe   45  Maltepe  4000\n",
      "3    Cenk Saymaz  İnsan Kaynakları   50    Tuzla  3500\n",
      "4      Ali Turan       Bilgi İşlem   23  Maltepe  2750\n",
      "5    Rıza Ertürk          Muhasebe   34    Tuzla  6500\n",
      "6    Mustafa Can  İnsan Kaynakları   42  Kadıköy  4500\n",
      "29250\n",
      "              --\n",
      "{'Bilgi İşlem': [1, 4], 'Muhasebe': [2, 5], 'İnsan Kaynakları': [0, 3, 6]}\n",
      "              --\n",
      "{('Bilgi İşlem', 'Maltepe'): [4], ('Bilgi İşlem', 'Tuzla'): [1], ('Muhasebe', 'Maltepe'): [2], ('Muhasebe', 'Tuzla'): [5], ('İnsan Kaynakları', 'Kadıköy'): [0, 6], ('İnsan Kaynakları', 'Tuzla'): [3]}\n",
      "              --\n"
     ]
    }
   ],
   "source": [
    "import pandas as pd\n",
    "\n",
    "personeller = {\n",
    "    'Çalışan':['Ahmet Yılmaz','Can Ertürk','Hasan Korkmaz','Cenk Saymaz','Ali Turan','Rıza Ertürk','Mustafa Can'],\n",
    "    'Departman':['İnsan Kaynakları','Bilgi İşlem','Muhasebe','İnsan Kaynakları','Bilgi İşlem','Muhasebe','İnsan Kaynakları'],\n",
    "    'Yaş': [30,25,45,50,23,34,42],\n",
    "    'Semt': ['Kadıköy','Tuzla','Maltepe','Tuzla','Maltepe','Tuzla','Kadıköy'],\n",
    "    'Maaş': [5000,3000,4000,3500,2750,6500,4500]\n",
    "    }\n",
    "df = pd.DataFrame(personeller)\n",
    "\n",
    "# tabloyu yazdır\n",
    "result = df\n",
    "print(result)\n",
    "\n",
    "# maaşları topla\n",
    "result = df[\"Maaş\"].sum()\n",
    "print(result)\n",
    "print(\"              --\")\n",
    "\n",
    "# departmanlara göre grupla\n",
    "result = df.groupby(\"Departman\").groups\n",
    "print(result)   # index numarası ile cevap veriyor\n",
    "print(\"              --\")\n",
    "\n",
    "\n",
    "# hem aynı departman hem aynı semt olmasına göre grupla\n",
    "result = df.groupby([\"Departman\",\"Semt\"]).groups\n",
    "print(result)\n",
    "print(\"              --\")\n"
   ]
  },
  {
   "cell_type": "markdown",
   "metadata": {},
   "source": [
    "* devam"
   ]
  },
  {
   "cell_type": "code",
   "execution_count": 16,
   "metadata": {},
   "outputs": [
    {
     "name": "stdout",
     "output_type": "stream",
     "text": [
      "Kadıköy\n",
      "        Çalışan         Departman  Yaş     Semt  Maaş\n",
      "0  Ahmet Yılmaz  İnsan Kaynakları   30  Kadıköy  5000\n",
      "6   Mustafa Can  İnsan Kaynakları   42  Kadıköy  4500\n",
      "Maltepe\n",
      "         Çalışan    Departman  Yaş     Semt  Maaş\n",
      "2  Hasan Korkmaz     Muhasebe   45  Maltepe  4000\n",
      "4      Ali Turan  Bilgi İşlem   23  Maltepe  2750\n",
      "Tuzla\n",
      "       Çalışan         Departman  Yaş   Semt  Maaş\n",
      "1   Can Ertürk       Bilgi İşlem   25  Tuzla  3000\n",
      "3  Cenk Saymaz  İnsan Kaynakları   50  Tuzla  3500\n",
      "5  Rıza Ertürk          Muhasebe   34  Tuzla  6500\n",
      "             ◽   ◽   ◽\n",
      "Bilgi İşlem\n",
      "      Çalışan    Departman  Yaş     Semt  Maaş\n",
      "1  Can Ertürk  Bilgi İşlem   25    Tuzla  3000\n",
      "4   Ali Turan  Bilgi İşlem   23  Maltepe  2750\n",
      "Muhasebe\n",
      "         Çalışan Departman  Yaş     Semt  Maaş\n",
      "2  Hasan Korkmaz  Muhasebe   45  Maltepe  4000\n",
      "5    Rıza Ertürk  Muhasebe   34    Tuzla  6500\n",
      "İnsan Kaynakları\n",
      "        Çalışan         Departman  Yaş     Semt  Maaş\n",
      "0  Ahmet Yılmaz  İnsan Kaynakları   30  Kadıköy  5000\n",
      "3   Cenk Saymaz  İnsan Kaynakları   50    Tuzla  3500\n",
      "6   Mustafa Can  İnsan Kaynakları   42  Kadıköy  4500\n"
     ]
    }
   ],
   "source": [
    "import pandas as pd\n",
    "\n",
    "personeller = {\n",
    "    'Çalışan':['Ahmet Yılmaz','Can Ertürk','Hasan Korkmaz','Cenk Saymaz','Ali Turan','Rıza Ertürk','Mustafa Can'],\n",
    "    'Departman':['İnsan Kaynakları','Bilgi İşlem','Muhasebe','İnsan Kaynakları','Bilgi İşlem','Muhasebe','İnsan Kaynakları'],\n",
    "    'Yaş': [30,25,45,50,23,34,42],\n",
    "    'Semt': ['Kadıköy','Tuzla','Maltepe','Tuzla','Maltepe','Tuzla','Kadıköy'],\n",
    "    'Maaş': [5000,3000,4000,3500,2750,6500,4500]\n",
    "    }\n",
    "df = pd.DataFrame(personeller)\n",
    "#--- temel kod\n",
    "\n",
    "\n",
    "# semte göre gruplama yapalım ve döngü oluşturalım\n",
    "semtler = df.groupby(\"Semt\")\n",
    "\n",
    "for name, group in semtler:\n",
    "    print(name)\n",
    "    print(group)    # hangi insanlar hangi semtte çalışıyor gruplayıp gösterdi\n",
    "print(\"             ◽   ◽   ◽\")\n",
    "\n",
    "# departmana göre yapalım aynısını..\n",
    "departmanlar = df.groupby(\"Departman\")\n",
    "\n",
    "for name, group in departmanlar:\n",
    "    print(name)\n",
    "    print(group)"
   ]
  },
  {
   "cell_type": "markdown",
   "metadata": {},
   "source": [
    "* devam"
   ]
  },
  {
   "cell_type": "code",
   "execution_count": 20,
   "metadata": {},
   "outputs": [
    {
     "name": "stdout",
     "output_type": "stream",
     "text": [
      "        Çalışan         Departman  Yaş     Semt  Maaş\n",
      "0  Ahmet Yılmaz  İnsan Kaynakları   30  Kadıköy  5000\n",
      "6   Mustafa Can  İnsan Kaynakları   42  Kadıköy  4500\n",
      "             ◽   ◽   ◽\n",
      "         Çalışan Departman  Yaş     Semt  Maaş\n",
      "2  Hasan Korkmaz  Muhasebe   45  Maltepe  4000\n",
      "5    Rıza Ertürk  Muhasebe   34    Tuzla  6500\n"
     ]
    }
   ],
   "source": [
    "import pandas as pd\n",
    "\n",
    "personeller = {\n",
    "    'Çalışan':['Ahmet Yılmaz','Can Ertürk','Hasan Korkmaz','Cenk Saymaz','Ali Turan','Rıza Ertürk','Mustafa Can'],\n",
    "    'Departman':['İnsan Kaynakları','Bilgi İşlem','Muhasebe','İnsan Kaynakları','Bilgi İşlem','Muhasebe','İnsan Kaynakları'],\n",
    "    'Yaş': [30,25,45,50,23,34,42],\n",
    "    'Semt': ['Kadıköy','Tuzla','Maltepe','Tuzla','Maltepe','Tuzla','Kadıköy'],\n",
    "    'Maaş': [5000,3000,4000,3500,2750,6500,4500]\n",
    "    }\n",
    "df = pd.DataFrame(personeller)\n",
    "#--- temel kod\n",
    "\n",
    "# Semtlerden sadece tek bir grubu nasıl alırım..\n",
    "result = df.groupby(\"Semt\").get_group(\"Kadıköy\")\n",
    "print(result)   # sadece kadıköyde oturanları aldık\n",
    "print(\"             ◽   ◽   ◽\")\n",
    "\n",
    "# departmanı muhasebe olanları alalım\n",
    "result = df.groupby(\"Departman\").get_group(\"Muhasebe\")\n",
    "print(result)\n",
    "\n"
   ]
  },
  {
   "cell_type": "markdown",
   "metadata": {},
   "source": [
    "* aldığımız gruplar üzerinde işlemler yapalım\n",
    "* maaş ortalaması v.b"
   ]
  },
  {
   "cell_type": "code",
   "execution_count": 7,
   "metadata": {},
   "outputs": [
    {
     "name": "stdout",
     "output_type": "stream",
     "text": [
      "                  Yaş   Maaş\n",
      "Departman                   \n",
      "Bilgi İşlem        48   5750\n",
      "Muhasebe           79  10500\n",
      "İnsan Kaynakları  122  13000\n",
      "             ◽   ◽   ◽\n",
      "                        Yaş         Maaş\n",
      "Departman                               \n",
      "Bilgi İşlem       24.000000  2875.000000\n",
      "Muhasebe          39.500000  5250.000000\n",
      "İnsan Kaynakları  40.666667  4333.333333\n",
      "             ◽   ◽   ◽\n",
      "Departman\n",
      "Bilgi İşlem         2875.000000\n",
      "Muhasebe            5250.000000\n",
      "İnsan Kaynakları    4333.333333\n",
      "Name: Maaş, dtype: float64\n",
      "             ◽   ◽   ◽\n",
      "Semt\n",
      "Kadıköy    36.000000\n",
      "Maltepe    34.000000\n",
      "Tuzla      36.333333\n",
      "Name: Yaş, dtype: float64\n",
      "             ◽   ◽   ◽\n",
      "Semt\n",
      "Kadıköy    2\n",
      "Maltepe    2\n",
      "Tuzla      3\n",
      "Name: Çalışan, dtype: int64\n",
      "             ◽   ◽   ◽\n",
      "Departman\n",
      "Bilgi İşlem         25\n",
      "Muhasebe            45\n",
      "İnsan Kaynakları    50\n",
      "Name: Yaş, dtype: int64\n",
      "             ◽   ◽   ◽\n"
     ]
    },
    {
     "name": "stderr",
     "output_type": "stream",
     "text": [
      "C:\\Users\\Yasin\\AppData\\Local\\Temp\\ipykernel_17644\\959810616.py:14: FutureWarning: The default value of numeric_only in DataFrameGroupBy.sum is deprecated. In a future version, numeric_only will default to False. Either specify numeric_only or select only columns which should be valid for the function.\n",
      "  result = df.groupby(\"Departman\").sum()\n",
      "C:\\Users\\Yasin\\AppData\\Local\\Temp\\ipykernel_17644\\959810616.py:20: FutureWarning: The default value of numeric_only in DataFrameGroupBy.mean is deprecated. In a future version, numeric_only will default to False. Either specify numeric_only or select only columns which should be valid for the function.\n",
      "  result = df.groupby(\"Departman\").mean()\n"
     ]
    }
   ],
   "source": [
    "import pandas as pd\n",
    "\n",
    "personeller = {\n",
    "    'Çalışan':['Ahmet Yılmaz','Can Ertürk','Hasan Korkmaz','Cenk Saymaz','Ali Turan','Rıza Ertürk','Mustafa Can'],\n",
    "    'Departman':['İnsan Kaynakları','Bilgi İşlem','Muhasebe','İnsan Kaynakları','Bilgi İşlem','Muhasebe','İnsan Kaynakları'],\n",
    "    'Yaş': [30,25,45,50,23,34,42],\n",
    "    'Semt': ['Kadıköy','Tuzla','Maltepe','Tuzla','Maltepe','Tuzla','Kadıköy'],\n",
    "    'Maaş': [5000,3000,4000,3500,2750,6500,4500]\n",
    "    }\n",
    "df = pd.DataFrame(personeller)\n",
    "#--- temel kod\n",
    "\n",
    "# departmana göre bir gruplama yapıp toplam isteyelim\n",
    "result = df.groupby(\"Departman\").sum()\n",
    "print(result)   # kolon belirlemeyince departmanlardaki maaş ve yaş toplamını getirdi\n",
    "print(\"             ◽   ◽   ◽\")\n",
    "\n",
    "\n",
    "# yukarıdakinin maaşların ortalaması olan hali gelsin\n",
    "result = df.groupby(\"Departman\").mean()\n",
    "print(result)   # yaş / maaş ortalaması verdi departmanlara göre\n",
    "print(\"             ◽   ◽   ◽\")\n",
    "\n",
    "\n",
    "# yukarıdakinin sadece maaş ort. gelsin\n",
    "result = df.groupby(\"Departman\")[\"Maaş\"].mean()\n",
    "print(result)\n",
    "print(\"             ◽   ◽   ◽\")\n",
    "\n",
    "# semte maaşlara baktık\n",
    "result = df.groupby(\"Semt\")[\"Yaş\"].mean()\n",
    "print(result)\n",
    "print(\"             ◽   ◽   ◽\")\n",
    "\n",
    "# semtlere göre çalışan sayısı\n",
    "result = df.groupby(\"Semt\")[\"Çalışan\"].count()\n",
    "print(result)  \n",
    "print(\"             ◽   ◽   ◽\")"
   ]
  },
  {
   "cell_type": "markdown",
   "metadata": {},
   "source": [
    "* devam"
   ]
  },
  {
   "cell_type": "code",
   "execution_count": 12,
   "metadata": {},
   "outputs": [
    {
     "name": "stdout",
     "output_type": "stream",
     "text": [
      "Departman\n",
      "Bilgi İşlem         25\n",
      "Muhasebe            45\n",
      "İnsan Kaynakları    50\n",
      "Name: Yaş, dtype: int64\n",
      "             ◽   ◽   ◽\n",
      "Departman\n",
      "Bilgi İşlem         2750\n",
      "Muhasebe            4000\n",
      "İnsan Kaynakları    3500\n",
      "Name: Maaş, dtype: int64\n",
      "             ◽   ◽   ◽\n",
      "6500\n"
     ]
    }
   ],
   "source": [
    "import pandas as pd\n",
    "\n",
    "personeller = {\n",
    "    'Çalışan':['Ahmet Yılmaz','Can Ertürk','Hasan Korkmaz','Cenk Saymaz','Ali Turan','Rıza Ertürk','Mustafa Can'],\n",
    "    'Departman':['İnsan Kaynakları','Bilgi İşlem','Muhasebe','İnsan Kaynakları','Bilgi İşlem','Muhasebe','İnsan Kaynakları'],\n",
    "    'Yaş': [30,25,45,50,23,34,42],\n",
    "    'Semt': ['Kadıköy','Tuzla','Maltepe','Tuzla','Maltepe','Tuzla','Kadıköy'],\n",
    "    'Maaş': [5000,3000,4000,3500,2750,6500,4500]\n",
    "    }\n",
    "df = pd.DataFrame(personeller)\n",
    "#--- temel kod\n",
    "\n",
    "# her departmanda çalışan max yaşlar.\n",
    "result = df.groupby(\"Departman\")[\"Yaş\"].max()\n",
    "print(result)\n",
    "print(\"             ◽   ◽   ◽\")\n",
    "\n",
    "# her departmanda çalışan min maaş miktarları.\n",
    "result = df.groupby(\"Departman\")[\"Maaş\"].min()\n",
    "print(result)\n",
    "print(\"             ◽   ◽   ◽\")\n",
    "\n",
    "# sadece muhasebenin maximum maaş bilgisine ulaşalım.\n",
    "result = df.groupby(\"Departman\")[\"Maaş\"].max()[\"Muhasebe\"]\n",
    "print(result)"
   ]
  },
  {
   "cell_type": "markdown",
   "metadata": {},
   "source": [
    "* devam\n",
    "\n",
    "        agg()"
   ]
  },
  {
   "cell_type": "code",
   "execution_count": 19,
   "metadata": {},
   "outputs": [
    {
     "name": "stdout",
     "output_type": "stream",
     "text": [
      "                        Yaş         Maaş\n",
      "Departman                               \n",
      "Bilgi İşlem       24.000000  2875.000000\n",
      "Muhasebe          39.500000  5250.000000\n",
      "İnsan Kaynakları  40.666667  4333.333333\n",
      "             ◽   ◽   ◽\n",
      "                    sum         mean   max   min\n",
      "Departman                                       \n",
      "Bilgi İşlem        5750  2875.000000  3000  2750\n",
      "Muhasebe          10500  5250.000000  6500  4000\n",
      "İnsan Kaynakları  13000  4333.333333  5000  3500\n",
      "             ◽   ◽   ◽\n",
      "sum     10500.0\n",
      "mean     5250.0\n",
      "max      6500.0\n",
      "min      4000.0\n",
      "Name: Muhasebe, dtype: float64\n"
     ]
    },
    {
     "name": "stderr",
     "output_type": "stream",
     "text": [
      "C:\\Users\\Yasin\\AppData\\Local\\Temp\\ipykernel_17644\\2307297283.py:17: FutureWarning: The operation <function mean at 0x00000215FFA26FC0> failed on a column. If any error is raised, this will raise an exception in a future version of pandas. Drop these columns to avoid this warning.\n",
      "  result = df.groupby(\"Departman\").agg(np.mean)   # departmana göre bir ortalama işlemi yapılır.\n"
     ]
    }
   ],
   "source": [
    "import pandas as pd\n",
    "personeller = {\n",
    "    'Çalışan':['Ahmet Yılmaz','Can Ertürk','Hasan Korkmaz','Cenk Saymaz','Ali Turan','Rıza Ertürk','Mustafa Can'],\n",
    "    'Departman':['İnsan Kaynakları','Bilgi İşlem','Muhasebe','İnsan Kaynakları','Bilgi İşlem','Muhasebe','İnsan Kaynakları'],\n",
    "    'Yaş': [30,25,45,50,23,34,42],\n",
    "    'Semt': ['Kadıköy','Tuzla','Maltepe','Tuzla','Maltepe','Tuzla','Kadıköy'],\n",
    "    'Maaş': [5000,3000,4000,3500,2750,6500,4500]\n",
    "    }\n",
    "df = pd.DataFrame(personeller)\n",
    "#--- temel kod\n",
    "\n",
    "import numpy as np\n",
    "\n",
    "# agg metodunu kullanarak bir hesaplama işlemi yapalım. (numpy da kullanalım)\n",
    "# agg metodu sayesinde seçilen departman ve maaş yaş bilgilerini kolayca toplama ortalama alma max ve min alma işlemlerini birden yapabiliriz.\n",
    "# agg metodu kullanarak ortalama alalım.\n",
    "result = df.groupby(\"Departman\").agg(np.mean)   # departmana göre bir ortalama işlemi yapılır.\n",
    "print(result)\n",
    "print(\"             ◽   ◽   ◽\")\n",
    "\n",
    "# agg() içine birden fazla parametre verebiliriz\n",
    "# maaş Tüm departmanlardaki sadece maaş bilgisi için toplam ortalama max min değerlerini yazsın.\n",
    "result = df.groupby(\"Departman\")[\"Maaş\"].agg([np.sum,np.mean,np.max,np.min])\n",
    "print(result)\n",
    "print(\"             ◽   ◽   ◽\")\n",
    "\n",
    "# yukarıdakini sadece bir departmana özel yapmak istersek .loc[] ekleyebiliriz\n",
    "result = df.groupby(\"Departman\")[\"Maaş\"].agg([np.sum,np.mean,np.max,np.min]).loc[\"Muhasebe\"]\n",
    "print(result)   # sadece muhasebe için yaptık"
   ]
  }
 ],
 "metadata": {
  "kernelspec": {
   "display_name": "Python 3",
   "language": "python",
   "name": "python3"
  },
  "language_info": {
   "codemirror_mode": {
    "name": "ipython",
    "version": 3
   },
   "file_extension": ".py",
   "mimetype": "text/x-python",
   "name": "python",
   "nbconvert_exporter": "python",
   "pygments_lexer": "ipython3",
   "version": "3.11.1"
  },
  "orig_nbformat": 4
 },
 "nbformat": 4,
 "nbformat_minor": 2
}
