{
 "cells": [
  {
   "cell_type": "markdown",
   "metadata": {},
   "source": [
    "# Pandas ile Kayıp ve Bozuk Veri Analizi"
   ]
  },
  {
   "cell_type": "code",
   "execution_count": 2,
   "metadata": {},
   "outputs": [
    {
     "name": "stdout",
     "output_type": "stream",
     "text": [
      "   column1  column2  column3\n",
      "a     80.0     80.0     76.0\n",
      "b      NaN      NaN      NaN\n",
      "c     67.0     30.0     12.0\n",
      "d      NaN      NaN      NaN\n",
      "e     76.0     24.0     37.0\n",
      "f     70.0     18.0     90.0\n",
      "g      NaN      NaN      NaN\n",
      "h     56.0     57.0     24.0\n"
     ]
    }
   ],
   "source": [
    "import pandas as pd\n",
    "import numpy as np\n",
    "\n",
    "# 10 -100 arsı 15 sayıdan oluşan 5 e 3 lük matrix oluşturalım\n",
    "data = np.random.randint(10,100,15).reshape(5,3)\n",
    "# dataFrame oluşturalım\n",
    "df = pd.DataFrame(data, index= ['a', 'c', 'e', 'f', 'h'], columns = ['column1','column2','column3'])\n",
    "# dataFrame tekrar indexleyelim (aralara 3 index daha ekledik)\n",
    "df = df.reindex(['a','b','c','d','e','f','g','h'])\n",
    "\n",
    "result = df\n",
    "print(result)"
   ]
  },
  {
   "cell_type": "markdown",
   "metadata": {},
   "source": [
    "* devam \n",
    "* istemediğimiz kolon & satırları nasıl datasetinin içinden sileceğiz bunu görücez\n",
    "\n",
    "        drop()"
   ]
  },
  {
   "cell_type": "code",
   "execution_count": 21,
   "metadata": {},
   "outputs": [
    {
     "name": "stdout",
     "output_type": "stream",
     "text": [
      "   column2  column3\n",
      "a     40.0     95.0\n",
      "b      NaN      NaN\n",
      "c     96.0     14.0\n",
      "d      NaN      NaN\n",
      "e     74.0     37.0\n",
      "f     78.0     60.0\n",
      "g      NaN      NaN\n",
      "h     46.0     70.0\n",
      "             ◽   ◽   ◽\n",
      "   column3\n",
      "a     95.0\n",
      "b      NaN\n",
      "c     14.0\n",
      "d      NaN\n",
      "e     37.0\n",
      "f     60.0\n",
      "g      NaN\n",
      "h     70.0\n",
      "             ◽   ◽   ◽\n",
      "   column1  column2  column3\n",
      "b      NaN      NaN      NaN\n",
      "c     76.0     96.0     14.0\n",
      "d      NaN      NaN      NaN\n",
      "e     84.0     74.0     37.0\n",
      "f     43.0     78.0     60.0\n",
      "g      NaN      NaN      NaN\n",
      "h     66.0     46.0     70.0\n"
     ]
    }
   ],
   "source": [
    "import pandas as pd\n",
    "import numpy as np\n",
    "\n",
    "# 10 -100 arsı 15 sayıdan oluşan 5 e 3 lük matrix oluşturalım\n",
    "data = np.random.randint(10,100,15).reshape(5,3)\n",
    "# dataFrame oluşturalım\n",
    "df = pd.DataFrame(data, index= ['a', 'c', 'e', 'f', 'h'], columns = ['column1','column2','column3'])\n",
    "# dataFrame tekrar indexleyelim (aralara 3 index daha ekledik)\n",
    "df = df.reindex(['a','b','c','d','e','f','g','h'])\n",
    "#---- temel kod\n",
    "\n",
    "# kolon1 'i silelim drop() kullanarak\n",
    "result = df.drop(\"column1\", axis= 1)    # axis 0 : yatay axis 1 : dikey demek\n",
    "print(result)\n",
    "print(\"             ◽   ◽   ◽\")\n",
    "\n",
    "# birden fazla kolon silmek istersek..\n",
    "result = df.drop([\"column1\",\"column2\"], axis= 1)\n",
    "print(result)\n",
    "print(\"             ◽   ◽   ◽\")\n",
    "\n",
    "# a indexini silmek istersek\n",
    "result = df.drop('a', axis= 0)  # a indexi yatayda old. için axis = 0\n",
    "print(result)\n"
   ]
  },
  {
   "cell_type": "markdown",
   "metadata": {},
   "source": [
    "* devam"
   ]
  },
  {
   "cell_type": "code",
   "execution_count": 36,
   "metadata": {},
   "outputs": [
    {
     "name": "stdout",
     "output_type": "stream",
     "text": [
      "   column1  column2  column3\n",
      "c     80.0     80.0     81.0\n",
      "d      NaN      NaN      NaN\n",
      "e     49.0     97.0     83.0\n",
      "f     68.0     63.0     45.0\n",
      "g      NaN      NaN      NaN\n"
     ]
    }
   ],
   "source": [
    "import pandas as pd\n",
    "import numpy as np\n",
    "\n",
    "# 10 -100 arsı 15 sayıdan oluşan 5 e 3 lük matrix oluşturalım\n",
    "data = np.random.randint(10,100,15).reshape(5,3)\n",
    "# dataFrame oluşturalım\n",
    "df = pd.DataFrame(data, index= ['a', 'c', 'e', 'f', 'h'], columns = ['column1','column2','column3'])\n",
    "# dataFrame tekrar indexleyelim (aralara 3 index daha ekledik)\n",
    "df = df.reindex(['a','b','c','d','e','f','g','h'])\n",
    "#---- temel kod\n",
    "\n",
    "# birden fazla index silmek istersek\n",
    "result = df.drop(['a','b','h'], axis= 0)\n",
    "print(result)"
   ]
  },
  {
   "cell_type": "markdown",
   "metadata": {},
   "source": [
    "* peki null yani NaN olan alanları nasıl tespit edeceğiz?\n",
    "\n",
    "        isnull()\n",
    "        notnull()"
   ]
  },
  {
   "cell_type": "code",
   "execution_count": 45,
   "metadata": {},
   "outputs": [
    {
     "name": "stdout",
     "output_type": "stream",
     "text": [
      "   column1  column2  column3\n",
      "a    False    False    False\n",
      "b     True     True     True\n",
      "c    False    False    False\n",
      "d     True     True     True\n",
      "e    False    False    False\n",
      "f    False    False    False\n",
      "g     True     True     True\n",
      "h    False    False    False\n",
      "             ◽   ◽   ◽\n",
      "   column1  column2  column3\n",
      "a     True     True     True\n",
      "b    False    False    False\n",
      "c     True     True     True\n",
      "d    False    False    False\n",
      "e     True     True     True\n",
      "f     True     True     True\n",
      "g    False    False    False\n",
      "h     True     True     True\n",
      "             ◽   ◽   ◽\n",
      "column1    3\n",
      "column2    3\n",
      "column3    3\n",
      "dtype: int64\n",
      "             ◽   ◽   ◽\n",
      "3\n"
     ]
    }
   ],
   "source": [
    "import pandas as pd\n",
    "import numpy as np\n",
    "\n",
    "# 10 -100 arsı 15 sayıdan oluşan 5 e 3 lük matrix oluşturalım\n",
    "data = np.random.randint(10,100,15).reshape(5,3)\n",
    "# dataFrame oluşturalım\n",
    "df = pd.DataFrame(data, index= ['a', 'c', 'e', 'f', 'h'], columns = ['column1','column2','column3'])\n",
    "# dataFrame tekrar indexleyelim (aralara 3 index daha ekledik)\n",
    "df = df.reindex(['a','b','c','d','e','f','g','h'])\n",
    "#---- temel kod\n",
    "\n",
    "\n",
    "# isnull() metodu bize null veya NaN olan alanları True olarak gösterir.\n",
    "result = df.isnull()\n",
    "print(result)   # null olanlara True verdi\n",
    "print(\"             ◽   ◽   ◽\")\n",
    "\n",
    "# null yani NaN olan alanları değilde olmayan alanları True olarak göstersin dersek.\n",
    "result = df.notnull()\n",
    "print(result)   # null olmayanlara True verdi.\n",
    "print(\"             ◽   ◽   ◽\")\n",
    "\n",
    "# NaN olan değerlerin toplamı bize gelsin istersek..\n",
    "result = df.isnull().sum()\n",
    "print(result)\n",
    "print(\"             ◽   ◽   ◽\")\n",
    "\n",
    "# sadece bir kolondaki değerleri saymak istersem..\n",
    "result = df[\"column1\"].isnull().sum()\n",
    "print(result)"
   ]
  },
  {
   "cell_type": "markdown",
   "metadata": {},
   "source": [
    "* içinde nan değerler olan yeni bir kolon daha ekleyip devam edelim."
   ]
  },
  {
   "cell_type": "code",
   "execution_count": 55,
   "metadata": {},
   "outputs": [
    {
     "name": "stdout",
     "output_type": "stream",
     "text": [
      "   column1  column2  column3  column4\n",
      "a     83.0     44.0     32.0      NaN\n",
      "b      NaN      NaN      NaN     30.0\n",
      "c     16.0     81.0     59.0      NaN\n",
      "d      NaN      NaN      NaN     51.0\n",
      "e     49.0     36.0     50.0      NaN\n",
      "f     20.0     30.0     64.0     30.0\n",
      "g      NaN      NaN      NaN      NaN\n",
      "h     84.0     16.0     62.0     10.0\n",
      "             ◽   ◽   ◽\n",
      "a    False\n",
      "b     True\n",
      "c    False\n",
      "d     True\n",
      "e    False\n",
      "f    False\n",
      "g     True\n",
      "h    False\n",
      "Name: column1, dtype: bool\n",
      "             ◽   ◽   ◽\n",
      "   column1  column2  column3  column4\n",
      "b      NaN      NaN      NaN     30.0\n",
      "d      NaN      NaN      NaN     51.0\n",
      "g      NaN      NaN      NaN      NaN\n",
      "             ◽   ◽   ◽\n",
      "b   NaN\n",
      "d   NaN\n",
      "g   NaN\n",
      "Name: column1, dtype: float64\n",
      "a    83.0\n",
      "c    16.0\n",
      "e    49.0\n",
      "f    20.0\n",
      "h    84.0\n",
      "Name: column1, dtype: float64\n"
     ]
    }
   ],
   "source": [
    "import numpy as np\n",
    "\n",
    "# 10 -100 arsı 15 sayıdan oluşan 5 e 3 lük matrix oluşturalım\n",
    "data = np.random.randint(10,100,15).reshape(5,3)\n",
    "# dataFrame oluşturalım\n",
    "df = pd.DataFrame(data, index= ['a', 'c', 'e', 'f', 'h'], columns = ['column1','column2','column3'])\n",
    "# dataFrame tekrar indexleyelim (aralara 3 index daha ekledik)\n",
    "df = df.reindex(['a','b','c','d','e','f','g','h'])\n",
    "#---- temel kod\n",
    "\n",
    "# yeni kolon oluşturalım\n",
    "newColumn = [np.nan,30,np.nan,51,np.nan,30,np.nan,10]  # np.nan (nan değer eklemenin kısa yolu) # 8 satır oldu\n",
    "# kolonu dataFrame imize ekleyelim 4.kolon olarak\n",
    "df[\"column4\"] = newColumn\n",
    "#----- güncel temel kod\n",
    "\n",
    "print(df)\n",
    "print(\"             ◽   ◽   ◽\")\n",
    "\n",
    "# null değerlerine bakalım tekrar\n",
    "result = df[\"column1\"].isnull()\n",
    "print(result)   # null alanlar için true gösterdi\n",
    "print(\"             ◽   ◽   ◽\")\n",
    "\n",
    "\n",
    "# null olan değerleri görelim (true/false olarak değil)\n",
    "result = df[df[\"column1\"].isnull()]\n",
    "print(result)   # null olanları gösterirken aynı satırdaki null olmayanları da gösterdi\n",
    "print(\"             ◽   ◽   ◽\")\n",
    "\n",
    "\n",
    "# yukarıdaki gibi null olmayanlar araya karışmasın diye sadece kolon1 i göster diye ekleyelim sonuna\n",
    "result = df[df[\"column1\"].isnull()][\"column1\"]\n",
    "print(result)"
   ]
  },
  {
   "cell_type": "markdown",
   "metadata": {},
   "source": [
    "* devam"
   ]
  },
  {
   "cell_type": "code",
   "execution_count": 58,
   "metadata": {},
   "outputs": [
    {
     "name": "stdout",
     "output_type": "stream",
     "text": [
      "a    32.0\n",
      "c    38.0\n",
      "e    95.0\n",
      "f    41.0\n",
      "h    75.0\n",
      "Name: column1, dtype: float64\n",
      "             ◽   ◽   ◽\n",
      "   column1  column2  column3  column4\n",
      "a     32.0     36.0     14.0      NaN\n",
      "c     38.0     99.0     10.0      NaN\n",
      "e     95.0     36.0     54.0      NaN\n",
      "f     41.0     89.0     63.0     30.0\n",
      "h     75.0     42.0     78.0     10.0\n"
     ]
    }
   ],
   "source": [
    "import numpy as np\n",
    "\n",
    "# 10 -100 arsı 15 sayıdan oluşan 5 e 3 lük matrix oluşturalım\n",
    "data = np.random.randint(10,100,15).reshape(5,3)\n",
    "# dataFrame oluşturalım\n",
    "df = pd.DataFrame(data, index= ['a', 'c', 'e', 'f', 'h'], columns = ['column1','column2','column3'])\n",
    "# dataFrame tekrar indexleyelim (aralara 3 index daha ekledik)\n",
    "df = df.reindex(['a','b','c','d','e','f','g','h'])\n",
    "# yeni kolon oluşturalım\n",
    "newColumn = [np.nan,30,np.nan,51,np.nan,30,np.nan,10]  # np.nan (nan değer eklemenin kısa yolu) # 8 satır oldu\n",
    "# kolonu dataFrame imize ekleyelim 4.kolon olarak\n",
    "df[\"column4\"] = newColumn\n",
    "#----- güncel temel kod\n",
    "\n",
    "# null olmayan halini versin bir öncekinin\n",
    "result = df[df[\"column1\"].notnull()][\"column1\"]\n",
    "print(result)\n",
    "print(\"             ◽   ◽   ◽\")\n",
    "\n",
    "\n",
    "# yukarıdakinden column1 filtrelemesini tekrar kaldıralım tüm dataFrame de arasın yine\n",
    "result = df[df[\"column1\"].notnull()]\n",
    "print(result)   # column1 de nan olmayan alanları verirken aynı satırlardaki nan olanlar da gösterilmiş oluyor (araya kaynıyor)"
   ]
  }
 ],
 "metadata": {
  "kernelspec": {
   "display_name": "Python 3",
   "language": "python",
   "name": "python3"
  },
  "language_info": {
   "codemirror_mode": {
    "name": "ipython",
    "version": 3
   },
   "file_extension": ".py",
   "mimetype": "text/x-python",
   "name": "python",
   "nbconvert_exporter": "python",
   "pygments_lexer": "ipython3",
   "version": "3.11.1"
  },
  "orig_nbformat": 4
 },
 "nbformat": 4,
 "nbformat_minor": 2
}
