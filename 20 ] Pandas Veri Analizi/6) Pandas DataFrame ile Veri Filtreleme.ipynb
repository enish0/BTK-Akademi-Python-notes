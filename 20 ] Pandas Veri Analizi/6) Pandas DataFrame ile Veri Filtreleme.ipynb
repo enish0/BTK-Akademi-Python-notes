{
 "cells": [
  {
   "cell_type": "markdown",
   "metadata": {},
   "source": [
    "# Pandas Data Frame İle Veri Filtreleme"
   ]
  },
  {
   "cell_type": "code",
   "execution_count": 3,
   "metadata": {},
   "outputs": [
    {
     "name": "stdout",
     "output_type": "stream",
     "text": [
      "[[93 78 86 18 60]\n",
      " [11 25 30 27 80]\n",
      " [24 44 30 56 24]\n",
      " [31 53 16 84 23]\n",
      " [90 36 58 83 80]\n",
      " [23 19 73 85 25]\n",
      " [75 49 97 93 49]\n",
      " [40 70 64 18 20]\n",
      " [36 67 73 21 17]\n",
      " [25 61 48 19 87]\n",
      " [34 47 84 76 90]\n",
      " [77 20 64 94 34]\n",
      " [22 75 27 13 42]\n",
      " [33 95 36 15 70]\n",
      " [87 22 11 10 49]]\n"
     ]
    }
   ],
   "source": [
    "import pandas as pd\n",
    "import numpy as np\n",
    "\n",
    "# data isimli seri üretiyoruz  , reshape ile 15 satır 5 kolona bölüyoruz. matrix oldu\n",
    "data = np.random.randint(10,100,75).reshape(15,5)\n",
    "print(data)"
   ]
  },
  {
   "cell_type": "markdown",
   "metadata": {},
   "source": [
    "* data yı DataFrame'e verelim"
   ]
  },
  {
   "cell_type": "code",
   "execution_count": 5,
   "metadata": {},
   "outputs": [
    {
     "name": "stdout",
     "output_type": "stream",
     "text": [
      "    Column1  Column2  Column3  Column4  Column5\n",
      "0        93       78       86       18       60\n",
      "1        11       25       30       27       80\n",
      "2        24       44       30       56       24\n",
      "3        31       53       16       84       23\n",
      "4        90       36       58       83       80\n",
      "5        23       19       73       85       25\n",
      "6        75       49       97       93       49\n",
      "7        40       70       64       18       20\n",
      "8        36       67       73       21       17\n",
      "9        25       61       48       19       87\n",
      "10       34       47       84       76       90\n",
      "11       77       20       64       94       34\n",
      "12       22       75       27       13       42\n",
      "13       33       95       36       15       70\n",
      "14       87       22       11       10       49\n"
     ]
    }
   ],
   "source": [
    "import pandas as pd\n",
    "\n",
    "# dataFrame olarak tanımlayalım dataFrame'e verelim datayı\n",
    "df = pd.DataFrame(data, columns= [\"Column1\", \"Column2\", \"Column3\", \"Column4\", \"Column5\"])                      \n",
    "result = df                         # kolonları belirttik index ismi vermedik otomatik\n",
    "print(result)"
   ]
  },
  {
   "cell_type": "markdown",
   "metadata": {},
   "source": [
    "* diyelimki bizim elimizde bir csv dosyası ve içinde yüksek boyutta bilgi var"
   ]
  },
  {
   "cell_type": "code",
   "execution_count": 12,
   "metadata": {},
   "outputs": [
    {
     "name": "stdout",
     "output_type": "stream",
     "text": [
      "Index(['Column1', 'Column2', 'Column3', 'Column4', 'Column5'], dtype='object')\n",
      "   Column1  Column2  Column3  Column4  Column5\n",
      "0       93       78       86       18       60\n",
      "1       11       25       30       27       80\n",
      "2       24       44       30       56       24\n",
      "3       31       53       16       84       23\n",
      "4       90       36       58       83       80\n",
      "   Column1  Column2  Column3  Column4  Column5\n",
      "0       93       78       86       18       60\n",
      "1       11       25       30       27       80\n",
      "2       24       44       30       56       24\n",
      "3       31       53       16       84       23\n",
      "4       90       36       58       83       80\n",
      "5       23       19       73       85       25\n",
      "6       75       49       97       93       49\n",
      "7       40       70       64       18       20\n",
      "8       36       67       73       21       17\n",
      "9       25       61       48       19       87\n",
      "    Column1  Column2  Column3  Column4  Column5\n",
      "10       34       47       84       76       90\n",
      "11       77       20       64       94       34\n",
      "12       22       75       27       13       42\n",
      "13       33       95       36       15       70\n",
      "14       87       22       11       10       49\n",
      "    Column1  Column2  Column3  Column4  Column5\n",
      "5        23       19       73       85       25\n",
      "6        75       49       97       93       49\n",
      "7        40       70       64       18       20\n",
      "8        36       67       73       21       17\n",
      "9        25       61       48       19       87\n",
      "10       34       47       84       76       90\n",
      "11       77       20       64       94       34\n",
      "12       22       75       27       13       42\n",
      "13       33       95       36       15       70\n",
      "14       87       22       11       10       49\n"
     ]
    }
   ],
   "source": [
    "import pandas as pd\n",
    "import numpy as np\n",
    "data = np.random.randint(10,100,75).reshape(15,5)\n",
    "df = pd.DataFrame(data, columns= [\"Column1\", \"Column2\", \"Column3\", \"Column4\", \"Column5\"])\n",
    "#--- temel kod\n",
    "\n",
    "# csv dosyasındaki bilgileri dataFrame'e aktarıcam ve kolon bilgilerini merak ediyorsam ne yapmalıyım.\n",
    "result = df.columns\n",
    "print(result)   # dataFrame içindeki kolonların bilgisini verdi.\n",
    "\n",
    "# csv dosyasındaki baştan ilk 5 bilgiyi almak istiyoruz diyelim\n",
    "result = df.head()\n",
    "print(result)   # ilk 5 satırı verdi\n",
    "\n",
    "# baştan ilk 10 kaydı nasıl alabiliriz mesela\n",
    "result = df.head(10)\n",
    "print(result)\n",
    "\n",
    "# sondan ilk 5 bilgi nasıl alırım\n",
    "result = df.tail()\n",
    "print(result)\n",
    "\n",
    "# sondan ilk 10 bilgiyi..\n",
    "result = df.tail(10)\n",
    "print(result)"
   ]
  },
  {
   "cell_type": "markdown",
   "metadata": {},
   "source": [
    "* devam edelim"
   ]
  },
  {
   "cell_type": "code",
   "execution_count": 30,
   "metadata": {},
   "outputs": [
    {
     "name": "stdout",
     "output_type": "stream",
     "text": [
      "0    93\n",
      "1    11\n",
      "2    24\n",
      "3    31\n",
      "4    90\n",
      "Name: Column1, dtype: int32\n",
      "            --\n",
      "0    93\n",
      "1    11\n",
      "2    24\n",
      "3    31\n",
      "4    90\n",
      "Name: Column1, dtype: int32\n",
      "            --\n",
      "   Column1  Column2\n",
      "0       93       78\n",
      "1       11       25\n",
      "2       24       44\n",
      "3       31       53\n",
      "4       90       36\n",
      "            --\n",
      "    Column1  Column2\n",
      "10       34       47\n",
      "11       77       20\n",
      "12       22       75\n",
      "13       33       95\n",
      "14       87       22\n"
     ]
    }
   ],
   "source": [
    "import pandas as pd\n",
    "import numpy as np\n",
    "data = np.random.randint(10,100,75).reshape(15,5)\n",
    "df = pd.DataFrame(data, columns= [\"Column1\", \"Column2\", \"Column3\", \"Column4\", \"Column5\"])\n",
    "#--- temel kod\n",
    "\n",
    "# sadece seçilen kolonun baştan ilk 5 kaydını alır\n",
    "result = df[\"Column1\"].head()\n",
    "print(result)\n",
    "print(\"            --\")\n",
    "\n",
    "# yukarıdakini şöyle de yaparsak aynı sonuca çıkar\n",
    "result = df.Column1.head()\n",
    "print(result)\n",
    "print(\"            --\")\n",
    "\n",
    "# birden fazla kolon almak istersek.\n",
    "result = df[[\"Column1\", \"Column2\"]].head() # birden fazla kolon isteyince liste olarak göndermek gerekiyor.\n",
    "print(result)           # kolon bir kolon iki nin ilk 5'i gelir.\n",
    "print(\"            --\")\n",
    "\n",
    "# aynısının bu sefer sondan ilk 5 kayıtları alalım\n",
    "result = df[[\"Column1\", \"Column2\"]].tail() # birden fazla kolon isteyince liste olarak göndermek gerekiyor.\n",
    "print(result)           # kolon bir kolon iki nin ilk 5'i gelir."
   ]
  },
  {
   "cell_type": "markdown",
   "metadata": {},
   "source": [
    "* parçalayıp dataFrame'in istediğimiz bir parçasını da alabiliriz"
   ]
  },
  {
   "cell_type": "code",
   "execution_count": 38,
   "metadata": {},
   "outputs": [
    {
     "name": "stdout",
     "output_type": "stream",
     "text": [
      "   Column1  Column2\n",
      "5       23       19\n",
      "6       75       49\n",
      "7       40       70\n",
      "8       36       67\n",
      "9       25       61\n",
      "            --\n",
      "    Column1  Column2\n",
      "10       34       47\n",
      "11       77       20\n",
      "12       22       75\n",
      "13       33       95\n",
      "14       87       22\n"
     ]
    }
   ],
   "source": [
    "import pandas as pd\n",
    "import numpy as np\n",
    "data = np.random.randint(10,100,75).reshape(15,5)\n",
    "df = pd.DataFrame(data, columns= [\"Column1\", \"Column2\", \"Column3\", \"Column4\", \"Column5\"])\n",
    "#--- temel kod\n",
    "\n",
    "# dataFrame in 5 ile 15. indexleri arasındaki kayıtların kolon1 ve kolon2 sinin ilk 5'ini al\n",
    "result = df[5:15][[\"Column1\", \"Column2\"]].head()\n",
    "print(result)\n",
    "print(\"            --\")\n",
    "\n",
    "\n",
    "# yukarıdakinin son 5 kayıt olan halini alalım\n",
    "result = df[5:15][[\"Column1\", \"Column2\"]].tail()\n",
    "print(result)"
   ]
  },
  {
   "cell_type": "markdown",
   "metadata": {},
   "source": [
    "### Filtreleme işlemleri"
   ]
  },
  {
   "cell_type": "code",
   "execution_count": 45,
   "metadata": {},
   "outputs": [
    {
     "name": "stdout",
     "output_type": "stream",
     "text": [
      "    Column1  Column2  Column3  Column4  Column5\n",
      "0      True     True     True    False     True\n",
      "1     False    False    False    False     True\n",
      "2     False    False    False     True    False\n",
      "3     False     True    False     True    False\n",
      "4      True    False     True     True     True\n",
      "5     False    False     True     True    False\n",
      "6      True    False     True     True    False\n",
      "7     False     True     True    False    False\n",
      "8     False     True     True    False    False\n",
      "9     False     True    False    False     True\n",
      "10    False    False     True     True     True\n",
      "11     True    False     True     True    False\n",
      "12    False     True    False    False    False\n",
      "13    False     True    False    False     True\n",
      "14     True    False    False    False    False\n"
     ]
    }
   ],
   "source": [
    "import pandas as pd\n",
    "import numpy as np\n",
    "data = np.random.randint(10,100,75).reshape(15,5)\n",
    "df = pd.DataFrame(data, columns= [\"Column1\", \"Column2\", \"Column3\", \"Column4\", \"Column5\"])\n",
    "#--- temel kod\n",
    "\n",
    "# dataFrame deki 50 den büyük tüm bilgilere True & False verir.\n",
    "result = df > 50\n",
    "print(result)"
   ]
  },
  {
   "cell_type": "code",
   "execution_count": 50,
   "metadata": {},
   "outputs": [
    {
     "name": "stdout",
     "output_type": "stream",
     "text": [
      "    Column1  Column2  Column3  Column4  Column5\n",
      "0      93.0     78.0     86.0      NaN     60.0\n",
      "1       NaN      NaN      NaN      NaN     80.0\n",
      "2       NaN      NaN      NaN     56.0      NaN\n",
      "3       NaN     53.0      NaN     84.0      NaN\n",
      "4      90.0      NaN     58.0     83.0     80.0\n",
      "5       NaN      NaN     73.0     85.0      NaN\n",
      "6      75.0      NaN     97.0     93.0      NaN\n",
      "7       NaN     70.0     64.0      NaN      NaN\n",
      "8       NaN     67.0     73.0      NaN      NaN\n",
      "9       NaN     61.0      NaN      NaN     87.0\n",
      "10      NaN      NaN     84.0     76.0     90.0\n",
      "11     77.0      NaN     64.0     94.0      NaN\n",
      "12      NaN     75.0      NaN      NaN      NaN\n",
      "13      NaN     95.0      NaN      NaN     70.0\n",
      "14     87.0      NaN      NaN      NaN      NaN\n"
     ]
    }
   ],
   "source": [
    "import pandas as pd\n",
    "import numpy as np\n",
    "data = np.random.randint(10,100,75).reshape(15,5)\n",
    "df = pd.DataFrame(data, columns= [\"Column1\", \"Column2\", \"Column3\", \"Column4\", \"Column5\"])\n",
    "#--- temel kod\n",
    "\n",
    "# eğer true olan değerleri istersek..\n",
    "result = df[df > 50]\n",
    "print(result)   # 50 den büyük olmayanlar için NaN der"
   ]
  },
  {
   "cell_type": "markdown",
   "metadata": {},
   "source": [
    "* devam"
   ]
  },
  {
   "cell_type": "code",
   "execution_count": 52,
   "metadata": {},
   "outputs": [
    {
     "name": "stdout",
     "output_type": "stream",
     "text": [
      "    Column1  Column2  Column3  Column4  Column5\n",
      "0       NaN     78.0     86.0     18.0     60.0\n",
      "1       NaN      NaN     30.0      NaN     80.0\n",
      "2      24.0     44.0     30.0     56.0     24.0\n",
      "3       NaN      NaN     16.0     84.0      NaN\n",
      "4      90.0     36.0     58.0      NaN     80.0\n",
      "5       NaN      NaN      NaN      NaN      NaN\n",
      "6       NaN      NaN      NaN      NaN      NaN\n",
      "7      40.0     70.0     64.0     18.0     20.0\n",
      "8      36.0      NaN      NaN      NaN      NaN\n",
      "9       NaN      NaN     48.0      NaN      NaN\n",
      "10     34.0      NaN     84.0     76.0     90.0\n",
      "11      NaN     20.0     64.0     94.0     34.0\n",
      "12     22.0      NaN      NaN      NaN     42.0\n",
      "13      NaN      NaN     36.0      NaN     70.0\n",
      "14      NaN     22.0      NaN     10.0      NaN\n"
     ]
    }
   ],
   "source": [
    "import pandas as pd\n",
    "import numpy as np\n",
    "data = np.random.randint(10,100,75).reshape(15,5)\n",
    "df = pd.DataFrame(data, columns= [\"Column1\", \"Column2\", \"Column3\", \"Column4\", \"Column5\"])\n",
    "#--- temel kod\n",
    "\n",
    "# çift olup olmadığına bakalım\n",
    "result = df[df %2 == 0]\n",
    "print(result)   # çift olmayanlara NaN dedi"
   ]
  },
  {
   "cell_type": "markdown",
   "metadata": {},
   "source": [
    "* devam"
   ]
  },
  {
   "cell_type": "code",
   "execution_count": 64,
   "metadata": {},
   "outputs": [
    {
     "name": "stdout",
     "output_type": "stream",
     "text": [
      "0      True\n",
      "1     False\n",
      "2     False\n",
      "3     False\n",
      "4      True\n",
      "5     False\n",
      "6      True\n",
      "7     False\n",
      "8     False\n",
      "9     False\n",
      "10    False\n",
      "11     True\n",
      "12    False\n",
      "13    False\n",
      "14     True\n",
      "Name: Column1, dtype: bool\n",
      "            --\n",
      "    Column1  Column2  Column3  Column4  Column5\n",
      "0        93       78       86       18       60\n",
      "4        90       36       58       83       80\n",
      "6        75       49       97       93       49\n",
      "11       77       20       64       94       34\n",
      "14       87       22       11       10       49\n",
      "            --\n"
     ]
    }
   ],
   "source": [
    "import pandas as pd\n",
    "import numpy as np\n",
    "data = np.random.randint(10,100,75).reshape(15,5)\n",
    "df = pd.DataFrame(data, columns= [\"Column1\", \"Column2\", \"Column3\", \"Column4\", \"Column5\"])\n",
    "#--- temel kod\n",
    "\n",
    "# istediğimiz bir kolon üzerinden bu filtrelemeyi yapalım\n",
    "# 1. kolonda 50 den büyük olanları göstersin\n",
    "result = df[\"Column1\"] > 50\n",
    "print(result)\n",
    "print(\"            --\")\n",
    "\n",
    "\n",
    "# column 1 in 50 den büyük olduğu satırlardaki kayıtları versin sadece\n",
    "result = df[df[\"Column1\"] > 50]\n",
    "print(result)\n",
    "print(\"            --\")"
   ]
  },
  {
   "cell_type": "markdown",
   "metadata": {},
   "source": [
    "* devam\n",
    "\n",
    "        & (and yerine kullanılır)"
   ]
  },
  {
   "cell_type": "code",
   "execution_count": 74,
   "metadata": {},
   "outputs": [
    {
     "name": "stdout",
     "output_type": "stream",
     "text": [
      "    Column1  Column2\n",
      "2        62       33\n",
      "4        61       40\n",
      "5        63       76\n",
      "9        70       80\n",
      "11       68       48\n",
      "            --\n",
      "    Column1  Column2  Column3  Column4  Column5\n",
      "2        62       33       42       41       92\n",
      "4        61       40       42       27       94\n",
      "5        63       76       96       61       49\n",
      "9        70       80       78       57       90\n",
      "11       68       48       38       47       16\n"
     ]
    }
   ],
   "source": [
    "import pandas as pd\n",
    "import numpy as np\n",
    "data = np.random.randint(10,100,75).reshape(15,5)\n",
    "df = pd.DataFrame(data, columns= [\"Column1\", \"Column2\", \"Column3\", \"Column4\", \"Column5\"])\n",
    "#--- temel kod\n",
    "\n",
    "# yukarıdaki gelen kolonlardaki verilerden de istediğimiz kolonu seçelim\n",
    "result = df[df[\"Column1\"] > 50][[\"Column1\",\"Column2\"]]\n",
    "print(result)\n",
    "print(\"            --\")\n",
    "\n",
    "\n",
    "# koşulları artıralım\n",
    "# kolon1 50 den 70 e kadar olan satırların tüm bilgileri geliyor dikkat!\n",
    "result = df[(df[\"Column1\"] > 50) & (df[\"Column1\"] <= 70)]\n",
    "print(result)"
   ]
  },
  {
   "cell_type": "markdown",
   "metadata": {},
   "source": [
    "* devam\n",
    "\n",
    "        | (pipe işareti) : or yerine kullanılır\n",
    "        \n",
    "        query()"
   ]
  },
  {
   "cell_type": "code",
   "execution_count": 81,
   "metadata": {},
   "outputs": [
    {
     "name": "stdout",
     "output_type": "stream",
     "text": [
      "    Column1  Column2  Column3  Column4  Column5\n",
      "0        91       25       47       63       10\n",
      "1        53       61       46       41       20\n",
      "2        93       78       72       66       51\n",
      "3        27       53       19       23       52\n",
      "4        20       18       45       63       22\n",
      "5        93       48       57       63       29\n",
      "6        28       37       11       79       59\n",
      "7        54       89       34       97       86\n",
      "8        64       16       25       99       90\n",
      "9        44       74       15       20       65\n",
      "10       62       88       91       73       21\n",
      "11       67       38       47       84       86\n",
      "12       57       15       71       24       68\n",
      "13       95       52       24       95       12\n",
      "14       15       44       67       99       14\n",
      "            --\n",
      "    Column1  Column2  Column3  Column4  Column5\n",
      "7        54       89       34       97       86\n",
      "8        64       16       25       99       90\n",
      "10       62       88       91       73       21\n",
      "            --\n",
      "    Column1  Column2\n",
      "7        54       89\n",
      "8        64       16\n",
      "10       62       88\n"
     ]
    }
   ],
   "source": [
    "import pandas as pd\n",
    "import numpy as np\n",
    "data = np.random.randint(10,100,75).reshape(15,5)\n",
    "df = pd.DataFrame(data, columns= [\"Column1\", \"Column2\", \"Column3\", \"Column4\", \"Column5\"])\n",
    "#--- temel kod\n",
    "\n",
    "# or operatörü (pipe işareti) |\n",
    "# or ile koşul yapalım\n",
    "result = df[(df[\"Column1\"] > 50) | (df[\"Column1\"] <= 70)]\n",
    "print(result)   # sadece bir koşulu sağlaması yetiyor\n",
    "print(\"            --\")\n",
    "\n",
    "# koşullarımızı query ye verebiliyoruz\n",
    "# kolon1 50 den büyük eşit ve çift olsun\n",
    "result = df.query(\"Column1 >= 50 & Column1 %2 == 0\")\n",
    "print(result)\n",
    "print(\"            --\")\n",
    "\n",
    "\n",
    "# yukarıdakine bir de kolon filtrelemesi ekleyelim\n",
    "result = df.query(\"Column1 >= 50 & Column1 %2 == 0\")[[\"Column1\",\"Column2\"]]\n",
    "print(result) # bu işlemleri kolon bir ve kolon2 de uygulasın diye ekledik"
   ]
  }
 ],
 "metadata": {
  "kernelspec": {
   "display_name": "Python 3",
   "language": "python",
   "name": "python3"
  },
  "language_info": {
   "codemirror_mode": {
    "name": "ipython",
    "version": 3
   },
   "file_extension": ".py",
   "mimetype": "text/x-python",
   "name": "python",
   "nbconvert_exporter": "python",
   "pygments_lexer": "ipython3",
   "version": "3.11.1"
  },
  "orig_nbformat": 4
 },
 "nbformat": 4,
 "nbformat_minor": 2
}
