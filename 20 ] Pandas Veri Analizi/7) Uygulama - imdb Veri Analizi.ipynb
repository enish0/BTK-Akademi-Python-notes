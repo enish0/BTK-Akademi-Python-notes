{
 "cells": [
  {
   "cell_type": "markdown",
   "metadata": {},
   "source": [
    "# Pandas Uygulama : Imdb Filmlerinin Veri Analizi"
   ]
  },
  {
   "cell_type": "markdown",
   "metadata": {},
   "source": [
    "        1- Dosyada hakkındaki bilgiler."
   ]
  },
  {
   "cell_type": "code",
   "execution_count": 11,
   "metadata": {},
   "outputs": [
    {
     "name": "stdout",
     "output_type": "stream",
     "text": [
      "Index(['Poster_Link', 'Series_Title', 'Released_Year', 'Certificate',\n",
      "       'Runtime', 'Genre', 'IMDB_Rating', 'Overview', 'Meta_score', 'Director',\n",
      "       'Star1', 'Star2', 'Star3', 'Star4', 'No_of_Votes', 'Gross'],\n",
      "      dtype='object')\n"
     ]
    }
   ],
   "source": [
    "import pandas as pd\n",
    "df = pd.read_csv(\"imdb_top_1000.csv\")\n",
    "result = df\n",
    "# temel kod\n",
    "\n",
    "# kolon bilgisine bir bakalım\n",
    "result = df.columns\n",
    "print(result)"
   ]
  },
  {
   "cell_type": "code",
   "execution_count": 10,
   "metadata": {},
   "outputs": [
    {
     "name": "stdout",
     "output_type": "stream",
     "text": [
      "<class 'pandas.core.frame.DataFrame'>\n",
      "RangeIndex: 1000 entries, 0 to 999\n",
      "Data columns (total 16 columns):\n",
      " #   Column         Non-Null Count  Dtype  \n",
      "---  ------         --------------  -----  \n",
      " 0   Poster_Link    1000 non-null   object \n",
      " 1   Series_Title   1000 non-null   object \n",
      " 2   Released_Year  1000 non-null   object \n",
      " 3   Certificate    899 non-null    object \n",
      " 4   Runtime        1000 non-null   object \n",
      " 5   Genre          1000 non-null   object \n",
      " 6   IMDB_Rating    1000 non-null   float64\n",
      " 7   Overview       1000 non-null   object \n",
      " 8   Meta_score     843 non-null    float64\n",
      " 9   Director       1000 non-null   object \n",
      " 10  Star1          1000 non-null   object \n",
      " 11  Star2          1000 non-null   object \n",
      " 12  Star3          1000 non-null   object \n",
      " 13  Star4          1000 non-null   object \n",
      " 14  No_of_Votes    1000 non-null   int64  \n",
      " 15  Gross          831 non-null    object \n",
      "dtypes: float64(2), int64(1), object(13)\n",
      "memory usage: 125.1+ KB\n",
      "None\n"
     ]
    }
   ],
   "source": [
    "import pandas as pd\n",
    "df = pd.read_csv(\"imdb_top_1000.csv\")\n",
    "result = df\n",
    "# temel kod\n",
    "\n",
    "# data frame in infosuna bakabiliriz\n",
    "result = df.info()\n",
    "print(result)"
   ]
  },
  {
   "cell_type": "markdown",
   "metadata": {},
   "source": [
    "        2- ilk 5 kaydı gösterin."
   ]
  },
  {
   "cell_type": "code",
   "execution_count": 13,
   "metadata": {},
   "outputs": [
    {
     "name": "stdout",
     "output_type": "stream",
     "text": [
      "                                         Poster_Link  \\\n",
      "0  https://m.media-amazon.com/images/M/MV5BMDFkYT...   \n",
      "1  https://m.media-amazon.com/images/M/MV5BM2MyNj...   \n",
      "2  https://m.media-amazon.com/images/M/MV5BMTMxNT...   \n",
      "3  https://m.media-amazon.com/images/M/MV5BMWMwMG...   \n",
      "4  https://m.media-amazon.com/images/M/MV5BMWU4N2...   \n",
      "\n",
      "               Series_Title Released_Year Certificate  Runtime  \\\n",
      "0  The Shawshank Redemption          1994           A  142 min   \n",
      "1             The Godfather          1972           A  175 min   \n",
      "2           The Dark Knight          2008          UA  152 min   \n",
      "3    The Godfather: Part II          1974           A  202 min   \n",
      "4              12 Angry Men          1957           U   96 min   \n",
      "\n",
      "                  Genre  IMDB_Rating  \\\n",
      "0                 Drama          9.3   \n",
      "1          Crime, Drama          9.2   \n",
      "2  Action, Crime, Drama          9.0   \n",
      "3          Crime, Drama          9.0   \n",
      "4          Crime, Drama          9.0   \n",
      "\n",
      "                                            Overview  Meta_score  \\\n",
      "0  Two imprisoned men bond over a number of years...        80.0   \n",
      "1  An organized crime dynasty's aging patriarch t...       100.0   \n",
      "2  When the menace known as the Joker wreaks havo...        84.0   \n",
      "3  The early life and career of Vito Corleone in ...        90.0   \n",
      "4  A jury holdout attempts to prevent a miscarria...        96.0   \n",
      "\n",
      "               Director           Star1           Star2          Star3  \\\n",
      "0        Frank Darabont     Tim Robbins  Morgan Freeman     Bob Gunton   \n",
      "1  Francis Ford Coppola   Marlon Brando       Al Pacino     James Caan   \n",
      "2     Christopher Nolan  Christian Bale    Heath Ledger  Aaron Eckhart   \n",
      "3  Francis Ford Coppola       Al Pacino  Robert De Niro  Robert Duvall   \n",
      "4          Sidney Lumet     Henry Fonda     Lee J. Cobb  Martin Balsam   \n",
      "\n",
      "            Star4  No_of_Votes        Gross  \n",
      "0  William Sadler      2343110   28,341,469  \n",
      "1    Diane Keaton      1620367  134,966,411  \n",
      "2   Michael Caine      2303232  534,858,444  \n",
      "3    Diane Keaton      1129952   57,300,000  \n",
      "4    John Fiedler       689845    4,360,000  \n"
     ]
    }
   ],
   "source": [
    "import pandas as pd\n",
    "df = pd.read_csv(\"imdb_top_1000.csv\")\n",
    "result = df\n",
    "\n",
    "print(result.head())    # ilk 5 kayıt"
   ]
  },
  {
   "cell_type": "markdown",
   "metadata": {},
   "source": [
    "        3- ilk 10 kaydı gösterin"
   ]
  },
  {
   "cell_type": "code",
   "execution_count": 15,
   "metadata": {},
   "outputs": [
    {
     "name": "stdout",
     "output_type": "stream",
     "text": [
      "                                         Poster_Link  \\\n",
      "0  https://m.media-amazon.com/images/M/MV5BMDFkYT...   \n",
      "1  https://m.media-amazon.com/images/M/MV5BM2MyNj...   \n",
      "2  https://m.media-amazon.com/images/M/MV5BMTMxNT...   \n",
      "3  https://m.media-amazon.com/images/M/MV5BMWMwMG...   \n",
      "4  https://m.media-amazon.com/images/M/MV5BMWU4N2...   \n",
      "5  https://m.media-amazon.com/images/M/MV5BNzA5ZD...   \n",
      "6  https://m.media-amazon.com/images/M/MV5BNGNhMD...   \n",
      "7  https://m.media-amazon.com/images/M/MV5BNDE4OT...   \n",
      "8  https://m.media-amazon.com/images/M/MV5BMjAxMz...   \n",
      "9  https://m.media-amazon.com/images/M/MV5BMmEzNT...   \n",
      "\n",
      "                                    Series_Title Released_Year Certificate  \\\n",
      "0                       The Shawshank Redemption          1994           A   \n",
      "1                                  The Godfather          1972           A   \n",
      "2                                The Dark Knight          2008          UA   \n",
      "3                         The Godfather: Part II          1974           A   \n",
      "4                                   12 Angry Men          1957           U   \n",
      "5  The Lord of the Rings: The Return of the King          2003           U   \n",
      "6                                   Pulp Fiction          1994           A   \n",
      "7                               Schindler's List          1993           A   \n",
      "8                                      Inception          2010          UA   \n",
      "9                                     Fight Club          1999           A   \n",
      "\n",
      "   Runtime                      Genre  IMDB_Rating  \\\n",
      "0  142 min                      Drama          9.3   \n",
      "1  175 min               Crime, Drama          9.2   \n",
      "2  152 min       Action, Crime, Drama          9.0   \n",
      "3  202 min               Crime, Drama          9.0   \n",
      "4   96 min               Crime, Drama          9.0   \n",
      "5  201 min   Action, Adventure, Drama          8.9   \n",
      "6  154 min               Crime, Drama          8.9   \n",
      "7  195 min  Biography, Drama, History          8.9   \n",
      "8  148 min  Action, Adventure, Sci-Fi          8.8   \n",
      "9  139 min                      Drama          8.8   \n",
      "\n",
      "                                            Overview  Meta_score  \\\n",
      "0  Two imprisoned men bond over a number of years...        80.0   \n",
      "1  An organized crime dynasty's aging patriarch t...       100.0   \n",
      "2  When the menace known as the Joker wreaks havo...        84.0   \n",
      "3  The early life and career of Vito Corleone in ...        90.0   \n",
      "4  A jury holdout attempts to prevent a miscarria...        96.0   \n",
      "5  Gandalf and Aragorn lead the World of Men agai...        94.0   \n",
      "6  The lives of two mob hitmen, a boxer, a gangst...        94.0   \n",
      "7  In German-occupied Poland during World War II,...        94.0   \n",
      "8  A thief who steals corporate secrets through t...        74.0   \n",
      "9  An insomniac office worker and a devil-may-car...        66.0   \n",
      "\n",
      "               Director              Star1                 Star2  \\\n",
      "0        Frank Darabont        Tim Robbins        Morgan Freeman   \n",
      "1  Francis Ford Coppola      Marlon Brando             Al Pacino   \n",
      "2     Christopher Nolan     Christian Bale          Heath Ledger   \n",
      "3  Francis Ford Coppola          Al Pacino        Robert De Niro   \n",
      "4          Sidney Lumet        Henry Fonda           Lee J. Cobb   \n",
      "5         Peter Jackson        Elijah Wood       Viggo Mortensen   \n",
      "6     Quentin Tarantino      John Travolta           Uma Thurman   \n",
      "7      Steven Spielberg        Liam Neeson         Ralph Fiennes   \n",
      "8     Christopher Nolan  Leonardo DiCaprio  Joseph Gordon-Levitt   \n",
      "9         David Fincher          Brad Pitt         Edward Norton   \n",
      "\n",
      "               Star3             Star4  No_of_Votes        Gross  \n",
      "0         Bob Gunton    William Sadler      2343110   28,341,469  \n",
      "1         James Caan      Diane Keaton      1620367  134,966,411  \n",
      "2      Aaron Eckhart     Michael Caine      2303232  534,858,444  \n",
      "3      Robert Duvall      Diane Keaton      1129952   57,300,000  \n",
      "4      Martin Balsam      John Fiedler       689845    4,360,000  \n",
      "5       Ian McKellen     Orlando Bloom      1642758  377,845,905  \n",
      "6  Samuel L. Jackson      Bruce Willis      1826188  107,928,762  \n",
      "7       Ben Kingsley  Caroline Goodall      1213505   96,898,818  \n",
      "8        Elliot Page      Ken Watanabe      2067042  292,576,195  \n",
      "9          Meat Loaf      Zach Grenier      1854740   37,030,102  \n"
     ]
    }
   ],
   "source": [
    "import pandas as pd\n",
    "df = pd.read_csv(\"imdb_top_1000.csv\")\n",
    "result = df\n",
    "\n",
    "print(result.head(10))  # ilk 10 kaydı gösterir"
   ]
  },
  {
   "cell_type": "markdown",
   "metadata": {},
   "source": [
    "        4- Son 5 kaydı gösterin"
   ]
  },
  {
   "cell_type": "code",
   "execution_count": 16,
   "metadata": {},
   "outputs": [
    {
     "name": "stdout",
     "output_type": "stream",
     "text": [
      "                                           Poster_Link  \\\n",
      "995  https://m.media-amazon.com/images/M/MV5BNGEwMT...   \n",
      "996  https://m.media-amazon.com/images/M/MV5BODk3Yj...   \n",
      "997  https://m.media-amazon.com/images/M/MV5BM2U3Yz...   \n",
      "998  https://m.media-amazon.com/images/M/MV5BZTBmMj...   \n",
      "999  https://m.media-amazon.com/images/M/MV5BMTY5OD...   \n",
      "\n",
      "               Series_Title Released_Year Certificate  Runtime  \\\n",
      "995  Breakfast at Tiffany's          1961           A  115 min   \n",
      "996                   Giant          1956           G  201 min   \n",
      "997   From Here to Eternity          1953      Passed  118 min   \n",
      "998                Lifeboat          1944         NaN   97 min   \n",
      "999            The 39 Steps          1935         NaN   86 min   \n",
      "\n",
      "                        Genre  IMDB_Rating  \\\n",
      "995    Comedy, Drama, Romance          7.6   \n",
      "996            Drama, Western          7.6   \n",
      "997       Drama, Romance, War          7.6   \n",
      "998                Drama, War          7.6   \n",
      "999  Crime, Mystery, Thriller          7.6   \n",
      "\n",
      "                                              Overview  Meta_score  \\\n",
      "995  A young New York socialite becomes interested ...        76.0   \n",
      "996  Sprawling epic covering the life of a Texas ca...        84.0   \n",
      "997  In Hawaii in 1941, a private is cruelly punish...        85.0   \n",
      "998  Several survivors of a torpedoed merchant ship...        78.0   \n",
      "999  A man in London tries to help a counter-espion...        93.0   \n",
      "\n",
      "             Director              Star1              Star2           Star3  \\\n",
      "995     Blake Edwards     Audrey Hepburn     George Peppard   Patricia Neal   \n",
      "996    George Stevens   Elizabeth Taylor        Rock Hudson      James Dean   \n",
      "997    Fred Zinnemann     Burt Lancaster   Montgomery Clift    Deborah Kerr   \n",
      "998  Alfred Hitchcock  Tallulah Bankhead        John Hodiak   Walter Slezak   \n",
      "999  Alfred Hitchcock       Robert Donat  Madeleine Carroll  Lucie Mannheim   \n",
      "\n",
      "              Star4  No_of_Votes       Gross  \n",
      "995     Buddy Ebsen       166544         NaN  \n",
      "996   Carroll Baker        34075         NaN  \n",
      "997      Donna Reed        43374  30,500,000  \n",
      "998  William Bendix        26471         NaN  \n",
      "999  Godfrey Tearle        51853         NaN  \n"
     ]
    }
   ],
   "source": [
    "import pandas as pd\n",
    "df = pd.read_csv(\"imdb_top_1000.csv\")\n",
    "result = df\n",
    "#------ temel kod\n",
    "\n",
    "print(result.tail())"
   ]
  },
  {
   "cell_type": "markdown",
   "metadata": {},
   "source": [
    "        5- Son 10 kaydı gösterin"
   ]
  },
  {
   "cell_type": "code",
   "execution_count": 17,
   "metadata": {},
   "outputs": [
    {
     "name": "stdout",
     "output_type": "stream",
     "text": [
      "                                           Poster_Link  \\\n",
      "990  https://m.media-amazon.com/images/M/MV5BYjRmY2...   \n",
      "991  https://m.media-amazon.com/images/M/MV5BMzAyND...   \n",
      "992  https://m.media-amazon.com/images/M/MV5BMjAwMT...   \n",
      "993  https://m.media-amazon.com/images/M/MV5BYTE4YW...   \n",
      "994  https://m.media-amazon.com/images/M/MV5BZjQyMG...   \n",
      "995  https://m.media-amazon.com/images/M/MV5BNGEwMT...   \n",
      "996  https://m.media-amazon.com/images/M/MV5BODk3Yj...   \n",
      "997  https://m.media-amazon.com/images/M/MV5BM2U3Yz...   \n",
      "998  https://m.media-amazon.com/images/M/MV5BZTBmMj...   \n",
      "999  https://m.media-amazon.com/images/M/MV5BMTY5OD...   \n",
      "\n",
      "               Series_Title Released_Year Certificate  Runtime  \\\n",
      "990            Giù la testa          1971          PG  157 min   \n",
      "991          Kelly's Heroes          1970          GP  144 min   \n",
      "992         The Jungle Book          1967           U   78 min   \n",
      "993                  Blowup          1966           A  111 min   \n",
      "994      A Hard Day's Night          1964           U   87 min   \n",
      "995  Breakfast at Tiffany's          1961           A  115 min   \n",
      "996                   Giant          1956           G  201 min   \n",
      "997   From Here to Eternity          1953      Passed  118 min   \n",
      "998                Lifeboat          1944         NaN   97 min   \n",
      "999            The 39 Steps          1935         NaN   86 min   \n",
      "\n",
      "                            Genre  IMDB_Rating  \\\n",
      "990           Drama, War, Western          7.6   \n",
      "991        Adventure, Comedy, War          7.6   \n",
      "992  Animation, Adventure, Family          7.6   \n",
      "993      Drama, Mystery, Thriller          7.6   \n",
      "994        Comedy, Music, Musical          7.6   \n",
      "995        Comedy, Drama, Romance          7.6   \n",
      "996                Drama, Western          7.6   \n",
      "997           Drama, Romance, War          7.6   \n",
      "998                    Drama, War          7.6   \n",
      "999      Crime, Mystery, Thriller          7.6   \n",
      "\n",
      "                                              Overview  Meta_score  \\\n",
      "990  A low-life bandit and an I.R.A. explosives exp...        77.0   \n",
      "991  A group of U.S. soldiers sneaks across enemy l...        50.0   \n",
      "992  Bagheera the Panther and Baloo the Bear have a...        65.0   \n",
      "993  A fashion photographer unknowingly captures a ...        82.0   \n",
      "994  Over two \"typical\" days in the life of The Bea...        96.0   \n",
      "995  A young New York socialite becomes interested ...        76.0   \n",
      "996  Sprawling epic covering the life of a Texas ca...        84.0   \n",
      "997  In Hawaii in 1941, a private is cruelly punish...        85.0   \n",
      "998  Several survivors of a torpedoed merchant ship...        78.0   \n",
      "999  A man in London tries to help a counter-espion...        93.0   \n",
      "\n",
      "                   Director              Star1              Star2  \\\n",
      "990            Sergio Leone        Rod Steiger       James Coburn   \n",
      "991         Brian G. Hutton     Clint Eastwood      Telly Savalas   \n",
      "992     Wolfgang Reitherman        Phil Harris    Sebastian Cabot   \n",
      "993  Michelangelo Antonioni     David Hemmings   Vanessa Redgrave   \n",
      "994          Richard Lester        John Lennon     Paul McCartney   \n",
      "995           Blake Edwards     Audrey Hepburn     George Peppard   \n",
      "996          George Stevens   Elizabeth Taylor        Rock Hudson   \n",
      "997          Fred Zinnemann     Burt Lancaster   Montgomery Clift   \n",
      "998        Alfred Hitchcock  Tallulah Bankhead        John Hodiak   \n",
      "999        Alfred Hitchcock       Robert Donat  Madeleine Carroll   \n",
      "\n",
      "               Star3             Star4  No_of_Votes        Gross  \n",
      "990     Romolo Valli       Maria Monti        30144      696,690  \n",
      "991      Don Rickles  Carroll O'Connor        45338    1,378,435  \n",
      "992      Louis Prima  Bruce Reitherman       166409  141,843,612  \n",
      "993      Sarah Miles       John Castle        56513          NaN  \n",
      "994  George Harrison       Ringo Starr        40351   13,780,024  \n",
      "995    Patricia Neal       Buddy Ebsen       166544          NaN  \n",
      "996       James Dean     Carroll Baker        34075          NaN  \n",
      "997     Deborah Kerr        Donna Reed        43374   30,500,000  \n",
      "998    Walter Slezak    William Bendix        26471          NaN  \n",
      "999   Lucie Mannheim    Godfrey Tearle        51853          NaN  \n"
     ]
    }
   ],
   "source": [
    "import pandas as pd\n",
    "df = pd.read_csv(\"imdb_top_1000.csv\")\n",
    "result = df\n",
    "#------ temel kod\n",
    "\n",
    "print(result.tail(10))      # son 10 kayıt"
   ]
  },
  {
   "cell_type": "markdown",
   "metadata": {},
   "source": [
    "        6- Sadece Movie_Title kolonunu alın."
   ]
  },
  {
   "cell_type": "code",
   "execution_count": 19,
   "metadata": {},
   "outputs": [
    {
     "name": "stdout",
     "output_type": "stream",
     "text": [
      "0      The Shawshank Redemption\n",
      "1                 The Godfather\n",
      "2               The Dark Knight\n",
      "3        The Godfather: Part II\n",
      "4                  12 Angry Men\n",
      "                 ...           \n",
      "995      Breakfast at Tiffany's\n",
      "996                       Giant\n",
      "997       From Here to Eternity\n",
      "998                    Lifeboat\n",
      "999                The 39 Steps\n",
      "Name: Series_Title, Length: 1000, dtype: object\n"
     ]
    }
   ],
   "source": [
    "import pandas as pd\n",
    "df = pd.read_csv(\"imdb_top_1000.csv\")\n",
    "result = df\n",
    "#------ temel kod\n",
    "\n",
    "result = df[\"Series_Title\"]\n",
    "print(result)"
   ]
  },
  {
   "cell_type": "markdown",
   "metadata": {},
   "source": [
    "        7- Sadece Movie_Title kolonunu içeren ilk 5 kaydı alın."
   ]
  },
  {
   "cell_type": "code",
   "execution_count": 20,
   "metadata": {},
   "outputs": [
    {
     "name": "stdout",
     "output_type": "stream",
     "text": [
      "0    The Shawshank Redemption\n",
      "1               The Godfather\n",
      "2             The Dark Knight\n",
      "3      The Godfather: Part II\n",
      "4                12 Angry Men\n",
      "Name: Series_Title, dtype: object\n"
     ]
    }
   ],
   "source": [
    "import pandas as pd\n",
    "df = pd.read_csv(\"imdb_top_1000.csv\")\n",
    "result = df\n",
    "#------ temel kod\n",
    "\n",
    "result = df[\"Series_Title\"].head()\n",
    "print(result)"
   ]
  },
  {
   "cell_type": "markdown",
   "metadata": {},
   "source": [
    "        8- Sadece Movie_Title ve Rating kolonunu içeren ilk 5 kaydı alın."
   ]
  },
  {
   "cell_type": "code",
   "execution_count": 21,
   "metadata": {},
   "outputs": [
    {
     "name": "stdout",
     "output_type": "stream",
     "text": [
      "               Series_Title  IMDB_Rating\n",
      "0  The Shawshank Redemption          9.3\n",
      "1             The Godfather          9.2\n",
      "2           The Dark Knight          9.0\n",
      "3    The Godfather: Part II          9.0\n",
      "4              12 Angry Men          9.0\n"
     ]
    }
   ],
   "source": [
    "import pandas as pd\n",
    "df = pd.read_csv(\"imdb_top_1000.csv\")\n",
    "result = df\n",
    "#------ temel kod\n",
    "\n",
    "result = df[[\"Series_Title\",\"IMDB_Rating\"]].head()\n",
    "print(result)"
   ]
  },
  {
   "cell_type": "markdown",
   "metadata": {},
   "source": [
    "        9- Sadece Movie_Title ve Rating kolonunu içeren son 7 kaydı alın"
   ]
  },
  {
   "cell_type": "code",
   "execution_count": 26,
   "metadata": {},
   "outputs": [
    {
     "name": "stdout",
     "output_type": "stream",
     "text": [
      "               Series_Title  IMDB_Rating\n",
      "993                  Blowup          7.6\n",
      "994      A Hard Day's Night          7.6\n",
      "995  Breakfast at Tiffany's          7.6\n",
      "996                   Giant          7.6\n",
      "997   From Here to Eternity          7.6\n",
      "998                Lifeboat          7.6\n",
      "999            The 39 Steps          7.6\n"
     ]
    }
   ],
   "source": [
    "import pandas as pd\n",
    "df = pd.read_csv(\"imdb_top_1000.csv\")\n",
    "result = df\n",
    "#------ temel kod\n",
    "\n",
    "result = df[[\"Series_Title\",\"IMDB_Rating\"]].tail(7) \n",
    "print(result)"
   ]
  },
  {
   "cell_type": "markdown",
   "metadata": {},
   "source": [
    "        10- Sadece Movie_Title ve Rating kolonunu içeren ikinci 5 kaydı alın."
   ]
  },
  {
   "cell_type": "code",
   "execution_count": 27,
   "metadata": {},
   "outputs": [
    {
     "name": "stdout",
     "output_type": "stream",
     "text": [
      "                                    Series_Title  IMDB_Rating\n",
      "5  The Lord of the Rings: The Return of the King          8.9\n",
      "6                                   Pulp Fiction          8.9\n",
      "7                               Schindler's List          8.9\n",
      "8                                      Inception          8.8\n",
      "9                                     Fight Club          8.8\n"
     ]
    }
   ],
   "source": [
    "import pandas as pd\n",
    "df = pd.read_csv(\"imdb_top_1000.csv\")\n",
    "result = df\n",
    "#------ temel kod\n",
    "\n",
    "result = df[5:10][[\"Series_Title\",\"IMDB_Rating\"]].head() \n",
    "print(result)"
   ]
  },
  {
   "cell_type": "markdown",
   "metadata": {},
   "source": [
    "        11- Sadece Movie_Title ve Rating kolonunu içeren ve imdb puanı 8.0 ve üstünde olan kayıtlardan ilk 50 tanesini alınız."
   ]
  },
  {
   "cell_type": "code",
   "execution_count": 45,
   "metadata": {},
   "outputs": [
    {
     "name": "stdout",
     "output_type": "stream",
     "text": [
      "                                         Series_Title  IMDB_Rating\n",
      "0                            The Shawshank Redemption          9.3\n",
      "1                                       The Godfather          9.2\n",
      "2                                     The Dark Knight          9.0\n",
      "3                              The Godfather: Part II          9.0\n",
      "4                                        12 Angry Men          9.0\n",
      "5       The Lord of the Rings: The Return of the King          8.9\n",
      "6                                        Pulp Fiction          8.9\n",
      "7                                    Schindler's List          8.9\n",
      "8                                           Inception          8.8\n",
      "9                                          Fight Club          8.8\n",
      "10  The Lord of the Rings: The Fellowship of the Ring          8.8\n",
      "11                                       Forrest Gump          8.8\n",
      "12                    Il buono, il brutto, il cattivo          8.8\n",
      "13              The Lord of the Rings: The Two Towers          8.7\n",
      "14                                         The Matrix          8.7\n",
      "15                                         Goodfellas          8.7\n",
      "16     Star Wars: Episode V - The Empire Strikes Back          8.7\n",
      "17                    One Flew Over the Cuckoo's Nest          8.7\n",
      "18                                           Hamilton          8.6\n",
      "19                                       Gisaengchung          8.6\n",
      "20                                    Soorarai Pottru          8.6\n",
      "21                                       Interstellar          8.6\n",
      "22                                     Cidade de Deus          8.6\n",
      "23                      Sen to Chihiro no kamikakushi          8.6\n",
      "24                                Saving Private Ryan          8.6\n",
      "25                                     The Green Mile          8.6\n",
      "26                                    La vita è bella          8.6\n",
      "27                                              Se7en          8.6\n",
      "28                           The Silence of the Lambs          8.6\n",
      "29                                          Star Wars          8.6\n",
      "30                                            Seppuku          8.6\n",
      "31                               Shichinin no samurai          8.6\n",
      "32                              It's a Wonderful Life          8.6\n",
      "33                                              Joker          8.5\n",
      "34                                           Whiplash          8.5\n",
      "35                                   The Intouchables          8.5\n",
      "36                                       The Prestige          8.5\n",
      "37                                       The Departed          8.5\n",
      "38                                        The Pianist          8.5\n",
      "39                                          Gladiator          8.5\n",
      "40                                 American History X          8.5\n",
      "41                                 The Usual Suspects          8.5\n",
      "42                                               Léon          8.5\n",
      "43                                      The Lion King          8.5\n",
      "44                         Terminator 2: Judgment Day          8.5\n",
      "45                              Nuovo Cinema Paradiso          8.5\n",
      "46                                     Hotaru no haka          8.5\n",
      "47                                 Back to the Future          8.5\n",
      "48                       Once Upon a Time in the West          8.5\n",
      "49                                             Psycho          8.5\n"
     ]
    }
   ],
   "source": [
    "import pandas as pd\n",
    "df = pd.read_csv(\"imdb_top_1000.csv\")\n",
    "result = df\n",
    "#------ temel kod\n",
    "\n",
    "result = df[df[\"IMDB_Rating\"] > 8.0][[\"Series_Title\",\"IMDB_Rating\"]].head(50)\n",
    "print(result)"
   ]
  },
  {
   "cell_type": "markdown",
   "metadata": {},
   "source": [
    "        12- Yayın tarihi 2014 ile 2015 arasında olan filmlerin isimlerini getiriniz."
   ]
  },
  {
   "cell_type": "code",
   "execution_count": null,
   "metadata": {},
   "outputs": [],
   "source": [
    "import pandas as pd\n",
    "df = pd.read_csv(\"imdb_top_1000.csv\")\n",
    "result = df\n",
    "#------ temel kod\n",
    "\n",
    "result = df[(df[\"Released_Year\"].astype(int) >= 2014) & (df[\"Released_Year\"].astype(int) <= 2015)][[\"Series_Title\",\"Released_Year\"]]\n",
    "print(result)\n",
    "# seçilen csv dosyasından kaynaklı hata veriyor"
   ]
  },
  {
   "cell_type": "markdown",
   "metadata": {},
   "source": [
    "        13- Değerlendirme sayısı (Num_Reviews) 100.000 den büyük ya da imdb puanı 8 ile 9 arsında olan filmleri listeleyiniz."
   ]
  },
  {
   "cell_type": "code",
   "execution_count": null,
   "metadata": {},
   "outputs": [],
   "source": [
    "import pandas as pd\n",
    "df = pd.read_csv(\"imdb_top_1000.csv\")\n",
    "result = df\n",
    "#------ temel kod\n",
    "\n",
    "result = df[(df[\"Certificate\"] > 100000) | ((df[\"IMDB_Rating\"] >= 8) & (df[\"IMDB_Rating\"] <= 9))]\n",
    "print(result)\n",
    "# seçilen csv dosyasından kaynaklı hata veriyor\n"
   ]
  }
 ],
 "metadata": {
  "kernelspec": {
   "display_name": "Python 3",
   "language": "python",
   "name": "python3"
  },
  "language_info": {
   "codemirror_mode": {
    "name": "ipython",
    "version": 3
   },
   "file_extension": ".py",
   "mimetype": "text/x-python",
   "name": "python",
   "nbconvert_exporter": "python",
   "pygments_lexer": "ipython3",
   "version": "3.11.1"
  },
  "orig_nbformat": 4
 },
 "nbformat": 4,
 "nbformat_minor": 2
}
