{
 "cells": [
  {
   "cell_type": "markdown",
   "metadata": {},
   "source": [
    "# DataFrame ile satır sütun seçimi"
   ]
  },
  {
   "cell_type": "code",
   "execution_count": 2,
   "metadata": {},
   "outputs": [
    {
     "name": "stdout",
     "output_type": "stream",
     "text": [
      "    Column1   Column2   Column3\n",
      "A  1.097863 -1.194402 -0.988006\n",
      "B -0.424618  0.306381  0.291656\n",
      "C  1.112168 -0.577028  1.902096\n"
     ]
    }
   ],
   "source": [
    "import pandas as pd\n",
    "from numpy.random import randn\n",
    "\n",
    "df = pd.DataFrame(randn(3,3), index = [\"A\",\"B\",\"C\"], columns= [\"Column1\", \"Column2\",\"Column3\"])\n",
    "print(df)"
   ]
  },
  {
   "cell_type": "markdown",
   "metadata": {},
   "source": [
    "* yukarıdaki dataFrame e göre işlemler yapalım şimdi"
   ]
  },
  {
   "cell_type": "code",
   "execution_count": 30,
   "metadata": {},
   "outputs": [
    {
     "name": "stdout",
     "output_type": "stream",
     "text": [
      "A   -1.115865\n",
      "B    0.887982\n",
      "C    0.548817\n",
      "Name: Column1, dtype: float64\n",
      "           --\n",
      "    Column1   Column2\n",
      "A -1.115865  0.273976\n",
      "B  0.887982 -0.213440\n",
      "C  0.548817  0.840692\n",
      "           --\n",
      "Column1   -1.115865\n",
      "Column2    0.273976\n",
      "Column3    0.086323\n",
      "Name: A, dtype: float64\n",
      "           --\n",
      "<class 'pandas.core.series.Series'>\n",
      "           --\n",
      "A   -1.115865\n",
      "B    0.887982\n",
      "C    0.548817\n",
      "Name: Column1, dtype: float64\n",
      "           --\n",
      "    Column1   Column2\n",
      "A -1.115865  0.273976\n",
      "B  0.887982 -0.213440\n",
      "C  0.548817  0.840692\n",
      "           --\n",
      "    Column1   Column2   Column3\n",
      "A -1.115865  0.273976  0.086323\n",
      "B  0.887982 -0.213440 -1.793014\n",
      "C  0.548817  0.840692 -1.562723\n"
     ]
    }
   ],
   "source": [
    "import pandas as pd\n",
    "from numpy.random import randn\n",
    "\n",
    "df = pd.DataFrame(randn(3,3), index = [\"A\",\"B\",\"C\"], columns= [\"Column1\", \"Column2\",\"Column3\"])\n",
    "\n",
    "# bize column1 isimli kolonu getirelim\n",
    "result = df\n",
    "result = df[\"Column1\"]\n",
    "print(result)\n",
    "print(\"           --\")\n",
    "\n",
    "\n",
    "# birden fazla kolon seçimi nasıl yaparız\n",
    "result = df[[\"Column1\",\"Column2\"]]\n",
    "print(result)\n",
    "print(\"           --\")\n",
    "\n",
    "# satıra göre seçme işlemini nasıl yapıcaz  (örn: A,B,C)\n",
    "result = df.loc[\"A\"]\n",
    "print(result)   # A satırını seçmiş olduk (kolon isimleri de geldi) indexe göre seçme işlemi de yapmış olduk\n",
    "print(\"           --\")\n",
    "\n",
    "# satırın tipine bakalım\n",
    "result = type(df.loc[\"A\"])\n",
    "print(result)\n",
    "print(\"           --\")\n",
    "\n",
    "\n",
    "# loc kodunu kullanarak biz kolon da seçebiliriz\n",
    "result = df.loc[:, \"Column1\"]   # tüm satırları seçilsin anlamında : koyduk\n",
    "print(result)   # satır sütun seçerken loc keywordü kullanılabilir yani\n",
    "print(\"           --\")\n",
    "\n",
    "# column1 ve column2 beraber seçelim\n",
    "result = df.loc[:,[\"Column1\",\"Column2\"]]\n",
    "print(result)\n",
    "print(\"           --\")\n",
    "\n",
    "# hepsini seçmek yerine belli bir aralıktaki kolonları seçelim\n",
    "result = df.loc[:,\"Column1\":\"Column3\"]  # kolon bir ve üç dahil arasındakileri yazar\n",
    "print(result)"
   ]
  },
  {
   "cell_type": "markdown",
   "metadata": {},
   "source": [
    "* sığmadığı için alttan devam edelim"
   ]
  },
  {
   "cell_type": "code",
   "execution_count": 40,
   "metadata": {},
   "outputs": [
    {
     "name": "stdout",
     "output_type": "stream",
     "text": [
      "    Column1   Column2   Column3\n",
      "A -1.115865  0.273976  0.086323\n",
      "B  0.887982 -0.213440 -1.793014\n",
      "C  0.548817  0.840692 -1.562723\n",
      "           --\n",
      "    Column1   Column2\n",
      "A -1.115865  0.273976\n",
      "B  0.887982 -0.213440\n",
      "C  0.548817  0.840692\n",
      "           --\n",
      "    Column1   Column2\n",
      "A -1.115865  0.273976\n",
      "B  0.887982 -0.213440\n",
      "           --\n",
      "Column1    0.548817\n",
      "Column2    0.840692\n",
      "Column3   -1.562723\n",
      "Name: C, dtype: float64\n",
      "           --\n",
      "0.2739759042855178\n",
      "           --\n",
      "0.5488174961737288\n",
      "           --\n",
      "    Column1   Column2\n",
      "A -1.115865  0.273976\n",
      "B  0.887982 -0.213440\n"
     ]
    }
   ],
   "source": [
    "import pandas as pd\n",
    "from numpy.random import randn\n",
    "\n",
    "df = pd.DataFrame(randn(3,3), index = [\"A\",\"B\",\"C\"], columns= [\"Column1\", \"Column2\",\"Column3\"])\n",
    "\n",
    "# aynı sonucu almaya çalışalım ama bu sefer başlangıçtaki kolonu belirtmeden\n",
    "result = df.loc[:, :\"Column3\"]\n",
    "print(result)\n",
    "print(\"           --\")\n",
    "\n",
    "# yine kolonları seçelim ama bu sefer satırları da seçelim\n",
    "result = df.loc[\"A\":\"C\",:\"Column2\"]\n",
    "print(result)\n",
    "print(\"           --\")\n",
    "\n",
    "# bu sefer sadece A, B satırlarını seçili olsun\n",
    "result = df.loc[\"A\":\"B\",:\"Column2\"]\n",
    "print(result)\n",
    "print(\"           --\")\n",
    "\n",
    "\n",
    "# biz index numaralarına isim verdik A dan C ye kadar şeklinde buna rağmen illa 2. indexe harf ile değilde index (sayı) ile ulaşmak istersek eğer...\n",
    "# iloc keywordünün kullanmalıyız\n",
    "result = df.iloc[2]\n",
    "print(result)\n",
    "print(\"           --\")\n",
    "\n",
    "\n",
    "# istediğimiz bir hücreyi tek nasıl alabiliriz\n",
    "result = df.loc[\"A\",\"Column2\"]  # A satırının 2. kolona karşılık gelen kısmını alır\n",
    "print(result)\n",
    "print(\"           --\")\n",
    "\n",
    "\n",
    "# başka bir bilgiyi alalım yine\n",
    "result = df.loc[\"C\",\"Column1\"]\n",
    "print(result)   # tek bir değer geldi\n",
    "print(\"           --\")\n",
    "\n",
    "# A ve B inci indexleri seç bunlardan kolon1 ve kolon2 yi getir.\n",
    "result = df.loc[[\"A\",\"B\"],[\"Column1\",\"Column2\"]]\n",
    "print(result)"
   ]
  },
  {
   "cell_type": "markdown",
   "metadata": {},
   "source": [
    "* peki yeni bir satır eklemek istersek"
   ]
  },
  {
   "cell_type": "code",
   "execution_count": 59,
   "metadata": {},
   "outputs": [
    {
     "name": "stdout",
     "output_type": "stream",
     "text": [
      "    Column1   Column2   Column3   Column4\n",
      "A  1.292473 -0.056074  0.846292  0.314931\n",
      "B -0.225634  0.756379 -0.113683  0.141596\n",
      "C  1.685591  0.005624 -0.609470 -1.904689\n",
      "           --\n",
      "    Column1   Column2   Column3   Column4   Column5\n",
      "A  1.292473 -0.056074  0.846292  0.314931  2.138765\n",
      "B -0.225634  0.756379 -0.113683  0.141596 -0.339317\n",
      "C  1.685591  0.005624 -0.609470 -1.904689  1.076120\n",
      "           --\n",
      "    Column1   Column2   Column3   Column4   Column5\n",
      "A  1.292473 -0.056074  0.846292  0.314931  2.138765\n",
      "B -0.225634  0.756379 -0.113683  0.141596 -0.339317\n",
      "C  1.685591  0.005624 -0.609470 -1.904689  1.076120\n",
      "    Column1   Column2   Column3   Column4\n",
      "A  1.292473 -0.056074  0.846292  0.314931\n",
      "B -0.225634  0.756379 -0.113683  0.141596\n",
      "C  1.685591  0.005624 -0.609470 -1.904689\n"
     ]
    }
   ],
   "source": [
    "import pandas as pd\n",
    "from numpy.random import randn\n",
    "\n",
    "df = pd.DataFrame(randn(3,3), index = [\"A\",\"B\",\"C\"], columns= [\"Column1\", \"Column2\",\"Column3\"])\n",
    "\n",
    "#---------\n",
    "\n",
    "# column4 eklemek istersek\n",
    "df[\"Column4\"] = pd.Series(randn(3), [\"A\", \"B\", \"C\"])\n",
    "print(df)   # df olarak tanımlanmış DataFrame'e bir kolon daha ekledik\n",
    "    # bir seri oluşturduk seriyi dataFrame in en sonuna ekledik\n",
    "print(\"           --\")\n",
    "\n",
    "\n",
    "# column5 ekleyelim ama değerleri de kolon1 ve kolon3 ün toplamı olsun\n",
    "df[\"Column5\"] = df[\"Column1\"] + df[\"Column3\"]\n",
    "print(df)\n",
    "print(\"           --\")\n",
    "\n",
    "# bir kolon silmek istersek..\n",
    "print(df)   # önce column5 in silinmediği halini yazdırsın.\n",
    "print(df.drop(\"Column5\", axis = 1)) # axis 1 : yukarıdan aşağı (dikey) demek\n",
    "                                     # axis 2 : yatay demek\n",
    "print(\"           --\")\n",
    "\n"
   ]
  }
 ],
 "metadata": {
  "kernelspec": {
   "display_name": "Python 3",
   "language": "python",
   "name": "python3"
  },
  "language_info": {
   "codemirror_mode": {
    "name": "ipython",
    "version": 3
   },
   "file_extension": ".py",
   "mimetype": "text/x-python",
   "name": "python",
   "nbconvert_exporter": "python",
   "pygments_lexer": "ipython3",
   "version": "3.11.1"
  },
  "orig_nbformat": 4
 },
 "nbformat": 4,
 "nbformat_minor": 2
}
