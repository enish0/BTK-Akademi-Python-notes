{
 "cells": [
  {
   "cell_type": "markdown",
   "metadata": {},
   "source": [
    "# Pandas İle DataFrame Metodları"
   ]
  },
  {
   "cell_type": "markdown",
   "metadata": {},
   "source": [
    "\n",
    "\n",
    "        unique()\n",
    "        nunique()\n",
    "        apply()"
   ]
  },
  {
   "cell_type": "code",
   "execution_count": 14,
   "metadata": {},
   "outputs": [
    {
     "name": "stdout",
     "output_type": "stream",
     "text": [
      "   Column1  Column2 Column3\n",
      "0        1       10     abc\n",
      "1        2       20     bca\n",
      "2        3       13     ade\n",
      "3        4       45     cba\n",
      "4        5       25     dea\n",
      "             ◽   ◽   ◽\n",
      "[10 20 13 45 25]\n",
      "             ◽   ◽   ◽\n",
      "5\n",
      "             ◽   ◽   ◽\n",
      "10    1\n",
      "20    1\n",
      "13    1\n",
      "45    1\n",
      "25    1\n",
      "Name: Column2, dtype: int64\n",
      "             ◽   ◽   ◽\n",
      "0    20\n",
      "1    40\n",
      "2    26\n",
      "3    90\n",
      "4    50\n",
      "Name: Column2, dtype: int64\n",
      "             ◽   ◽   ◽\n",
      "0     1\n",
      "1     4\n",
      "2     9\n",
      "3    16\n",
      "4    25\n",
      "Name: Column1, dtype: int64\n"
     ]
    }
   ],
   "source": [
    "import pandas as pd\n",
    "import numpy as np\n",
    "\n",
    "data = {\n",
    "    \"Column1\": [1,2,3,4,5],\n",
    "    \"Column2\": [10,20,13,45,25],\n",
    "    \"Column3\": [\"abc\",\"bca\",\"ade\",\"cba\",\"dea\"]\n",
    "    }\n",
    "\n",
    "# bu datadan dataFrame oluşturalım\n",
    "df = pd.DataFrame(data)\n",
    "result = df\n",
    "print(df)\n",
    "print(\"             ◽   ◽   ◽\")\n",
    "\n",
    "\n",
    "# kolon 2 deki tekrarlanmayan bilgileri ne kadar bilgi varsa getirir\n",
    "result = df[\"Column2\"].unique()\n",
    "print(result)\n",
    "print(\"             ◽   ◽   ◽\")\n",
    "\n",
    "\n",
    "# yukarıdakinin sadece eleman sayısını almak istersek..\n",
    "result = df[\"Column2\"].nunique()\n",
    "print(result)   # 5 eleman var mış(tekrarlananlar hariç)\n",
    "print(\"             ◽   ◽   ◽\")\n",
    "\n",
    "\n",
    "# her bir elemanın kaç kere tekrarladığını bize gösterir\n",
    "result = df[\"Column2\"].value_counts()\n",
    "print(result)\n",
    "print(\"             ◽   ◽   ◽\")\n",
    "\n",
    "# bir kolondaki tüm elemanları 2 ile çarpalım\n",
    "result = df[\"Column2\"] * 2\n",
    "print(result)\n",
    "print(\"             ◽   ◽   ◽\")\n",
    "\n",
    "# yukarıdaki yaptığımız işlemleri bir metod aracılığı ile de yapabiliriz\n",
    "def kareal(x):\n",
    "    return x * x\n",
    "\n",
    "result = df[\"Column1\"].apply(kareal)    # apply metoduna istediğimiz fonksiyonu verebiliyoruz\n",
    "print(result)"
   ]
  },
  {
   "cell_type": "markdown",
   "metadata": {},
   "source": [
    "* devam"
   ]
  },
  {
   "cell_type": "code",
   "execution_count": 20,
   "metadata": {},
   "outputs": [
    {
     "name": "stdout",
     "output_type": "stream",
     "text": [
      "   Column1  Column2 Column3\n",
      "0        1       10     abc\n",
      "1        2       20     bca\n",
      "2        3       13     ade\n",
      "3        4       45     cba\n",
      "4        5       25     dea\n",
      "             ◽   ◽   ◽\n",
      "0    3\n",
      "1    3\n",
      "2    3\n",
      "3    3\n",
      "4    3\n",
      "Name: Column3, dtype: int64\n",
      "             ◽   ◽   ◽\n",
      "RangeIndex(start=0, stop=5, step=1)\n",
      "             ◽   ◽   ◽\n",
      "<class 'pandas.core.frame.DataFrame'>\n",
      "RangeIndex: 5 entries, 0 to 4\n",
      "Data columns (total 3 columns):\n",
      " #   Column   Non-Null Count  Dtype \n",
      "---  ------   --------------  ----- \n",
      " 0   Column1  5 non-null      int64 \n",
      " 1   Column2  5 non-null      int64 \n",
      " 2   Column3  5 non-null      object\n",
      "dtypes: int64(2), object(1)\n",
      "memory usage: 248.0+ bytes\n",
      "None\n"
     ]
    }
   ],
   "source": [
    "import pandas as pd\n",
    "import numpy as np\n",
    "\n",
    "data = {\n",
    "    \"Column1\": [1,2,3,4,5],\n",
    "    \"Column2\": [10,20,13,45,25],\n",
    "    \"Column3\": [\"abc\",\"bca\",\"ade\",\"cba\",\"dea\"]\n",
    "    }\n",
    "\n",
    "# bu datadan dataFrame oluşturalım\n",
    "df = pd.DataFrame(data)\n",
    "result = df\n",
    "print(df)\n",
    "print(\"             ◽   ◽   ◽\")\n",
    "#---- temel kod\n",
    "\n",
    "# kolon3 deki eleman sayısını bulalım\n",
    "result = df[\"Column3\"].apply(len)\n",
    "print(result)\n",
    "print(\"             ◽   ◽   ◽\")\n",
    "\n",
    "# index bilgilerini öğrenelim\n",
    "result = df.index\n",
    "print(result)\n",
    "print(\"             ◽   ◽   ◽\")\n",
    "\n",
    "# satır & kolon v.b bilgileri\n",
    "result = df.info()\n",
    "print(result)"
   ]
  },
  {
   "cell_type": "markdown",
   "metadata": {},
   "source": [
    "* devam"
   ]
  },
  {
   "cell_type": "code",
   "execution_count": 25,
   "metadata": {},
   "outputs": [
    {
     "name": "stdout",
     "output_type": "stream",
     "text": [
      "   Column1  Column2 Column3\n",
      "0        1       10     abc\n",
      "1        2       20     bca\n",
      "2        3       13     ade\n",
      "3        4       45     cba\n",
      "4        5       25     dea\n",
      "             ◽   ◽   ◽\n",
      "   Column1  Column2 Column3\n",
      "0        1       10     abc\n",
      "2        3       13     ade\n",
      "1        2       20     bca\n",
      "4        5       25     dea\n",
      "3        4       45     cba\n",
      "             ◽   ◽   ◽\n",
      "   Column1  Column2 Column3\n",
      "0        1       10     abc\n",
      "2        3       13     ade\n",
      "1        2       20     bca\n",
      "3        4       45     cba\n",
      "4        5       25     dea\n",
      "             ◽   ◽   ◽\n",
      "   Column1  Column2 Column3\n",
      "4        5       25     dea\n",
      "3        4       45     cba\n",
      "1        2       20     bca\n",
      "2        3       13     ade\n",
      "0        1       10     abc\n"
     ]
    }
   ],
   "source": [
    "import pandas as pd\n",
    "import numpy as np\n",
    "\n",
    "data = {\n",
    "    \"Column1\": [1,2,3,4,5],\n",
    "    \"Column2\": [10,20,13,45,25],\n",
    "    \"Column3\": [\"abc\",\"bca\",\"ade\",\"cba\",\"dea\"]\n",
    "    }\n",
    "\n",
    "# bu datadan dataFrame oluşturalım\n",
    "df = pd.DataFrame(data)\n",
    "result = df\n",
    "print(df)\n",
    "print(\"             ◽   ◽   ◽\")\n",
    "#---- temel kod\n",
    "\n",
    "# sıralama yapmak istersek..\n",
    "result = df.sort_values(\"Column2\")\n",
    "print(result)   # kolon 2 ye göre sıralanır tüm satır sütunlar\n",
    "print(\"             ◽   ◽   ◽\")\n",
    "\n",
    "# kolon 2 ye göre yapmak istersek\n",
    "result = df.sort_values(\"Column3\")\n",
    "print(result)   # alfabetik olarak kolon3 e göre sıralandı\n",
    "print(\"             ◽   ◽   ◽\")\n",
    "\n",
    "\n",
    "# yukarıdaki sıralamayı azalan şekilde yapmak istersek\n",
    "result = df.sort_values(\"Column3\", ascending= False)  # varsayılanı True normalde\n",
    "print(result)"
   ]
  },
  {
   "cell_type": "markdown",
   "metadata": {},
   "source": [
    "* devam"
   ]
  },
  {
   "cell_type": "code",
   "execution_count": 27,
   "metadata": {},
   "outputs": [
    {
     "name": "stdout",
     "output_type": "stream",
     "text": [
      "        Ay    Kategori  Gelir\n",
      "0    Mayıs  Elektronik     20\n",
      "1  Haziran  Elektronik     30\n",
      "2    Nisan  Elektronik     15\n",
      "3    Mayıs       Kitap     14\n",
      "4  Haziran       Kitap     32\n",
      "5    Nisan       Kitap     42\n",
      "6    Mayıs       Giyim     12\n",
      "7  Haziran       Giyim     36\n",
      "8    Nisan       Giyim     52\n"
     ]
    }
   ],
   "source": [
    "data = {\n",
    "    \"Ay\": [\"Mayıs\",\"Haziran\",\"Nisan\",\"Mayıs\",\"Haziran\",\"Nisan\",\"Mayıs\",\"Haziran\",\"Nisan\"],\n",
    "    \"Kategori\": [\"Elektronik\",\"Elektronik\",\"Elektronik\",\"Kitap\",\"Kitap\",\"Kitap\",\"Giyim\",\"Giyim\",\"Giyim\"],\n",
    "    \"Gelir\": [20,30,15,14,32,42,12,36,52]\n",
    "    }\n",
    "\n",
    "# dataFrame olarak ekrana yazdıralım\n",
    "df = pd.DataFrame(data)\n",
    "print(df)"
   ]
  }
 ],
 "metadata": {
  "kernelspec": {
   "display_name": "Python 3",
   "language": "python",
   "name": "python3"
  },
  "language_info": {
   "codemirror_mode": {
    "name": "ipython",
    "version": 3
   },
   "file_extension": ".py",
   "mimetype": "text/x-python",
   "name": "python",
   "nbconvert_exporter": "python",
   "pygments_lexer": "ipython3",
   "version": "3.11.1"
  },
  "orig_nbformat": 4
 },
 "nbformat": 4,
 "nbformat_minor": 2
}
