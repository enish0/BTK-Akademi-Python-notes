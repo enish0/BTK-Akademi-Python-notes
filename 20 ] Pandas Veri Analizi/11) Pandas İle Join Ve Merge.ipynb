{
 "cells": [
  {
   "cell_type": "markdown",
   "metadata": {},
   "source": [
    "# Pandas İle Join Ve Merge\n",
    "\n",
    "join çeşitleri\n",
    "\n",
    "* inner join\n",
    "* left join\n",
    "* right join\n",
    "* outer join"
   ]
  },
  {
   "cell_type": "markdown",
   "metadata": {},
   "source": [
    "\n",
    "\n",
    "        merge()"
   ]
  },
  {
   "cell_type": "code",
   "execution_count": 71,
   "metadata": {},
   "outputs": [
    {
     "name": "stdout",
     "output_type": "stream",
     "text": [
      "   CustomerId FirstName LastName\n",
      "0           1     Ahmet   Yılmaz\n",
      "1           2       Ali  Korkmaz\n",
      "2           3     Hasan    Çelik\n",
      "3           4     Canan    Canan\n",
      "   OrderId  CustomerId   OrderDate\n",
      "0       10           1  2010-07-04\n",
      "1       11           2  2010-07-04\n",
      "2       12           5  2010-07-04\n",
      "3       13           7  2010-07-04\n",
      "             ◽   ◽   ◽\n",
      "   CustomerId FirstName LastName  OrderId   OrderDate\n",
      "0           1     Ahmet   Yılmaz       10  2010-07-04\n",
      "1           2       Ali  Korkmaz       11  2010-07-04\n",
      "             ◽   ◽   ◽\n",
      "   CustomerId FirstName LastName  OrderId   OrderDate\n",
      "0           1     Ahmet   Yılmaz     10.0  2010-07-04\n",
      "1           2       Ali  Korkmaz     11.0  2010-07-04\n",
      "2           3     Hasan    Çelik      NaN         NaN\n",
      "3           4     Canan    Canan      NaN         NaN\n",
      "             ◽   ◽   ◽\n",
      "   CustomerId FirstName LastName  OrderId   OrderDate\n",
      "0           1     Ahmet   Yılmaz       10  2010-07-04\n",
      "1           2       Ali  Korkmaz       11  2010-07-04\n",
      "2           5       NaN      NaN       12  2010-07-04\n",
      "3           7       NaN      NaN       13  2010-07-04\n"
     ]
    }
   ],
   "source": [
    "import pandas as pd\n",
    "\n",
    "customers = {\n",
    "        'CustomerId': [1,2,3,4],\n",
    "        'FirstName': [\"Ahmet\",\"Ali\",\"Hasan\",\"Canan\"],\n",
    "        'LastName': [\"Yılmaz\",\"Korkmaz\",\"Çelik\",\"Canan\"]\n",
    "    }\n",
    "\n",
    "# siparişler\n",
    "orders = {\n",
    "        'OrderId': [10,11,12,13],\n",
    "        'CustomerId': [1,2,5,7],\n",
    "        'OrderDate': [\"2010-07-04\",\"2010-07-04\",\"2010-07-04\",\"2010-07-04\"]\n",
    "    }\n",
    "\n",
    "# hazırladığımız listeleri dataFrame e dönüştürmek için...\n",
    "df_customers = pd.DataFrame(customers, columns= [\"CustomerId\",\"FirstName\",\"LastName\"])\n",
    "df_orders = pd.DataFrame(orders, columns= [\"OrderId\",\"CustomerId\",\"OrderDate\"])\n",
    "\n",
    "print(df_customers)\n",
    "print(df_orders)\n",
    "print(\"             ◽   ◽   ◽\")\n",
    "\n",
    "# merge ile birleştirelim (bir tür join işlemi) (how nasıl birleştireceğimizi gösterir)\n",
    "result = pd.merge(df_customers,df_orders, how= \"inner\")\n",
    "print(result) # 5- 7 kayıtlar bize gelmedi çünkü inner join yaptık (birleştirilen kayıtlar bize geldi)\n",
    "print(\"             ◽   ◽   ◽\")\n",
    "\n",
    "# left join yapalım\n",
    "# soldakileri getir ama sağdakileri getirme (tüm müşteriler gelsin ama siparişi olmayan müşteriler de gelsin.)\n",
    "result = pd.merge(df_customers,df_orders, how= \"left\") # soldaki df_customers sağdaki df_orders oluyor burada\n",
    "print(result)\n",
    "print(\"             ◽   ◽   ◽\")\n",
    "\n",
    "# right join yapalım\n",
    "# tüm siparişler gelir ancak müşteri bilgilerinden eksik olanlar NaN alır.\n",
    "result = pd.merge(df_customers,df_orders, how= \"right\")\n",
    "print(result)"
   ]
  },
  {
   "cell_type": "markdown",
   "metadata": {},
   "source": [
    "* devam\n",
    "\n",
    "        concat()"
   ]
  },
  {
   "cell_type": "code",
   "execution_count": 80,
   "metadata": {},
   "outputs": [
    {
     "name": "stdout",
     "output_type": "stream",
     "text": [
      "   CustomerId FirstName LastName\n",
      "0           1     Ahmet   Yılmaz\n",
      "1           2       Ali  Korkmaz\n",
      "2           3     Hasan    Çelik\n",
      "3           4     Canan    Canan\n",
      "0           4    Yağmur    Bilge\n",
      "1           5     Çınar    Turan\n",
      "2           6    Cengiz   Yılmaz\n",
      "3           7       Can    Turan\n",
      "             ◽   ◽   ◽\n",
      "   CustomerId FirstName LastName  CustomerId FirstName LastName\n",
      "0           1     Ahmet   Yılmaz           4    Yağmur    Bilge\n",
      "1           2       Ali  Korkmaz           5     Çınar    Turan\n",
      "2           3     Hasan    Çelik           6    Cengiz   Yılmaz\n",
      "3           4     Canan    Canan           7       Can    Turan\n",
      "             ◽   ◽   ◽\n",
      "   CustomerId FirstName LastName  OrderId   OrderDate\n",
      "0           1     Ahmet   Yılmaz     10.0  2010-07-04\n",
      "1           2       Ali  Korkmaz     11.0  2010-07-04\n",
      "2           3     Hasan    Çelik      NaN         NaN\n",
      "3           4     Canan    Canan      NaN         NaN\n",
      "4           5       NaN      NaN     12.0  2010-07-04\n",
      "5           7       NaN      NaN     13.0  2010-07-04\n"
     ]
    }
   ],
   "source": [
    "import pandas as pd\n",
    "\n",
    "customersA = {\n",
    "        'CustomerId': [1,2,3,4],\n",
    "        'FirstName': [\"Ahmet\",\"Ali\",\"Hasan\",\"Canan\"],\n",
    "        'LastName': [\"Yılmaz\",\"Korkmaz\",\"Çelik\",\"Canan\"]\n",
    "    }\n",
    "\n",
    "customersB = {\n",
    "        'CustomerId': [4,5,6,7],\n",
    "        'FirstName': [\"Yağmur\",\"Çınar\",\"Cengiz\",\"Can\"],\n",
    "        'LastName': [\"Bilge\",\"Turan\",\"Yılmaz\",\"Turan\"]\n",
    "    }\n",
    "\n",
    "# bu bilgileri dataFrame e çevirelim \n",
    "df_customersA = pd.DataFrame(customersA, columns = [\"CustomerId\",\"FirstName\",\"LastName\"])\n",
    "df_customersB = pd.DataFrame(customersB, columns = [\"CustomerId\",\"FirstName\",\"LastName\"])\n",
    "\n",
    "# iki dataFrame i birleştirelim\n",
    "result = pd.concat([df_customersA, df_customersB])\n",
    "print(result)   # ilk dataFrame in altına 2. dataFrame eklendi. (alt alta axis varsayılan 0 satıra göre işlem yapmış olduk)\n",
    "print(\"             ◽   ◽   ◽\")\n",
    "\n",
    "\n",
    "# yukarıdaki yaptığımızı axis 1 ile yapalım bu sefer kolona göre yapar yanına eklemiş oluruz\n",
    "result = pd.concat([df_customersA, df_customersB], axis= 1)\n",
    "print(result)\n",
    "print(\"             ◽   ◽   ◽\")\n",
    "\n",
    "# outer join yapalım\n",
    "result = pd.merge(df_customers,df_orders,how=\"outer\")\n",
    "print(result) # sağ ve sol tüm kayıtlar bize getirilir."
   ]
  }
 ],
 "metadata": {
  "language_info": {
   "name": "python"
  },
  "orig_nbformat": 4
 },
 "nbformat": 4,
 "nbformat_minor": 2
}
