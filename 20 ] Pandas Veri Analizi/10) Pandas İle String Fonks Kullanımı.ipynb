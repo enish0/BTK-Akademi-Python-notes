{
 "cells": [
  {
   "cell_type": "markdown",
   "metadata": {},
   "source": [
    "# Pandas İle String Fonksiyonları"
   ]
  },
  {
   "cell_type": "code",
   "execution_count": 3,
   "metadata": {},
   "outputs": [
    {
     "name": "stdout",
     "output_type": "stream",
     "text": [
      "       Unnamed: 0        player_name team_abbreviation   age  player_height  \\\n",
      "0               0      Dennis Rodman               CHI  36.0         198.12   \n",
      "1               1  Dwayne Schintzius               LAC  28.0         215.90   \n",
      "2               2       Earl Cureton               TOR  39.0         205.74   \n",
      "3               3        Ed O'Bannon               DAL  24.0         203.20   \n",
      "4               4        Ed Pinckney               MIA  34.0         205.74   \n",
      "...           ...                ...               ...   ...            ...   \n",
      "12300       12300    Markieff Morris               MIA  32.0         205.74   \n",
      "12301       12301     Markelle Fultz               ORL  24.0         193.04   \n",
      "12302       12302       Marcus Smart               BOS  28.0         193.04   \n",
      "12303       12303     Marcus Garrett               MIA  23.0         195.58   \n",
      "12304       12304       Micah Potter               DET  24.0         208.28   \n",
      "\n",
      "       player_weight                      college country draft_year  \\\n",
      "0          99.790240  Southeastern Oklahoma State     USA       1986   \n",
      "1         117.933920                      Florida     USA       1990   \n",
      "2          95.254320                Detroit Mercy     USA       1979   \n",
      "3         100.697424                         UCLA     USA       1995   \n",
      "4         108.862080                    Villanova     USA       1985   \n",
      "...              ...                          ...     ...        ...   \n",
      "12300     111.130040                       Kansas     USA       2011   \n",
      "12301      94.800728                   Washington     USA       2017   \n",
      "12302      99.790240               Oklahoma State     USA       2014   \n",
      "12303      92.986360                       Kansas     USA  Undrafted   \n",
      "12304     112.490816                    Wisconsin     USA  Undrafted   \n",
      "\n",
      "      draft_round  ...   pts   reb  ast  net_rating  oreb_pct  dreb_pct  \\\n",
      "0               2  ...   5.7  16.1  3.1        16.1     0.186     0.323   \n",
      "1               1  ...   2.3   1.5  0.3        12.3     0.078     0.151   \n",
      "2               3  ...   0.8   1.0  0.4        -2.1     0.105     0.102   \n",
      "3               1  ...   3.7   2.3  0.6        -8.7     0.060     0.149   \n",
      "4               1  ...   2.4   2.4  0.2       -11.2     0.109     0.179   \n",
      "...           ...  ...   ...   ...  ...         ...       ...       ...   \n",
      "12300           1  ...   7.6   2.6  1.4         4.5     0.059     0.089   \n",
      "12301           1  ...  10.8   2.7  5.5        -5.3     0.010     0.116   \n",
      "12302           1  ...  12.1   3.8  5.9         9.3     0.018     0.093   \n",
      "12303   Undrafted  ...   1.1   1.9  0.6         5.8     0.072     0.108   \n",
      "12304   Undrafted  ...   4.0   3.0  0.0       -56.4     0.095     0.125   \n",
      "\n",
      "       usg_pct  ts_pct  ast_pct   season  \n",
      "0        0.100   0.479    0.113  1996-97  \n",
      "1        0.175   0.430    0.048  1996-97  \n",
      "2        0.103   0.376    0.148  1996-97  \n",
      "3        0.167   0.399    0.077  1996-97  \n",
      "4        0.127   0.611    0.040  1996-97  \n",
      "...        ...     ...      ...      ...  \n",
      "12300    0.197   0.547    0.116  2021-22  \n",
      "12301    0.265   0.517    0.448  2021-22  \n",
      "12302    0.179   0.540    0.245  2021-22  \n",
      "12303    0.086   0.280    0.069  2021-22  \n",
      "12304    0.148   0.505    0.000  2021-22  \n",
      "\n",
      "[12305 rows x 22 columns]\n"
     ]
    }
   ],
   "source": [
    "import pandas as pd\n",
    "\n",
    "# nba oyuncuları ile alakalı bir csv dosyası üzerinde işlem yapalım\n",
    "# dataya bir göz atalım\n",
    "data = pd.read_csv(\"nba_players.csv\")\n",
    "print(data)"
   ]
  },
  {
   "cell_type": "markdown",
   "metadata": {},
   "source": [
    "* devam"
   ]
  },
  {
   "cell_type": "code",
   "execution_count": 12,
   "metadata": {},
   "outputs": [
    {
     "name": "stdout",
     "output_type": "stream",
     "text": [
      "       Unnamed: 0        player_name team_abbreviation   age  player_height  \\\n",
      "0               0      Dennis Rodman               CHI  36.0         198.12   \n",
      "1               1  Dwayne Schintzius               LAC  28.0         215.90   \n",
      "2               2       Earl Cureton               TOR  39.0         205.74   \n",
      "3               3        Ed O'Bannon               DAL  24.0         203.20   \n",
      "4               4        Ed Pinckney               MIA  34.0         205.74   \n",
      "...           ...                ...               ...   ...            ...   \n",
      "12297       12297    Marquese Chriss               DAL  24.0         205.74   \n",
      "12299       12299    Marko Simonovic               CHI  22.0         210.82   \n",
      "12300       12300    Markieff Morris               MIA  32.0         205.74   \n",
      "12301       12301     Markelle Fultz               ORL  24.0         193.04   \n",
      "12302       12302       Marcus Smart               BOS  28.0         193.04   \n",
      "\n",
      "       player_weight                      college     country draft_year  \\\n",
      "0          99.790240  Southeastern Oklahoma State         USA       1986   \n",
      "1         117.933920                      Florida         USA       1990   \n",
      "2          95.254320                Detroit Mercy         USA       1979   \n",
      "3         100.697424                         UCLA         USA       1995   \n",
      "4         108.862080                    Villanova         USA       1985   \n",
      "...              ...                          ...         ...        ...   \n",
      "12297     108.862080                   Washington         USA       2016   \n",
      "12299      99.790240                         None  Montenegro       2020   \n",
      "12300     111.130040                       Kansas         USA       2011   \n",
      "12301      94.800728                   Washington         USA       2017   \n",
      "12302      99.790240               Oklahoma State         USA       2014   \n",
      "\n",
      "      draft_round  ...   pts   reb  ast  net_rating  oreb_pct  dreb_pct  \\\n",
      "0               2  ...   5.7  16.1  3.1        16.1     0.186     0.323   \n",
      "1               1  ...   2.3   1.5  0.3        12.3     0.078     0.151   \n",
      "2               3  ...   0.8   1.0  0.4        -2.1     0.105     0.102   \n",
      "3               1  ...   3.7   2.3  0.6        -8.7     0.060     0.149   \n",
      "4               1  ...   2.4   2.4  0.2       -11.2     0.109     0.179   \n",
      "...           ...  ...   ...   ...  ...         ...       ...       ...   \n",
      "12297           1  ...   4.5   3.0  0.5        -2.1     0.096     0.197   \n",
      "12299           2  ...   1.9   1.1  0.0         1.2     0.122     0.119   \n",
      "12300           1  ...   7.6   2.6  1.4         4.5     0.059     0.089   \n",
      "12301           1  ...  10.8   2.7  5.5        -5.3     0.010     0.116   \n",
      "12302           1  ...  12.1   3.8  5.9         9.3     0.018     0.093   \n",
      "\n",
      "       usg_pct  ts_pct  ast_pct   season  \n",
      "0        0.100   0.479    0.113  1996-97  \n",
      "1        0.175   0.430    0.048  1996-97  \n",
      "2        0.103   0.376    0.148  1996-97  \n",
      "3        0.167   0.399    0.077  1996-97  \n",
      "4        0.127   0.611    0.040  1996-97  \n",
      "...        ...     ...      ...      ...  \n",
      "12297    0.205   0.518    0.079  2021-22  \n",
      "12299    0.247   0.428    0.000  2021-22  \n",
      "12300    0.197   0.547    0.116  2021-22  \n",
      "12301    0.265   0.517    0.448  2021-22  \n",
      "12302    0.179   0.540    0.245  2021-22  \n",
      "\n",
      "[10031 rows x 22 columns]\n"
     ]
    }
   ],
   "source": [
    "import pandas as pd\n",
    "import numpy as np\n",
    "\n",
    "# nba oyuncuları ile alakalı bir csv dosyası üzerinde işlem yapalım\n",
    "data = pd.read_csv(\"nba_players.csv\")\n",
    "# nan olan dataları kayıttan silelim\n",
    "data[\"draft_round\"].replace(\"Undrafted\", np.nan, inplace=True) # bizim csv dosyamızda nan değilde Undrafted olduğundan Undrafted bilgileri nan yapıp oyle sileceğiz\n",
    "data.dropna(inplace = True) # inplace True ile orjinal data üzerindede değişiklik yapılıyor\n",
    "print(data)"
   ]
  },
  {
   "cell_type": "markdown",
   "metadata": {},
   "source": [
    "* devam"
   ]
  },
  {
   "cell_type": "code",
   "execution_count": 23,
   "metadata": {},
   "outputs": [
    {
     "name": "stdout",
     "output_type": "stream",
     "text": [
      "Index(['Unnamed: 0', 'player_name', 'team_abbreviation', 'age',\n",
      "       'player_height', 'player_weight', 'college', 'country', 'draft_year',\n",
      "       'draft_round', 'draft_number', 'gp', 'pts', 'reb', 'ast', 'net_rating',\n",
      "       'oreb_pct', 'dreb_pct', 'usg_pct', 'ts_pct', 'ast_pct', 'season'],\n",
      "      dtype='object')\n",
      "             ◽   ◽   ◽\n",
      "   Unnamed: 0        player_name team_abbreviation   age  player_height  \\\n",
      "0           0      DENNIS RODMAN               CHI  36.0         198.12   \n",
      "1           1  DWAYNE SCHINTZIUS               LAC  28.0         215.90   \n",
      "2           2       EARL CURETON               TOR  39.0         205.74   \n",
      "3           3        ED O'BANNON               DAL  24.0         203.20   \n",
      "4           4        ED PINCKNEY               MIA  34.0         205.74   \n",
      "\n",
      "   player_weight                      college country draft_year draft_round  \\\n",
      "0      99.790240  Southeastern Oklahoma State     USA       1986           2   \n",
      "1     117.933920                      Florida     USA       1990           1   \n",
      "2      95.254320                Detroit Mercy     USA       1979           3   \n",
      "3     100.697424                         UCLA     USA       1995           1   \n",
      "4     108.862080                    Villanova     USA       1985           1   \n",
      "\n",
      "   ...  pts   reb  ast  net_rating  oreb_pct  dreb_pct  usg_pct  ts_pct  \\\n",
      "0  ...  5.7  16.1  3.1        16.1     0.186     0.323    0.100   0.479   \n",
      "1  ...  2.3   1.5  0.3        12.3     0.078     0.151    0.175   0.430   \n",
      "2  ...  0.8   1.0  0.4        -2.1     0.105     0.102    0.103   0.376   \n",
      "3  ...  3.7   2.3  0.6        -8.7     0.060     0.149    0.167   0.399   \n",
      "4  ...  2.4   2.4  0.2       -11.2     0.109     0.179    0.127   0.611   \n",
      "\n",
      "   ast_pct   season  \n",
      "0    0.113  1996-97  \n",
      "1    0.048  1996-97  \n",
      "2    0.148  1996-97  \n",
      "3    0.077  1996-97  \n",
      "4    0.040  1996-97  \n",
      "\n",
      "[5 rows x 22 columns]\n"
     ]
    }
   ],
   "source": [
    "import pandas as pd\n",
    "import numpy as np\n",
    "\n",
    "data = pd.read_csv(\"nba_players.csv\")\n",
    "data[\"draft_round\"].replace(\"Undrafted\", np.nan, inplace=True) \n",
    "data.dropna(inplace = True) \n",
    "#---- temel kod\n",
    "\n",
    "# kolonları sorgulayalım\n",
    "print(data.columns)\n",
    "print(\"             ◽   ◽   ◽\")\n",
    "\n",
    "\n",
    "# name kolonuna gidelim güncelleme yapalım\n",
    "# tüm name bilgileri büyük harf yapalım\n",
    "data[\"player_name\"] = data[\"player_name\"].str.upper()   # str diyince string fonksiyonlarına geçiş yapabiliyoruz\n",
    "print(data.head())  # ilk 5 kayıt alsın"
   ]
  },
  {
   "cell_type": "markdown",
   "metadata": {},
   "source": [
    "* devam"
   ]
  },
  {
   "cell_type": "code",
   "execution_count": 24,
   "metadata": {},
   "outputs": [
    {
     "name": "stdout",
     "output_type": "stream",
     "text": [
      "       Unnamed: 0        player_name team_abbreviation   age  player_height  \\\n",
      "0               0      dennis rodman               CHI  36.0         198.12   \n",
      "1               1  dwayne schintzius               LAC  28.0         215.90   \n",
      "2               2       earl cureton               TOR  39.0         205.74   \n",
      "3               3        ed o'bannon               DAL  24.0         203.20   \n",
      "4               4        ed pinckney               MIA  34.0         205.74   \n",
      "...           ...                ...               ...   ...            ...   \n",
      "12297       12297    marquese chriss               DAL  24.0         205.74   \n",
      "12299       12299    marko simonovic               CHI  22.0         210.82   \n",
      "12300       12300    markieff morris               MIA  32.0         205.74   \n",
      "12301       12301     markelle fultz               ORL  24.0         193.04   \n",
      "12302       12302       marcus smart               BOS  28.0         193.04   \n",
      "\n",
      "       player_weight                      college     country draft_year  \\\n",
      "0          99.790240  Southeastern Oklahoma State         USA       1986   \n",
      "1         117.933920                      Florida         USA       1990   \n",
      "2          95.254320                Detroit Mercy         USA       1979   \n",
      "3         100.697424                         UCLA         USA       1995   \n",
      "4         108.862080                    Villanova         USA       1985   \n",
      "...              ...                          ...         ...        ...   \n",
      "12297     108.862080                   Washington         USA       2016   \n",
      "12299      99.790240                         None  Montenegro       2020   \n",
      "12300     111.130040                       Kansas         USA       2011   \n",
      "12301      94.800728                   Washington         USA       2017   \n",
      "12302      99.790240               Oklahoma State         USA       2014   \n",
      "\n",
      "      draft_round  ...   pts   reb  ast  net_rating  oreb_pct  dreb_pct  \\\n",
      "0               2  ...   5.7  16.1  3.1        16.1     0.186     0.323   \n",
      "1               1  ...   2.3   1.5  0.3        12.3     0.078     0.151   \n",
      "2               3  ...   0.8   1.0  0.4        -2.1     0.105     0.102   \n",
      "3               1  ...   3.7   2.3  0.6        -8.7     0.060     0.149   \n",
      "4               1  ...   2.4   2.4  0.2       -11.2     0.109     0.179   \n",
      "...           ...  ...   ...   ...  ...         ...       ...       ...   \n",
      "12297           1  ...   4.5   3.0  0.5        -2.1     0.096     0.197   \n",
      "12299           2  ...   1.9   1.1  0.0         1.2     0.122     0.119   \n",
      "12300           1  ...   7.6   2.6  1.4         4.5     0.059     0.089   \n",
      "12301           1  ...  10.8   2.7  5.5        -5.3     0.010     0.116   \n",
      "12302           1  ...  12.1   3.8  5.9         9.3     0.018     0.093   \n",
      "\n",
      "       usg_pct  ts_pct  ast_pct   season  \n",
      "0        0.100   0.479    0.113  1996-97  \n",
      "1        0.175   0.430    0.048  1996-97  \n",
      "2        0.103   0.376    0.148  1996-97  \n",
      "3        0.167   0.399    0.077  1996-97  \n",
      "4        0.127   0.611    0.040  1996-97  \n",
      "...        ...     ...      ...      ...  \n",
      "12297    0.205   0.518    0.079  2021-22  \n",
      "12299    0.247   0.428    0.000  2021-22  \n",
      "12300    0.197   0.547    0.116  2021-22  \n",
      "12301    0.265   0.517    0.448  2021-22  \n",
      "12302    0.179   0.540    0.245  2021-22  \n",
      "\n",
      "[10031 rows x 22 columns]\n"
     ]
    }
   ],
   "source": [
    "import pandas as pd\n",
    "import numpy as np\n",
    "\n",
    "data = pd.read_csv(\"nba_players.csv\")\n",
    "data[\"draft_round\"].replace(\"Undrafted\", np.nan, inplace=True) \n",
    "data.dropna(inplace = True) \n",
    "#---- temel kod\n",
    "\n",
    "# tüm name bilgileri küçük harf yapalım\n",
    "data[\"player_name\"] = data[\"player_name\"].str.lower() \n",
    "print(data)"
   ]
  },
  {
   "cell_type": "markdown",
   "metadata": {},
   "source": [
    "* devam"
   ]
  },
  {
   "cell_type": "code",
   "execution_count": 29,
   "metadata": {},
   "outputs": [
    {
     "name": "stdout",
     "output_type": "stream",
     "text": [
      "   Unnamed: 0        player_name team_abbreviation   age  player_height  \\\n",
      "0           0      Dennis Rodman               CHI  36.0         198.12   \n",
      "1           1  Dwayne Schintzius               LAC  28.0         215.90   \n",
      "2           2       Earl Cureton               TOR  39.0         205.74   \n",
      "3           3        Ed O'Bannon               DAL  24.0         203.20   \n",
      "4           4        Ed Pinckney               MIA  34.0         205.74   \n",
      "\n",
      "   player_weight                      college country draft_year draft_round  \\\n",
      "0      99.790240  Southeastern Oklahoma State     USA       1986           2   \n",
      "1     117.933920                      Florida     USA       1990           1   \n",
      "2      95.254320                Detroit Mercy     USA       1979           3   \n",
      "3     100.697424                         UCLA     USA       1995           1   \n",
      "4     108.862080                    Villanova     USA       1985           1   \n",
      "\n",
      "   ...   reb  ast  net_rating  oreb_pct  dreb_pct  usg_pct  ts_pct  ast_pct  \\\n",
      "0  ...  16.1  3.1        16.1     0.186     0.323    0.100   0.479    0.113   \n",
      "1  ...   1.5  0.3        12.3     0.078     0.151    0.175   0.430    0.048   \n",
      "2  ...   1.0  0.4        -2.1     0.105     0.102    0.103   0.376    0.148   \n",
      "3  ...   2.3  0.6        -8.7     0.060     0.149    0.167   0.399    0.077   \n",
      "4  ...   2.4  0.2       -11.2     0.109     0.179    0.127   0.611    0.040   \n",
      "\n",
      "    season  index  \n",
      "0  1996-97     11  \n",
      "1  1996-97      2  \n",
      "2  1996-97      1  \n",
      "3  1996-97      6  \n",
      "4  1996-97     -1  \n",
      "\n",
      "[5 rows x 23 columns]\n"
     ]
    }
   ],
   "source": [
    "import pandas as pd\n",
    "import numpy as np\n",
    "\n",
    "data = pd.read_csv(\"nba_players.csv\")\n",
    "data[\"draft_round\"].replace(\"Undrafted\", np.nan, inplace=True) \n",
    "data.dropna(inplace = True) \n",
    "#---- temel kod\n",
    "\n",
    "# data'ya index isimli yeni bir kolon ekleyelim\n",
    "# name kolonunda a karakteri kaçıncı indexte olduğu bilgisini yeni kolona yazsın\n",
    "data[\"index\"] = data[\"player_name\"].str.find('a')\n",
    "print(data.head())"
   ]
  },
  {
   "cell_type": "markdown",
   "metadata": {},
   "source": [
    "* devam"
   ]
  },
  {
   "cell_type": "code",
   "execution_count": 35,
   "metadata": {},
   "outputs": [
    {
     "name": "stdout",
     "output_type": "stream",
     "text": [
      "0        False\n",
      "1        False\n",
      "2        False\n",
      "3        False\n",
      "4        False\n",
      "         ...  \n",
      "12297    False\n",
      "12299    False\n",
      "12300    False\n",
      "12301    False\n",
      "12302    False\n",
      "Name: player_name, Length: 10031, dtype: bool\n"
     ]
    },
    {
     "ename": "AttributeError",
     "evalue": "'Series' object has no attribute 'player_name'",
     "output_type": "error",
     "traceback": [
      "\u001b[1;31m---------------------------------------------------------------------------\u001b[0m",
      "\u001b[1;31mAttributeError\u001b[0m                            Traceback (most recent call last)",
      "\u001b[1;32md:\\Yasin\\VS Code\\BTK Akademi\\20 ] Pandas Veri Analizi\\10) Pandas İle String Fonks Kullanımı.ipynb Cell 12\u001b[0m line \u001b[0;36m1\n\u001b[0;32m     <a href='vscode-notebook-cell:/d%3A/Yasin/VS%20Code/BTK%20Akademi/20%20%5D%20Pandas%20Veri%20Analizi/10%29%20Pandas%20%C4%B0le%20String%20Fonks%20Kullan%C4%B1m%C4%B1.ipynb#X15sZmlsZQ%3D%3D?line=11'>12</a>\u001b[0m \u001b[39mprint\u001b[39m(data) \u001b[39m# true & false şeklinde cevap verir\u001b[39;00m\n\u001b[0;32m     <a href='vscode-notebook-cell:/d%3A/Yasin/VS%20Code/BTK%20Akademi/20%20%5D%20Pandas%20Veri%20Analizi/10%29%20Pandas%20%C4%B0le%20String%20Fonks%20Kullan%C4%B1m%C4%B1.ipynb#X15sZmlsZQ%3D%3D?line=13'>14</a>\u001b[0m \u001b[39m# true & false seklinde olmasın (sadece isminde jordan geçen kayıtları getirsin)\u001b[39;00m\n\u001b[1;32m---> <a href='vscode-notebook-cell:/d%3A/Yasin/VS%20Code/BTK%20Akademi/20%20%5D%20Pandas%20Veri%20Analizi/10%29%20Pandas%20%C4%B0le%20String%20Fonks%20Kullan%C4%B1m%C4%B1.ipynb#X15sZmlsZQ%3D%3D?line=14'>15</a>\u001b[0m data \u001b[39m=\u001b[39m data\u001b[39m.\u001b[39;49mplayer_name\u001b[39m.\u001b[39mstr\u001b[39m.\u001b[39mcontains(\u001b[39m'\u001b[39m\u001b[39mJordan\u001b[39m\u001b[39m'\u001b[39m) \u001b[39m# data içersine vermeliyiz\u001b[39;00m\n\u001b[0;32m     <a href='vscode-notebook-cell:/d%3A/Yasin/VS%20Code/BTK%20Akademi/20%20%5D%20Pandas%20Veri%20Analizi/10%29%20Pandas%20%C4%B0le%20String%20Fonks%20Kullan%C4%B1m%C4%B1.ipynb#X15sZmlsZQ%3D%3D?line=15'>16</a>\u001b[0m \u001b[39mprint\u001b[39m(data) \u001b[39m#    < bir üsttekini yorum satırına alıp çalıştır >\u001b[39;00m\n",
      "File \u001b[1;32mc:\\Users\\Yasin\\AppData\\Local\\Programs\\Python\\Python311\\Lib\\site-packages\\pandas\\core\\generic.py:5902\u001b[0m, in \u001b[0;36mNDFrame.__getattr__\u001b[1;34m(self, name)\u001b[0m\n\u001b[0;32m   5895\u001b[0m \u001b[39mif\u001b[39;00m (\n\u001b[0;32m   5896\u001b[0m     name \u001b[39mnot\u001b[39;00m \u001b[39min\u001b[39;00m \u001b[39mself\u001b[39m\u001b[39m.\u001b[39m_internal_names_set\n\u001b[0;32m   5897\u001b[0m     \u001b[39mand\u001b[39;00m name \u001b[39mnot\u001b[39;00m \u001b[39min\u001b[39;00m \u001b[39mself\u001b[39m\u001b[39m.\u001b[39m_metadata\n\u001b[0;32m   5898\u001b[0m     \u001b[39mand\u001b[39;00m name \u001b[39mnot\u001b[39;00m \u001b[39min\u001b[39;00m \u001b[39mself\u001b[39m\u001b[39m.\u001b[39m_accessors\n\u001b[0;32m   5899\u001b[0m     \u001b[39mand\u001b[39;00m \u001b[39mself\u001b[39m\u001b[39m.\u001b[39m_info_axis\u001b[39m.\u001b[39m_can_hold_identifiers_and_holds_name(name)\n\u001b[0;32m   5900\u001b[0m ):\n\u001b[0;32m   5901\u001b[0m     \u001b[39mreturn\u001b[39;00m \u001b[39mself\u001b[39m[name]\n\u001b[1;32m-> 5902\u001b[0m \u001b[39mreturn\u001b[39;00m \u001b[39mobject\u001b[39;49m\u001b[39m.\u001b[39;49m\u001b[39m__getattribute__\u001b[39;49m(\u001b[39mself\u001b[39;49m, name)\n",
      "\u001b[1;31mAttributeError\u001b[0m: 'Series' object has no attribute 'player_name'"
     ]
    }
   ],
   "source": [
    "import pandas as pd\n",
    "import numpy as np\n",
    "\n",
    "data = pd.read_csv(\"nba_players.csv\")\n",
    "data[\"draft_round\"].replace(\"Undrafted\", np.nan, inplace=True) \n",
    "data.dropna(inplace = True) \n",
    "#---- temel kod\n",
    "\n",
    "\n",
    "# Jordan ismini arasın\n",
    "data = data.player_name.str.contains('Jordan')\n",
    "print(data) # true & false şeklinde cevap verir\n",
    "\n",
    "# true & false seklinde olmasın (sadece isminde jordan geçen kayıtları getirsin)\n",
    "data = data.player_name.str.contains('Jordan') # data içersine vermeliyiz\n",
    "print(data) #    < bir üsttekini yorum satırına alıp çalıştır >"
   ]
  }
 ],
 "metadata": {
  "kernelspec": {
   "display_name": "Python 3",
   "language": "python",
   "name": "python3"
  },
  "language_info": {
   "codemirror_mode": {
    "name": "ipython",
    "version": 3
   },
   "file_extension": ".py",
   "mimetype": "text/x-python",
   "name": "python",
   "nbconvert_exporter": "python",
   "pygments_lexer": "ipython3",
   "version": "3.11.1"
  },
  "orig_nbformat": 4
 },
 "nbformat": 4,
 "nbformat_minor": 2
}
