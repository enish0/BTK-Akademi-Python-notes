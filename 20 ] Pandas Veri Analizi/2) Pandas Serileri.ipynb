{
 "cells": [
  {
   "cell_type": "markdown",
   "metadata": {},
   "source": [
    "# Pandas serileri"
   ]
  },
  {
   "cell_type": "code",
   "execution_count": 1,
   "metadata": {},
   "outputs": [
    {
     "name": "stdout",
     "output_type": "stream",
     "text": [
      "Series([], dtype: float64)\n"
     ]
    },
    {
     "name": "stderr",
     "output_type": "stream",
     "text": [
      "C:\\Users\\Yasin\\AppData\\Local\\Temp\\ipykernel_21608\\2795542321.py:4: FutureWarning: The default dtype for empty Series will be 'object' instead of 'float64' in a future version. Specify a dtype explicitly to silence this warning.\n",
      "  pandas_series = pd.Series()\n"
     ]
    }
   ],
   "source": [
    "import pandas as pd\n",
    "\n",
    "# pandas serisi oluşturalım\n",
    "pandas_series = pd.Series()\n",
    "\n",
    "print(pandas_series)\n"
   ]
  },
  {
   "cell_type": "markdown",
   "metadata": {},
   "source": [
    "series'in içine data verelim bu sefer"
   ]
  },
  {
   "cell_type": "code",
   "execution_count": 2,
   "metadata": {},
   "outputs": [
    {
     "name": "stdout",
     "output_type": "stream",
     "text": [
      "0    20\n",
      "1    30\n",
      "2    40\n",
      "3    50\n",
      "dtype: int64\n"
     ]
    }
   ],
   "source": [
    "import pandas as pd\n",
    "# data\n",
    "numbers = [20,30,40,50]\n",
    "\n",
    "pandas_series = pd.Series(numbers)\n",
    "print(pandas_series)\n",
    "\n",
    "#sonuç\n",
    "# her bir elemana index vermiş\n",
    "# veri tipinin int64 olduğunu söyledi"
   ]
  },
  {
   "cell_type": "markdown",
   "metadata": {},
   "source": [
    "farklı bir veri tipi verelim"
   ]
  },
  {
   "cell_type": "code",
   "execution_count": 3,
   "metadata": {},
   "outputs": [
    {
     "name": "stdout",
     "output_type": "stream",
     "text": [
      "0    a\n",
      "1    b\n",
      "2    c\n",
      "3    d\n",
      "dtype: object\n"
     ]
    }
   ],
   "source": [
    "import pandas as pd\n",
    "# data\n",
    "numbers = [20,30,40,50]\n",
    "letters = ['a','b','c','d']\n",
    "\n",
    "pandas_series = pd.Series(letters)\n",
    "print(pandas_series)\n",
    "\n",
    "# sonuç\n",
    "# stringin tipine obje dedi\n",
    "# yine tüm veriyi indexleri ile gösterdi"
   ]
  },
  {
   "cell_type": "markdown",
   "metadata": {},
   "source": [
    "numpy dizilerinde bir listenin tüm elemanlar aynı tipte olması gerekiyordu\n",
    "pandasta tüm liste elemanlarının aynı tipte olmasına gerek yok.\n",
    "\n",
    "* aşağıda verilerden birini farklı tipte yapalım"
   ]
  },
  {
   "cell_type": "code",
   "execution_count": 5,
   "metadata": {},
   "outputs": [
    {
     "name": "stdout",
     "output_type": "stream",
     "text": [
      "0     a\n",
      "1     b\n",
      "2     c\n",
      "3    20\n",
      "dtype: object\n"
     ]
    }
   ],
   "source": [
    "import pandas as pd\n",
    "\n",
    "# data \n",
    "numbers = [20,30,40,50]\n",
    "letters = ['a','b','c','d']\n",
    "letters_2 = ['a','b','c', 20]   # biri farklı tipte\n",
    "\n",
    "pandas_series = pd.Series(letters_2)\n",
    "print(pandas_series)\n",
    "\n",
    "# sonuç \n",
    "# yine object dedi tipine ve sorun olmadı. (liste elemanlarının hepsi aynı data tipinde olmak zorunda değil pandas ta)\n"
   ]
  },
  {
   "cell_type": "markdown",
   "metadata": {},
   "source": [
    "* skaler bir bilgi tanımlayalım bu sefer"
   ]
  },
  {
   "cell_type": "code",
   "execution_count": 11,
   "metadata": {},
   "outputs": [
    {
     "name": "stdout",
     "output_type": "stream",
     "text": [
      "0    5\n",
      "dtype: int64\n",
      "0    5\n",
      "1    5\n",
      "2    5\n",
      "3    5\n",
      "dtype: int64\n",
      "a    20\n",
      "b    30\n",
      "c    40\n",
      "d    50\n",
      "dtype: int64\n"
     ]
    }
   ],
   "source": [
    "import pandas as pd\n",
    "\n",
    "# data \n",
    "numbers = [20,30,40,50]\n",
    "letters = ['a','b','c','d']\n",
    "letters_2 = ['a','b','c', 20]   # biri farklı tipte\n",
    "scaler = 5\n",
    "\n",
    "pandas_series = pd.Series(scaler)\n",
    "print(pandas_series)\n",
    "\n",
    "# scaler bilgi verip bu sefer yanında index numaralarını verirsek..\n",
    "scaler = 5\n",
    "\n",
    "pandas_series = pd.Series(scaler, [0,1,2,3])\n",
    "print(pandas_series)\n",
    "\n",
    "# terminal sonucu\n",
    "    # verdiğimiz 5 bilgisi tek index sayısı kadar artırıldı\n",
    "\n",
    "# numbers'ı aynı şekilde kullanalım bu sefer\n",
    "numbers = [20,30,40,50]\n",
    "\n",
    "pandas_series = pd.Series(numbers, ['a','b','c','d'])\n",
    "print(pandas_series)    # bu sefer her bir numara verdiğimiz key bilgileri ile eşleşmiş oldu"
   ]
  },
  {
   "cell_type": "markdown",
   "metadata": {},
   "source": [
    "* peki dict (dictionary) bilgisi oluşturmuş olsaydık"
   ]
  },
  {
   "cell_type": "code",
   "execution_count": 15,
   "metadata": {},
   "outputs": [
    {
     "name": "stdout",
     "output_type": "stream",
     "text": [
      "a    10\n",
      "b    20\n",
      "c    30\n",
      "d    40\n",
      "dtype: int64\n"
     ]
    }
   ],
   "source": [
    "import pandas as pd\n",
    "\n",
    "# data \n",
    "numbers = [20,30,40,50]\n",
    "letters = ['a','b','c','d']\n",
    "letters_2 = ['a','b','c', 20]   # biri farklı tipte\n",
    "scaler = 5\n",
    "dict = {'a':10,'b':20,'c':30,'d':40}\n",
    "\n",
    "pandas_series = pd.Series(dict) # bu sefer index belirtmemiz gerekmiyor cünkü dict\n",
    "print(pandas_series)                # şeklindeki veri zaten key , value seklinde old. için indexli halde geliyor."
   ]
  },
  {
   "cell_type": "markdown",
   "metadata": {},
   "source": [
    "* data olarak verdiğimiz bilgiyi numpy üzerinden de oluşturabiliriz (sonuçta pandas ve numpy ortak bir uygulamada kullanılabilir)"
   ]
  },
  {
   "cell_type": "code",
   "execution_count": 23,
   "metadata": {},
   "outputs": [
    {
     "name": "stdout",
     "output_type": "stream",
     "text": [
      "0    49\n",
      "1    45\n",
      "2    16\n",
      "3    11\n",
      "4    94\n",
      "5    59\n",
      "dtype: int32\n"
     ]
    }
   ],
   "source": [
    "import pandas as pd\n",
    "import numpy as np\n",
    "\n",
    "# data \n",
    "numbers = [20,30,40,50]\n",
    "letters = ['a','b','c','d']\n",
    "letters_2 = ['a','b','c', 20]   # biri farklı tipte\n",
    "scaler = 5\n",
    "dict = {'a':10,'b':20,'c':30,'d':40}\n",
    "random_numbers = np.random.randint(10,100,6)  # randint tam sayı üretiyordu (hatırlatma)\n",
    "                                        # 10 ile 100 arası 6 sayı üretsin bana\n",
    "pandas_series = pd.Series(random_numbers)\n",
    "print(pandas_series)\n",
    "\n",
    "# yani \n",
    "# pandas serisinde numpy üzerinden oluşturduğumuz dataları da kullanabiliriz."
   ]
  },
  {
   "cell_type": "markdown",
   "metadata": {},
   "source": [
    "* ayrıca aşağıdaki örnekteki gibi index numaralarını değiştirip harf yapsak bile biz 0. indexteki elemanı sorguladığımızda bize 0. indexteki elemanı verir."
   ]
  },
  {
   "cell_type": "code",
   "execution_count": 38,
   "metadata": {},
   "outputs": [
    {
     "name": "stdout",
     "output_type": "stream",
     "text": [
      "20\n",
      "50\n",
      "a    20\n",
      "b    30\n",
      "dtype: int64\n",
      "c    40\n",
      "d    50\n",
      "dtype: int64\n",
      "20\n",
      "a    20\n",
      "c    40\n",
      "dtype: int64\n"
     ]
    }
   ],
   "source": [
    "import pandas as pd\n",
    "\n",
    "\n",
    "# data\n",
    "numbers = [20,30,40,50]\n",
    "\n",
    "\n",
    "pandas_series = pd.Series(numbers, ['a','b','c','d'])\n",
    "\n",
    "# numbers listesindeki her elemanın index numarasını harfler ile değiştik\n",
    "# bakalım yine de index ile sorgulama yaptığımızda ulaşabiliyor muyuz.\n",
    "result = pandas_series[0]\n",
    "print(result)\n",
    "# sonuç: evet sıfırıncı indexe ulaştık\n",
    "\n",
    "# son elemana ulaşalım şimdi de..\n",
    "result = pandas_series[-1]  # -1 sondan birinci index demek\n",
    "print(result)\n",
    "\n",
    "# ilk iki elemana ulaşalım\n",
    "result = pandas_series[:2]  \n",
    "print(result)\n",
    "\n",
    "# sondan ilk iki elemana ulaşalım\n",
    "result = pandas_series[-2:]  # -1 sondan birinci index demek\n",
    "print(result)\n",
    "\n",
    "# peki tanımladığımız key bilgileri (harfler) ile nasıl ulaşırız elemanlara\n",
    "result = pandas_series['a']  # a ya karşılık gelen key-value ya ulaşırız\n",
    "print(result)\n",
    "\n",
    "# birden fazla key bilgisine karşılık gelen elemanları alabiliriz. mesela a ve c\n",
    "result = pandas_series[['a','c']]  # köşeli parantez içersinde bir liste şeklinde\n",
    "print(result)\n",
    "\n",
    "# olmayan bir key bilgisini de çağırmaya kalkarsak örnek: 'e'\n",
    "#       hata verir veya NaN der"
   ]
  },
  {
   "cell_type": "markdown",
   "metadata": {},
   "source": [
    "pandas serilerindeki elemanlara bu şekilde ulaşabiliriz.\n",
    "* numpy içerisinde kullandığımız özellikleri de burda kullanabiliriz \n",
    "mesela ndim diyerek dimension bilgisine (tek mi çok mu boyutlu olduğuna) bakabiliriz\n",
    "\n",
    "        dtype"
   ]
  },
  {
   "cell_type": "code",
   "execution_count": 4,
   "metadata": {},
   "outputs": [
    {
     "name": "stdout",
     "output_type": "stream",
     "text": [
      "1\n",
      "int64\n"
     ]
    }
   ],
   "source": [
    "import pandas as pd\n",
    "\n",
    "# data\n",
    "numbers = [20,30,40,50]\n",
    "\n",
    "pandas_series = pd.Series(numbers, ['a','b','c','d'])\n",
    "\n",
    "result = pandas_series.ndim # diemension bilgisi (tek çok boyutluluk) ni söyler.\n",
    "print(result) \n",
    "\n",
    "# 1 yani tek boyutlu (çok boyutlu olunca matris oluyor)"
   ]
  },
  {
   "cell_type": "markdown",
   "metadata": {},
   "source": [
    "* data type ile data tipine bakabiliriz( zaten her listeyi yazdırdığında altında data tipini gösteriyor)\n",
    "        \n",
    "        dtype"
   ]
  },
  {
   "cell_type": "code",
   "execution_count": null,
   "metadata": {},
   "outputs": [],
   "source": [
    "import pandas as pd\n",
    "\n",
    "# data\n",
    "numbers = [20,30,40,50]\n",
    "\n",
    "pandas_series = pd.Series(numbers, ['a','b','c','d'])\n",
    "#--- önceki koddan\n",
    "\n",
    "result = pandas_series.dtype\n",
    "print(result)"
   ]
  },
  {
   "cell_type": "markdown",
   "metadata": {},
   "source": [
    "* kaça kaçlık bir liste olduğunu gösterir\n",
    "        \n",
    "        shape"
   ]
  },
  {
   "cell_type": "code",
   "execution_count": 7,
   "metadata": {},
   "outputs": [
    {
     "name": "stdout",
     "output_type": "stream",
     "text": [
      "(4,)\n"
     ]
    }
   ],
   "source": [
    "import pandas as pd\n",
    "\n",
    "# data\n",
    "numbers = [20,30,40,50]\n",
    "pandas_series = pd.Series(numbers, ['a','b','c','d'])\n",
    "#---- önceki koddan\n",
    "\n",
    "\n",
    "result = pandas_series.shape\n",
    "print(result)\n",
    "\n",
    "# terminal: 4 e birlik bir liste olduğunu ima eder"
   ]
  },
  {
   "cell_type": "markdown",
   "metadata": {},
   "source": [
    "* eleman sayısını toplamak istersek\n",
    "\n",
    "        sum()\n",
    "\n"
   ]
  },
  {
   "cell_type": "code",
   "execution_count": 10,
   "metadata": {},
   "outputs": [
    {
     "name": "stdout",
     "output_type": "stream",
     "text": [
      "140\n"
     ]
    }
   ],
   "source": [
    "import pandas as pd\n",
    "\n",
    "# data\n",
    "numbers = [20,30,40,50]\n",
    "pandas_series = pd.Series(numbers, ['a','b','c','d'])\n",
    "#---- önceki koddan\n",
    "\n",
    "result = pandas_series.sum()\n",
    "print(result)"
   ]
  },
  {
   "cell_type": "markdown",
   "metadata": {},
   "source": [
    "* listedeki max değere sahip elemanı gösterir.\n",
    "\n",
    "        max()\n",
    "\n",
    "* listedeki min değere sahip elemanı gösterir.\n",
    "\n",
    "        min()"
   ]
  },
  {
   "cell_type": "code",
   "execution_count": 15,
   "metadata": {},
   "outputs": [
    {
     "name": "stdout",
     "output_type": "stream",
     "text": [
      "50\n",
      "20\n"
     ]
    }
   ],
   "source": [
    "import pandas as pd\n",
    "\n",
    "# data\n",
    "numbers = [20,30,40,50]\n",
    "pandas_series = pd.Series(numbers, ['a','b','c','d'])\n",
    "#---- önceki koddan\n",
    "\n",
    "result = pandas_series.max()\n",
    "print(result)\n",
    "\n",
    "result = pandas_series.min()\n",
    "print(result)"
   ]
  },
  {
   "cell_type": "markdown",
   "metadata": {},
   "source": [
    "* matematiksel işlemler yapabiliriz örnek toplama çıkarma"
   ]
  },
  {
   "cell_type": "code",
   "execution_count": 17,
   "metadata": {},
   "outputs": [
    {
     "name": "stdout",
     "output_type": "stream",
     "text": [
      "a     40\n",
      "b     60\n",
      "c     80\n",
      "d    100\n",
      "dtype: int64\n",
      "a     70\n",
      "b     80\n",
      "c     90\n",
      "d    100\n",
      "dtype: int64\n"
     ]
    }
   ],
   "source": [
    "import pandas as pd\n",
    "\n",
    "# data\n",
    "numbers = [20,30,40,50]\n",
    "pandas_series = pd.Series(numbers, ['a','b','c','d'])\n",
    "#---- önceki koddan\n",
    "\n",
    "        # toplama\n",
    "result = pandas_series + pandas_series\n",
    "print(result)   # liste elemanları kendisi ile toplandı\n",
    "\n",
    "        # başka bir örnek daha\n",
    "\n",
    "result = pandas_series + 50\n",
    "print(result)   # tüm elemanlara 50 ekledi"
   ]
  },
  {
   "cell_type": "markdown",
   "metadata": {},
   "source": [
    "* veya numpy aracılığı ile sqrt() komutu ile her bir elemanın karekökünü alabiliriz\n",
    "        \n"
   ]
  },
  {
   "cell_type": "code",
   "execution_count": 19,
   "metadata": {},
   "outputs": [
    {
     "name": "stdout",
     "output_type": "stream",
     "text": [
      "a    4.472136\n",
      "b    5.477226\n",
      "c    6.324555\n",
      "d    7.071068\n",
      "dtype: float64\n"
     ]
    }
   ],
   "source": [
    "import pandas as pd\n",
    "\n",
    "# data\n",
    "numbers = [20,30,40,50]\n",
    "pandas_series = pd.Series(numbers, ['a','b','c','d'])\n",
    "#---- önceki koddan\n",
    "\n",
    "import numpy as np\n",
    "\n",
    "result = np.sqrt(pandas_series)\n",
    "print(result)   # karekökünü aldık (numpyye ait bir özellikle)"
   ]
  },
  {
   "cell_type": "markdown",
   "metadata": {},
   "source": [
    "* 50 den büyük elemanlar için bir true, false listesi yazdırmak mümkün"
   ]
  },
  {
   "cell_type": "code",
   "execution_count": 22,
   "metadata": {},
   "outputs": [
    {
     "name": "stdout",
     "output_type": "stream",
     "text": [
      "a    False\n",
      "b    False\n",
      "c    False\n",
      "d     True\n",
      "dtype: bool\n"
     ]
    }
   ],
   "source": [
    "import pandas as pd\n",
    "\n",
    "# data\n",
    "numbers = [20,30,40,50]\n",
    "pandas_series = pd.Series(numbers, ['a','b','c','d'])\n",
    "#---- önceki koddan\n",
    "\n",
    "result = pandas_series >= 50\n",
    "print(result)"
   ]
  },
  {
   "cell_type": "markdown",
   "metadata": {},
   "source": [
    "* hangi elemanlar çift sayı?"
   ]
  },
  {
   "cell_type": "code",
   "execution_count": 28,
   "metadata": {},
   "outputs": [
    {
     "name": "stdout",
     "output_type": "stream",
     "text": [
      "a    True\n",
      "b    True\n",
      "c    True\n",
      "d    True\n",
      "dtype: bool\n",
      "a    20\n",
      "b    30\n",
      "c    40\n",
      "d    50\n",
      "dtype: int64\n"
     ]
    }
   ],
   "source": [
    "import pandas as pd\n",
    "\n",
    "# data\n",
    "numbers = [20,30,40,50]\n",
    "pandas_series = pd.Series(numbers, ['a','b','c','d'])\n",
    "#---- önceki koddan\n",
    "\n",
    "result = pandas_series %2 == 0\n",
    "print(result)   # çift olanlara true der\n",
    "\n",
    "# bana çift sayıları getir demek istersek..\n",
    "result = pandas_series[ pandas_series %2 == 0]\n",
    "print(result)   # çift olanları ver sadece"
   ]
  },
  {
   "cell_type": "markdown",
   "metadata": {},
   "source": [
    "* bir örnek yapalım"
   ]
  },
  {
   "cell_type": "code",
   "execution_count": 33,
   "metadata": {},
   "outputs": [
    {
     "name": "stdout",
     "output_type": "stream",
     "text": [
      "Grandland     NaN\n",
      "astra        60.0\n",
      "corsa        60.0\n",
      "insignia     20.0\n",
      "mokka         NaN\n",
      "dtype: float64\n",
      "60.0\n"
     ]
    }
   ],
   "source": [
    "import pandas as pd\n",
    "\n",
    "# opelin markalarına göre satış miktarlarını gösteren bir seri oluşturalım\n",
    "opel2018 = pd.Series([20,30,40,10],[\"astra\",\"corsa\",\"mokka\",\"insignia\"])\n",
    "opel2019 = pd.Series([40,30,20,10],[\"astra\",\"corsa\",\"Grandland\",\"insignia\"])\n",
    "\n",
    "# burda bir matematiksel işlem yapmak istersek..\n",
    "total = opel2018 + opel2019\n",
    "print(total)    # toplam bilgisi gelir karşılık olmayan bilgilerin karşısına (hata olmasın diye) NaN dedi\n",
    "\n",
    "# NOT : NaN anlamı Not a Number   \n",
    "\n",
    "# eğer spesifik bir markaya bakmak istersek..\n",
    "print(total[\"astra\"])"
   ]
  }
 ],
 "metadata": {
  "kernelspec": {
   "display_name": "Python 3",
   "language": "python",
   "name": "python3"
  },
  "language_info": {
   "codemirror_mode": {
    "name": "ipython",
    "version": 3
   },
   "file_extension": ".py",
   "mimetype": "text/x-python",
   "name": "python",
   "nbconvert_exporter": "python",
   "pygments_lexer": "ipython3",
   "version": "3.11.1"
  },
  "orig_nbformat": 4
 },
 "nbformat": 4,
 "nbformat_minor": 2
}
