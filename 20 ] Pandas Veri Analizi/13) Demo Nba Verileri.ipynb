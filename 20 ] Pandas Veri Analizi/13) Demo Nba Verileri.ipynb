{
 "cells": [
  {
   "cell_type": "markdown",
   "metadata": {},
   "source": [
    "# Demo : Nba Verileri"
   ]
  },
  {
   "cell_type": "markdown",
   "metadata": {},
   "source": [
    "        1- İlk 10 kaydı getiriniz."
   ]
  },
  {
   "cell_type": "code",
   "execution_count": 2,
   "metadata": {},
   "outputs": [
    {
     "name": "stdout",
     "output_type": "stream",
     "text": [
      "            Name            Team  Number Position   Age Height  Weight  \\\n",
      "0  Avery Bradley  Boston Celtics     0.0       PG  25.0    6-2   180.0   \n",
      "1    Jae Crowder  Boston Celtics    99.0       SF  25.0    6-6   235.0   \n",
      "2   John Holland  Boston Celtics    30.0       SG  27.0    6-5   205.0   \n",
      "3    R.J. Hunter  Boston Celtics    28.0       SG  22.0    6-5   185.0   \n",
      "4  Jonas Jerebko  Boston Celtics     8.0       PF  29.0   6-10   231.0   \n",
      "5   Amir Johnson  Boston Celtics    90.0       PF  29.0    6-9   240.0   \n",
      "6  Jordan Mickey  Boston Celtics    55.0       PF  21.0    6-8   235.0   \n",
      "7   Kelly Olynyk  Boston Celtics    41.0        C  25.0    7-0   238.0   \n",
      "8   Terry Rozier  Boston Celtics    12.0       PG  22.0    6-2   190.0   \n",
      "9   Marcus Smart  Boston Celtics    36.0       PG  22.0    6-4   220.0   \n",
      "\n",
      "             College      Salary  \n",
      "0              Texas   7730337.0  \n",
      "1          Marquette   6796117.0  \n",
      "2  Boston University         NaN  \n",
      "3      Georgia State   1148640.0  \n",
      "4                NaN   5000000.0  \n",
      "5                NaN  12000000.0  \n",
      "6                LSU   1170960.0  \n",
      "7            Gonzaga   2165160.0  \n",
      "8         Louisville   1824360.0  \n",
      "9     Oklahoma State   3431040.0  \n"
     ]
    }
   ],
   "source": [
    "import pandas as pd\n",
    "df = pd.read_csv(\"nba.csv\")\n",
    "print(df.head(10))"
   ]
  },
  {
   "cell_type": "markdown",
   "metadata": {},
   "source": [
    "        2- Toplam kaç kayıt vardır ?"
   ]
  },
  {
   "cell_type": "code",
   "execution_count": 4,
   "metadata": {},
   "outputs": [
    {
     "name": "stdout",
     "output_type": "stream",
     "text": [
      "458\n"
     ]
    }
   ],
   "source": [
    "import pandas as pd\n",
    "df = pd.read_csv(\"nba.csv\")\n",
    "#--- temel kod\n",
    "\n",
    "result = len(df.index)\n",
    "\n",
    "print(result)"
   ]
  },
  {
   "cell_type": "markdown",
   "metadata": {},
   "source": [
    "        3- Tüm oyuncuların toplam maaş ortalaması nedir?"
   ]
  },
  {
   "cell_type": "code",
   "execution_count": 12,
   "metadata": {},
   "outputs": [
    {
     "name": "stdout",
     "output_type": "stream",
     "text": [
      "4842684.105381166\n"
     ]
    }
   ],
   "source": [
    "import pandas as pd\n",
    "df = pd.read_csv(\"nba.csv\")\n",
    "#--- temel kod\n",
    "\n",
    "# kolonun ortalamasını alalım\n",
    "result = df[\"Salary\"].mean()    # mean ortalama alma metodu\n",
    "print(result)"
   ]
  },
  {
   "cell_type": "markdown",
   "metadata": {},
   "source": [
    "        4- En yüksek maaşı ne kadardır ?"
   ]
  },
  {
   "cell_type": "code",
   "execution_count": null,
   "metadata": {},
   "outputs": [],
   "source": [
    "import pandas as pd\n",
    "df = pd.read_csv(\"nba.csv\")\n",
    "#--- temel kod\n",
    "\n",
    "# kolonun maximumunu hesaplayalım\n",
    "result = df[\"Salary\"].max()"
   ]
  },
  {
   "cell_type": "markdown",
   "metadata": {},
   "source": [
    "        5- En yüksek maaşı alan oyuncu kimdir?"
   ]
  },
  {
   "cell_type": "code",
   "execution_count": 19,
   "metadata": {},
   "outputs": [
    {
     "name": "stdout",
     "output_type": "stream",
     "text": [
      "Kobe Bryant\n"
     ]
    }
   ],
   "source": [
    "import pandas as pd\n",
    "df = pd.read_csv(\"nba.csv\")\n",
    "#--- temel kod\n",
    "\n",
    "result = df[df[\"Salary\"]==df[\"Salary\"].max()][\"Name\"].iloc[0]   # ilok index seçimi yapıyor\n",
    "print(result) # salary kolonu en yüksek maaşa eşit olunca Name 'i al anlamına geliyor."
   ]
  },
  {
   "cell_type": "markdown",
   "metadata": {},
   "source": [
    "        6- Yaşı 20-25 arasında olan oyuncuların isim ve oynadıkları takımları azalan şekilde sıralı getiriniz."
   ]
  },
  {
   "cell_type": "code",
   "execution_count": 22,
   "metadata": {},
   "outputs": [
    {
     "name": "stdout",
     "output_type": "stream",
     "text": [
      "                Name                   Team   Age\n",
      "454        Raul Neto              Utah Jazz  24.0\n",
      "75      Delon Wright        Toronto Raptors  24.0\n",
      "416     Josh Huestis  Oklahoma City Thunder  24.0\n",
      "107      Tarik Black     Los Angeles Lakers  24.0\n",
      "110  Jordan Clarkson     Los Angeles Lakers  24.0\n",
      "..               ...                    ...   ...\n",
      "352  Justise Winslow             Miami Heat  20.0\n",
      "393  Emmanuel Mudiay         Denver Nuggets  20.0\n",
      "356     Aaron Gordon          Orlando Magic  20.0\n",
      "377  Kelly Oubre Jr.     Washington Wizards  20.0\n",
      "62     Bruno Caboclo        Toronto Raptors  20.0\n",
      "\n",
      "[152 rows x 3 columns]\n"
     ]
    }
   ],
   "source": [
    "import pandas as pd\n",
    "df = pd.read_csv(\"nba.csv\")\n",
    "#--- temel kod\n",
    "\n",
    "result = df[(df[\"Age\"] >= 20) & (df[\"Age\"] < 25)][[\"Name\",\"Team\",\"Age\"]].sort_values(\"Age\", ascending= False)   # ilgili kolon bu koşula uyuyorsa o satır bize gelecektir\n",
    "print(result)                                                       # sort values ile sıraladık gelen bilgileri age 'e göre. ascending false olunca azalan değerlere göre sıralıyor."
   ]
  },
  {
   "cell_type": "markdown",
   "metadata": {},
   "source": [
    "        7- \"John Holland\" isimli oyuncunun oynadığı takım hangisidir?"
   ]
  },
  {
   "cell_type": "code",
   "execution_count": 31,
   "metadata": {},
   "outputs": [
    {
     "name": "stdout",
     "output_type": "stream",
     "text": [
      "Name      John Holland\n",
      "Team    Boston Celtics\n",
      "Name: 2, dtype: object\n"
     ]
    }
   ],
   "source": [
    "import pandas as pd\n",
    "df = pd.read_csv(\"nba.csv\")\n",
    "#--- temel kod\n",
    "\n",
    "result = df[df[\"Name\"] == \"John Holland\"][[\"Name\",\"Team\"]].iloc[0]\n",
    "print(result)"
   ]
  },
  {
   "cell_type": "markdown",
   "metadata": {},
   "source": [
    "        8- Takımlara göre oyuncuların ortalama maaş bilgisi nedir?"
   ]
  },
  {
   "cell_type": "code",
   "execution_count": 33,
   "metadata": {},
   "outputs": [
    {
     "name": "stdout",
     "output_type": "stream",
     "text": [
      "Team\n",
      "Atlanta Hawks             4.860197e+06\n",
      "Boston Celtics            4.181505e+06\n",
      "Brooklyn Nets             3.501898e+06\n",
      "Charlotte Hornets         5.222728e+06\n",
      "Chicago Bulls             5.785559e+06\n",
      "Cleveland Cavaliers       7.642049e+06\n",
      "Dallas Mavericks          4.746582e+06\n",
      "Denver Nuggets            4.294424e+06\n",
      "Detroit Pistons           4.477884e+06\n",
      "Golden State Warriors     5.924600e+06\n",
      "Houston Rockets           5.018868e+06\n",
      "Indiana Pacers            4.450122e+06\n",
      "Los Angeles Clippers      6.323643e+06\n",
      "Los Angeles Lakers        4.784695e+06\n",
      "Memphis Grizzlies         5.467920e+06\n",
      "Miami Heat                6.347359e+06\n",
      "Milwaukee Bucks           4.350220e+06\n",
      "Minnesota Timberwolves    4.593054e+06\n",
      "New Orleans Pelicans      4.355304e+06\n",
      "New York Knicks           4.581494e+06\n",
      "Oklahoma City Thunder     6.251020e+06\n",
      "Orlando Magic             4.297248e+06\n",
      "Philadelphia 76ers        2.213778e+06\n",
      "Phoenix Suns              4.229676e+06\n",
      "Portland Trail Blazers    3.220121e+06\n",
      "Sacramento Kings          4.778911e+06\n",
      "San Antonio Spurs         5.629516e+06\n",
      "Toronto Raptors           4.741174e+06\n",
      "Utah Jazz                 4.204006e+06\n",
      "Washington Wizards        5.088576e+06\n",
      "Name: Salary, dtype: float64\n"
     ]
    },
    {
     "name": "stderr",
     "output_type": "stream",
     "text": [
      "C:\\Users\\Yasin\\AppData\\Local\\Temp\\ipykernel_3196\\2843322550.py:5: FutureWarning: The default value of numeric_only in DataFrameGroupBy.mean is deprecated. In a future version, numeric_only will default to False. Either specify numeric_only or select only columns which should be valid for the function.\n",
      "  result = df.groupby(\"Team\").mean()[\"Salary\"]\n"
     ]
    }
   ],
   "source": [
    "import pandas as pd\n",
    "df = pd.read_csv(\"nba.csv\")\n",
    "#--- temel kod\n",
    "\n",
    "result = df.groupby(\"Team\").mean()[\"Salary\"]\n",
    "print(result)"
   ]
  },
  {
   "cell_type": "markdown",
   "metadata": {},
   "source": [
    "        9- Kaç farklı takım mevcut?"
   ]
  },
  {
   "cell_type": "code",
   "execution_count": 35,
   "metadata": {},
   "outputs": [
    {
     "name": "stdout",
     "output_type": "stream",
     "text": [
      "30\n",
      "30\n"
     ]
    }
   ],
   "source": [
    "import pandas as pd\n",
    "df = pd.read_csv(\"nba.csv\")\n",
    "#--- temel kod\n",
    "\n",
    "# gruplayalım sonra len() ile sayısını alalım\n",
    "result = len(df.groupby(\"Team\"))\n",
    "print(result)\n",
    "\n",
    "# diğer bir öğrendiğimiz metod\n",
    "result = df[\"Team\"].nunique()   # unique :tekrarlayan alanları teke indiriyordu\n",
    "print(result)                   # nunique : unique yapıp sayısını veriyordu"
   ]
  },
  {
   "cell_type": "markdown",
   "metadata": {},
   "source": [
    "        10- Her takımda kaç oyuncu oynamaktadır ?"
   ]
  },
  {
   "cell_type": "code",
   "execution_count": 36,
   "metadata": {},
   "outputs": [
    {
     "name": "stdout",
     "output_type": "stream",
     "text": [
      "New Orleans Pelicans      19\n",
      "Memphis Grizzlies         18\n",
      "New York Knicks           16\n",
      "Milwaukee Bucks           16\n",
      "Boston Celtics            15\n",
      "Brooklyn Nets             15\n",
      "Portland Trail Blazers    15\n",
      "Oklahoma City Thunder     15\n",
      "Denver Nuggets            15\n",
      "Washington Wizards        15\n",
      "Miami Heat                15\n",
      "Charlotte Hornets         15\n",
      "Atlanta Hawks             15\n",
      "San Antonio Spurs         15\n",
      "Houston Rockets           15\n",
      "Dallas Mavericks          15\n",
      "Indiana Pacers            15\n",
      "Detroit Pistons           15\n",
      "Cleveland Cavaliers       15\n",
      "Chicago Bulls             15\n",
      "Sacramento Kings          15\n",
      "Phoenix Suns              15\n",
      "Los Angeles Lakers        15\n",
      "Los Angeles Clippers      15\n",
      "Golden State Warriors     15\n",
      "Toronto Raptors           15\n",
      "Philadelphia 76ers        15\n",
      "Utah Jazz                 15\n",
      "Orlando Magic             14\n",
      "Minnesota Timberwolves    14\n",
      "Name: Team, dtype: int64\n"
     ]
    }
   ],
   "source": [
    "import pandas as pd\n",
    "df = pd.read_csv(\"nba.csv\")\n",
    "#--- temel kod\n",
    "\n",
    "result = df[\"Team\"].value_counts() # value_counts team alanı için kaç value( değer) olduğunu gösteriyor.\n",
    "print(result)"
   ]
  },
  {
   "cell_type": "markdown",
   "metadata": {},
   "source": [
    "        11- İsmi içinde \"and\" geçen kayıtları bulunuz?"
   ]
  },
  {
   "cell_type": "code",
   "execution_count": 38,
   "metadata": {},
   "outputs": [
    {
     "name": "stdout",
     "output_type": "stream",
     "text": [
      "                 Name                    Team  Number Position   Age Height  \\\n",
      "52        Carl Landry      Philadelphia 76ers     7.0       PF  32.0    6-9   \n",
      "87       Brandon Rush   Golden State Warriors     4.0       SF  30.0    6-6   \n",
      "94     Branden Dawson    Los Angeles Clippers    22.0       SF  23.0    6-6   \n",
      "106      Brandon Bass      Los Angeles Lakers     2.0       PF  31.0    6-8   \n",
      "115     Julius Randle      Los Angeles Lakers    30.0       PF  21.0    6-9   \n",
      "127    Brandon Knight            Phoenix Suns     3.0       PG  24.0    6-3   \n",
      "149     Eric Moreland        Sacramento Kings    25.0       PF  24.0   6-10   \n",
      "238  Chandler Parsons        Dallas Mavericks    25.0       SF  27.0   6-10   \n",
      "271     Zach Randolph       Memphis Grizzlies    50.0       PF  34.0    6-9   \n",
      "274    Brandan Wright       Memphis Grizzlies    34.0       PF  28.0   6-10   \n",
      "291   Orlando Johnson    New Orleans Pelicans     0.0       SG  27.0    6-5   \n",
      "386   Wilson Chandler          Denver Nuggets    21.0       SF  29.0    6-8   \n",
      "415        Randy Foye   Oklahoma City Thunder     6.0       SG  32.0    6-4   \n",
      "427   Cliff Alexander  Portland Trail Blazers    34.0       PF  20.0    6-8   \n",
      "\n",
      "     Weight           College      Salary  \n",
      "52    248.0            Purdue   6500000.0  \n",
      "87    220.0            Kansas   1270964.0  \n",
      "94    225.0    Michigan State    525093.0  \n",
      "106   250.0               LSU   3000000.0  \n",
      "115   250.0          Kentucky   3132240.0  \n",
      "127   189.0          Kentucky  13500000.0  \n",
      "149   238.0      Oregon State    845059.0  \n",
      "238   230.0           Florida  15361500.0  \n",
      "271   260.0    Michigan State   9638555.0  \n",
      "274   210.0    North Carolina   5464000.0  \n",
      "291   220.0  UC Santa Barbara     55722.0  \n",
      "386   225.0            DePaul  10449438.0  \n",
      "415   213.0         Villanova   3135000.0  \n",
      "427   240.0            Kansas    525093.0  \n"
     ]
    }
   ],
   "source": [
    "import pandas as pd\n",
    "df = pd.read_csv(\"nba.csv\")\n",
    "#--- temel kod\n",
    "\n",
    "# hata veriyor o nedenle öncesinde NaN olan değerleri değiştirmeliyiz\n",
    "df = df.dropna()\n",
    "\n",
    "# contains içerip içermediğine bakalım.\n",
    "result = df[df[\"Name\"].str.contains(\"and\")] # contains and içerip içermediğine bakar\n",
    "print(result)"
   ]
  }
 ],
 "metadata": {
  "kernelspec": {
   "display_name": "Python 3",
   "language": "python",
   "name": "python3"
  },
  "language_info": {
   "codemirror_mode": {
    "name": "ipython",
    "version": 3
   },
   "file_extension": ".py",
   "mimetype": "text/x-python",
   "name": "python",
   "nbconvert_exporter": "python",
   "pygments_lexer": "ipython3",
   "version": "3.11.1"
  },
  "orig_nbformat": 4
 },
 "nbformat": 4,
 "nbformat_minor": 2
}
