{
 "cells": [
  {
   "attachments": {},
   "cell_type": "markdown",
   "metadata": {},
   "source": [
    "## DEMO: BANKAMATİK"
   ]
  },
  {
   "cell_type": "code",
   "execution_count": 13,
   "metadata": {},
   "outputs": [
    {
     "name": "stdout",
     "output_type": "stream",
     "text": [
      "Merhaba Sadık Turan\n",
      "paranızı alabilirsiniz.\n",
      "12314223 nolu hesabınızda 0 TL bulunmaktadır. Ek hesap limitiniz ise 2000\n",
      "*****************************\n",
      "Merhaba Sadık Turan\n",
      "paranızı alabilirsiniz\n",
      "12314223 nolu hesabınızda 0 TL bulunmaktadır. Ek hesap limitiniz ise 0\n"
     ]
    }
   ],
   "source": [
    "SadikHesap = {\n",
    "    'ad': 'Sadık Turan',\n",
    "    'hesapNo': '12314223',\n",
    "    'bakiye': 3000,\n",
    "    'ekHesap': 2000\n",
    "    }\n",
    "\n",
    "AliHesap = {\n",
    "    'ad': 'Ali Turan',\n",
    "    'hesapNo': '131443243',\n",
    "    'bakiye': 2000,\n",
    "    'ekHesap': 1000,\n",
    "    }\n",
    "\n",
    "def paraCek(hesap, miktar):\n",
    "    print(f\"Merhaba {hesap['ad']}\")    # hesap[key] hesap sözlüğünde ad a karşılık gelen value değeri ver demek.\n",
    "\n",
    "    if ((hesap['bakiye']) >= miktar):\n",
    "        hesap['bakiye'] -= miktar\n",
    "        print('paranızı alabilirsiniz.')\n",
    "        bakiyeSorgula(hesap)\n",
    "    else:\n",
    "        toplam = hesap['bakiye'] + hesap['ekHesap']\n",
    "\n",
    "        if (toplam >= miktar):\n",
    "            ekHesapKullanimi = input('ek hesap kullanılsın mı (e/h)')\n",
    "\n",
    "            if ekHesapKullanimi == 'e':\n",
    "                ekhesapKullanilacakMiktar = miktar - hesap['bakiye']\n",
    "                hesap['bakiye'] = 0\n",
    "                hesap['ekHesap'] -= ekhesapKullanilacakMiktar\n",
    "                print('paranızı alabilirsiniz')\n",
    "                bakiyeSorgula(hesap)                \n",
    "            else:\n",
    "                print(f\"{hesap['hesapNo']} nolu hesabınızda {hesap['bakiye']} bulunmaktadır.\") \n",
    "        else:\n",
    "            print('üzgünüm bakiyeniz yetersiz')\n",
    "            bakiyeSorgula(hesap)\n",
    "\n",
    "\n",
    "\n",
    "\n",
    "def bakiyeSorgula(hesap):\n",
    "    print(f\"{hesap['hesapNo']} nolu hesabınızda {hesap['bakiye']} TL bulunmaktadır. Ek hesap limitiniz ise {hesap['ekHesap']}\")\n",
    "\n",
    "paraCek(SadikHesap, 3000)\n",
    "\n",
    "print(\"*****************************\")\n",
    "\n",
    "paraCek(SadikHesap, 2000)"
   ]
  }
 ],
 "metadata": {
  "kernelspec": {
   "display_name": "Python 3",
   "language": "python",
   "name": "python3"
  },
  "language_info": {
   "codemirror_mode": {
    "name": "ipython",
    "version": 3
   },
   "file_extension": ".py",
   "mimetype": "text/x-python",
   "name": "python",
   "nbconvert_exporter": "python",
   "pygments_lexer": "ipython3",
   "version": "3.11.1"
  },
  "orig_nbformat": 4
 },
 "nbformat": 4,
 "nbformat_minor": 2
}
