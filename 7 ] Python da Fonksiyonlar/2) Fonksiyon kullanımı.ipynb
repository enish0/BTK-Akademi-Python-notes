{
 "cells": [
  {
   "cell_type": "code",
   "execution_count": 1,
   "metadata": {},
   "outputs": [
    {
     "name": "stdout",
     "output_type": "stream",
     "text": [
      "Hello\n"
     ]
    }
   ],
   "source": [
    "def sayHello():\n",
    "    print('Hello')\n",
    "\n",
    "sayHello() # burada fonksiyonu çağırmış oluyoruz...\n",
    "# ...fonksiyonu çağırmazsak fonksiyon bloğu içindeki kodlar çalışmaz\n"
   ]
  },
  {
   "cell_type": "code",
   "execution_count": 2,
   "metadata": {},
   "outputs": [
    {
     "name": "stdout",
     "output_type": "stream",
     "text": [
      "Hello Çınar\n"
     ]
    }
   ],
   "source": [
    "# FONKSİYONA PARAMETRE GÖNDERME\n",
    "# fonksiyona dışarıdan bir parametre de gönderebiliriz\n",
    "\n",
    "def sayHello(name):   \n",
    "    print('Hello ' + name)\n",
    "\n",
    "sayHello('Çınar')    # dışardan çınar parametresi gönderdik\n"
   ]
  },
  {
   "cell_type": "code",
   "execution_count": 3,
   "metadata": {},
   "outputs": [
    {
     "name": "stdout",
     "output_type": "stream",
     "text": [
      "Hello Çınar\n",
      "Hello Ada\n",
      "Hello user\n"
     ]
    }
   ],
   "source": [
    "# sayHello() parantez boş olursa (parametre belirtmezsek) \n",
    "\n",
    "def sayHello(name = 'user'):\n",
    "    print('Hello ' + name)\n",
    "\n",
    "sayHello('Çınar')\n",
    "sayHello('Ada')\n",
    "sayHello()   # boş bırakırsan user der\n"
   ]
  },
  {
   "cell_type": "code",
   "execution_count": 4,
   "metadata": {},
   "outputs": [
    {
     "name": "stdout",
     "output_type": "stream",
     "text": [
      "Hello Çınar\n"
     ]
    }
   ],
   "source": [
    "# peki ekrana printi yazmak yerine biz fonksiyona dışardan bir bilgi gönderelim ve\n",
    "# ve bize bir string bir ifade oluştursun ve bunu bize geri göndersin istiyorum\n",
    "\n",
    "def sayHello(name = 'user'):\n",
    "    return('Hello ' + name)    # return : parantez içinin fonksiyondan geriye gönderilmesini sağlar\n",
    "\n",
    "msg = sayHello('Çınar')\n",
    "print(msg)"
   ]
  },
  {
   "cell_type": "code",
   "execution_count": 5,
   "metadata": {},
   "outputs": [
    {
     "name": "stdout",
     "output_type": "stream",
     "text": [
      "50\n"
     ]
    }
   ],
   "source": [
    "# toplama örneği\n",
    "\n",
    "def total(num1, num2):\n",
    "    return num1 + num2\n",
    "\n",
    "result = total(20, 30)\n",
    "print(result)"
   ]
  },
  {
   "cell_type": "code",
   "execution_count": 1,
   "metadata": {},
   "outputs": [
    {
     "name": "stdout",
     "output_type": "stream",
     "text": [
      "13 6 24\n"
     ]
    }
   ],
   "source": [
    "# yaş hesaplama örneği\n",
    "\n",
    "def yasHesapla(dogumYili):\n",
    "    return 2023 - dogumYili\n",
    "\n",
    "ageCinar = yasHesapla(2017)\n",
    "ageAda = yasHesapla(2010)\n",
    "ageSena = yasHesapla(1999)\n",
    "\n",
    "print(ageAda, ageCinar, ageSena)"
   ]
  },
  {
   "cell_type": "code",
   "execution_count": 2,
   "metadata": {},
   "outputs": [
    {
     "name": "stdout",
     "output_type": "stream",
     "text": [
      "emekliliğinize 43 yıl kaldı    \n"
     ]
    }
   ],
   "source": [
    "# emekliliğe kaç yıl kaldı hesapla (yukardaki fonksiyondan yararlandık bir yerde)\n",
    "\n",
    "def EmekliligeKacYilKaldi(dogumYili, isim):\n",
    "    '''\n",
    "    DOCSTRING: Doğum yiliniza gore emekliliğinize kac yil kaldı\n",
    "    INPUT: Dogum yili\n",
    "    OUTPUT: Hesaplanan yil bilgisi\n",
    "\n",
    "    '''\n",
    "    yas = yasHesapla(dogumYili)\n",
    "    emeklilik = 65 - yas\n",
    "\n",
    "    if emeklilik > 0 :\n",
    "        print(f'emekliliğinize {emeklilik} yıl kaldı    ')\n",
    "    else:\n",
    "        print('zaten emekli oldunuz')\n",
    "\n",
    "EmekliligeKacYilKaldi(2001, 'Yasin') # yaptığımız fonksiyonu çağırdık."
   ]
  },
  {
   "cell_type": "code",
   "execution_count": 9,
   "metadata": {},
   "outputs": [
    {
     "name": "stdout",
     "output_type": "stream",
     "text": [
      "Help on function EmekliligeKacYilKaldi in module __main__:\n",
      "\n",
      "EmekliligeKacYilKaldi(dogumYili, isim)\n",
      "    DOCSTRING: Doğum yiliniza gore emekliliğinize kac yil kaldı\n",
      "    INPUT: Dogum yili\n",
      "    OUTPUT: Hesaplanan yil bilgisi\n",
      "\n",
      "None\n"
     ]
    }
   ],
   "source": [
    "# herhangi bir fonksiyonu kullanmadan önce\n",
    "print(help(EmekliligeKacYilKaldi))    # help + (fonksiyon ismi)\n",
    "\n",
    "# fonksiyonun kullanım şekli gibi bilgileri verir.\n",
    "# NOT: bu kodun vereceği bilgiyi sizin fonksiyonun içine string olarak yazmanız lazım önceden.\n",
    "# bakınız 66-71 satırları arası."
   ]
  },
  {
   "cell_type": "code",
   "execution_count": 10,
   "metadata": {},
   "outputs": [
    {
     "name": "stdout",
     "output_type": "stream",
     "text": [
      "Help on built-in function append:\n",
      "\n",
      "append(object, /) method of builtins.list instance\n",
      "    Append object to the end of the list.\n",
      "\n",
      "None\n"
     ]
    }
   ],
   "source": [
    "# help komutu başka bir yerdeki işleyişi\n",
    "\n",
    "list = [1, 2, 3]\n",
    "\n",
    "print(help(list.append))   # help komutu burada da append metodunun ne iş yaptığını anlatır terminalde."
   ]
  }
 ],
 "metadata": {
  "kernelspec": {
   "display_name": "Python 3",
   "language": "python",
   "name": "python3"
  },
  "language_info": {
   "codemirror_mode": {
    "name": "ipython",
    "version": 3
   },
   "file_extension": ".py",
   "mimetype": "text/x-python",
   "name": "python",
   "nbconvert_exporter": "python",
   "pygments_lexer": "ipython3",
   "version": "3.11.1"
  },
  "orig_nbformat": 4
 },
 "nbformat": 4,
 "nbformat_minor": 2
}
