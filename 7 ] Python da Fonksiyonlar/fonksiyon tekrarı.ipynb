{
 "cells": [
  {
   "attachments": {},
   "cell_type": "markdown",
   "metadata": {},
   "source": [
    "# FONSKİYONLAR TEKRAR"
   ]
  },
  {
   "cell_type": "code",
   "execution_count": 3,
   "metadata": {},
   "outputs": [
    {
     "name": "stdout",
     "output_type": "stream",
     "text": [
      "selam\n"
     ]
    }
   ],
   "source": [
    "def saySelam():\n",
    "    print(\"selam\")\n",
    "\n",
    "saySelam()"
   ]
  },
  {
   "cell_type": "code",
   "execution_count": 9,
   "metadata": {},
   "outputs": [
    {
     "name": "stdout",
     "output_type": "stream",
     "text": [
      "selam adam\n"
     ]
    }
   ],
   "source": [
    "def saySelam(n):\n",
    "    print(\"selam \" + n )\n",
    "\n",
    "saySelam(\"adam\")"
   ]
  },
  {
   "cell_type": "code",
   "execution_count": 12,
   "metadata": {},
   "outputs": [
    {
     "name": "stdout",
     "output_type": "stream",
     "text": [
      "hello user\n"
     ]
    }
   ],
   "source": [
    "def sayNebilem(price = \"user\"):\n",
    "    print(\"hello \" + price)\n",
    "\n",
    "sayNebilem()"
   ]
  },
  {
   "cell_type": "code",
   "execution_count": 39,
   "metadata": {},
   "outputs": [
    {
     "name": "stdout",
     "output_type": "stream",
     "text": [
      "gravity is Europa gravity: 9.2 in this point\n"
     ]
    }
   ],
   "source": [
    "def planetGravity(gFactor = \"planetgravity\"):\n",
    "    return(\"Europa gravity: \" + gFactor)\n",
    "\n",
    "g = 9.2\n",
    "\n",
    "warning = f\"gravity is {planetGravity(str(g))} in this point\"\n",
    "print(warning)\n"
   ]
  },
  {
   "cell_type": "code",
   "execution_count": 42,
   "metadata": {},
   "outputs": [
    {
     "name": "stdout",
     "output_type": "stream",
     "text": [
      "110\n"
     ]
    }
   ],
   "source": [
    "# toplama örneği\n",
    "\n",
    "def toplayacak(ilk, ikinci):\n",
    "    return(ilk + ikinci)\n",
    "\n",
    "resutlt = toplayacak(10,100)\n",
    "print(resutlt)"
   ]
  },
  {
   "cell_type": "code",
   "execution_count": 46,
   "metadata": {},
   "outputs": [
    {
     "name": "stdout",
     "output_type": "stream",
     "text": [
      "22 7 4\n"
     ]
    }
   ],
   "source": [
    "# Hizmet yaşı hesaplama\n",
    "\n",
    "def roverMissionAge(MissionStartTime):\n",
    "    return 2023 - MissionStartTime\n",
    "\n",
    "Presevarance = roverMissionAge(2001)\n",
    "Opportunity = roverMissionAge(2016)\n",
    "Spirit = roverMissionAge(2019)\n",
    "\n",
    "print(Presevarance, Opportunity, Spirit)"
   ]
  },
  {
   "cell_type": "code",
   "execution_count": 8,
   "metadata": {},
   "outputs": [
    {
     "name": "stdout",
     "output_type": "stream",
     "text": [
      "emekliliğinize 43 yıl kaldı :) eğer hala yaşıyorsanız\n",
      "Help on function EmekliligeKaçYilKaldi in module __main__:\n",
      "\n",
      "EmekliligeKaçYilKaldi(dogumYili, isim)\n",
      "    DOCSTRING: Doğum yiliniza göre emekliliğinize kac yil kaldı\n",
      "    INPUT: Doğum yili\n",
      "    OUTPUT: Hesaplanan yil bilgisi\n",
      "\n"
     ]
    }
   ],
   "source": [
    "# emekliliğe kaç yıl kaldı\n",
    "def yasHesapla(dogumYili):\n",
    "    return(2023 - dogumYili)\n",
    "\n",
    "def EmekliligeKaçYilKaldi(dogumYili, isim):\n",
    "    '''\n",
    "    DOCSTRING: Doğum yiliniza göre emekliliğinize kac yil kaldı\n",
    "    INPUT: Doğum yili\n",
    "    OUTPUT: Hesaplanan yil bilgisi\n",
    "    \n",
    "    '''\n",
    "    yas = yasHesapla(dogumYili)\n",
    "    emeklilik = 65 - yas\n",
    "    \n",
    "    if emeklilik > 0 :\n",
    "        print(f\"emekliliğinize {emeklilik} yıl kaldı :) eğer hala yaşıyorsanız\")\n",
    "    else:\n",
    "        print(\"zaten emekli oldunuz\")\n",
    "\n",
    "EmekliligeKaçYilKaldi(2001, \"Yasin\")\n",
    "help(EmekliligeKaçYilKaldi)"
   ]
  },
  {
   "cell_type": "code",
   "execution_count": 9,
   "metadata": {},
   "outputs": [
    {
     "name": "stdout",
     "output_type": "stream",
     "text": [
      "Help on built-in function append:\n",
      "\n",
      "append(object, /) method of builtins.list instance\n",
      "    Append object to the end of the list.\n",
      "\n",
      "None\n"
     ]
    }
   ],
   "source": [
    "list = [1, 2, 3]\n",
    "\n",
    "print(help(list.append))"
   ]
  },
  {
   "attachments": {},
   "cell_type": "markdown",
   "metadata": {},
   "source": [
    "## FONKSİYON PARAMETRELLERİ"
   ]
  },
  {
   "cell_type": "code",
   "execution_count": 14,
   "metadata": {},
   "outputs": [
    {
     "name": "stdout",
     "output_type": "stream",
     "text": [
      "yiğit\n"
     ]
    }
   ],
   "source": [
    "def changeName(n):\n",
    "    n = \"ada\"\n",
    "    \n",
    "name = \"yiğit\"\n",
    "\n",
    "changeName(name)\n",
    "print(name)"
   ]
  },
  {
   "cell_type": "code",
   "execution_count": 15,
   "metadata": {},
   "outputs": [
    {
     "name": "stdout",
     "output_type": "stream",
     "text": [
      "['Istanbul', 'izmir']\n"
     ]
    }
   ],
   "source": [
    "# şimdi bu işlemin aynısını listele üzerinden yapalım\n",
    "\n",
    "def change(n):\n",
    "    n[0] = \"Istanbul\" \n",
    "\n",
    "sehirler = [\"ankara\", \"izmir\"]\n",
    "\n",
    "change(sehirler)\n",
    "print(sehirler)"
   ]
  },
  {
   "cell_type": "code",
   "execution_count": 16,
   "metadata": {},
   "outputs": [
    {
     "name": "stdout",
     "output_type": "stream",
     "text": [
      "['istanbul', 'izmir']\n"
     ]
    }
   ],
   "source": [
    "# fonksiyonsuz bir şekilde yapmaya kalkalım\n",
    "\n",
    "sehirler = [\"ankara\", \"izmir\"]\n",
    "n = sehirler\n",
    "\n",
    "n[0] = \"istanbul\"\n",
    "print(sehirler)"
   ]
  },
  {
   "cell_type": "code",
   "execution_count": 17,
   "metadata": {},
   "outputs": [
    {
     "name": "stdout",
     "output_type": "stream",
     "text": [
      "['ankara', 'izmir']\n",
      "['istanbul', 'izmir']\n"
     ]
    }
   ],
   "source": [
    "sehirler = [\"ankara\", \"izmir\"]\n",
    "n = sehirler[:]\n",
    "\n",
    "n[0] = \"istanbul\"\n",
    "\n",
    "print(sehirler)\n",
    "print(n)"
   ]
  },
  {
   "cell_type": "code",
   "execution_count": 18,
   "metadata": {},
   "outputs": [
    {
     "name": "stdout",
     "output_type": "stream",
     "text": [
      "['ankara', 'izmir']\n",
      "['istanbul', 'izmir']\n"
     ]
    }
   ],
   "source": [
    "def change(n):\n",
    "    n[0] = [\"istanbul\"]\n",
    "\n",
    "sehirler = [\"ankara\", \"izmir\"]\n",
    "\n",
    "change(sehirler[:])\n",
    "print(sehirler)\n",
    "print(n)"
   ]
  },
  {
   "cell_type": "code",
   "execution_count": 20,
   "metadata": {},
   "outputs": [
    {
     "name": "stdout",
     "output_type": "stream",
     "text": [
      "5\n"
     ]
    }
   ],
   "source": [
    "# basit toplama\n",
    "\n",
    "def add(a, b):\n",
    "    return sum((a, b))\n",
    "\n",
    "print(add(1, 4))"
   ]
  },
  {
   "cell_type": "code",
   "execution_count": 21,
   "metadata": {},
   "outputs": [
    {
     "name": "stdout",
     "output_type": "stream",
     "text": [
      "21\n"
     ]
    }
   ],
   "source": [
    "def add(a, b, c):\n",
    "    return sum((a, b, c))\n",
    "\n",
    "print(add(10,4,7))"
   ]
  },
  {
   "cell_type": "code",
   "execution_count": 24,
   "metadata": {},
   "outputs": [
    {
     "name": "stdout",
     "output_type": "stream",
     "text": [
      "56\n"
     ]
    }
   ],
   "source": [
    "def add(a, b, c=0):\n",
    "    return sum([a, b, c])\n",
    "\n",
    "print(add(1, 55))"
   ]
  },
  {
   "cell_type": "code",
   "execution_count": 25,
   "metadata": {},
   "outputs": [
    {
     "name": "stdout",
     "output_type": "stream",
     "text": [
      "40\n",
      "60\n"
     ]
    }
   ],
   "source": [
    "def add(a, b, c = 0, d = 0, e = 0): \n",
    "    return sum([a, b, c, d, e])\n",
    "\n",
    "print(add(10, 30))\n",
    "print(add(10, 20, 30))"
   ]
  },
  {
   "cell_type": "code",
   "execution_count": 27,
   "metadata": {},
   "outputs": [
    {
     "name": "stdout",
     "output_type": "stream",
     "text": [
      "700\n"
     ]
    }
   ],
   "source": [
    "# peki uğraşmak istemeyeceğimiz kadar çok parametre göndermek istersek mesela 6\n",
    "\n",
    "def add(*params):\n",
    "    return sum((params))\n",
    "\n",
    "print(add(1, 44, 45, 55, 555))"
   ]
  },
  {
   "cell_type": "code",
   "execution_count": 30,
   "metadata": {},
   "outputs": [
    {
     "name": "stdout",
     "output_type": "stream",
     "text": [
      "(1, 44, 45, 55, 555)\n",
      "700\n"
     ]
    }
   ],
   "source": [
    "def add(*params):\n",
    "    print(params)\n",
    "    return sum((params))\n",
    "\n",
    "print(add(1, 44, 45, 55, 555))"
   ]
  },
  {
   "cell_type": "code",
   "execution_count": 31,
   "metadata": {},
   "outputs": [
    {
     "name": "stdout",
     "output_type": "stream",
     "text": [
      "10\n",
      "4\n",
      "214\n"
     ]
    }
   ],
   "source": [
    "# gönderdiğimiz argumanların listesinden istediğimiz indexe ulaşabilip yazdırabiliriz\n",
    "def add(*params):\n",
    "    print(params[0])\n",
    "    print(params[2])\n",
    "    return sum((params))\n",
    "\n",
    "print(add(10, 200, 4))"
   ]
  },
  {
   "cell_type": "code",
   "execution_count": 35,
   "metadata": {},
   "outputs": [
    {
     "name": "stdout",
     "output_type": "stream",
     "text": [
      "23453\n"
     ]
    }
   ],
   "source": [
    "def topla(*params):\n",
    "    sum = 0\n",
    "    for n in params:\n",
    "        sum = sum + n\n",
    "    return sum\n",
    "print(topla(10,100,23343))"
   ]
  },
  {
   "attachments": {},
   "cell_type": "markdown",
   "metadata": {},
   "source": [
    "### bilgileri fonksiyona nasıl göndericez"
   ]
  },
  {
   "cell_type": "code",
   "execution_count": 39,
   "metadata": {},
   "outputs": [
    {
     "name": "stdout",
     "output_type": "stream",
     "text": [
      "name is Çınar\n",
      "age is 2\n",
      "city is Istanbul\n",
      "------------------------------\n",
      "name is Mehmet\n",
      "age is 24\n",
      "city is Ankara\n",
      "phone is 053243242\n"
     ]
    }
   ],
   "source": [
    "def displayUser(**args):\n",
    "    for key, value in args.items():\n",
    "        print('{} is {}'.format(key, value))\n",
    "    \n",
    "displayUser(name= 'Çınar', age= 2, city= 'Istanbul')\n",
    "print(\"------------------------------\")\n",
    "displayUser(name= 'Mehmet', age= 24, city= 'Ankara', phone=\"053243242\")"
   ]
  },
  {
   "cell_type": "code",
   "execution_count": 41,
   "metadata": {},
   "outputs": [
    {
     "name": "stdout",
     "output_type": "stream",
     "text": [
      "10\n",
      "20\n",
      "(2, 5, 60)\n",
      "{'key1': 'value1', 'key2': 'value 2'}\n"
     ]
    }
   ],
   "source": [
    "def myFunc(a, b, *args, **kwargs):\n",
    "    print(a)\n",
    "    print(b)\n",
    "    print(args)\n",
    "    print(kwargs)\n",
    "\n",
    "myFunc(10, 20, 2,5,60, key1 = \"value1\", key2 = \"value 2\")"
   ]
  },
  {
   "attachments": {},
   "cell_type": "markdown",
   "metadata": {},
   "source": [
    "# FONKSİYON UYGULAMA"
   ]
  },
  {
   "attachments": {},
   "cell_type": "markdown",
   "metadata": {},
   "source": [
    " #### 1- Gönderilen bir kelimeyi belirtilen kez ekranda gösteren fonksiyonu yazın."
   ]
  },
  {
   "cell_type": "code",
   "execution_count": 42,
   "metadata": {},
   "outputs": [
    {
     "name": "stdout",
     "output_type": "stream",
     "text": [
      "Merhaba Merhaba Merhaba Merhaba Merhaba Merhaba Merhaba Merhaba Merhaba Merhaba \n"
     ]
    }
   ],
   "source": [
    "def kelimeGoster(kelime, kackere):\n",
    "    print(kelime * kackere)\n",
    "\n",
    "kelimeGoster('Merhaba ', 10)"
   ]
  },
  {
   "attachments": {},
   "cell_type": "markdown",
   "metadata": {},
   "source": [
    "#### 2- Kendine gönderilen sınırsız sayıdaki parametreyi bir listeye çeviren fonksiyon"
   ]
  },
  {
   "cell_type": "code",
   "execution_count": 45,
   "metadata": {},
   "outputs": [
    {
     "name": "stdout",
     "output_type": "stream",
     "text": [
      "[10, 20, 30, 'text']\n"
     ]
    }
   ],
   "source": [
    "def listeyeCevir(*params):\n",
    "    liste = []\n",
    "\n",
    "    for param in params:\n",
    "        liste.append(param)\n",
    "\n",
    "    return liste\n",
    "\n",
    "result = listeyeCevir(10, 20, 30, \"text\")\n",
    "print(result)\n",
    "    "
   ]
  },
  {
   "attachments": {},
   "cell_type": "markdown",
   "metadata": {},
   "source": [
    "\n",
    "#### 3- Gönderilen 2 sayı arasındaki tüm asal sayıları bulun.\n"
   ]
  },
  {
   "cell_type": "code",
   "execution_count": 2,
   "metadata": {},
   "outputs": [
    {
     "name": "stdout",
     "output_type": "stream",
     "text": [
      "59\n",
      "61\n"
     ]
    }
   ],
   "source": [
    "def asalBul(a, b):\n",
    "    for sayi in range(a, b+1):\n",
    "        if sayi > 1:\n",
    "            for i in range(2, sayi):\n",
    "                if (sayi % i == 0):\n",
    "                    break\n",
    "            else:\n",
    "                print(sayi)\n",
    "\n",
    "a = int(input('sayi1: '))\n",
    "b = int(input(\"sayi2: \"))\n",
    "\n",
    "asalBul(a, b)"
   ]
  },
  {
   "attachments": {},
   "cell_type": "markdown",
   "metadata": {},
   "source": [
    "## LAMBDA EXPRESSİONS, MAP AND FİLTER"
   ]
  },
  {
   "cell_type": "code",
   "execution_count": null,
   "metadata": {},
   "outputs": [],
   "source": [
    "def square(num): return num** 2\n",
    "\n",
    "result = square(2)\n",
    "print(result)"
   ]
  },
  {
   "attachments": {},
   "cell_type": "markdown",
   "metadata": {},
   "source": [
    "#### MAP Metodu"
   ]
  },
  {
   "attachments": {},
   "cell_type": "markdown",
   "metadata": {},
   "source": [
    "##### Bir listedeki tüm sayıların her birinin karesini almak"
   ]
  },
  {
   "cell_type": "code",
   "execution_count": 2,
   "metadata": {},
   "outputs": [
    {
     "name": "stdout",
     "output_type": "stream",
     "text": [
      "[1, 9, 25, 81]\n"
     ]
    }
   ],
   "source": [
    "def square(num):\n",
    "    return num ** 2\n",
    "\n",
    "numbers = [1, 3, 5, 9]\n",
    "\n",
    "result = list(map(square, numbers))\n",
    "print(result)"
   ]
  },
  {
   "attachments": {},
   "cell_type": "markdown",
   "metadata": {},
   "source": [
    "#### Yukarıdakine alternatif"
   ]
  },
  {
   "cell_type": "code",
   "execution_count": 4,
   "metadata": {},
   "outputs": [
    {
     "name": "stdout",
     "output_type": "stream",
     "text": [
      "1\n",
      "9\n",
      "25\n",
      "81\n"
     ]
    }
   ],
   "source": [
    "numbers = [1, 3, 5, 9]\n",
    "def square(num):\n",
    "    return num ** 2\n",
    "\n",
    "for item in map(square, numbers):\n",
    "    print(item)\n"
   ]
  },
  {
   "attachments": {},
   "cell_type": "markdown",
   "metadata": {},
   "source": [
    "##### LAMBDA Metodu \n",
    "Genelde bikerelik kullanılacak ismi olmayan fonksiyonlar tanımlamak için kullanırız (Lambda Expression deniyor sanırım)"
   ]
  },
  {
   "attachments": {},
   "cell_type": "markdown",
   "metadata": {},
   "source": [
    "Lambda **kullanıl(MA)mış** hali"
   ]
  },
  {
   "cell_type": "code",
   "execution_count": 6,
   "metadata": {},
   "outputs": [
    {
     "name": "stdout",
     "output_type": "stream",
     "text": [
      "[1, 9, 25, 81]\n"
     ]
    }
   ],
   "source": [
    "def square(num): return num ** 2\n",
    "\n",
    "numbers = [1, 3, 5, 9]\n",
    "result = list(map(square, numbers))\n",
    "print(result)"
   ]
  },
  {
   "attachments": {},
   "cell_type": "markdown",
   "metadata": {},
   "source": [
    "Lambda **kullanılmış** hali"
   ]
  },
  {
   "cell_type": "code",
   "execution_count": 7,
   "metadata": {},
   "outputs": [
    {
     "name": "stdout",
     "output_type": "stream",
     "text": [
      "[1, 9, 25, 81]\n"
     ]
    }
   ],
   "source": [
    "numbers = [1, 3, 5, 9]\n",
    "\n",
    "result = list(map( lambda num: num ** 2, numbers))\n",
    "\n",
    "print(result)\n",
    "\n",
    "isimVer = lambda num: num ** 2\n",
    "\n"
   ]
  },
  {
   "attachments": {},
   "cell_type": "markdown",
   "metadata": {},
   "source": [
    "* Az önce isim verdiğimiz fonksiyon normal bir fonksiyon gibi kullanılabiliyor muymuş bakalım."
   ]
  },
  {
   "cell_type": "code",
   "execution_count": 8,
   "metadata": {},
   "outputs": [
    {
     "name": "stdout",
     "output_type": "stream",
     "text": [
      "9\n"
     ]
    }
   ],
   "source": [
    "isim = lambda num: num ** 2\n",
    "\n",
    "result = isim(3)\n",
    "print(result)\n"
   ]
  },
  {
   "attachments": {},
   "cell_type": "markdown",
   "metadata": {},
   "source": [
    "##### Filter Function"
   ]
  },
  {
   "attachments": {},
   "cell_type": "markdown",
   "metadata": {},
   "source": [
    "* Mesela listedeki sadece çift sayıları geri göndersin gibi filtrelemeler yapmak için"
   ]
  },
  {
   "cell_type": "code",
   "execution_count": 9,
   "metadata": {},
   "outputs": [
    {
     "name": "stdout",
     "output_type": "stream",
     "text": [
      "[2, 4, 6, 8]\n"
     ]
    }
   ],
   "source": [
    "def check_even(num): return num %2 == 0\n",
    "\n",
    "numbers = [1, 2, 3, 4, 5, 6, 7, 8, 9]\n",
    "\n",
    "result = list(filter(check_even, numbers))\n",
    "print(result)"
   ]
  },
  {
   "attachments": {},
   "cell_type": "markdown",
   "metadata": {},
   "source": [
    "* Check even yerine lambda' lı hali kullanalım"
   ]
  },
  {
   "cell_type": "code",
   "execution_count": 10,
   "metadata": {},
   "outputs": [
    {
     "name": "stdout",
     "output_type": "stream",
     "text": [
      "[2, 4, 6, 8]\n"
     ]
    }
   ],
   "source": [
    "numbers = [1, 2, 3, 4, 5, 6, 7, 8, 9]\n",
    "result = list(filter(lambda num: num%2 ==0, numbers))\n",
    "\n",
    "print(result)"
   ]
  },
  {
   "attachments": {},
   "cell_type": "markdown",
   "metadata": {},
   "source": [
    "* Şimdi bu fonksiyona isim verelim ve ismi ile kullanalım"
   ]
  },
  {
   "cell_type": "code",
   "execution_count": 11,
   "metadata": {},
   "outputs": [
    {
     "name": "stdout",
     "output_type": "stream",
     "text": [
      "[2, 4, 6, 8]\n"
     ]
    }
   ],
   "source": [
    "yeni_isim = lambda num: num%2 == 0\n",
    "\n",
    "result = list(filter(yeni_isim, numbers))\n",
    "print(result)"
   ]
  },
  {
   "attachments": {},
   "cell_type": "markdown",
   "metadata": {},
   "source": [
    "* numbersin içerisindeki ikinci indexteki numarayı alıp kontrol ettirebiliriz"
   ]
  },
  {
   "cell_type": "code",
   "execution_count": 13,
   "metadata": {},
   "outputs": [
    {
     "name": "stdout",
     "output_type": "stream",
     "text": [
      "False\n"
     ]
    }
   ],
   "source": [
    "numbers = [1, 3, 5, 9, 10, 4]\n",
    "check_even = lambda num: num%2 == 0\n",
    "\n",
    "result = check_even(numbers[2])\n",
    "print(result)"
   ]
  },
  {
   "attachments": {},
   "cell_type": "markdown",
   "metadata": {},
   "source": [
    "# Scope : Global & Local Değişkenler"
   ]
  },
  {
   "attachments": {},
   "cell_type": "markdown",
   "metadata": {},
   "source": [
    "##### Ne yapıcaz | Tanımladığımız değişkenlerin global & local olarak nasıl tanımlandığını işliycez"
   ]
  },
  {
   "cell_type": "code",
   "execution_count": 18,
   "metadata": {},
   "outputs": [
    {
     "name": "stdout",
     "output_type": "stream",
     "text": [
      "global x\n"
     ]
    }
   ],
   "source": [
    "x = 'global x'\n",
    "\n",
    "def function():\n",
    "    x = 'local x'\n",
    "\n",
    "function()\n",
    "print(x)\n"
   ]
  },
  {
   "attachments": {},
   "cell_type": "markdown",
   "metadata": {},
   "source": [
    "##### Yukarıda görüldüğü üzere fonksiyondaki tanımlanan globalde tanımlananı etkilemiyor"
   ]
  },
  {
   "cell_type": "code",
   "execution_count": 20,
   "metadata": {},
   "outputs": [
    {
     "name": "stdout",
     "output_type": "stream",
     "text": [
      "local x\n",
      "global x\n"
     ]
    }
   ],
   "source": [
    "x = 'global x'\n",
    "\n",
    "def function():\n",
    "    x = 'local x'\n",
    "    print(x)\n",
    "\n",
    "function()\n",
    "print(x)"
   ]
  },
  {
   "attachments": {},
   "cell_type": "markdown",
   "metadata": {},
   "source": [
    "##### Eğer fonksiyon içinde tanımlama yapmazsak "
   ]
  },
  {
   "cell_type": "code",
   "execution_count": 21,
   "metadata": {},
   "outputs": [
    {
     "name": "stdout",
     "output_type": "stream",
     "text": [
      "global x\n",
      "global x\n"
     ]
    }
   ],
   "source": [
    "x = 'global x'\n",
    "\n",
    "def function():\n",
    "    print(x)\n",
    "\n",
    "function()\n",
    "print(x)"
   ]
  },
  {
   "attachments": {},
   "cell_type": "markdown",
   "metadata": {},
   "source": [
    "##### Bir uygulama yapalım"
   ]
  },
  {
   "cell_type": "code",
   "execution_count": 22,
   "metadata": {},
   "outputs": [
    {
     "name": "stdout",
     "output_type": "stream",
     "text": [
      "Ada\n",
      "Çınar\n"
     ]
    }
   ],
   "source": [
    "name = 'Çınar'\n",
    "\n",
    "def changeName(new_name):\n",
    "    name= new_name\n",
    "    print(name)\n",
    "\n",
    "changeName('Ada')\n",
    "print(name)\n",
    "\n",
    "# global namei bizim fonksiyona göndereceğimiz name ile değişilsin"
   ]
  },
  {
   "attachments": {},
   "cell_type": "markdown",
   "metadata": {},
   "source": [
    "##### Peki iç içe fonksiyonlar tanımladığımızda bu işler nasıl olucak"
   ]
  },
  {
   "cell_type": "code",
   "execution_count": 33,
   "metadata": {},
   "outputs": [
    {
     "name": "stdout",
     "output_type": "stream",
     "text": [
      "hello Çınar\n"
     ]
    }
   ],
   "source": [
    "name = 'global string'\n",
    "\n",
    "def greeting():\n",
    "    name = 'Çınar'\n",
    "\n",
    "    def hello():\n",
    "        print('hello '+ name)\n",
    "\n",
    "    hello()\n",
    "\n",
    "greeting()"
   ]
  },
  {
   "attachments": {},
   "cell_type": "markdown",
   "metadata": {},
   "source": [
    "##### İçteki hello fonksiyonuna ada ismi ekleyelim"
   ]
  },
  {
   "cell_type": "code",
   "execution_count": 36,
   "metadata": {},
   "outputs": [
    {
     "name": "stdout",
     "output_type": "stream",
     "text": [
      "hello Ada\n"
     ]
    }
   ],
   "source": [
    "name = 'global string'\n",
    "\n",
    "def greeting():\n",
    "    name= 'Çınar'\n",
    "\n",
    "    def hello():\n",
    "        name = 'Ada'\n",
    "        print('hello '+ name)\n",
    "    \n",
    "    hello()\n",
    "greeting()"
   ]
  },
  {
   "attachments": {},
   "cell_type": "markdown",
   "metadata": {},
   "source": [
    "##### Benzer konu ile alakaı bir çeşit test yapalım"
   ]
  },
  {
   "cell_type": "code",
   "execution_count": 3,
   "metadata": {},
   "outputs": [
    {
     "name": "stdout",
     "output_type": "stream",
     "text": [
      "x : 50\n",
      "changed x to 100\n",
      "50\n"
     ]
    }
   ],
   "source": [
    "x = 50\n",
    "def test(x):\n",
    "    print(f'x : {x}')\n",
    "\n",
    "    x = 100\n",
    "    print(f'changed x to {x}')\n",
    "\n",
    "test(x)\n",
    "print(x)"
   ]
  },
  {
   "attachments": {},
   "cell_type": "markdown",
   "metadata": {},
   "source": [
    "##### Peki dışarıda global olarak tanımlanan bir değişkeni fonksiyon içerisinden değiştirmek istersek"
   ]
  },
  {
   "attachments": {},
   "cell_type": "markdown",
   "metadata": {},
   "source": [
    "###### FONKSİYON KONU TEKRARI BURADA BİTTİ... "
   ]
  }
 ],
 "metadata": {
  "kernelspec": {
   "display_name": "Python 3",
   "language": "python",
   "name": "python3"
  },
  "language_info": {
   "codemirror_mode": {
    "name": "ipython",
    "version": 3
   },
   "file_extension": ".py",
   "mimetype": "text/x-python",
   "name": "python",
   "nbconvert_exporter": "python",
   "pygments_lexer": "ipython3",
   "version": "3.11.1"
  },
  "orig_nbformat": 4
 },
 "nbformat": 4,
 "nbformat_minor": 2
}
