{
 "cells": [
  {
   "attachments": {},
   "cell_type": "markdown",
   "metadata": {},
   "source": [
    "# Scope : Global & Local Değişkenler"
   ]
  },
  {
   "attachments": {},
   "cell_type": "markdown",
   "metadata": {},
   "source": [
    "##### Ne yapıcaz | Tanımladığımız değişkenlerin global & local olarak nasıl tanımlandığını işliycez"
   ]
  },
  {
   "cell_type": "code",
   "execution_count": 1,
   "metadata": {},
   "outputs": [
    {
     "name": "stdout",
     "output_type": "stream",
     "text": [
      "global x\n"
     ]
    }
   ],
   "source": [
    "x = 'global x'\n",
    "\n",
    "def function():\n",
    "    x = 'local x'\n",
    "\n",
    "function()\n",
    "print(x)"
   ]
  },
  {
   "attachments": {},
   "cell_type": "markdown",
   "metadata": {},
   "source": [
    "##### Yukarıda görüldüğü üzere fonksiyondaki tanımlanan globalde tanımlananı etkilemiyor"
   ]
  },
  {
   "cell_type": "code",
   "execution_count": 2,
   "metadata": {},
   "outputs": [
    {
     "name": "stdout",
     "output_type": "stream",
     "text": [
      "local x\n",
      "global x\n"
     ]
    }
   ],
   "source": [
    "# global scope\n",
    "x = 'global x'\n",
    "\n",
    "def function():\n",
    "    # local scope\n",
    "    x = 'local x'\n",
    "    print(x)          # local x 'in yazılmasını sağlar\n",
    "\n",
    "function()\n",
    "print(x)       "
   ]
  },
  {
   "attachments": {},
   "cell_type": "markdown",
   "metadata": {},
   "source": [
    "##### Eğer fonksiyon içinde tanımlama yapmazsak "
   ]
  },
  {
   "cell_type": "code",
   "execution_count": 3,
   "metadata": {},
   "outputs": [
    {
     "name": "stdout",
     "output_type": "stream",
     "text": [
      "global x\n",
      "global x\n"
     ]
    }
   ],
   "source": [
    "# global scope\n",
    "x = 'global x'\n",
    "\n",
    "def function():\n",
    "    # local scope\n",
    "    #x = 'local x'              (yorum satırına çevirdik)\n",
    "    print(x)          # (global x) in yazılmasını sağlar \n",
    "\n",
    "function()\n",
    "print(x)    \n",
    "\n",
    "# tanımlama yapmazsak global x 'i kullandı"
   ]
  },
  {
   "attachments": {},
   "cell_type": "markdown",
   "metadata": {},
   "source": [
    "##### Bir uygulama yapalım"
   ]
  },
  {
   "cell_type": "code",
   "execution_count": 4,
   "metadata": {},
   "outputs": [
    {
     "name": "stdout",
     "output_type": "stream",
     "text": [
      "Ada\n",
      "Çınar\n"
     ]
    }
   ],
   "source": [
    "name = 'Çınar' \n",
    "\n",
    "def changeName(new_name):\n",
    "    name = new_name\n",
    "    print(name)\n",
    "\n",
    "changeName('Ada')\n",
    "print(name)\n",
    "\n",
    "\n",
    "# global namei bizim fonksiyona göndereceğimiz name ile değişilsin"
   ]
  },
  {
   "attachments": {},
   "cell_type": "markdown",
   "metadata": {},
   "source": [
    "##### Peki iç içe fonksiyonlar tanımladığımızda bu işler nasıl olucak"
   ]
  },
  {
   "cell_type": "code",
   "execution_count": 5,
   "metadata": {},
   "outputs": [
    {
     "name": "stdout",
     "output_type": "stream",
     "text": [
      "hello Çınar\n"
     ]
    }
   ],
   "source": [
    "name = 'global string'\n",
    "\n",
    "def greeting():\n",
    "    name = 'Çınar'\n",
    "\n",
    "    def hello():\n",
    "        print('hello '+ name)    # name'i çınar alır çünkü hello fonksiyonuna göre global name Çınar zaten local name olarak bişey de yok\n",
    "\n",
    "    hello()\n",
    "\n",
    "greeting()"
   ]
  },
  {
   "attachments": {},
   "cell_type": "markdown",
   "metadata": {},
   "source": [
    "##### İçteki hello fonksiyonuna ada ismi ekleyelim"
   ]
  },
  {
   "cell_type": "code",
   "execution_count": 6,
   "metadata": {},
   "outputs": [
    {
     "name": "stdout",
     "output_type": "stream",
     "text": [
      "hello Ada\n"
     ]
    }
   ],
   "source": [
    "name = 'global string'\n",
    "\n",
    "def greeting():\n",
    "    name = 'Çınar'\n",
    "\n",
    "    def hello():\n",
    "        name = 'Ada'    # Eklendi \n",
    "        print('hello '+ name)\n",
    "\n",
    "    hello()\n",
    "\n",
    "greeting()\n",
    "\n",
    "# içerideki iki name tanımlamasını da kaldırırsak global olan name 'i seçer fonksiyon.\n",
    "# sadece hello fonksiyonunun içindeki name değişkenini silersek bu sefer name 'Ada' global olarak kabul edilir"
   ]
  },
  {
   "attachments": {},
   "cell_type": "markdown",
   "metadata": {},
   "source": [
    "##### Benzer konu ile alakaı bir çeşit test yapalım"
   ]
  },
  {
   "cell_type": "code",
   "execution_count": 7,
   "metadata": {},
   "outputs": [
    {
     "name": "stdout",
     "output_type": "stream",
     "text": [
      "x : 50\n",
      "changed x to 100\n",
      "50\n"
     ]
    }
   ],
   "source": [
    "x = 50\n",
    "def test(x):\n",
    "    print(f'x : {x}')\n",
    "\n",
    "    x = 100\n",
    "    print(f'changed x to {x}')\n",
    "\n",
    "test(x)\n",
    "print(x)\n",
    "\n",
    "# sonuç çalıştırılan test(x) fonksiyonu dışarıda tanımlanan x değerinin güncellenmesine neden olmuyor."
   ]
  },
  {
   "attachments": {},
   "cell_type": "markdown",
   "metadata": {},
   "source": [
    "##### Peki dışarıda global olarak tanımlanan bir değişkeni fonksiyon içerisinden değiştirmek istersek"
   ]
  },
  {
   "cell_type": "code",
   "execution_count": 10,
   "metadata": {},
   "outputs": [],
   "source": [
    "x = 50\n",
    "def test():\n",
    "    global x\n",
    "    print(f'x : {x}')\n",
    "\n",
    "    x = 100\n",
    "    print(f'f')"
   ]
  }
 ],
 "metadata": {
  "kernelspec": {
   "display_name": "Python 3",
   "language": "python",
   "name": "python3"
  },
  "language_info": {
   "codemirror_mode": {
    "name": "ipython",
    "version": 3
   },
   "file_extension": ".py",
   "mimetype": "text/x-python",
   "name": "python",
   "nbconvert_exporter": "python",
   "pygments_lexer": "ipython3",
   "version": "3.11.1"
  },
  "orig_nbformat": 4
 },
 "nbformat": 4,
 "nbformat_minor": 2
}
