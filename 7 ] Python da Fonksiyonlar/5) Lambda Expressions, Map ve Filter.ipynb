{
 "cells": [
  {
   "attachments": {},
   "cell_type": "markdown",
   "metadata": {},
   "source": [
    "# Lambda Expressions, Map ve Filter"
   ]
  },
  {
   "attachments": {},
   "cell_type": "markdown",
   "metadata": {},
   "source": [
    "**NOT:** fonksiyonu **tek satırda** da yazabiliriz"
   ]
  },
  {
   "attachments": {},
   "cell_type": "markdown",
   "metadata": {},
   "source": [
    "Bir sayının **karesini almak**"
   ]
  },
  {
   "cell_type": "code",
   "execution_count": 43,
   "metadata": {},
   "outputs": [
    {
     "name": "stdout",
     "output_type": "stream",
     "text": [
      "4\n"
     ]
    }
   ],
   "source": [
    "def square(num): return num ** 2 \n",
    "\n",
    "result = square(2)\n",
    "print(result)"
   ]
  },
  {
   "attachments": {},
   "cell_type": "markdown",
   "metadata": {},
   "source": [
    "##### MAP Metodu"
   ]
  },
  {
   "attachments": {},
   "cell_type": "markdown",
   "metadata": {},
   "source": [
    "Bir **listedeki** tüm sayıların **herbirinin karesini almak**"
   ]
  },
  {
   "cell_type": "code",
   "execution_count": 44,
   "metadata": {},
   "outputs": [
    {
     "name": "stdout",
     "output_type": "stream",
     "text": [
      "[1, 9, 25, 81]\n"
     ]
    }
   ],
   "source": [
    "def square(num): \n",
    "    return num ** 2\n",
    "\n",
    "numbers = [1, 3, 5, 9]\n",
    "\n",
    "result = list(map(square, numbers)) # list şeysi de sonucu listeye çeviriyor.\n",
    "print(result)\n",
    "\n",
    "# Normalde for döngüsüyle de yapılabilir \n",
    "# ama biz map metodunu kullanıcaz map metodu ile dizi içindeki her...\n",
    "# ...bir elemana ulaşıp her bir elemanın bir fonksiyon üzerinden geçirebiliriz"
   ]
  },
  {
   "attachments": {},
   "cell_type": "markdown",
   "metadata": {},
   "source": [
    "Yukarıdakine **Alternatif**"
   ]
  },
  {
   "cell_type": "code",
   "execution_count": 45,
   "metadata": {},
   "outputs": [
    {
     "name": "stdout",
     "output_type": "stream",
     "text": [
      "1\n",
      "9\n",
      "25\n",
      "81\n"
     ]
    }
   ],
   "source": [
    "numbers = [1, 3, 5, 9]\n",
    "\n",
    "for item in map(square, numbers):\n",
    "    print(item)"
   ]
  },
  {
   "attachments": {},
   "cell_type": "markdown",
   "metadata": {},
   "source": [
    "##### LAMBDA Metodu \n",
    "Genelde bikerelik kullanılacak ismi olmayan fonksiyonlar tanımlamak için kullanırız (Lambda Expression deniyor sanırım)"
   ]
  },
  {
   "attachments": {},
   "cell_type": "markdown",
   "metadata": {},
   "source": [
    "Lambda **kullanıl(MA)mış** hali"
   ]
  },
  {
   "cell_type": "code",
   "execution_count": 46,
   "metadata": {},
   "outputs": [
    {
     "name": "stdout",
     "output_type": "stream",
     "text": [
      "[1, 9, 25, 81]\n"
     ]
    }
   ],
   "source": [
    "def square(num): return num ** 2\n",
    "\n",
    "numbers = [1, 3, 5, 9]\n",
    "result = list(map(square, numbers))\n",
    "print(result)"
   ]
  },
  {
   "attachments": {},
   "cell_type": "markdown",
   "metadata": {},
   "source": [
    "Lambda **kullanılmış** hali"
   ]
  },
  {
   "cell_type": "code",
   "execution_count": 47,
   "metadata": {},
   "outputs": [
    {
     "name": "stdout",
     "output_type": "stream",
     "text": [
      "[1, 9, 25, 81]\n"
     ]
    }
   ],
   "source": [
    "numbers = [1, 3, 5, 9]\n",
    "\n",
    "result = list(map( lambda num: num ** 2, numbers))\n",
    "\n",
    "print(result)\n",
    "\n",
    "\n",
    "# square isimli fonksiyonun ismini yazmak yerine lambda yazdık . \n",
    "# parantez içine koyacağımız parametreyi num diye yanına belirttik\n",
    "# : işareti koyduk sonra return yazmadan normalde returndan sonra ne yazıyosak onu yazdık.\n",
    "\n",
    "# bu şekilde bir fonksiyon tanımlama dan işimizi fonksiyona yaptırmış oluyoruz \n",
    "# işi isimsiz bir fonskiyona yaptırmış olduk . buna isim de verebiliyoruz.\n",
    "\n",
    "# isim vermek istersek şu şekil yapabiliriz:l\n",
    "isim = lambda num: num ** 2\n",
    "# buna şimdi isim verdik bunu normal fonksiyon gibi de kullanabiliriz\n"
   ]
  },
  {
   "attachments": {},
   "cell_type": "markdown",
   "metadata": {},
   "source": [
    "* Az önce isim verdiğimiz fonksiyon normal bir fonksiyon gibi kullanılabiliyor muymuş bakalım."
   ]
  },
  {
   "cell_type": "code",
   "execution_count": 48,
   "metadata": {},
   "outputs": [
    {
     "name": "stdout",
     "output_type": "stream",
     "text": [
      "9\n"
     ]
    }
   ],
   "source": [
    "isim = lambda num: num ** 2\n",
    "\n",
    "result = isim(3)\n",
    "print(result)"
   ]
  },
  {
   "attachments": {},
   "cell_type": "markdown",
   "metadata": {},
   "source": [
    "##### Filter Function"
   ]
  },
  {
   "attachments": {},
   "cell_type": "markdown",
   "metadata": {},
   "source": [
    "* Mesela listedeki sadece çift sayıları geri göndersin gibi filtrelemeler yapmak için"
   ]
  },
  {
   "cell_type": "code",
   "execution_count": 49,
   "metadata": {},
   "outputs": [
    {
     "name": "stdout",
     "output_type": "stream",
     "text": [
      "[2, 4, 6, 8]\n"
     ]
    }
   ],
   "source": [
    "def check_even(num): return num %2 == 0 # bu true ise filtre true olanları döndürücek fonksiyona yani\n",
    "\n",
    "numbers = [1, 2, 3, 4, 5, 6, 7, 8, 9]\n",
    "\n",
    "result = list(filter(check_even, numbers))\n",
    "print(result)\n"
   ]
  },
  {
   "attachments": {},
   "cell_type": "markdown",
   "metadata": {},
   "source": [
    "* Check even yerine lambda' lı hali kullanalım"
   ]
  },
  {
   "cell_type": "code",
   "execution_count": 50,
   "metadata": {},
   "outputs": [
    {
     "name": "stdout",
     "output_type": "stream",
     "text": [
      "[2, 4, 6, 8]\n"
     ]
    }
   ],
   "source": [
    "result = list(filter(lambda num: num%2==0, numbers))\n",
    "print(result)"
   ]
  },
  {
   "attachments": {},
   "cell_type": "markdown",
   "metadata": {},
   "source": [
    "* Şimdi bu fonksiyona isim verelim ve ismi ile kullanalım"
   ]
  },
  {
   "cell_type": "code",
   "execution_count": 51,
   "metadata": {},
   "outputs": [
    {
     "name": "stdout",
     "output_type": "stream",
     "text": [
      "[2, 4, 6, 8]\n"
     ]
    }
   ],
   "source": [
    "yeni_isim = lambda num: num%2==0\n",
    "\n",
    "result = list(filter(yeni_isim, numbers))\n",
    "print(result)"
   ]
  },
  {
   "attachments": {},
   "cell_type": "markdown",
   "metadata": {},
   "source": [
    "* numbersin içerisindeki ikinci indexteki numarayı alıp kontrol ettirebiliriz"
   ]
  },
  {
   "cell_type": "code",
   "execution_count": 1,
   "metadata": {},
   "outputs": [
    {
     "name": "stdout",
     "output_type": "stream",
     "text": [
      "False\n"
     ]
    }
   ],
   "source": [
    "numbers = [1, 3, 5, 9, 10, 4]\n",
    "check_even = lambda num: num%2==0\n",
    "\n",
    "result = check_even(numbers[2])\n",
    "print(result)\n",
    "\n",
    "# 2. index tek olduğu için bize burda false değeri gösterir."
   ]
  }
 ],
 "metadata": {
  "kernelspec": {
   "display_name": "Python 3",
   "language": "python",
   "name": "python3"
  },
  "language_info": {
   "codemirror_mode": {
    "name": "ipython",
    "version": 3
   },
   "file_extension": ".py",
   "mimetype": "text/x-python",
   "name": "python",
   "nbconvert_exporter": "python",
   "pygments_lexer": "ipython3",
   "version": "3.11.1"
  },
  "orig_nbformat": 4
 },
 "nbformat": 4,
 "nbformat_minor": 2
}
