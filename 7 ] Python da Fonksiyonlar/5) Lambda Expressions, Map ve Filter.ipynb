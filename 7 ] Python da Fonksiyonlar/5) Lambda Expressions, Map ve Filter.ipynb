{
 "cells": [
  {
   "attachments": {},
   "cell_type": "markdown",
   "metadata": {},
   "source": [
    "# Lambda Expressions, Map ve Filter"
   ]
  },
  {
   "attachments": {},
   "cell_type": "markdown",
   "metadata": {},
   "source": [
    "###### **NOT:** fonksiyonu **tek satırda** da yazabiliriz"
   ]
  },
  {
   "attachments": {},
   "cell_type": "markdown",
   "metadata": {},
   "source": [
    "###### Bir sayının **karesini almak**"
   ]
  },
  {
   "cell_type": "code",
   "execution_count": 2,
   "metadata": {},
   "outputs": [
    {
     "name": "stdout",
     "output_type": "stream",
     "text": [
      "4\n"
     ]
    }
   ],
   "source": [
    "def square(num): return num ** 2 \n",
    "\n",
    "result = square(2)\n",
    "print(result)"
   ]
  },
  {
   "attachments": {},
   "cell_type": "markdown",
   "metadata": {},
   "source": [
    "##### MAP Metodu"
   ]
  },
  {
   "attachments": {},
   "cell_type": "markdown",
   "metadata": {},
   "source": [
    "###### Bir **listedeki** tüm sayıların **herbirinin karesini almak**"
   ]
  },
  {
   "cell_type": "code",
   "execution_count": 3,
   "metadata": {},
   "outputs": [
    {
     "name": "stdout",
     "output_type": "stream",
     "text": [
      "[1, 9, 25, 81]\n"
     ]
    }
   ],
   "source": [
    "def square(num): \n",
    "    return num ** 2\n",
    "\n",
    "numbers = [1, 3, 5, 9]\n",
    "\n",
    "result = list(map(square, numbers))\n",
    "print(result)\n",
    "\n",
    "# Normalde for döngüsüyle de yapılabilir \n",
    "# ama biz map metodunu kullanıcaz map metodu ile dizi içindeki her...\n",
    "# ...bir elemana ulaşıp her bir elemanın bir fonksiyon üzerinden geçirebiliriz"
   ]
  }
 ],
 "metadata": {
  "kernelspec": {
   "display_name": "Python 3",
   "language": "python",
   "name": "python3"
  },
  "language_info": {
   "codemirror_mode": {
    "name": "ipython",
    "version": 3
   },
   "file_extension": ".py",
   "mimetype": "text/x-python",
   "name": "python",
   "nbconvert_exporter": "python",
   "pygments_lexer": "ipython3",
   "version": "3.11.1"
  },
  "orig_nbformat": 4
 },
 "nbformat": 4,
 "nbformat_minor": 2
}
