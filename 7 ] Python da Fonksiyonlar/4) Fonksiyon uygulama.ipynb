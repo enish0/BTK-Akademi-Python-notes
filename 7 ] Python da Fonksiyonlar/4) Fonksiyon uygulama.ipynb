{
 "cells": [
  {
   "attachments": {},
   "cell_type": "markdown",
   "metadata": {},
   "source": [
    "# FONKSİYON UYGULAMA"
   ]
  },
  {
   "attachments": {},
   "cell_type": "markdown",
   "metadata": {},
   "source": [
    " #### 1- Gönderilen bir kelimeyi belirtilen kez ekranda gösteren fonksiyonu yazın."
   ]
  },
  {
   "cell_type": "code",
   "execution_count": null,
   "metadata": {},
   "outputs": [],
   "source": [
    "def kelimeGoster(kelime, kacKere):\n",
    "    print(kelime * kacKere)   \n",
    "\n",
    "kelimeGoster('Merhaba ', 10) # merhaba yazsın 10 kere mesela"
   ]
  },
  {
   "attachments": {},
   "cell_type": "markdown",
   "metadata": {},
   "source": [
    "#### 2- Kendine gönderilen sınırsız sayıdaki parametreyi bir listeye çeviren fonksiyon"
   ]
  },
  {
   "cell_type": "code",
   "execution_count": null,
   "metadata": {},
   "outputs": [],
   "source": [
    "def listeyeCevir(*params):\n",
    "    liste = []\n",
    "    \n",
    "    for param in params:\n",
    "        liste.append(param)\n",
    "\n",
    "    return liste\n",
    "\n",
    "result = listeyeCevir(10, 20, 30, 'text')\n",
    "print(result)"
   ]
  },
  {
   "attachments": {},
   "cell_type": "markdown",
   "metadata": {},
   "source": [
    "\n",
    "#### 3- Gönderilen 2 sayı arasındaki tüm asal sayıları bulun.\n"
   ]
  },
  {
   "cell_type": "code",
   "execution_count": 2,
   "metadata": {},
   "outputs": [
    {
     "name": "stdout",
     "output_type": "stream",
     "text": [
      "5\n"
     ]
    }
   ],
   "source": [
    "\n",
    "def asalBul(a, b):\n",
    "    for sayi in range(a, b+1):  # b 'yi de dahil etsin diye +1 çaktık\n",
    "        if sayi > 1:\n",
    "            for i in range(2, sayi):\n",
    "                if (sayi % i == 0):\n",
    "                    break              \n",
    "            else:\n",
    "                print(sayi) \n",
    "\n",
    "a = int(input('sayi1: '))\n",
    "b = int(input('sayi2: '))\n",
    "\n",
    "asalBul(a, b)\n",
    "   "
   ]
  },
  {
   "attachments": {},
   "cell_type": "markdown",
   "metadata": {},
   "source": [
    "#### 4- Kendisine gönderilen bir sayının tam bölenlerini bir liste şeklinde döndürün"
   ]
  },
  {
   "cell_type": "code",
   "execution_count": null,
   "metadata": {},
   "outputs": [],
   "source": []
  }
 ],
 "metadata": {
  "kernelspec": {
   "display_name": "Python 3",
   "language": "python",
   "name": "python3"
  },
  "language_info": {
   "codemirror_mode": {
    "name": "ipython",
    "version": 3
   },
   "file_extension": ".py",
   "mimetype": "text/x-python",
   "name": "python",
   "nbconvert_exporter": "python",
   "pygments_lexer": "ipython3",
   "version": "3.11.1"
  },
  "orig_nbformat": 4
 },
 "nbformat": 4,
 "nbformat_minor": 2
}
