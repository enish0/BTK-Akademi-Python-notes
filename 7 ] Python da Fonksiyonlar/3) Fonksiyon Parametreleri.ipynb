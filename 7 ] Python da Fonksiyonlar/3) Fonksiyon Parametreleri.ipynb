{
 "cells": [
  {
   "cell_type": "code",
   "execution_count": 19,
   "metadata": {},
   "outputs": [
    {
     "name": "stdout",
     "output_type": "stream",
     "text": [
      "yiğit\n"
     ]
    }
   ],
   "source": [
    "def changeName(n):    # gönderdiğimiz parametre değerine n diyelim.\n",
    "    n = 'ada'\n",
    "\n",
    "name = 'yiğit'\n",
    "\n",
    "changeName(name)\n",
    "print(name)\n",
    "\n",
    "# burda şunu anladık\n",
    "# name = yiğit bilgisi fonksiyon tarafından ada olarak değiştirilemedi.\n"
   ]
  },
  {
   "cell_type": "code",
   "execution_count": 20,
   "metadata": {},
   "outputs": [
    {
     "name": "stdout",
     "output_type": "stream",
     "text": [
      "['istanbul', 'izmir']\n"
     ]
    }
   ],
   "source": [
    "# şimdi bu işlemin aynısını listele üzerinden yapalım\n",
    "\n",
    "def change(n):\n",
    "    n[0] = 'istanbul' # listenin sıfırıncı indexini istanbul olarak değiştircez\n",
    "\n",
    "sehirler = ['ankara', 'izmir']\n",
    "\n",
    "change(sehirler)\n",
    "\n",
    "print(sehirler)"
   ]
  },
  {
   "cell_type": "code",
   "execution_count": 21,
   "metadata": {},
   "outputs": [
    {
     "name": "stdout",
     "output_type": "stream",
     "text": [
      "['istanbul', 'izmir']\n"
     ]
    }
   ],
   "source": [
    "# Fonksiyonsuz bir şekilde yapmaya kalkalım\n",
    "\n",
    "sehirler = ['ankara', 'izmir']\n",
    "n = sehirler\n",
    "\n",
    "n[0] = 'istanbul'    # [0] bir şeyin sıfırıncı indexini değiştirme şeysi\n",
    "print(sehirler)\n",
    "\n"
   ]
  },
  {
   "cell_type": "code",
   "execution_count": 22,
   "metadata": {},
   "outputs": [
    {
     "name": "stdout",
     "output_type": "stream",
     "text": [
      "['ankara', 'izmir']\n",
      "['istanbul', 'izmir']\n"
     ]
    }
   ],
   "source": [
    "# peki listelerde yukarıdaki gibi bir atama işlemi yapmak yerine yeni bir kopya çıkarmak istersem?\n",
    "# yani şehirler dizisinin bir kopyasını çıkarmak istersem slicing (parçalama) işlemi yapmamız gerekiyor. \n",
    "\n",
    "sehirler = ['ankara', 'izmir']\n",
    "n = sehirler[:]  # slicing işlemi \n",
    "\n",
    "   # hatırlatma:  [:] tüm bilgileri  içeri at demek\n",
    "    #              [0:2] sıfırdan ikinci indexe kadar al demek\n",
    "n[0] = 'istanbul' \n",
    "\n",
    "print(sehirler)\n",
    "print(n)          # orjinal listeyi ellemeden kopyası ile işlem yapmış olduk .   \n"
   ]
  },
  {
   "cell_type": "code",
   "execution_count": 24,
   "metadata": {},
   "outputs": [
    {
     "name": "stdout",
     "output_type": "stream",
     "text": [
      "['ankara', 'izmir']\n",
      "['istanbul', 'izmir']\n"
     ]
    }
   ],
   "source": [
    "# yukarıdakini fonksiyon içinde yapmaya kalkalım\n",
    "def change(n):\n",
    "    n[0] = 'istanbul'\n",
    "\n",
    "sehirler = ['ankara', 'izmir']\n",
    "\n",
    "change(sehirler[:])\n",
    "print(sehirler)\n",
    "print(n)\n"
   ]
  },
  {
   "cell_type": "code",
   "execution_count": 27,
   "metadata": {},
   "outputs": [
    {
     "name": "stdout",
     "output_type": "stream",
     "text": [
      "30\n"
     ]
    }
   ],
   "source": [
    "# basit toplama işlemi yapalım\n",
    "\n",
    "def add(a, b):\n",
    "    return sum((a, b)) \n",
    "# sum() fonksiyonu python ile gömülü gelen hazır bir fonksiyon bunu kullanmak yerine a + b yapabilirdik ama\n",
    "# görelim istemiş hoca bunu da. bu fonksiyon toplama işlemi yapıyor içindeki listeye yazılanları. \n",
    "\n",
    "print(add(10, 20))"
   ]
  }
 ],
 "metadata": {
  "kernelspec": {
   "display_name": "Python 3",
   "language": "python",
   "name": "python3"
  },
  "language_info": {
   "codemirror_mode": {
    "name": "ipython",
    "version": 3
   },
   "file_extension": ".py",
   "mimetype": "text/x-python",
   "name": "python",
   "nbconvert_exporter": "python",
   "pygments_lexer": "ipython3",
   "version": "3.11.1"
  },
  "orig_nbformat": 4
 },
 "nbformat": 4,
 "nbformat_minor": 2
}
