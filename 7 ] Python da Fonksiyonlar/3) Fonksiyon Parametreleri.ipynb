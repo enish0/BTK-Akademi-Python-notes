{
 "cells": [
  {
   "cell_type": "code",
   "execution_count": 19,
   "metadata": {},
   "outputs": [
    {
     "name": "stdout",
     "output_type": "stream",
     "text": [
      "yiğit\n"
     ]
    }
   ],
   "source": [
    "def changeName(n):    # gönderdiğimiz parametre değerine n diyelim.\n",
    "    n = 'ada'\n",
    "\n",
    "name = 'yiğit'\n",
    "\n",
    "changeName(name)\n",
    "print(name)\n",
    "\n",
    "# burda şunu anladık\n",
    "# name = yiğit bilgisi fonksiyon tarafından ada olarak değiştirilemedi.\n"
   ]
  },
  {
   "cell_type": "code",
   "execution_count": 20,
   "metadata": {},
   "outputs": [
    {
     "name": "stdout",
     "output_type": "stream",
     "text": [
      "['istanbul', 'izmir']\n"
     ]
    }
   ],
   "source": [
    "# şimdi bu işlemin aynısını listele üzerinden yapalım\n",
    "\n",
    "def change(n):\n",
    "    n[0] = 'istanbul' # listenin sıfırıncı indexini istanbul olarak değiştircez\n",
    "\n",
    "sehirler = ['ankara', 'izmir']\n",
    "\n",
    "change(sehirler)\n",
    "\n",
    "print(sehirler)"
   ]
  },
  {
   "cell_type": "code",
   "execution_count": 21,
   "metadata": {},
   "outputs": [
    {
     "name": "stdout",
     "output_type": "stream",
     "text": [
      "['istanbul', 'izmir']\n"
     ]
    }
   ],
   "source": [
    "# Fonksiyonsuz bir şekilde yapmaya kalkalım\n",
    "\n",
    "sehirler = ['ankara', 'izmir']\n",
    "n = sehirler\n",
    "\n",
    "n[0] = 'istanbul'    # [0] bir şeyin sıfırıncı indexini değiştirme şeysi\n",
    "print(sehirler)\n",
    "\n"
   ]
  },
  {
   "cell_type": "code",
   "execution_count": 22,
   "metadata": {},
   "outputs": [
    {
     "name": "stdout",
     "output_type": "stream",
     "text": [
      "['ankara', 'izmir']\n",
      "['istanbul', 'izmir']\n"
     ]
    }
   ],
   "source": [
    "# peki listelerde yukarıdaki gibi bir atama işlemi yapmak yerine yeni bir kopya çıkarmak istersem?\n",
    "# yani şehirler dizisinin bir kopyasını çıkarmak istersem slicing (parçalama) işlemi yapmamız gerekiyor. \n",
    "\n",
    "sehirler = ['ankara', 'izmir']\n",
    "n = sehirler[:]  # slicing işlemi \n",
    "\n",
    "   # hatırlatma:  [:] tüm bilgileri  içeri at demek\n",
    "    #              [0:2] sıfırdan ikinci indexe kadar al demek\n",
    "n[0] = 'istanbul' \n",
    "\n",
    "print(sehirler)\n",
    "print(n)          # orjinal listeyi ellemeden kopyası ile işlem yapmış olduk .   \n"
   ]
  },
  {
   "cell_type": "code",
   "execution_count": 23,
   "metadata": {},
   "outputs": [
    {
     "name": "stdout",
     "output_type": "stream",
     "text": [
      "['ankara', 'izmir']\n",
      "['istanbul', 'izmir']\n"
     ]
    }
   ],
   "source": [
    "# yukarıdakini fonksiyon içinde yapmaya kalkalım\n",
    "def change(n):\n",
    "    n[0] = 'istanbul'\n",
    "\n",
    "sehirler = ['ankara', 'izmir']\n",
    "\n",
    "change(sehirler[:])\n",
    "print(sehirler)\n",
    "print(n)\n"
   ]
  },
  {
   "cell_type": "code",
   "execution_count": 24,
   "metadata": {},
   "outputs": [
    {
     "name": "stdout",
     "output_type": "stream",
     "text": [
      "30\n"
     ]
    }
   ],
   "source": [
    "# basit toplama işlemi yapalım\n",
    "\n",
    "def add(a, b):\n",
    "    return sum((a, b)) \n",
    "# sum() fonksiyonu python ile gömülü gelen hazır bir fonksiyon bunu kullanmak yerine a + b yapabilirdik ama\n",
    "# görelim istemiş hoca bunu da. bu fonksiyon toplama işlemi yapıyor içindeki listeye yazılanları. \n",
    "\n",
    "print(add(10, 20))"
   ]
  },
  {
   "cell_type": "code",
   "execution_count": 25,
   "metadata": {},
   "outputs": [
    {
     "name": "stdout",
     "output_type": "stream",
     "text": [
      "60\n"
     ]
    }
   ],
   "source": [
    "# eğer 3 parametre göndermeye kalkarsak\n",
    "def add(a, b, c):     \n",
    "    return sum((a, b, c))\n",
    "\n",
    "print(add(10, 20, 30))"
   ]
  },
  {
   "cell_type": "code",
   "execution_count": 1,
   "metadata": {},
   "outputs": [
    {
     "name": "stdout",
     "output_type": "stream",
     "text": [
      "30\n"
     ]
    }
   ],
   "source": [
    "# 3 parametre isterken 2 parametre girersek hata vermesin diye...\n",
    "\n",
    "def add(a, b, c = 0):    # c için sayı girmezsek c yi 0 kabul eder.\n",
    "    return sum([a, b, c])   # 2 den fazla parametre için burda sum fonksiyonuyla alakalı hata olmaması için [] içine almak lazımmış extra\n",
    "\n",
    "print(add(10, 20))"
   ]
  },
  {
   "cell_type": "code",
   "execution_count": 27,
   "metadata": {},
   "outputs": [
    {
     "name": "stdout",
     "output_type": "stream",
     "text": [
      "30\n",
      "60\n"
     ]
    }
   ],
   "source": [
    "# parametreleri artırabiliriz\n",
    "\n",
    "def add(a, b, c = 0, d = 0, e = 0):  # 5 parametreden istediğimiz kadarını kullanabiliriz.\n",
    "    return sum([a, b, c, d, e])\n",
    "\n",
    "print(add(10, 20))\n",
    "print(add(10, 20, 30))"
   ]
  },
  {
   "cell_type": "code",
   "execution_count": 28,
   "metadata": {},
   "outputs": [
    {
     "name": "stdout",
     "output_type": "stream",
     "text": [
      "30\n",
      "60\n",
      "310\n"
     ]
    }
   ],
   "source": [
    "# peki 6 parametre göndermek istersek ne yapıcaz.\n",
    "\n",
    "def add(*params):       # burada (*) işareti önüne gelen şeyi tuple nesnesi olarak paketliyor\n",
    "    return sum((params))  # bu nedenle ne kadar parametre olduğu önemli olmuyor. o nedenle de [] içine almaya gerek kalmıyor bence\n",
    "\n",
    "print(add(10, 20))\n",
    "print(add(10, 20, 30))\n",
    "print(add(10, 20, 30, 40, 50 , 60, 100))"
   ]
  },
  {
   "cell_type": "code",
   "execution_count": 29,
   "metadata": {},
   "outputs": [
    {
     "name": "stdout",
     "output_type": "stream",
     "text": [
      "(10, 20, 30)\n",
      "60\n",
      "(10, 20, 30, 50, 60)\n",
      "170\n"
     ]
    }
   ],
   "source": [
    "# gönderdiğimiz argumanların ne olduğunu ekrana göstersin yazsın\n",
    "\n",
    "def add(*params):      \n",
    "    print(params)       # gönderdiğimiz tüm argumanlar ekrana yazdırılır (tuple listesi halinde)\n",
    "    return sum((params))\n",
    "\n",
    "print(add(10, 20, 30))      # gönderdiğimiz argumanlar bunlar oluyor\n",
    "print(add(10, 20, 30, 50, 60))"
   ]
  },
  {
   "cell_type": "code",
   "execution_count": 30,
   "metadata": {},
   "outputs": [
    {
     "name": "stdout",
     "output_type": "stream",
     "text": [
      "10\n",
      "30\n",
      "60\n"
     ]
    }
   ],
   "source": [
    "# gönderdiğimiz argumanların listesinden istediğimiz indexe ulaşabilip yazdırabiliriz\n",
    "def add(*params):      \n",
    "    print(params[0])      # gönderilen argumanların 0. indexi yani ilk sayı  \n",
    "    print(params[2])            # 2. indexini de yazdırsın\n",
    "    return sum((params))\n",
    "\n",
    "print(add(10, 20, 30))     \n"
   ]
  },
  {
   "cell_type": "code",
   "execution_count": 31,
   "metadata": {},
   "outputs": [
    {
     "name": "stdout",
     "output_type": "stream",
     "text": [
      "60\n"
     ]
    }
   ],
   "source": [
    "# sum fonksiyonu kullanmak isteMEZsek\n",
    "\n",
    "def add(*params):\n",
    "    sum = 0\n",
    "    for n in params:\n",
    "        sum = sum + n\n",
    "    return sum\n",
    "\n",
    "print(add(10, 20, 30))"
   ]
  },
  {
   "cell_type": "code",
   "execution_count": 32,
   "metadata": {},
   "outputs": [
    {
     "name": "stdout",
     "output_type": "stream",
     "text": [
      "name is Çınar\n",
      "age is 2\n",
      "city is Istanbul\n",
      "name is Ada\n",
      "age is 12\n",
      "city is Kocaeli\n",
      "phone is 123456789\n",
      "name is Yiğit\n",
      "age is 14\n",
      "city is Ankara\n",
      "phone is 1234543543\n",
      "email is yigit06@gmail.com\n"
     ]
    }
   ],
   "source": [
    "# bilgileri fonksiyona nasıl göndericez\n",
    "\n",
    "\n",
    "def displayUser(**args):  # tuple değilde dictionary (key-value) şeklinde olacağını program bilsin diye iki yıldız (**) kullanıyoruz\n",
    "    for key, value in args.items():   # args'a aşağıda name = çınar, age = 2 gibisinden şeyler vereceğimiz için (key value) for döngüsünde dönmesi için .items metodu ile alınması lazım . .items modulu tuple olarak alıyor şöyle : (key,value),(key,value) . for döngüsü tanıyamaz yoksa\n",
    "        print('{} is {}'.format(key, value)) # .format modülü ilk süslü paranteze normal parantezin içindeki ilk şeyi . ikinci süslüye ikinci normal parantezin içindekini atıyor.\n",
    "\n",
    "displayUser(name= 'Çınar', age= 2, city= 'Istanbul')\n",
    "displayUser(name= 'Ada', age= 12, city= 'Kocaeli', phone= '123456789')\n",
    "displayUser(name= 'Yiğit', age= 14, city= 'Ankara', phone= '1234543543', email= 'yigit06@gmail.com')\n"
   ]
  },
  {
   "cell_type": "code",
   "execution_count": 33,
   "metadata": {},
   "outputs": [
    {
     "name": "stdout",
     "output_type": "stream",
     "text": [
      "<class 'dict'>\n",
      "name is Çınar\n",
      "age is 2\n",
      "city is Istanbul\n",
      "<class 'dict'>\n",
      "name is Ada\n",
      "age is 12\n",
      "city is Kocaeli\n",
      "phone is 123456789\n",
      "<class 'dict'>\n",
      "name is Yiğit\n",
      "age is 14\n",
      "city is Ankara\n",
      "phone is 1234543543\n",
      "email is yigit06@gmail.com\n"
     ]
    }
   ],
   "source": [
    "# yukarıdaki gönderdiğimiz args bilgisinin tipini sorgulayalım\n",
    "\n",
    "def displayUser(**args):  \n",
    "    print(type(args))                   # class <dict> der dictionari imiş \n",
    "    for key, value in args.items():  \n",
    "        print('{} is {}'.format(key, value)) \n",
    "\n",
    "displayUser(name= 'Çınar', age= 2, city= 'Istanbul')\n",
    "displayUser(name= 'Ada', age= 12, city= 'Kocaeli', phone= '123456789')\n",
    "displayUser(name= 'Yiğit', age= 14, city= 'Ankara', phone= '1234543543', email= 'yigit06@gmail.com')"
   ]
  },
  {
   "cell_type": "code",
   "execution_count": 34,
   "metadata": {},
   "outputs": [],
   "source": [
    "#    *args = tuple listesi olarak gönderir\n",
    "#    **args = bir dictionary (key, value) listesi olarak gönderir"
   ]
  },
  {
   "cell_type": "code",
   "execution_count": 37,
   "metadata": {},
   "outputs": [
    {
     "name": "stdout",
     "output_type": "stream",
     "text": [
      "10\n",
      "20\n",
      "(30, 40, 50)\n",
      "{'key1': 'value 1', 'key2': 'value 2'}\n"
     ]
    }
   ],
   "source": [
    "# normal liste ve key, value listeyi aynı fonksiyonlar göndermek istersek\n",
    "\n",
    "def myFunc(a, b, *args, **kwargs):\n",
    "    print(a)\n",
    "    print(b)\n",
    "    print(args)\n",
    "    print(kwargs)\n",
    "\n",
    "myFunc(10, 20, 30, 40, 50, key1 = 'value 1', key2 = 'value 2')\n",
    "\n",
    "# key value şeklinde olanı kwargs kısmının oldu. tuple olarak aldı.\n",
    "# a ilk bilgi olan 10 u aldı\n",
    "# b ikinci bilgi olan 20 yi aldı.\n",
    "# geri kalanı yani 30 40 50 yi args aldı otomatik."
   ]
  }
 ],
 "metadata": {
  "kernelspec": {
   "display_name": "Python 3",
   "language": "python",
   "name": "python3"
  },
  "language_info": {
   "codemirror_mode": {
    "name": "ipython",
    "version": 3
   },
   "file_extension": ".py",
   "mimetype": "text/x-python",
   "name": "python",
   "nbconvert_exporter": "python",
   "pygments_lexer": "ipython3",
   "version": "3.11.1"
  },
  "orig_nbformat": 4
 },
 "nbformat": 4,
 "nbformat_minor": 2
}
