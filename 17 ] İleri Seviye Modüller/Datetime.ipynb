{
 "cells": [
  {
   "attachments": {},
   "cell_type": "markdown",
   "metadata": {},
   "source": [
    "# DateTime"
   ]
  },
  {
   "cell_type": "code",
   "execution_count": 2,
   "metadata": {},
   "outputs": [
    {
     "name": "stdout",
     "output_type": "stream",
     "text": [
      "['MAXYEAR', 'MINYEAR', 'UTC', '__all__', '__builtins__', '__cached__', '__doc__', '__file__', '__loader__', '__name__', '__package__', '__spec__', 'date', 'datetime', 'datetime_CAPI', 'sys', 'time', 'timedelta', 'timezone', 'tzinfo']\n"
     ]
    }
   ],
   "source": [
    "import datetime # datetime ın tüm modüllerini import eder\n",
    "from datetime import datetime # datetime ın datetime modülü sadece\n",
    "from datetime import date   # datetime ın date modülü sadece\n",
    "from datetime import time # time modülü sadece\n",
    "\n",
    "result = dir(datetime)      # dir : modülün içindeki metodlar\n",
    "\n",
    "print(result)\n",
    "\n",
    "# date classı : tarih ile ilgili\n",
    "# time classı : zaman ile ilgili\n",
    "# datetime modülü : tarih + zaman birleşik"
   ]
  },
  {
   "attachments": {},
   "cell_type": "markdown",
   "metadata": {},
   "source": [
    "* eğer"
   ]
  },
  {
   "cell_type": "code",
   "execution_count": 3,
   "metadata": {},
   "outputs": [],
   "source": [
    "from datetime import datetime\n",
    "\n",
    "result = dir(datetime)  # eğer from diyip ulaştıysak böyle"
   ]
  },
  {
   "attachments": {},
   "cell_type": "markdown",
   "metadata": {},
   "source": [
    "* ya eğer from datetime import date yapmasaydıkta import datetime yapsaydık? (tamamını)"
   ]
  },
  {
   "cell_type": "code",
   "execution_count": 5,
   "metadata": {},
   "outputs": [
    {
     "name": "stdout",
     "output_type": "stream",
     "text": [
      "['__add__', '__class__', '__delattr__', '__dir__', '__doc__', '__eq__', '__format__', '__ge__', '__getattribute__', '__getstate__', '__gt__', '__hash__', '__init__', '__init_subclass__', '__le__', '__lt__', '__ne__', '__new__', '__radd__', '__reduce__', '__reduce_ex__', '__repr__', '__rsub__', '__setattr__', '__sizeof__', '__str__', '__sub__', '__subclasshook__', 'astimezone', 'combine', 'ctime', 'date', 'day', 'dst', 'fold', 'fromisocalendar', 'fromisoformat', 'fromordinal', 'fromtimestamp', 'hour', 'isocalendar', 'isoformat', 'isoweekday', 'max', 'microsecond', 'min', 'minute', 'month', 'now', 'replace', 'resolution', 'second', 'strftime', 'strptime', 'time', 'timestamp', 'timetuple', 'timetz', 'today', 'toordinal', 'tzinfo', 'tzname', 'utcfromtimestamp', 'utcnow', 'utcoffset', 'utctimetuple', 'weekday', 'year']\n"
     ]
    }
   ],
   "source": [
    "import datetime\n",
    "\n",
    "result = dir(datetime.datetime)  # import diyip tamamını import ettiysek eğer\n",
    "\n",
    "# import ettiğimiz modüldeki tek bir class a ulaşmış olduk\n",
    "print(result)"
   ]
  },
  {
   "attachments": {},
   "cell_type": "markdown",
   "metadata": {},
   "source": [
    "Devam"
   ]
  },
  {
   "attachments": {},
   "cell_type": "markdown",
   "metadata": {},
   "source": [
    "Datetime içindeki metodlara bakalım\n",
    "\n",
    "        now()"
   ]
  },
  {
   "cell_type": "code",
   "execution_count": 12,
   "metadata": {},
   "outputs": [
    {
     "name": "stdout",
     "output_type": "stream",
     "text": [
      "2023-07-05 11:59:01.702273\n"
     ]
    }
   ],
   "source": [
    "from datetime import datetime   # datetime modülünden datetime class ına ulaştık\n",
    "\n",
    "result = datetime.now()     # şu anki tarih saat bilgisini veriyor\n",
    "print(result)"
   ]
  },
  {
   "attachments": {},
   "cell_type": "markdown",
   "metadata": {},
   "source": [
    "* tarih saat bilgisinden  istediğimizi alabiliriz"
   ]
  },
  {
   "cell_type": "code",
   "execution_count": 30,
   "metadata": {},
   "outputs": [
    {
     "name": "stdout",
     "output_type": "stream",
     "text": [
      "2023\n",
      "7\n",
      "5\n",
      "12\n",
      "21\n",
      "37\n"
     ]
    }
   ],
   "source": [
    "from datetime import datetime   \n",
    "\n",
    "result = datetime.now()   \n",
    "result = datetime.now().year    # sadece yıl bilgisini verir  \n",
    "\n",
    "# daha düzenli halde yazalım\n",
    "simdi = datetime.now()\n",
    "simdi = datetime.today()    # today de now ile aynı bilgileri verir o da kullanılabilir.\n",
    "\n",
    "result = simdi.year\n",
    "print(result)\n",
    "\n",
    "result2 = simdi.month\n",
    "print(result2)\n",
    "\n",
    "result3 = simdi.day\n",
    "print(result3)\n",
    "\n",
    "result4 = simdi.hour\n",
    "print(result4)\n",
    "\n",
    "result5 = simdi.minute\n",
    "print(result5)\n",
    "\n",
    "result6 = simdi.second\n",
    "print(result6)\n",
    "\n"
   ]
  },
  {
   "attachments": {},
   "cell_type": "markdown",
   "metadata": {},
   "source": [
    "        ctime()"
   ]
  },
  {
   "cell_type": "code",
   "execution_count": 50,
   "metadata": {},
   "outputs": [
    {
     "name": "stdout",
     "output_type": "stream",
     "text": [
      "Wed Jul  5 12:40:11 2023\n",
      "2023\n",
      "12:40:11\n",
      "05\n",
      "Wed\n",
      "Jul\n",
      "2023 Jul Wed\n"
     ]
    }
   ],
   "source": [
    "from datetime import datetime\n",
    "\n",
    "simdi = datetime.now()\n",
    "result = datetime.ctime(simdi)  # ctime : datetime objesi bekler o nedenle simdi objesini koyduk içine\n",
    "            # şu anla alakalı daha açıklayıcı bilgi veriyor\n",
    "            # örneğin gün ve ay string olarak veriyor\n",
    "print(result)\n",
    "\n",
    "# bu ctime ın gösterdiği yazıyı biçimlendirebiliyoruz.\n",
    "result = datetime.strftime(simdi,'%Y')    #ilk parametre olarak bir datetime objesi bekler\n",
    "print(result)                    # %Y : sadece yıl bilgisini yazdırdı sadece\n",
    "\n",
    "result = datetime.strftime(simdi,'%X')    #ilk parametre olarak bir datetime objesi bekler\n",
    "print(result)                   # %X : sadece saat bilgisi verir.\n",
    "\n",
    "result = datetime.strftime(simdi,'%d')    #ilk parametre olarak bir datetime objesi bekler\n",
    "print(result)                   # gün bilgisi verdi\n",
    "\n",
    "result = datetime.strftime(simdi,'%a')    #ilk parametre olarak bir datetime objesi bekler\n",
    "print(result)                   # gün bilgisini string olarak verdi\n",
    "\n",
    "result = datetime.strftime(simdi,'%b')    #ilk parametre olarak bir datetime objesi bekler\n",
    "print(result)                   # ay bilgisini string olarak verdi\n",
    "\n",
    "# istediğimiz bilgiyi istediğimiz şekilde alabiliriz hatta \n",
    "# aynı anda birkaç özelliği kullanabiliriz\n",
    "\n",
    "result = datetime.strftime(simdi,'%Y %b %a')    #ilk parametre olarak bir datetime objesi bekler\n",
    "print(result)\n"
   ]
  },
  {
   "attachments": {},
   "cell_type": "markdown",
   "metadata": {},
   "source": [
    "* gün ay yıl olarak içinden seçilebilir bilgisayarın da bildiği bir şey tanımlayalım \n",
    "\n",
    "normalde nasıl yaparız ⇲"
   ]
  },
  {
   "cell_type": "code",
   "execution_count": 58,
   "metadata": {},
   "outputs": [
    {
     "name": "stdout",
     "output_type": "stream",
     "text": [
      "5\n",
      "Haziran\n",
      "2023\n"
     ]
    }
   ],
   "source": [
    "t = '5 Haziran 2023'   \n",
    "# normalde böyle yaparız\n",
    "gun, ay, yil = t.split()\n",
    "\n",
    "print(gun)\n",
    "print(ay)\n",
    "print(yil)\n"
   ]
  },
  {
   "attachments": {},
   "cell_type": "markdown",
   "metadata": {},
   "source": [
    "* string bir ifadeyi split() ile ayırıp falan yapmak çok uzun olur\n",
    "\n",
    "artık nasıl yapıcaz ⇲"
   ]
  },
  {
   "cell_type": "code",
   "execution_count": 65,
   "metadata": {},
   "outputs": [
    {
     "name": "stdout",
     "output_type": "stream",
     "text": [
      "2019-04-15 10:12:30\n",
      "2019\n",
      "15\n",
      "10\n",
      "2019\n"
     ]
    }
   ],
   "source": [
    "t = '15 April 2019 hour 10:12:30'\n",
    "\n",
    "result = datetime.strptime(t, '%d %B %Y hour %H:%M:%S')\n",
    "\n",
    "# dt objesi oluşturup strptime() metodu kullanıcaz\n",
    "# ilk parametreye string bilgisini ver. sonrakine bu string ifade içindeki bilgileri nasıl alıp & çözümleyeceğimizi yazcaz\n",
    "\n",
    "# ilk karşısına gelecek olan 15 bilgisini gün olarak alması için %d veriyoruz \n",
    "# ikincisini ay olarak alcak %B\n",
    "# üçüncü yıl %Y hour\n",
    "# hour bilgisini görmesin diye hour aynen yazılır\n",
    "# saat bilgisini ise %H:%M:%S seklinde (saat dakika saniye olacak sekilde)\n",
    "\n",
    "print(result)\n",
    "\n",
    "# artık ayrı ayrı içinden seçilebilir\n",
    "\n",
    "print(result.year)\n",
    "print(result.day)\n"
   ]
  },
  {
   "attachments": {},
   "cell_type": "markdown",
   "metadata": {},
   "source": [
    "* peki kendimiz bir tarih bilgisi vermek istersek?"
   ]
  },
  {
   "cell_type": "code",
   "execution_count": 72,
   "metadata": {},
   "outputs": [
    {
     "name": "stdout",
     "output_type": "stream",
     "text": [
      "1983-05-09 12:30:10\n",
      "421320610.0\n",
      "1983-05-09 12:30:10\n",
      "1970-01-01 03:00:00\n"
     ]
    }
   ],
   "source": [
    "birthday = datetime(1983, 5, 9, 12,30,10)   # yıl , ay gün parametreleri bekler (isteğe göre saat te yazılabilir burdaki gibi)\n",
    "print(birthday)\n",
    "\n",
    "# simdi birthday i timestamp() metoduna vericez\n",
    "\n",
    "result = datetime.timestamp(birthday)   # ilgili tarih objesini saniye cinsinden bize verir\n",
    "print(result) # NOT: bu saniye birthday tarihinden 1970 tarihi arası olan (bilgisayarların miladı) hesaplanmış saniyedir.\n",
    "\n",
    "# bu sefer result'u (birthdayi değil) fromtimestamp() metoduna verirsek?\n",
    "\n",
    "result = datetime.fromtimestamp(result)\n",
    "print(result)       # saniye olan tarihi tekrar datetime a (tarih saatli hale) dönüştürdü\n",
    "\n",
    "# bilgisayarların miladaı olan tarih için...\n",
    "result = datetime.fromtimestamp(0)\n",
    "print(result)\n",
    "\n"
   ]
  },
  {
   "attachments": {},
   "cell_type": "markdown",
   "metadata": {},
   "source": [
    "* iki tarih arası fark bulmak"
   ]
  },
  {
   "cell_type": "code",
   "execution_count": 93,
   "metadata": {},
   "outputs": [
    {
     "name": "stdout",
     "output_type": "stream",
     "text": [
      "14667 days, 0:58:01.778889\n",
      "14667\n"
     ]
    }
   ],
   "source": [
    "simdi = datetime.now()\n",
    "birthday = datetime(1983, 5, 9, 12,30,10)\n",
    "#--- önceki bilgiler yukarısı\n",
    "\n",
    "\n",
    "result = simdi - birthday   # timedelta objesi\n",
    "print(result)\n",
    "\n",
    "# iki farklı tarihin farkını alınca farklı bir obje getiriyor farklı bir class dan türetilen bir obje geliyor\n",
    "# bunun anlamı timedelta üzerinde gelen bilgiler üzerinden farklı bilgilere ulaşabilirsiniz.\n",
    "\n",
    "# mesela...\n",
    "result = result.days        # fark işleminin sonucunun sadece gün bilgisini verir\n",
    "print(result)\n",
    "\n",
    "      # fark işleminin sonucunun sadece gün bilgisini verir\n",
    "\n",
    "# result.days   : sadece gün bilgisi\n",
    "# result.seconds : sadece saniye bilgisi\n",
    "# result.microseconds  : sadece mikrosaniye bilgisi"
   ]
  },
  {
   "attachments": {},
   "cell_type": "markdown",
   "metadata": {},
   "source": [
    "* ileri bir tarihi bulmak istiyorsak timedelta yı import etmeliyiz"
   ]
  },
  {
   "cell_type": "code",
   "execution_count": null,
   "metadata": {},
   "outputs": [],
   "source": [
    "from datetime import timedelta"
   ]
  }
 ],
 "metadata": {
  "kernelspec": {
   "display_name": "Python 3",
   "language": "python",
   "name": "python3"
  },
  "language_info": {
   "codemirror_mode": {
    "name": "ipython",
    "version": 3
   },
   "file_extension": ".py",
   "mimetype": "text/x-python",
   "name": "python",
   "nbconvert_exporter": "python",
   "pygments_lexer": "ipython3",
   "version": "3.11.1"
  },
  "orig_nbformat": 4
 },
 "nbformat": 4,
 "nbformat_minor": 2
}
