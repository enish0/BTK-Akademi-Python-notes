{
 "cells": [
  {
   "cell_type": "markdown",
   "metadata": {},
   "source": [
    "# Numpy dizileri ile çalışmak"
   ]
  },
  {
   "cell_type": "code",
   "execution_count": 50,
   "metadata": {},
   "outputs": [
    {
     "name": "stdout",
     "output_type": "stream",
     "text": [
      "[1 3 5 7 9]\n",
      "[1 2 3 4 5 6 7 8 9]\n",
      "[10 13 16 19 22 25 28 31 34 37 40 43 46 49 52 55 58 61 64 67 70 73 76 79\n",
      " 82 85 88 91 94 97]\n",
      "[0. 0. 0. 0. 0. 0. 0. 0. 0. 0.]\n",
      "[1. 1. 1. 1. 1. 1. 1. 1. 1. 1.]\n",
      "[  0.  25.  50.  75. 100.]\n",
      "[0.   1.25 2.5  3.75 5.  ]\n",
      "7\n",
      "6\n",
      "[6 2 1]\n",
      "[0.55417062 0.57893815 0.96764302 0.65139098 0.1297609 ]\n",
      "[ 0.70000535 -1.11959948 -1.69318927  1.24324397  0.6602226 ]\n"
     ]
    }
   ],
   "source": [
    "import numpy as np\n",
    "\n",
    "# dizi oluşturalım\n",
    "result = np.array([1,3,5,7,9])\n",
    "print(result)\n",
    "\n",
    "# peki elemanları kendimiz belirtmek istemediğimiz zaman...\n",
    "result = np.arange(1,10)    # range metodunu hatırla onun gibi\n",
    "print(result)\n",
    "\n",
    "# 10 ile 100 arası vir veri olsun ve artış miktarı 3 olsun\n",
    "result = np.arange(10,100,3)\n",
    "print(result)\n",
    "\n",
    "# sıfırlardan oluşsun istersek veri grubu\n",
    "result = np.zeros(10)\n",
    "print(result)   # 10 tane sıfırı yan yana koyar\n",
    "            #not her bir elemanı float bir değere karşılık geliyor dikkat et\n",
    "\n",
    "# birlerden oluşan bir veri olsun istersek\n",
    "result = np.ones(10)\n",
    "print(result)\n",
    "            #not her bir elemanı float bir değere karşılık geliyor dikkat et\n",
    "\n",
    "# belli bir aralıkta ve eşit bir artışa sahip dizi oluşturalım\n",
    "result = np.linspace(0,100,5)   # 5 eşit parçaya bölsün\n",
    "print(result)\n",
    "\n",
    "# başka bir örnek daha\n",
    "result = np.linspace(0,5,5)\n",
    "print(result)\n",
    "\n",
    "# sıfırla 9 arası bir sayı üretir. her çalıştırmada farklı\n",
    "result = np.random.randint(0,10)\n",
    "print(result)\n",
    "\n",
    "# sadece üst değeri verirsen sıfırdan o değere kadar alır\n",
    "result = np.random.randint(20)\n",
    "print(result)\n",
    "\n",
    "# bir ile 10 arası sayılardan rastgele 3 ünü versin bize\n",
    "result = np.random.randint(1,10,3)\n",
    "print(result)\n",
    "\n",
    "# sıfırla bir arasında beş sayı üretsin\n",
    "result = np.random.rand(5)\n",
    "print(result)\n",
    "\n",
    "# yukarıdakinin - değerler de katılmış hali\n",
    "result = np.random.randn(5)\n",
    "print(result)"
   ]
  },
  {
   "cell_type": "code",
   "execution_count": 53,
   "metadata": {},
   "outputs": [
    {
     "name": "stdout",
     "output_type": "stream",
     "text": [
      "[[ 0  1  2  3  4  5  6  7  8  9]\n",
      " [10 11 12 13 14 15 16 17 18 19]\n",
      " [20 21 22 23 24 25 26 27 28 29]\n",
      " [30 31 32 33 34 35 36 37 38 39]\n",
      " [40 41 42 43 44 45 46 47 48 49]]\n",
      "[ 45 145 245 345 445]\n",
      "[100 105 110 115 120 125 130 135 140 145]\n"
     ]
    }
   ],
   "source": [
    "import numpy as np\n",
    "\n",
    "# 5 e 10 luk bir matris oluşturuyoruz\n",
    "np_array = np.arange(50)\n",
    "result = np_array.reshape(5,10)\n",
    "\n",
    "print(result)\n",
    "\n",
    "# satırların toplamını hesaplatalım\n",
    "print(result.sum(axis=1))\n",
    "\n",
    "# axis= 0 yaparsak sütunların toplamını verir\n",
    "print(result.sum(axis=0))"
   ]
  },
  {
   "cell_type": "code",
   "execution_count": 66,
   "metadata": {},
   "outputs": [
    {
     "name": "stdout",
     "output_type": "stream",
     "text": [
      "[12 70 54 82 51 57 19 11 64 85]\n",
      "85\n",
      "11\n",
      "9\n",
      "7\n"
     ]
    }
   ],
   "source": [
    "# bir ile 100 arası 10 tane sayı üretelim\n",
    "random_numbers = np.random.randint(1,100,10)\n",
    "print(random_numbers)\n",
    "\n",
    "# yukarıdaki üretilen sayılardan en büyüğü hangisi...\n",
    "result_max = random_numbers.max()\n",
    "print(result_max)\n",
    "\n",
    "# en küçüğü hangisi...\n",
    "result_min = random_numbers.min()\n",
    "print(result_min)\n",
    "\n",
    "# üretilen sayılardan en büyük olanın index numarasını bana ver\n",
    "result = random_numbers.argmax()\n",
    "print(result)\n",
    "\n",
    "# bu sefer en küçüğünün index numarasını ver\n",
    "result = random_numbers.argmin()\n",
    "print(result)"
   ]
  }
 ],
 "metadata": {
  "kernelspec": {
   "display_name": "Python 3",
   "language": "python",
   "name": "python3"
  },
  "language_info": {
   "codemirror_mode": {
    "name": "ipython",
    "version": 3
   },
   "file_extension": ".py",
   "mimetype": "text/x-python",
   "name": "python",
   "nbconvert_exporter": "python",
   "pygments_lexer": "ipython3",
   "version": "3.11.1"
  },
  "orig_nbformat": 4
 },
 "nbformat": 4,
 "nbformat_minor": 2
}
