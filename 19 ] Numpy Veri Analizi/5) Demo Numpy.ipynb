{
 "cells": [
  {
   "cell_type": "markdown",
   "metadata": {},
   "source": [
    "# Demo Numpy"
   ]
  },
  {
   "cell_type": "markdown",
   "metadata": {},
   "source": [
    "        1- (10,15,30,45,60) değerlerine sahip numpy dizisi oluşturunuz."
   ]
  },
  {
   "cell_type": "code",
   "execution_count": 1,
   "metadata": {},
   "outputs": [
    {
     "name": "stdout",
     "output_type": "stream",
     "text": [
      "[10 15 30 45 60]\n"
     ]
    }
   ],
   "source": [
    "import numpy as np\n",
    "\n",
    "numbers = np.array([10,15,30,45,60])\n",
    "print(numbers)"
   ]
  },
  {
   "cell_type": "markdown",
   "metadata": {},
   "source": [
    "        2- (5-15) arasındaki sayılarla numpy dizisi oluşturunuz."
   ]
  },
  {
   "cell_type": "code",
   "execution_count": 8,
   "metadata": {},
   "outputs": [
    {
     "name": "stdout",
     "output_type": "stream",
     "text": [
      "[ 6  7  8  9 10 11 12 13 14]\n"
     ]
    }
   ],
   "source": [
    "import numpy as np\n",
    "\n",
    "numbers = np.arange(6,15)\n",
    "print(numbers)"
   ]
  },
  {
   "cell_type": "markdown",
   "metadata": {},
   "source": [
    "        3- (50-100) arasında 5'er 5'er artarak numpy dizisi oluşturunuz."
   ]
  },
  {
   "cell_type": "code",
   "execution_count": 9,
   "metadata": {},
   "outputs": [
    {
     "name": "stdout",
     "output_type": "stream",
     "text": [
      "[50 55 60 65 70 75 80 85 90 95]\n"
     ]
    }
   ],
   "source": [
    "import numpy as np\n",
    "\n",
    "numbers = np.arange(50,100,5)\n",
    "print(numbers)"
   ]
  },
  {
   "cell_type": "markdown",
   "metadata": {},
   "source": [
    "        4- 10 elemanlı sıfırlardan oluşan bir dizi oluşturunuz."
   ]
  },
  {
   "cell_type": "code",
   "execution_count": 10,
   "metadata": {},
   "outputs": [
    {
     "name": "stdout",
     "output_type": "stream",
     "text": [
      "[0. 0. 0. 0. 0. 0. 0. 0. 0. 0.]\n"
     ]
    }
   ],
   "source": [
    "import numpy as np\n",
    "\n",
    "numbers = np.zeros(10)\n",
    "print(numbers)"
   ]
  },
  {
   "cell_type": "markdown",
   "metadata": {},
   "source": [
    "        5- 10 elemanlı birlerden oluşan bir dizi oluşturunuz."
   ]
  },
  {
   "cell_type": "code",
   "execution_count": 11,
   "metadata": {},
   "outputs": [
    {
     "name": "stdout",
     "output_type": "stream",
     "text": [
      "[1. 1. 1. 1. 1. 1. 1. 1. 1. 1.]\n"
     ]
    }
   ],
   "source": [
    "import numpy as np\n",
    "\n",
    "numbers = np.ones(10)\n",
    "print(numbers)"
   ]
  },
  {
   "cell_type": "markdown",
   "metadata": {},
   "source": [
    "        6- (0-100) arasında eşit aralıklı 5 sayı üretin."
   ]
  },
  {
   "cell_type": "code",
   "execution_count": 30,
   "metadata": {},
   "outputs": [
    {
     "name": "stdout",
     "output_type": "stream",
     "text": [
      "[  0.  25.  50.  75. 100.]\n"
     ]
    }
   ],
   "source": [
    "import numpy as np\n",
    "\n",
    "numbers = np.linspace(0,100,5)\n",
    "print(numbers)"
   ]
  },
  {
   "cell_type": "markdown",
   "metadata": {},
   "source": [
    "        7- (10-30) arasında rastgele 5 tane tamsayı üretin."
   ]
  },
  {
   "cell_type": "code",
   "execution_count": 33,
   "metadata": {},
   "outputs": [
    {
     "name": "stdout",
     "output_type": "stream",
     "text": [
      "[26 19 26 20 27]\n"
     ]
    }
   ],
   "source": [
    "import numpy as np\n",
    "\n",
    "numbers = np.random.randint(10,30,5)\n",
    "print(numbers)"
   ]
  },
  {
   "cell_type": "markdown",
   "metadata": {},
   "source": [
    "        8- [-1 ile 1 ] arasında 10 adet sayı üretin."
   ]
  },
  {
   "cell_type": "code",
   "execution_count": 37,
   "metadata": {},
   "outputs": [
    {
     "name": "stdout",
     "output_type": "stream",
     "text": [
      "[ 0.48022981 -0.48266361  0.01696774  0.4254545   0.59171291 -0.43292186\n",
      " -0.62505908  0.9069334  -0.93331987 -0.17241058]\n"
     ]
    }
   ],
   "source": [
    "import numpy as np\n",
    "\n",
    "numbers = np.random.randn(10)\n",
    "print(numbers)"
   ]
  },
  {
   "cell_type": "markdown",
   "metadata": {},
   "source": [
    "        9- (3x5) boyutlarında (10-50) arasında rastgele bir matris oluşturunuz."
   ]
  },
  {
   "cell_type": "code",
   "execution_count": 41,
   "metadata": {},
   "outputs": [
    {
     "name": "stdout",
     "output_type": "stream",
     "text": [
      "[[27 42 24 24 28]\n",
      " [35 12 25 40 48]\n",
      " [37 18 32 30 34]]\n"
     ]
    }
   ],
   "source": [
    "matris = np.random.randint(10,50,15).reshape(3,5)\n",
    "print(matris)"
   ]
  },
  {
   "cell_type": "markdown",
   "metadata": {},
   "source": [
    "        10- üretilen matrisin satır ve sütun sayıları toplamlarını hesaplayınız?    "
   ]
  },
  {
   "cell_type": "code",
   "execution_count": 42,
   "metadata": {},
   "outputs": [
    {
     "name": "stdout",
     "output_type": "stream",
     "text": [
      "[[20 43 16 11 10]\n",
      " [34 11 16 14 28]\n",
      " [33 47 37 16 21]]\n",
      "[100 103 154]\n",
      "[ 87 101  69  41  59]\n"
     ]
    }
   ],
   "source": [
    "matris = np.random.randint(10,50,15).reshape(3,5)\n",
    "print(matris)\n",
    "\n",
    "###-----\n",
    "\n",
    "satirToplam = matris.sum(axis=1)\n",
    "kolonToplam = matris.sum(axis=0)\n",
    "\n",
    "print(satirToplam)\n",
    "print(kolonToplam)"
   ]
  },
  {
   "cell_type": "markdown",
   "metadata": {},
   "source": [
    "        11- üretilen matrisin en büyük, en küçük ve ortalaması nedir?"
   ]
  },
  {
   "cell_type": "code",
   "execution_count": 3,
   "metadata": {},
   "outputs": [
    {
     "name": "stdout",
     "output_type": "stream",
     "text": [
      "[[31 32 24 34 48]\n",
      " [26 31 38 25 47]\n",
      " [15 27 41 35 47]]\n",
      "48\n",
      "15\n",
      "33.4\n"
     ]
    }
   ],
   "source": [
    "matris = np.random.randint(10,50,15).reshape(3,5)\n",
    "print(matris)\n",
    "\n",
    "###-----\n",
    "\n",
    "result = matris.max()\n",
    "print(result)\n",
    "\n",
    "result = matris.min()\n",
    "print(result)\n",
    "\n",
    "# ortalama bulalım\n",
    "result = matris.mean()\n",
    "print(result)"
   ]
  },
  {
   "cell_type": "markdown",
   "metadata": {},
   "source": [
    "        12- Üretilen matrisin en büyük değerinin indeksi kaçtır ?"
   ]
  },
  {
   "cell_type": "code",
   "execution_count": 4,
   "metadata": {},
   "outputs": [
    {
     "name": "stdout",
     "output_type": "stream",
     "text": [
      "[[38 11 15 33 26]\n",
      " [41 29 37 15 36]\n",
      " [21 35 23 33 46]]\n",
      "14\n",
      "1\n"
     ]
    }
   ],
   "source": [
    "import numpy as np\n",
    "\n",
    "matris = np.random.randint(10,50,15).reshape(3,5)\n",
    "print(matris)\n",
    "\n",
    "###---matris ürettik--\n",
    "\n",
    "result = matris.argmax()\n",
    "print(result)\n",
    "\n",
    "result = matris.argmin()\n",
    "print(result)"
   ]
  },
  {
   "cell_type": "markdown",
   "metadata": {},
   "source": [
    "        13 - (10-20) arasındaki sayıları içeren dizinin ilk 3 elemanını seçiniz."
   ]
  },
  {
   "cell_type": "code",
   "execution_count": null,
   "metadata": {},
   "outputs": [],
   "source": [
    "# bir dizi tanımlayalım\n",
    "arr = np.arange(10,20)  # arr diye salladık\n",
    "print(arr)\n",
    "# ilk 3 elemanını seçelim\n",
    "result = arr[0:3]\n",
    "print(result)"
   ]
  },
  {
   "cell_type": "markdown",
   "metadata": {},
   "source": [
    "        14 - Üretilen dizinin elemanlarını tersten yazdırınız."
   ]
  },
  {
   "cell_type": "code",
   "execution_count": 6,
   "metadata": {},
   "outputs": [
    {
     "name": "stdout",
     "output_type": "stream",
     "text": [
      "[10 11 12 13 14 15 16 17 18 19]\n",
      "[19 18 17 16 15 14 13 12 11 10]\n"
     ]
    }
   ],
   "source": [
    "arr = np.arange(10,20)  # arr diye salladık\n",
    "print(arr)\n",
    "#----yukarısı aynı\n",
    "\n",
    "result = arr[::-1]   # iki nokta anlamı --> tüm elemanları seç\n",
    "                    # -1 anlamı --> teker teker al. (- olunca tersten teker teker)\n",
    "print(result)"
   ]
  },
  {
   "cell_type": "markdown",
   "metadata": {},
   "source": [
    "        15 - Üretilen matrisin ilk satırını seçiniz."
   ]
  },
  {
   "cell_type": "code",
   "execution_count": 8,
   "metadata": {},
   "outputs": [
    {
     "name": "stdout",
     "output_type": "stream",
     "text": [
      "[[25 16 11 13 15]\n",
      " [16 13 15 15 42]\n",
      " [44 22 32 29 19]]\n",
      "sa\n",
      "[25 16 11 13 15]\n"
     ]
    }
   ],
   "source": [
    "matris = np.random.randint(10,50,15).reshape(3,5)\n",
    "print(matris)\n",
    "\n",
    "###-----önceden ürettiğimiz matris\n",
    "\n",
    "result = matris[0]\n",
    "print(\"sa\")\n",
    "print(result)"
   ]
  },
  {
   "cell_type": "markdown",
   "metadata": {},
   "source": [
    "        16 - Üretilen matrisin 2. satır 3. sütunundaki elemanı hangisidir?"
   ]
  },
  {
   "cell_type": "code",
   "execution_count": 9,
   "metadata": {},
   "outputs": [
    {
     "name": "stdout",
     "output_type": "stream",
     "text": [
      "[[23 15 28 44 27]\n",
      " [27 39 17 27 46]\n",
      " [29 10 10 21 27]]\n",
      "sa\n",
      "17\n"
     ]
    }
   ],
   "source": [
    "matris = np.random.randint(10,50,15).reshape(3,5)\n",
    "print(matris)\n",
    "\n",
    "###-----önceden ürettiğimiz matris\n",
    "\n",
    "result = matris[1,2]\n",
    "print(\"sa\")\n",
    "print(result)"
   ]
  },
  {
   "cell_type": "markdown",
   "metadata": {},
   "source": [
    "        17 - Üretilen matrisin tüm satırlarındaki ilk elemanı seçiniz."
   ]
  },
  {
   "cell_type": "code",
   "execution_count": 12,
   "metadata": {},
   "outputs": [
    {
     "name": "stdout",
     "output_type": "stream",
     "text": [
      "[[44 35 23 19 45]\n",
      " [19 39 47 14 33]\n",
      " [39 14 20 30 10]]\n",
      "sa\n",
      "[44 19 39]\n"
     ]
    }
   ],
   "source": [
    "matris = np.random.randint(10,50,15).reshape(3,5)\n",
    "print(matris)\n",
    "\n",
    "###-----önceden ürettiğimiz matris\n",
    "\n",
    "result = matris[::,0]\n",
    "print(\"sa\")\n",
    "print(result)"
   ]
  },
  {
   "cell_type": "markdown",
   "metadata": {},
   "source": [
    "        18 - Üretilen matrisin her bir elemanının karesini alınız."
   ]
  },
  {
   "cell_type": "code",
   "execution_count": 14,
   "metadata": {},
   "outputs": [
    {
     "name": "stdout",
     "output_type": "stream",
     "text": [
      "[[28 19 40 48 46]\n",
      " [29 15 12 41 33]\n",
      " [43 46 28 41 13]]\n",
      "sa\n",
      "[[ 784  361 1600 2304 2116]\n",
      " [ 841  225  144 1681 1089]\n",
      " [1849 2116  784 1681  169]]\n"
     ]
    }
   ],
   "source": [
    "matris = np.random.randint(10,50,15).reshape(3,5)\n",
    "print(matris)\n",
    "\n",
    "###-----önceden ürettiğimiz matris\n",
    "\n",
    "result = matris ** 2\n",
    "print(\"sa\")\n",
    "print(result)"
   ]
  },
  {
   "cell_type": "markdown",
   "metadata": {},
   "source": [
    "        19 - Üretilen matris elemanlarının hangisi pozitif çift sayıdır ?\n",
    "                Aralığı (-50,+50) arasında yapınız."
   ]
  },
  {
   "cell_type": "code",
   "execution_count": 37,
   "metadata": {},
   "outputs": [
    {
     "name": "stdout",
     "output_type": "stream",
     "text": [
      "[[-25 -50 -20  13 -49]\n",
      " [ 16  46  41 -44 -38]\n",
      " [-31 -43  39 -19   2]]\n",
      "[16 46  2]\n"
     ]
    }
   ],
   "source": [
    "matris = np.random.randint(-50,50,15).reshape(3,5)\n",
    "print(matris)\n",
    "\n",
    "###----matrisi değiştirip -50,50 yaptık busefer\n",
    "result_cift = matris[matris %2 == 0] # bu şekilde yaparsak istediğimiz (true değerler) bilgileri geri döndürüyor sadece\n",
    "result = result_cift[result_cift > 0]\n",
    "print(result)\n"
   ]
  }
 ],
 "metadata": {
  "kernelspec": {
   "display_name": "Python 3",
   "language": "python",
   "name": "python3"
  },
  "language_info": {
   "codemirror_mode": {
    "name": "ipython",
    "version": 3
   },
   "file_extension": ".py",
   "mimetype": "text/x-python",
   "name": "python",
   "nbconvert_exporter": "python",
   "pygments_lexer": "ipython3",
   "version": "3.11.1"
  },
  "orig_nbformat": 4
 },
 "nbformat": 4,
 "nbformat_minor": 2
}
