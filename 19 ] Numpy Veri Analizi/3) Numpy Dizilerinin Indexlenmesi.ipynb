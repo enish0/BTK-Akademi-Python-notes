{
 "cells": [
  {
   "cell_type": "markdown",
   "metadata": {},
   "source": [
    "# Numpy Dizilerinin Indexlenmesi"
   ]
  },
  {
   "cell_type": "code",
   "execution_count": 10,
   "metadata": {},
   "outputs": [
    {
     "name": "stdout",
     "output_type": "stream",
     "text": [
      "25\n",
      "15\n",
      "[ 0  5 10]\n",
      "[15 20 25 50 75]\n",
      "[ 0  5 10 15 20 25 50 75]\n",
      "[75 50 25 20 15 10  5  0]\n"
     ]
    }
   ],
   "source": [
    "import numpy as np\n",
    "\n",
    "# numpy dizisi oluşturup elemanlarını kendimiz tanımlayalım\n",
    "numbers = np.array([0,5,10,15,20,25,50,75])\n",
    "\n",
    "# burdaki oluşturduğumuz tek boyutlu liste elemanlarına ulaşmaya çalışalım\n",
    "result = numbers[5]     # 5. indexe ulaşırız\n",
    "print(result)\n",
    "\n",
    "# en sağdan başlayıp 5. indexe ulaşalım bu seferde\n",
    "result = numbers[-5]\n",
    "print(result)\n",
    "\n",
    "# sıfır ile 3 arası değerleri yazdırmak istersek\n",
    "result = numbers[0:3]\n",
    "print(result)\n",
    "\n",
    "# 3. indexten başla ve sona kadar git demiş olsak\n",
    "result = numbers[3:]\n",
    "print(result)\n",
    "\n",
    "# tüm listeyi istersek\n",
    "result = numbers[::]\n",
    "print(result)\n",
    "\n",
    "# tüm listeyi ters çevirmek istersek\n",
    "result = numbers[::-1]      # 3. parametre adım sayısıdır adım sayısını -1 yaparsak birer birer tersten gel demek olur\n",
    "print(result)"
   ]
  },
  {
   "cell_type": "markdown",
   "metadata": {},
   "source": [
    "#### iki boyutlu bir dizi oluşturalım"
   ]
  },
  {
   "cell_type": "code",
   "execution_count": 39,
   "metadata": {},
   "outputs": [
    {
     "name": "stdout",
     "output_type": "stream",
     "text": [
      "[[ 0  5 10]\n",
      " [15 20 25]\n",
      " [50 75 85]]\n",
      "[ 0  5 10]\n",
      "[50 75 85]\n",
      "10\n",
      "75\n",
      "[10 25 85]\n",
      "[ 0 15 50]\n",
      "[[ 0  5]\n",
      " [15 20]\n",
      " [50 75]]\n",
      "[50 75 85]\n",
      "[[ 0  5]\n",
      " [15 20]]\n"
     ]
    }
   ],
   "source": [
    "import numpy as np\n",
    "numbers = np.array([[0,5,10],[15,20,25],[50,75,85]])\n",
    "print(numbers)\n",
    "\n",
    "# numbers ın sıfırıncı indexindeki elemana ulaşmaya çalışalım\n",
    "result = numbers[0]\n",
    "print(result)   # ilk grup 0. indexmiş yani\n",
    "\n",
    "# ikinci indexteki elemana ulaşalım\n",
    "result = numbers[2]\n",
    "print(result)\n",
    "\n",
    "# bu her bir indexteki elemanlar bir nevi satır da oluyor aynı zamanda\n",
    "\n",
    "\n",
    "# birinci indexteki grubun içindeki  elemanları alalım bu sefer.\n",
    "result = numbers[0,2]\n",
    "print(result)   # 0. indexteki grubun içinden 2. indexin elemanını aldı\n",
    "\n",
    "# bu sefer 2. indexteki grubun 1. indexini alalım\n",
    "result = numbers[2,1]\n",
    "print(result)\n",
    "\n",
    "# [:] dersek tüm satırları seçmiş oluruz\n",
    "# [:,2] dersek eğer seçtiğimiz tüm satırlardan ikinci kolonu alsın demiş oluruz\n",
    "result = numbers[:,2]\n",
    "print(result)\n",
    "\n",
    "# bu sefer ilk kolonu getirelim\n",
    "result = numbers[:,0]\n",
    "print(result)\n",
    "\n",
    "# yine tüm satırları seç ama 0 ile 2. index arası elemanları al\n",
    "result = numbers[:,0:2]\n",
    "print(result)\n",
    "\n",
    "# başına -1, koyarak son satırı seçsin anlamı veriyoruz\n",
    "result = numbers[-1,:]\n",
    "print(result)\n",
    "\n",
    "# 2 dahil deil o nedenle 0 ile 1. indexdeki kolon ve satırları aldık\n",
    "result = numbers[:2,:2]\n",
    "print(result)"
   ]
  },
  {
   "cell_type": "code",
   "execution_count": 44,
   "metadata": {},
   "outputs": [
    {
     "name": "stdout",
     "output_type": "stream",
     "text": [
      "[0 1 2 3 4 5 6 7 8 9]\n",
      "[0 1 2 3 4 5 6 7 8 9]\n",
      "[20  1  2  3  4  5  6  7  8  9]\n",
      "[20  1  2  3  4  5  6  7  8  9]\n"
     ]
    }
   ],
   "source": [
    "import numpy as np\n",
    "\n",
    "arr1 = np.arange(0,10)\n",
    "arr2 = arr1 # referans kopyalama yapmıs olduk\n",
    "\n",
    "print(arr1)\n",
    "print(arr2)\n",
    "\n",
    "# arr2 üzerinden herhangi bir elemana ulaşmaya çalışalım\n",
    "\n",
    "# arr2  üzerindeki 0. indexi 20 ile değiştirmeyi deneyelim\n",
    "arr2[0] = 20\n",
    "print(arr1)\n",
    "print(arr2)\n",
    "    # arr2 üzerinde yaptığımız değişiklik arr1 ide etkiledi çünkü aynı adresteki veriler üzerinde değişikliğe tabi tuttuk\n"
   ]
  },
  {
   "cell_type": "markdown",
   "metadata": {},
   "source": [
    "yukarıda yaptığımız referans kopyalaması yerine arr1 üzerinden \n",
    "\n",
    "        copy()\n",
    "\n",
    "metodu aracılığı ile bir kopyalama işlemi yapabilirim.\n",
    "bunu yaptığımda arr1 ve arr2 için farklı adresler olacak."
   ]
  },
  {
   "cell_type": "code",
   "execution_count": 45,
   "metadata": {},
   "outputs": [
    {
     "name": "stdout",
     "output_type": "stream",
     "text": [
      "[0 1 2 3 4 5 6 7 8 9]\n",
      "[0 1 2 3 4 5 6 7 8 9]\n",
      "[0 1 2 3 4 5 6 7 8 9]\n",
      "[20  1  2  3  4  5  6  7  8  9]\n"
     ]
    }
   ],
   "source": [
    "import numpy as np\n",
    "\n",
    "arr1 = np.arange(0,10)\n",
    "arr2 = arr1.copy()\n",
    "\n",
    "print(arr1)\n",
    "print(arr2)\n",
    "\n",
    "# yine arr2 üzerinden herhangi bir elemana ulaşmaya çalışalım\n",
    "\n",
    "# yine arr2  üzerindeki 0. indexi 20 ile değiştirmeyi deneyelim\n",
    "arr2[0] = 20\n",
    "print(arr1)\n",
    "print(arr2) \n",
    "        # bu sefer adresler farklı olduğu için arr1 etkilenmedi sadece arr2 etkilendi"
   ]
  }
 ],
 "metadata": {
  "kernelspec": {
   "display_name": "Python 3",
   "language": "python",
   "name": "python3"
  },
  "language_info": {
   "codemirror_mode": {
    "name": "ipython",
    "version": 3
   },
   "file_extension": ".py",
   "mimetype": "text/x-python",
   "name": "python",
   "nbconvert_exporter": "python",
   "pygments_lexer": "ipython3",
   "version": "3.11.1"
  },
  "orig_nbformat": 4
 },
 "nbformat": 4,
 "nbformat_minor": 2
}
