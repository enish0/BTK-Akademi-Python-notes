{
 "cells": [
  {
   "cell_type": "markdown",
   "metadata": {},
   "source": [
    "# Numpy Nedir?\n",
    "\n",
    "elimizde çok büyük sayıda veri var ise bu verileri numpy objeleri içerisine alıp bu şekilde kullanmak için böyle bir şey var\n",
    "\n",
    "artıları\n",
    "+ daha az yer kaplıyor\n",
    "+ çok daha hızlı çalışıyorlar"
   ]
  },
  {
   "cell_type": "markdown",
   "metadata": {},
   "source": [
    "        np.array()"
   ]
  },
  {
   "cell_type": "code",
   "execution_count": 2,
   "metadata": {},
   "outputs": [
    {
     "name": "stdout",
     "output_type": "stream",
     "text": [
      "<class 'list'>\n",
      "<class 'numpy.ndarray'>\n"
     ]
    }
   ],
   "source": [
    "py_list = [1,2,3,4,5,6,7,8,9]\n",
    "# bu normal bir python listesi numpy de ise listeye array diyeceğiz\n",
    "\n",
    "import numpy as np  # numpy kütüphanesine takma isim verdik\n",
    "\n",
    "# numpy array\n",
    "np_array_objemiz = np.array([1,2,3,4]) # köşeli parantez kullanmamızın nedeni parametre olarak sadece bir liste gönderdik anlamı vermek için\n",
    "\n",
    "# bu iki objenin tipini öğrenelim\n",
    "print(type(py_list))\n",
    "print(type(np_array_objemiz))\n"
   ]
  },
  {
   "cell_type": "markdown",
   "metadata": {},
   "source": [
    "yukarıda oluşturduğumuz ve tipini sorguladığımız np_array_objemiz bir tek boyutlu dizi idi.\n",
    "\n",
    "#### peki çok boyutlu bir dizi oluşturmak istersek..\n",
    "\n",
    "        np.reshape()"
   ]
  },
  {
   "cell_type": "code",
   "execution_count": 21,
   "metadata": {},
   "outputs": [
    {
     "name": "stdout",
     "output_type": "stream",
     "text": [
      "[[1, 2, 3], [4, 5, 6], [7, 8, 9]]\n",
      "[[1 2 3]\n",
      " [4 5 6]\n",
      " [7 8 9]]\n",
      "1\n",
      "2\n",
      "(9,)\n",
      "(3, 3)\n"
     ]
    }
   ],
   "source": [
    "# python listesi ile yapacak olsaydık\n",
    "py_multi = [[1,2,3],[4,5,6],[7,8,9]]\n",
    "\n",
    "# numpy array ile...\n",
    "np_array = np.array([1,2,3,4,5,6,7,8,9])\n",
    "np_multi = np_array.reshape(3,3) # mesela 9 elemanlı bir liste ise 3 e 3 lük bir matris oluşturuyoruz (3 satır ve 3 kolondan oluşan bir dizi yapısı)\n",
    "\n",
    "# ekrana yazdıralım\n",
    "print(py_multi)\n",
    "print(np_multi)\n",
    "\n",
    "# bu dizilerin çok boyutlu mu tek boyutlu mu olduğunu yazdıralım.\n",
    "print(np_array.ndim)\n",
    "print(np_multi.ndim)\n",
    "\n",
    "# shape lerine bakalım\n",
    "print(np_array.shape)   # (9,) tek boyutlu olduğunu ima eder\n",
    "print(np_multi.shape)   # 3 e 3 lük bir matris olduğunu söyler"
   ]
  }
 ],
 "metadata": {
  "kernelspec": {
   "display_name": "Python 3",
   "language": "python",
   "name": "python3"
  },
  "language_info": {
   "codemirror_mode": {
    "name": "ipython",
    "version": 3
   },
   "file_extension": ".py",
   "mimetype": "text/x-python",
   "name": "python",
   "nbconvert_exporter": "python",
   "pygments_lexer": "ipython3",
   "version": "3.11.1"
  },
  "orig_nbformat": 4
 },
 "nbformat": 4,
 "nbformat_minor": 2
}
