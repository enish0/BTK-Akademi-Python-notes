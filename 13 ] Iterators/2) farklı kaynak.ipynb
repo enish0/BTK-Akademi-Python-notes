{
 "cells": [
  {
   "attachments": {},
   "cell_type": "markdown",
   "metadata": {},
   "source": [
    "#  FARKLI KAYNAK DERS 39: ITERATORS"
   ]
  },
  {
   "attachments": {},
   "cell_type": "markdown",
   "metadata": {},
   "source": [
    "        iteration:\n",
    "liste elemanlarını teker teker ziyaret etme işlemi\n",
    "        \n",
    "        iterable:\n",
    "üzerinde adımlama yapılabilen nesneler. örnek listeler\n",
    "(döngülerle kullanabileceğimiz tüm nesneler)\n",
    "\n",
    "        iterator:\n",
    "adımlama işlemini yapan nesne. tüm elemanları teker teker dolaşır ancak nerde kaldığını unutmaz. eleman kalmayınca döngü sonlanır"
   ]
  },
  {
   "cell_type": "code",
   "execution_count": null,
   "metadata": {},
   "outputs": [],
   "source": [
    "sayılar = [1, 2, 3]  # iterable dır çünkü bir döngü ile kullanabildik."
   ]
  },
  {
   "attachments": {},
   "cell_type": "markdown",
   "metadata": {},
   "source": [
    "* tipini bilmediğimiz bir şeyin iterable olup olmadığını nasıl oğrenicez?"
   ]
  },
  {
   "cell_type": "code",
   "execution_count": 4,
   "metadata": {},
   "outputs": [
    {
     "name": "stdout",
     "output_type": "stream",
     "text": [
      "['__add__', '__class__', '__class_getitem__', '__contains__', '__delattr__', '__delitem__', '__dir__', '__doc__', '__eq__', '__format__', '__ge__', '__getattribute__', '__getitem__', '__getstate__', '__gt__', '__hash__', '__iadd__', '__imul__', '__init__', '__init_subclass__', '__iter__', '__le__', '__len__', '__lt__', '__mul__', '__ne__', '__new__', '__reduce__', '__reduce_ex__', '__repr__', '__reversed__', '__rmul__', '__setattr__', '__setitem__', '__sizeof__', '__str__', '__subclasshook__', 'append', 'clear', 'copy', 'count', 'extend', 'index', 'insert', 'pop', 'remove', 'reverse', 'sort']\n"
     ]
    }
   ],
   "source": [
    "sayilar = [1, 2, 3]\n",
    "\n",
    "print(dir(sayilar)) # sayilar nesnesi ile kullanabileceğim metodları gösterir.\n",
    "\n",
    "# eğer burdaki gibi bir nesnenin içinde __iter__ metodu var ise o iterable dır ve döngülerle kullanılabilir."
   ]
  },
  {
   "attachments": {},
   "cell_type": "markdown",
   "metadata": {},
   "source": [
    "        peki bu \"__ iter __()\" metodu ne yapıyor?\n",
    "bir iterator geri döndürür"
   ]
  },
  {
   "cell_type": "code",
   "execution_count": 9,
   "metadata": {},
   "outputs": [
    {
     "name": "stdout",
     "output_type": "stream",
     "text": [
      "<class 'list_iterator'>\n"
     ]
    }
   ],
   "source": [
    "sayilar = [1,2,3]\n",
    "i_sayilar = sayilar.__iter__()\n",
    "\n",
    "print(type(i_sayilar))\n",
    "# listden bir iterator üretmiş olduk\n",
    "# terminal bunun bir list iterator classından olduğunu söyler. list iterator yapmış olduk listemizi.\n",
    "\n",
    "# iteratore çevirmek için aşağıdakini de yapabilirsin. daha güzel durması açısından\n",
    "i_sayilar = iter(sayilar)"
   ]
  },
  {
   "attachments": {},
   "cell_type": "markdown",
   "metadata": {},
   "source": [
    "        iteratoru iterator yapan nedir?\n",
    "\n",
    "cevap:\n",
    " \n",
    " mesela yukarıdaki listeyi iteratore cevirdik ve tipini sorguladığımızda class list_iterator dedi . şimdi yukardaki iteratoru dir komutu ile içindeki metodlara bakarsak içinde __ next __ metodunu görürüz."
   ]
  },
  {
   "cell_type": "code",
   "execution_count": 10,
   "metadata": {},
   "outputs": [
    {
     "name": "stdout",
     "output_type": "stream",
     "text": [
      "['__class__', '__delattr__', '__dir__', '__doc__', '__eq__', '__format__', '__ge__', '__getattribute__', '__getstate__', '__gt__', '__hash__', '__init__', '__init_subclass__', '__iter__', '__le__', '__length_hint__', '__lt__', '__ne__', '__new__', '__next__', '__reduce__', '__reduce_ex__', '__repr__', '__setattr__', '__setstate__', '__sizeof__', '__str__', '__subclasshook__']\n"
     ]
    }
   ],
   "source": [
    "sayilar = [1,2,3]\n",
    "i_sayilar = iter(sayilar)\n",
    "\n",
    "\n",
    "print(dir(i_sayilar))\n",
    "\n",
    "# metodlar arasında __next__ metodu var demekki bu bir iterator nesnesi\n",
    "\n",
    "# next metodu bir sonraki elemana nasıl geçeceğini söyleyen metoddur."
   ]
  },
  {
   "attachments": {},
   "cell_type": "markdown",
   "metadata": {},
   "source": [
    "* __ next__() nasıl kullanıcam"
   ]
  },
  {
   "cell_type": "code",
   "execution_count": 3,
   "metadata": {},
   "outputs": [
    {
     "name": "stdout",
     "output_type": "stream",
     "text": [
      "1\n",
      "2\n",
      "3\n"
     ]
    }
   ],
   "source": [
    "sayilar = [1,2,3]\n",
    "i_sayilar = iter(sayilar)   \n",
    "\n",
    "# next kullanmanın ilk yolu\n",
    "print(i_sayilar.__next__()) # 1 sayısını verir.\n",
    "print(i_sayilar.__next__()) # 2 sayisini verir. kaldığı yerden devam etti fark ettiysen\n",
    "\n",
    "# next kullanmanın ikinci yolu\n",
    "print(next(i_sayilar))\n",
    "\n",
    "# elemanlar bitti eğer bir kere daha yazarsam StopIteration hatası verir. Eleman\n",
    "#.. sayısından fazla yazılmaz hata verir."
   ]
  },
  {
   "attachments": {},
   "cell_type": "markdown",
   "metadata": {},
   "source": [
    "         yani biz bi döngü çalıştırdığımız zaman o döngü ilk önce o döngüde kullanılacak nesnenin iter metodunu çağırıyor\n",
    "\n",
    "örnek : i_sayilar = iter(sayilar)\n",
    "\n",
    "        sürekli next metodunu çağırıyor hata gelince de döngüden çıkıyor"
   ]
  },
  {
   "attachments": {},
   "cell_type": "markdown",
   "metadata": {},
   "source": [
    "#### Tüm bu sistemi manuel olarak yapmaya çalışalım"
   ]
  },
  {
   "cell_type": "code",
   "execution_count": 4,
   "metadata": {},
   "outputs": [
    {
     "name": "stdout",
     "output_type": "stream",
     "text": [
      "1\n",
      "2\n",
      "3\n"
     ]
    }
   ],
   "source": [
    "sayilar = [1, 2, 3]\n",
    "\n",
    "i_sayilar = iter(sayilar)   # i_sayilar nesnesini iterator yaptık çünkü\n",
    "                    # aşağıda next metodunu iteratore uygulayabiliriz ancak.\n",
    "\n",
    "while True:\n",
    "    try:\n",
    "        sayi = next(i_sayilar)  \n",
    "        print(sayi)\n",
    "    except StopIteration:\n",
    "        break   # yukarıdaki hatayı verince dur demek."
   ]
  },
  {
   "attachments": {},
   "cell_type": "markdown",
   "metadata": {},
   "source": [
    "Bir class oluşturalım ve orda oluşturduğumuz class ın iteratorunu oluşturalım"
   ]
  },
  {
   "cell_type": "code",
   "execution_count": 5,
   "metadata": {},
   "outputs": [
    {
     "name": "stdout",
     "output_type": "stream",
     "text": [
      "10\n",
      "11\n",
      "12\n",
      "13\n",
      "14\n",
      "15\n",
      "16\n",
      "17\n",
      "18\n",
      "19\n"
     ]
    }
   ],
   "source": [
    "class New_Range:\n",
    "    def __init__(self, start, end):\n",
    "        self.yazilacak = start\n",
    "        self.end = end\n",
    "\n",
    "        # ben bunun iterable olmasını ( döngülerle kullanılmasını istiyorsam) içinde bir\n",
    "        # iter metodu olmalı\n",
    "    def __iter__(self): # bu fonksiyonun bize bir iterator return etmesi gerek (not içinde next metodu olana iterator diyodukya)\n",
    "        return self\n",
    "    \n",
    "    def __next__(self):\n",
    "        if self.yazilacak >= self.end:\n",
    "            raise StopIteration\n",
    "        deger = self.yazilacak\n",
    "        self.yazilacak += 1\n",
    "        return deger\n",
    "\n",
    "\n",
    "sayilar = New_Range(10, 20)\n",
    "for i in sayilar:\n",
    "    print(i)"
   ]
  }
 ],
 "metadata": {
  "kernelspec": {
   "display_name": "Python 3",
   "language": "python",
   "name": "python3"
  },
  "language_info": {
   "codemirror_mode": {
    "name": "ipython",
    "version": 3
   },
   "file_extension": ".py",
   "mimetype": "text/x-python",
   "name": "python",
   "nbconvert_exporter": "python",
   "pygments_lexer": "ipython3",
   "version": "3.11.1"
  },
  "orig_nbformat": 4
 },
 "nbformat": 4,
 "nbformat_minor": 2
}
