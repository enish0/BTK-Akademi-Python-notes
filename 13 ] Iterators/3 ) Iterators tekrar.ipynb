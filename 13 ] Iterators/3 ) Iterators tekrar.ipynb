{
 "cells": [
  {
   "attachments": {},
   "cell_type": "markdown",
   "metadata": {},
   "source": [
    "# Iterators Tekrar"
   ]
  },
  {
   "cell_type": "code",
   "execution_count": 1,
   "metadata": {},
   "outputs": [
    {
     "name": "stdout",
     "output_type": "stream",
     "text": [
      "1\n"
     ]
    }
   ],
   "source": [
    "liste = [1,2,3,4,5]\n",
    "\n",
    "iterator = iter(liste)  # bir listeyi iteratore dönüştürme fonskiyonudur\n",
    "\n",
    "# iterable bir objeden ancak iteratore dönüştürülebilir. liste halinde olduğu için liste zaten iterable idi. ( yani list class ı içinde iter metodunu bulundurur)\n",
    "\n",
    "print(next(iterator))   # iteratorü next metoduna parametre olarak verince eleman \n",
    "                    # bizim karşımıza tek tek gelir \n",
    "\n",
    "# terminal 1 der ( ilk elemanı verdi)"
   ]
  },
  {
   "attachments": {},
   "cell_type": "markdown",
   "metadata": {},
   "source": [
    "* aşağıya doğru artırırsak son satırdakini?"
   ]
  },
  {
   "cell_type": "code",
   "execution_count": 2,
   "metadata": {},
   "outputs": [
    {
     "name": "stdout",
     "output_type": "stream",
     "text": [
      "1\n",
      "2\n",
      "3\n",
      "4\n"
     ]
    }
   ],
   "source": [
    "liste = [1,2,3,4,5]\n",
    "\n",
    "iterator = iter(liste)  \n",
    "\n",
    "print(next(iterator)) \n",
    "print(next(iterator))   # eklendi\n",
    "print(next(iterator))   # eklendi\n",
    "\n",
    "# her çağırdığımızda listenin bir elemanı karşımıza gelir. hangisinde kaldığını unutmaz\n",
    "# ikinci kez çağırınca ikinci elemanı, üçüncü de üçüncü elemanı yazar"
   ]
  },
  {
   "attachments": {},
   "cell_type": "markdown",
   "metadata": {},
   "source": [
    "* tüm elemanları çağırmak için eleman sayısı kadar ekleyelim bundan"
   ]
  },
  {
   "cell_type": "code",
   "execution_count": 3,
   "metadata": {},
   "outputs": [
    {
     "name": "stdout",
     "output_type": "stream",
     "text": [
      "1\n",
      "2\n",
      "3\n",
      "4\n",
      "5\n"
     ]
    }
   ],
   "source": [
    "liste = [1,2,3,4,5]\n",
    "\n",
    "iterator = iter(liste)  \n",
    "\n",
    "print(next(iterator)) \n",
    "print(next(iterator))   \n",
    "print(next(iterator))  \n",
    "print(next(iterator))   # eklendi\n",
    "print(next(iterator))   # eklendi\n",
    "\n",
    "# tüm elemanları yazmış olduk."
   ]
  },
  {
   "attachments": {},
   "cell_type": "markdown",
   "metadata": {},
   "source": [
    "* peki eleman sayısından fazla eklersek?"
   ]
  },
  {
   "cell_type": "code",
   "execution_count": null,
   "metadata": {},
   "outputs": [],
   "source": [
    "liste = [1,2,3,4,5]\n",
    "\n",
    "iterator = iter(liste)  \n",
    "\n",
    "print(next(iterator)) \n",
    "print(next(iterator))   \n",
    "print(next(iterator))  \n",
    "print(next(iterator))\n",
    "print(next(iterator))\n",
    "print(next(iterator))   # eklendi\n",
    "\n",
    "# son eklediğimiz kod yüzünden StopIteration hatası alırız çünkü\n",
    "# artık yazılacak eleman kalmadı"
   ]
  },
  {
   "attachments": {},
   "cell_type": "markdown",
   "metadata": {},
   "source": [
    "* yukarıdaki işlemi for döngüsü nasıl yapıyor?"
   ]
  },
  {
   "cell_type": "code",
   "execution_count": 4,
   "metadata": {},
   "outputs": [
    {
     "name": "stdout",
     "output_type": "stream",
     "text": [
      "1\n",
      "2\n",
      "3\n",
      "4\n",
      "5\n"
     ]
    }
   ],
   "source": [
    "liste = [1,2,3,4,5]\n",
    "\n",
    "for i in liste:\n",
    "    print(i)"
   ]
  },
  {
   "attachments": {},
   "cell_type": "markdown",
   "metadata": {},
   "source": [
    "* peki for döngüsü bizim için bir iteratorü nasıl oluşturup kendi yapıyor ?"
   ]
  },
  {
   "cell_type": "code",
   "execution_count": 5,
   "metadata": {},
   "outputs": [
    {
     "name": "stdout",
     "output_type": "stream",
     "text": [
      "1\n",
      "2\n",
      "3\n",
      "4\n",
      "5\n"
     ]
    }
   ],
   "source": [
    "liste = [1, 2, 3, 4, 5]\n",
    "\n",
    " # bir iterator obje lazım. \n",
    "# iterator objesini nerden alıcaz?\n",
    "# iter metoduna(fonskiyon) gönderdiğimiz bir iterable aracılığı ile alcaz\n",
    "iterator = iter(liste)\n",
    "# iterator oluşturuldu\n",
    "\n",
    "while True:     # biz for döngüsü yazınca aslında bir while olşturulup true değeri veriliyor ve bir break görülünce çıkılıyor.\n",
    "    try:\n",
    "        element = next(iterator)\n",
    "        print(element)\n",
    "    except StopIteration:\n",
    "        break        # stop iteration hatası gelince break komutu uygulanıp çıkılacak.\n"
   ]
  },
  {
   "attachments": {},
   "cell_type": "markdown",
   "metadata": {},
   "source": [
    "Neden Iterator ün bu şekilde oluşturulduğunu bilmeliyiz?\n",
    "\n",
    "* çünkü list gibi obje veya sınıfı kendimiz oluşturmak isteyebiliriz. Bu durumda bir iterator kullanabiliriz. (aşağıdaki örnekteki gibi..)"
   ]
  },
  {
   "cell_type": "code",
   "execution_count": 19,
   "metadata": {},
   "outputs": [
    {
     "name": "stdout",
     "output_type": "stream",
     "text": [
      "10\n",
      "11\n",
      "12\n",
      "13\n",
      "14\n",
      "15\n",
      "16\n",
      "17\n",
      "18\n",
      "19\n",
      "20\n"
     ]
    }
   ],
   "source": [
    "# amaç belli aralıkta sayıları ekrana yazdırmak\n",
    "\n",
    "class MyNumbers:\n",
    "\n",
    "    def __init__(self, start, stop):\n",
    "        self.start = start\n",
    "        self.stop = stop\n",
    "\n",
    "    def __iter__(self):\n",
    "        return self\n",
    "    \n",
    "    def __next__(self):\n",
    "        if self.start <= self.stop:\n",
    "            x = self.start\n",
    "            self.start += 1\n",
    "            return x\n",
    "        else:\n",
    "            raise StopIteration\n",
    "\n",
    "listeeee = MyNumbers(10, 20)\n",
    "\n",
    "# iterable obje hazırlamış olduk\n",
    "# şimdi kullanalım\n",
    "\n",
    "for a in listeeee:      # çünkü listeeee bir iterable obje. biz oyle tasarladık\n",
    "    print(a)"
   ]
  },
  {
   "attachments": {},
   "cell_type": "markdown",
   "metadata": {},
   "source": [
    "* yukarda iterable bir obje hazırladık ama for döngüsü bizim adımıza bir iterator oluşturdu ve o şekilde işlemi yaptı.\n",
    "\n",
    "* for döngüsü olmadan yapalım. "
   ]
  },
  {
   "cell_type": "code",
   "execution_count": 4,
   "metadata": {},
   "outputs": [
    {
     "name": "stdout",
     "output_type": "stream",
     "text": [
      "10\n",
      "11\n",
      "12\n",
      "13\n",
      "14\n",
      "15\n",
      "16\n",
      "17\n",
      "18\n",
      "19\n",
      "20\n"
     ]
    }
   ],
   "source": [
    "# amaç belli aralıkta sayıları ekrana yazdırmak\n",
    "\n",
    "class MyNumbers:\n",
    "\n",
    "    def __init__(self, start, stop):\n",
    "        self.start = start\n",
    "        self.stop = stop\n",
    "\n",
    "    def __iter__(self):\n",
    "        return self\n",
    "    \n",
    "    def __next__(self):\n",
    "        if self.start <= self.stop:\n",
    "            x = self.start\n",
    "            self.start += 1\n",
    "            return x\n",
    "        else:\n",
    "            raise StopIteration\n",
    "\n",
    "listeeee = MyNumbers(10, 20)    # listeee bir iterable obje\n",
    "\n",
    "# iterable obje hazırlamış olduk\n",
    "# şimdi kullanalım\n",
    "\n",
    "                            # EKLENDİ (AŞAĞISI)\n",
    "\n",
    "\n",
    "# for bizim adımıza iterator oluşturmasın biz kendi iteratorümüzü kendimiz oluşturalım\n",
    "myiter = iter(listeeee)\n",
    "\n",
    "print(next(myiter))\n",
    "print(next(myiter))\n",
    "print(next(myiter))\n",
    "print(next(myiter))\n",
    "print(next(myiter))\n",
    "print(next(myiter))\n",
    "print(next(myiter))\n",
    "print(next(myiter))\n",
    "print(next(myiter))\n",
    "print(next(myiter))\n",
    "print(next(myiter))\n",
    "\n",
    "# 10 dan 14 e kadar olanları yazdı tek tek"
   ]
  },
  {
   "attachments": {},
   "cell_type": "markdown",
   "metadata": {},
   "source": [
    "* yukarıdaki gibi tek tek yazmak yerine..."
   ]
  },
  {
   "cell_type": "code",
   "execution_count": 6,
   "metadata": {},
   "outputs": [
    {
     "name": "stdout",
     "output_type": "stream",
     "text": [
      "10\n",
      "11\n",
      "12\n",
      "13\n",
      "14\n",
      "15\n",
      "16\n",
      "17\n",
      "18\n",
      "19\n",
      "20\n"
     ]
    }
   ],
   "source": [
    "class MyNumbers:\n",
    "\n",
    "    def __init__(self, start, stop):\n",
    "        self.start = start\n",
    "        self.stop = stop\n",
    "\n",
    "    def __iter__(self):\n",
    "        return self\n",
    "    \n",
    "    def __next__(self):\n",
    "        if self.start <= self.stop:\n",
    "            x = self.start\n",
    "            self.start += 1\n",
    "            return x\n",
    "        else:\n",
    "            raise StopIteration\n",
    "\n",
    "listeeee = MyNumbers(10, 20)    \n",
    "\n",
    "                            # EKLENDİ (AŞAĞISI)\n",
    "\n",
    "myiter = iter(listeeee)\n",
    "\n",
    "# for döngüsü gibi yapıcaz ama biz yapmış olucaz.\n",
    "\n",
    "while True:\n",
    "    try:\n",
    "        element = next(myiter)\n",
    "        print(element)\n",
    "    except StopIteration:\n",
    "        break\n",
    "\n"
   ]
  }
 ],
 "metadata": {
  "kernelspec": {
   "display_name": "Python 3",
   "language": "python",
   "name": "python3"
  },
  "language_info": {
   "codemirror_mode": {
    "name": "ipython",
    "version": 3
   },
   "file_extension": ".py",
   "mimetype": "text/x-python",
   "name": "python",
   "nbconvert_exporter": "python",
   "pygments_lexer": "ipython3",
   "version": "3.11.1"
  },
  "orig_nbformat": 4
 },
 "nbformat": 4,
 "nbformat_minor": 2
}
