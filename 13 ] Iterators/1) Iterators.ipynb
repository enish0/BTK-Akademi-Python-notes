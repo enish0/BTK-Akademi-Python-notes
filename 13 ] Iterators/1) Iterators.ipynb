{
 "cells": [
  {
   "attachments": {},
   "cell_type": "markdown",
   "metadata": {},
   "source": [
    "# ITERATORS"
   ]
  },
  {
   "cell_type": "code",
   "execution_count": null,
   "metadata": {},
   "outputs": [],
   "source": [
    "list = [1, 2, 3, 4, 5]\n",
    "\n",
    "# liste elemanlarını normalde tek tek nasıl dolaşırdık?\n",
    "for i in liste:     # bu for döngüsündeki liste elemanı aslında iterable obje.\n",
    "    print(i)       # yani bir iterable obje olmasından dolayı biz for ile elemanlarını tek tek dolaşabiliyoruz."
   ]
  }
 ],
 "metadata": {
  "language_info": {
   "name": "python"
  },
  "orig_nbformat": 4
 },
 "nbformat": 4,
 "nbformat_minor": 2
}
