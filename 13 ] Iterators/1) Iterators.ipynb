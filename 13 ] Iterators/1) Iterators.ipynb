{
 "cells": [
  {
   "attachments": {},
   "cell_type": "markdown",
   "metadata": {},
   "source": [
    "# ITERATORS"
   ]
  },
  {
   "attachments": {},
   "cell_type": "markdown",
   "metadata": {},
   "source": [
    "        liste elemanlarını tek tek dolaşmak için"
   ]
  },
  {
   "cell_type": "code",
   "execution_count": 3,
   "metadata": {},
   "outputs": [
    {
     "name": "stdout",
     "output_type": "stream",
     "text": [
      "1\n",
      "2\n",
      "3\n",
      "4\n",
      "5\n",
      "['__add__', '__class__', '__class_getitem__', '__contains__', '__delattr__', '__delitem__', '__dir__', '__doc__', '__eq__', '__format__', '__ge__', '__getattribute__', '__getitem__', '__getstate__', '__gt__', '__hash__', '__iadd__', '__imul__', '__init__', '__init_subclass__', '__iter__', '__le__', '__len__', '__lt__', '__mul__', '__ne__', '__new__', '__reduce__', '__reduce_ex__', '__repr__', '__reversed__', '__rmul__', '__setattr__', '__setitem__', '__sizeof__', '__str__', '__subclasshook__', 'append', 'clear', 'copy', 'count', 'extend', 'index', 'insert', 'pop', 'remove', 'reverse', 'sort']\n"
     ]
    }
   ],
   "source": [
    "liste = [1, 2, 3, 4, 5]\n",
    "\n",
    "# liste elemanlarını normalde tek tek nasıl dolaşırdık?\n",
    "for i in liste:     # bu for döngüsündeki liste elemanı aslında iterable obje.\n",
    "    print(i)       # yani bir iterable obje olmasından dolayı biz for ile elemanlarını tek tek dolaşabiliyoruz.\n",
    "\n",
    "# bunu göstermek adına listenin metodlarına bakarsak\n",
    "print(dir(liste))\n",
    "# liste içerisinde bir __iter__ metoduna sahip. Yani __iter__ e sahip bir obje,\n",
    "# ..bir iterable objedir. Ve iterable bir objenin elemanları arasında teker teker dolaşmak\n",
    "# için iterable objeden bir iterator oluşturmamız gerekiyor.\n",
    "\n",
    "# bir iterator de elemanlar üzerinde tek tek dolaşmamızı sağlıyor\n",
    "# ki for döngüsü bizim adımıza bu iterator objesini iterable bir objeden kendi\n",
    "#.. çıkarıyor.\n"
   ]
  },
  {
   "attachments": {},
   "cell_type": "markdown",
   "metadata": {},
   "source": [
    "* iterator oluşturma işlemlerimizi kendimiz yapalım"
   ]
  },
  {
   "cell_type": "code",
   "execution_count": 4,
   "metadata": {},
   "outputs": [
    {
     "name": "stdout",
     "output_type": "stream",
     "text": [
      "<list_iterator object at 0x0000020022C9BDC0>\n"
     ]
    }
   ],
   "source": [
    "liste = [1, 2, 3, 4, 5]\n",
    "iterator = iter(liste)\n",
    "\n",
    "print(iterator)\n",
    "\n",
    "# terminalde list iterator objesinin oluştuğunu görürüz"
   ]
  },
  {
   "attachments": {},
   "cell_type": "markdown",
   "metadata": {},
   "source": [
    "* ekleyelim bişeler"
   ]
  },
  {
   "cell_type": "code",
   "execution_count": 8,
   "metadata": {},
   "outputs": [
    {
     "name": "stdout",
     "output_type": "stream",
     "text": [
      "<list_iterator object at 0x0000020022E61810>\n",
      "1\n",
      "2\n",
      "3\n"
     ]
    }
   ],
   "source": [
    "liste = [1, 2, 3, 4, 5]\n",
    "iterator = iter(liste)\n",
    "\n",
    "print(iterator)\n",
    "# amacımız iterator üzerinden liste elemanlarını tek tek dolaşabilmek\n",
    "print(next(iterator))\n",
    "\n",
    "# artırırsak?\n",
    "print(next(iterator))\n",
    "print(next(iterator))\n",
    "\n",
    "# yani iterator ü next metodu ile her çağırdığımızda listenin bir elemanı karşımıza gelir\n",
    "# ikinci kez çağırdığımızda bir sonraki değer karşımıza gelir."
   ]
  },
  {
   "cell_type": "code",
   "execution_count": null,
   "metadata": {},
   "outputs": [],
   "source": [
    "liste = [1, 2, 3, 4, 5]\n",
    "iterator = iter(liste)\n",
    "\n",
    "print(iterator)\n",
    "\n",
    "print(next(iterator))\n",
    "\n",
    "\n",
    "print(next(iterator))\n",
    "print(next(iterator))\n",
    "print(next(iterator))\n",
    "print(next(iterator))\n",
    "print(next(iterator))\n",
    "# eleman sayısından fazla olursa geçilecek eleman kalmamıssa hata verir."
   ]
  },
  {
   "attachments": {},
   "cell_type": "markdown",
   "metadata": {},
   "source": [
    "for döngüsü bir iteratorü nasıl oluşturup kendi yapıyor ona bakalım"
   ]
  },
  {
   "cell_type": "code",
   "execution_count": 11,
   "metadata": {},
   "outputs": [
    {
     "name": "stdout",
     "output_type": "stream",
     "text": [
      "1\n",
      "2\n",
      "3\n",
      "4\n",
      "5\n"
     ]
    }
   ],
   "source": [
    "# öncelikle bir iterator objesine ihtiyacımız var.\n",
    "iterator = iter(liste)\n",
    "# iterator objesini nereden alıcaz?\n",
    "        # iter fonksiyonuna gönderdiğimiz bir iterable obje aracılığı ile alıcaz.\n",
    "\n",
    "while True: # biz normalde for döngüsü hazırladığımızda aslında bir while dögüsü ve true değeri oluşturulmuş oluyordu.\n",
    "    try:\n",
    "        element = next(iterator)\n",
    "        print(element)\n",
    "    except StopIteration:   # eleman sayısından fazla olursa stopIteration hatası verir. bi rönceki koddaki gibi\n",
    "        break   # eleman sayısı bitince hata vermeyip durdursun işlemi diye var\n",
    "    "
   ]
  },
  {
   "cell_type": "code",
   "execution_count": 13,
   "metadata": {},
   "outputs": [
    {
     "name": "stdout",
     "output_type": "stream",
     "text": [
      "10\n",
      "11\n",
      "12\n",
      "13\n",
      "14\n",
      "15\n",
      "16\n",
      "17\n",
      "18\n",
      "19\n",
      "20\n"
     ]
    }
   ],
   "source": [
    "class MyNumbers:\n",
    "    def __init__(self, start, stop):\n",
    "        self.start = start\n",
    "        self.stop = stop\n",
    "\n",
    "    def __iter__(self):\n",
    "        return self\n",
    "    \n",
    "    def __next__(self):\n",
    "        if self.start <= self.stop:\n",
    "            x = self.start\n",
    "            self.start += 1\n",
    "            return x\n",
    "        else:\n",
    "            raise StopIteration\n",
    "        \n",
    "list = MyNumbers(10, 20)\n",
    "\n",
    "for x in list:\n",
    "    print(x)"
   ]
  },
  {
   "attachments": {},
   "cell_type": "markdown",
   "metadata": {},
   "source": [
    "* for döngüsü olmadan nasıl yukarıdakini yaparız ?"
   ]
  },
  {
   "cell_type": "code",
   "execution_count": 14,
   "metadata": {},
   "outputs": [
    {
     "name": "stdout",
     "output_type": "stream",
     "text": [
      "10\n",
      "11\n",
      "12\n",
      "13\n",
      "14\n"
     ]
    }
   ],
   "source": [
    "class MyNumbers:\n",
    "    def __init__(self, start, stop):\n",
    "        self.start = start\n",
    "        self.stop = stop\n",
    "\n",
    "    def __iter__(self):\n",
    "        return self\n",
    "    \n",
    "    def __next__(self):\n",
    "        if self.start <= self.stop:\n",
    "            x = self.start\n",
    "            self.start += 1\n",
    "            return x\n",
    "        else:\n",
    "            raise StopIteration\n",
    "        \n",
    "list = MyNumbers(10, 20)\n",
    "\n",
    "# dor döngüsü olmadan\n",
    "\n",
    "myiter = iter(list)\n",
    "\n",
    "print(next(myiter))\n",
    "print(next(myiter))\n",
    "print(next(myiter))\n",
    "print(next(myiter))\n",
    "print(next(myiter))\n",
    "# kaç tane yazarsan o kadar yazdırılır"
   ]
  },
  {
   "cell_type": "code",
   "execution_count": 16,
   "metadata": {},
   "outputs": [
    {
     "name": "stdout",
     "output_type": "stream",
     "text": [
      "10\n",
      "11\n",
      "12\n",
      "13\n",
      "14\n",
      "15\n",
      "16\n",
      "17\n",
      "18\n",
      "19\n",
      "20\n"
     ]
    }
   ],
   "source": [
    "# yukarıdaki son satırları tek tek yazmak yerine şöyle yap\n",
    "\n",
    "class MyNumbers:\n",
    "    def __init__(self, start, stop):\n",
    "        self.start = start\n",
    "        self.stop = stop\n",
    "\n",
    "    def __iter__(self):\n",
    "        return self\n",
    "    \n",
    "    def __next__(self):\n",
    "        if self.start <= self.stop:\n",
    "            x = self.start\n",
    "            self.start += 1\n",
    "            return x\n",
    "        else:\n",
    "            raise StopIteration\n",
    "        \n",
    "list = MyNumbers(10, 20)\n",
    "\n",
    "# dor döngüsü olmadan\n",
    "\n",
    "myiter = iter(list)\n",
    "\n",
    "\n",
    "while True:\n",
    "    try:\n",
    "        element = next(myiter)\n",
    "        print(element)\n",
    "    except StopIteration:   \n",
    "        break\n",
    "        # eğer 20 yi geçerse hata vermeden durdurur kendini"
   ]
  }
 ],
 "metadata": {
  "kernelspec": {
   "display_name": "Python 3",
   "language": "python",
   "name": "python3"
  },
  "language_info": {
   "codemirror_mode": {
    "name": "ipython",
    "version": 3
   },
   "file_extension": ".py",
   "mimetype": "text/x-python",
   "name": "python",
   "nbconvert_exporter": "python",
   "pygments_lexer": "ipython3",
   "version": "3.11.1"
  },
  "orig_nbformat": 4
 },
 "nbformat": 4,
 "nbformat_minor": 2
}
